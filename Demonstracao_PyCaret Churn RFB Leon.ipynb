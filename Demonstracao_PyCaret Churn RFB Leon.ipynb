{
  "nbformat": 4,
  "nbformat_minor": 0,
  "metadata": {
    "kernelspec": {
      "display_name": "Python 3",
      "language": "python",
      "name": "python3"
    },
    "language_info": {
      "codemirror_mode": {
        "name": "ipython",
        "version": 3
      },
      "file_extension": ".py",
      "mimetype": "text/x-python",
      "name": "python",
      "nbconvert_exporter": "python",
      "pygments_lexer": "ipython3",
      "version": "3.7.3"
    },
    "colab": {
      "name": "Demonstracao PyCaret.ipynb",
      "provenance": [],
      "toc_visible": true,
      "include_colab_link": true
    }
  },
  "cells": [
    {
      "cell_type": "markdown",
      "metadata": {
        "id": "view-in-github",
        "colab_type": "text"
      },
      "source": [
        "<a href=\"https://colab.research.google.com/github/pimentad2020/DSWP/blob/master/Demonstracao_PyCaret%20Churn%20RFB%20Leon.ipynb\" target=\"_parent\"><img src=\"https://colab.research.google.com/assets/colab-badge.svg\" alt=\"Open In Colab\"/></a>"
      ]
    },
    {
      "cell_type": "markdown",
      "metadata": {
        "id": "CqtB_vKTzSt7"
      },
      "source": [
        "# Demonstração PyCaret\n",
        "\n",
        "## Análise supervisionada com PyCaret no desafio do LABDATA da Fundação Instituto de Administração (FIA)\n",
        "\n",
        "Realizaremos uma demonstração de aprendizagem supervisionada utilizando [PyCaret](https://pycaret.org/), uma biblioteca open source criada pelo cientista de dados e consultor da PwC Moez Ali. A biblioteca foi criada para facilitar a utilização de algoritmos de machine learning, podendo ser classificada como uma ferramenta da AutoML.\n",
        "\n",
        "Para essa demonstração utilizaremos o [desafio no Kaggle](https://www.kaggle.com/c/labdata-churn-challenge-2020/data) proposto pela Fundação Instituto de Administração (FIA) para realizar a predição de quais clientes poderiam deixar uma certa companhia telefônica (churn). O colega Mário Monnerat trouxe o desafio para o treinamento de Big Data da Sufis, realizado em outubro e novembro de 2020, o que se mostrou uma ferramenta essencial para consolidar os conceitos de análise supervisionada.\n",
        "\n",
        "\n",
        "Além da PyCaret utilizaremos as bibliotecas pandas, numpy"
      ]
    },
    {
      "cell_type": "markdown",
      "metadata": {
        "id": "lCenXsPbzSuB"
      },
      "source": [
        "## Base de Churn\n",
        "\n",
        "A base utilizada possui informações de cada cliente de uma companhia telefônica. Nosso intuito é prever se o cliente permanecerá contratando os serviços da empresa ou se vai sair (churn). Para tal, nos é fornecida a base de treino, que possui as informações de churn e a base de testes, que não possui e será utilizada para a previsão final.\n",
        "\n",
        "Como sabemos, devemos utilizar somente a base de treino para tomar decisões com relação a qual o melhor modelo. Desse modo, devemos ter atenção e nos valer de ferramentas como validação cruzada (cross validation) e evitar o vazamento de dados do teste para o treino. O PyCaret utiliza validação cruzada sempre que possível.\n",
        "\n",
        "## Pergunta a ser respondida\n",
        "\n",
        "Conforme prega o CRISP-DM, antes de iniciarmos qualquer modelo de machine learning, devemos nos questionar sobre qual problema queremos solucionar. Nos desafios do Kaggle isso resta facilitado, tendo em vista que já temos o problema para ser solucionado, mas o mesmo não ocorre na vida real. Sugere-se seguir os passos do CRISP-DM, com bastante atenção para a primeira fase, para que o trabalho tenha um norte bem definido. "
      ]
    },
    {
      "cell_type": "code",
      "metadata": {
        "id": "0-Md8k56zSuD"
      },
      "source": [
        "from IPython.display import Image\n",
        "Image(filename='./img/crisp.png') "
      ],
      "execution_count": null,
      "outputs": []
    },
    {
      "cell_type": "code",
      "metadata": {
        "id": "3RsBNmhCzSuE"
      },
      "source": [
        "# instalar o PyCaret\n",
        "!pip install pycaret"
      ],
      "execution_count": null,
      "outputs": []
    },
    {
      "cell_type": "code",
      "metadata": {
        "id": "pLP-DSx7zSuE"
      },
      "source": [
        "import pandas as pd\n",
        "import numpy as np\n",
        "from pycaret.classification import *\n"
      ],
      "execution_count": null,
      "outputs": []
    },
    {
      "cell_type": "code",
      "metadata": {
        "id": "PcMJ5weUzSuF"
      },
      "source": [
        "# Carregar dados de treinamento e de teste\n",
        "train_df = pd.read_csv('./data/train.csv')\n",
        "test_df = pd.read_csv('./data/test.csv')"
      ],
      "execution_count": null,
      "outputs": []
    },
    {
      "cell_type": "code",
      "metadata": {
        "id": "lQf9hU74zSuG"
      },
      "source": [
        "display(train_df.head())\n",
        "display(test_df.head())"
      ],
      "execution_count": null,
      "outputs": []
    },
    {
      "cell_type": "code",
      "metadata": {
        "id": "-4CGDeuNzSuG"
      },
      "source": [
        "# Setar id como indice dos dataframes\n",
        "train_df.set_index('id', inplace=True)\n",
        "test_df.set_index('id', inplace=True)"
      ],
      "execution_count": null,
      "outputs": []
    },
    {
      "cell_type": "code",
      "metadata": {
        "id": "V856ywMLzSuH"
      },
      "source": [
        "display(train_df.head())\n",
        "display(test_df.head())"
      ],
      "execution_count": null,
      "outputs": []
    },
    {
      "cell_type": "code",
      "metadata": {
        "id": "_lnbg81wzSuH"
      },
      "source": [
        "# Verificando os tipos\n",
        "train_df.dtypes"
      ],
      "execution_count": null,
      "outputs": []
    },
    {
      "cell_type": "code",
      "metadata": {
        "id": "rboJ2IjtzSuI"
      },
      "source": [
        "# Verificando missing data\n",
        "train_df.isnull().sum()"
      ],
      "execution_count": null,
      "outputs": []
    },
    {
      "cell_type": "code",
      "metadata": {
        "id": "v6BPZ6ESzSuI"
      },
      "source": [
        "# TotalChanges não é numerico, transformar\n",
        "train_df['TotalCharges'] = pd.to_numeric(train_df['TotalCharges'], errors='coerce')\n",
        "test_df['TotalCharges'] = pd.to_numeric(test_df['TotalCharges'], errors='coerce')\n",
        "\n"
      ],
      "execution_count": null,
      "outputs": []
    },
    {
      "cell_type": "code",
      "metadata": {
        "id": "-_2IZ3zGzSuJ"
      },
      "source": [
        "# Feature engineering\n",
        "train_df.loc[train_df['TotalCharges'].isnull(), 'TotalCharges'] = train_df.loc[train_df['TotalCharges'].isnull(), 'MonthlyCharges'] * train_df.loc[train_df['TotalCharges'].isnull(), 'tenure']\n",
        "test_df.loc[test_df['TotalCharges'].isnull(), 'TotalCharges'] = test_df.loc[test_df['TotalCharges'].isnull(), 'MonthlyCharges'] * test_df.loc[test_df['TotalCharges'].isnull(), 'tenure']"
      ],
      "execution_count": null,
      "outputs": []
    },
    {
      "cell_type": "code",
      "metadata": {
        "id": "vYAaSONBzSuK"
      },
      "source": [
        "# Feature engineering + tratamento missing data\n",
        "train_df['tenure'] = train_df['TotalCharges'] / train_df['MonthlyCharges']\n",
        "test_df['tenure'] = test_df['TotalCharges'] /  test_df['MonthlyCharges']"
      ],
      "execution_count": null,
      "outputs": []
    },
    {
      "cell_type": "code",
      "metadata": {
        "id": "mX1wtQEdzSuK"
      },
      "source": [
        "train_df.loc[train_df['Dependents'].isnull(), 'Dependents'] = train_df.loc[train_df['Dependents'].isnull(), 'MultipleLines']\n",
        "test_df.loc[test_df['Dependents'].isnull(), 'Dependents'] = test_df.loc[test_df['Dependents'].isnull(), 'MultipleLines']"
      ],
      "execution_count": null,
      "outputs": []
    },
    {
      "cell_type": "code",
      "metadata": {
        "id": "rMoZRiMwzSuK"
      },
      "source": [
        "train_df.loc[train_df['Dependents'] == 'No phone service', 'Dependents'] = 'No'\n",
        "test_df.loc[test_df['Dependents'] == 'No phone service', 'Dependents'] = 'No'"
      ],
      "execution_count": null,
      "outputs": []
    },
    {
      "cell_type": "code",
      "metadata": {
        "id": "uRWGxsgUzSuL"
      },
      "source": [
        "display(train_df.head())\n",
        "display(test_df.head())"
      ],
      "execution_count": null,
      "outputs": []
    },
    {
      "cell_type": "markdown",
      "metadata": {
        "id": "r_G-SdSCzSuL"
      },
      "source": [
        "## A função setup permite muitas customizações para treinamento dos modelos\n",
        "\n",
        "A função setup permite customizar (dentre outros):\n",
        "- tratamento de missing data simples e com algoritmos\n",
        "- over e undersampling\n",
        "- principal component analysis (PCA)\n",
        "- variaveis polinomiais\n",
        "- razão entre variáveis\n",
        "- % de treino e validação\n",
        "- tratamento de colinearidade\n",
        "- normalização"
      ]
    },
    {
      "cell_type": "code",
      "metadata": {
        "id": "yQ_gmbTNzSuM"
      },
      "source": [
        "# Função principal! Todas as configurações para treinamento dos modelos se dá no setup.\n",
        "\n",
        "clf1 = setup(train_df, target = 'Churn', session_id=123, experiment_name='teste_1', feature_ratio=True, )"
      ],
      "execution_count": null,
      "outputs": []
    },
    {
      "cell_type": "markdown",
      "metadata": {
        "id": "e37g8mqqzSuM"
      },
      "source": [
        "## Função que compara vários modelos de uma só vez, com várias métricas\n",
        "\n",
        "One Function to rule them all, One Function to find them, One Function to bring them all, and in the darkness of jupyter notebook's theme bind them"
      ]
    },
    {
      "cell_type": "code",
      "metadata": {
        "id": "9QY219DpzSuN"
      },
      "source": [
        "Image(filename='./img/ring.jpg') "
      ],
      "execution_count": null,
      "outputs": []
    },
    {
      "cell_type": "code",
      "metadata": {
        "id": "-M98ORmkzSuN"
      },
      "source": [
        "# Testa 15 modelos de uma vez\n",
        "best_model = compare_models(exclude=['catboost'])"
      ],
      "execution_count": null,
      "outputs": []
    },
    {
      "cell_type": "code",
      "metadata": {
        "id": "fmYaU_jwzSuO"
      },
      "source": [
        "# Criando os melhores modelos de acordo com acurácia\n",
        "modelo_lr = create_model('lr')\n",
        "modelo_gbc = create_model('gbc')\n",
        "modelo_ada = create_model('ada')\n",
        "modelo_lightgbm = create_model('lightgbm')\n",
        "#modelo_catboost = create_model('catboost')\n",
        "modelo_ridge = create_model('ridge')\n",
        "modelo_lda = create_model('lda')"
      ],
      "execution_count": null,
      "outputs": []
    },
    {
      "cell_type": "code",
      "metadata": {
        "id": "-oG-qqGezSuO"
      },
      "source": [
        "# Tunar os hiperparametros (pode demorar mais, pode tentar só com o create_model)\n",
        "tuned_lr = tune_model(modelo_lr)\n",
        "tuned_gbc = tune_model(modelo_gbc)\n",
        "tuned_ada = tune_model(modelo_ada)\n",
        "tuned_lightgbm = tune_model(modelo_lightgbm)\n",
        "#tuned_catboost = tune_model(modelo_catboost)\n",
        "tuned_ridge = tune_model(modelo_ridge)\n",
        "tuned_lda = tune_model(modelo_lda)"
      ],
      "execution_count": null,
      "outputs": []
    },
    {
      "cell_type": "code",
      "metadata": {
        "id": "dcjerPhbzSuP"
      },
      "source": [
        "# Finaliza os modelos, ou seja, com os melhores hiperparametros, treinar na base de treino completa\n",
        "f_lr = finalize_model(tuned_lr)\n",
        "f_gbc = finalize_model(tuned_gbc)\n",
        "f_ada = finalize_model(tuned_ada)\n",
        "f_lightgbm = finalize_model(tuned_lightgbm)\n",
        "#f_catboost = finalize_model(tuned_catboost)\n",
        "f_ridge = finalize_model(tuned_ridge)\n",
        "f_lda = finalize_model(tuned_lda)"
      ],
      "execution_count": null,
      "outputs": []
    },
    {
      "cell_type": "markdown",
      "metadata": {
        "id": "NS6VZHymzSuP"
      },
      "source": [
        "## Criação de ensembles\n",
        "\n",
        "Combinação de modelos pode ser útil para melhoria e generalização do modelo. O PyCaret permite ensemble com blending e stacking. Blending é uma espécie de votação e stacking utiliza as predições de um modelo para servir de variáveis explanatórias para o próximo. Uma grande vantagem de ensembles é que pode tornar o modelo mais robusto, com predições de diferentes tipos de algoritmos. Sugere-se utilizar algoritmos com abordagens bem diferentes (ex: redes neurais, algoritmos de árvore e algoritmos lineares).\n",
        "\n",
        "No exemplo vamos utilizar um blending com votação \"hard\", ou seja, utiliza cada predição como 0 ou 1 na votação. O método \"soft\" utiliza as probabilidades de saída de cada modelo, o que pode melhorar o tuning do modelo final.\n"
      ]
    },
    {
      "cell_type": "code",
      "metadata": {
        "id": "mHk1NKhSzSuQ"
      },
      "source": [
        "# Votacao com os 6 modelos\n",
        "blender_hard = blend_models(estimator_list = [f_lightgbm,\n",
        "                                                f_ada,\n",
        "                                                f_lr,\n",
        "                                                f_gbc,\n",
        "                                              f_ridge,\n",
        "                                              f_lda,\n",
        "                                              # f_catboost\n",
        "                                             #   tuned_gbc,\n",
        "                                             #   tuned_catboost\n",
        "                                             ], method = 'hard')"
      ],
      "execution_count": null,
      "outputs": []
    },
    {
      "cell_type": "code",
      "metadata": {
        "id": "0b5yQPwyzSuQ"
      },
      "source": [
        "# mostrando a matriz de confusao\n",
        "plot_model(blender_hard, plot = 'confusion_matrix')"
      ],
      "execution_count": null,
      "outputs": []
    },
    {
      "cell_type": "code",
      "metadata": {
        "id": "tSjTOhT7zSuS"
      },
      "source": [
        "# finaliza o modelo: treina com a base de treino inteira\n",
        "f_blender_hard = finalize_model(blender_hard)"
      ],
      "execution_count": null,
      "outputs": []
    },
    {
      "cell_type": "code",
      "metadata": {
        "id": "6EQ4MvjbzSuS"
      },
      "source": [
        "# realiza as predições (duas colunas: score e label)\n",
        "predictions = predict_model(f_blender_hard, data = test_df)\n",
        "predictions"
      ],
      "execution_count": null,
      "outputs": []
    },
    {
      "cell_type": "code",
      "metadata": {
        "id": "Cs2vuiBmzSuS"
      },
      "source": [
        "# Busca os labels (0 e 1). \n",
        "# Pode-se fazer alguma analise do melhor ponto de corte do Score, pois o label pega 0,5 pra cima como 1\n",
        "pred_values = predictions['Label']\n",
        "pred_values"
      ],
      "execution_count": null,
      "outputs": []
    },
    {
      "cell_type": "code",
      "metadata": {
        "id": "uPsZFVyNzSuT"
      },
      "source": [
        "ids = test_df.index\n",
        "output = pd.DataFrame({'id': ids, 'Churn': pred_values})\n",
        "output.to_csv(\"submission.csv\", index=False)"
      ],
      "execution_count": null,
      "outputs": []
    },
    {
      "cell_type": "code",
      "metadata": {
        "id": "Yjzn6LiOzSuT"
      },
      "source": [
        ""
      ],
      "execution_count": null,
      "outputs": []
    }
  ]
}