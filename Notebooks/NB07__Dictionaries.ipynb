{
  "nbformat": 4,
  "nbformat_minor": 0,
  "metadata": {
    "colab": {
      "name": "NB07__Dictionaries.ipynb",
      "provenance": [],
      "collapsed_sections": [
        "n8BIbzQbNWUo",
        "7eS94uQ4NhVR",
        "SYOgJpGYVLUu",
        "CaHFxk98W5if",
        "ReWUyWiHXCnc",
        "CqszHxaKHr2h",
        "tXgF1Wl9gHKY",
        "Fotx7XUquAo8",
        "36kmLUYDvsUI",
        "SWO2GdNovxAp",
        "vpN54l4vxze5",
        "u4HOf9SNytSq",
        "6BQ9oZiD9hg5",
        "tz5-QdrX9vct",
        "p1muBgMX8NK4",
        "FxTC2-U88ajk",
        "z8EYn0pP25Rh"
      ],
      "toc_visible": true,
      "include_colab_link": true
    },
    "kernelspec": {
      "name": "python3",
      "display_name": "Python 3"
    },
    "accelerator": "GPU"
  },
  "cells": [
    {
      "cell_type": "markdown",
      "metadata": {
        "id": "view-in-github",
        "colab_type": "text"
      },
      "source": [
        "<a href=\"https://colab.research.google.com/github/pimentad2020/DSWP/blob/master/Notebooks/NB07__Dictionaries.ipynb\" target=\"_parent\"><img src=\"https://colab.research.google.com/assets/colab-badge.svg\" alt=\"Open In Colab\"/></a>"
      ]
    },
    {
      "cell_type": "markdown",
      "metadata": {
        "id": "iBW6agsvqqAm"
      },
      "source": [
        "<center><h1><b><i>DICIONÁRIOS</i></b></h1></center>\n",
        "\n",
        "* Coleção desordenada, mutável e indexada (estrutura do tipo {key: value}) de itens;\n",
        "* Não permite itens duplicados;\n",
        "* Usamos {key: value} para representar os itens do dicionário;\n",
        "\n"
      ]
    },
    {
      "cell_type": "markdown",
      "metadata": {
        "id": "LFcr_2Xnq2ho"
      },
      "source": [
        "# **AGENDA**:\n",
        "\n",
        "> Veja o **índice** dos itens que serão abordados neste capítulo.\n",
        "\n"
      ]
    },
    {
      "cell_type": "markdown",
      "metadata": {
        "id": "r8vR-lHJIhgM"
      },
      "source": [
        "# **NOTAS E OBSERVAÇÕES**\n",
        "* Levar os exemplos de lambda function daqui para o capítulo de Lambda Function.\n"
      ]
    },
    {
      "cell_type": "markdown",
      "metadata": {
        "id": "DkxCxjsbE5fL"
      },
      "source": [
        "# **CHEETSHEET**"
      ]
    },
    {
      "cell_type": "markdown",
      "metadata": {
        "id": "cGUWTualFCOk"
      },
      "source": [
        "![DataSctructures](https://github.com/MathMachado/Materials/blob/master/PythonDataStructures.png?raw=true)"
      ]
    },
    {
      "cell_type": "markdown",
      "metadata": {
        "id": "ublDMf3R_qMn"
      },
      "source": [
        "A seguir, os principais métodos associados aos dicionários. Para isso, considere as listas l_frutas e l_precos_frutas que darão origem ao dicionário d_frutas a seguir:"
      ]
    },
    {
      "cell_type": "code",
      "metadata": {
        "id": "FxuJ7Awd8f5a",
        "colab": {
          "base_uri": "https://localhost:8080/"
        },
        "outputId": "5dd7fe6b-8941-4f71-8edd-e57830e56efc"
      },
      "source": [
        "# Definição da lista l_frutas:\n",
        "l_frutas = ['Avocado', 'Apple', 'Apricot', 'Banana', 'Blackcurrant', 'Blackberry', 'Blueberry', 'Cherry', 'Coconut', 'Fig', 'Grape', 'Kiwi', 'Lemon', 'Mango', 'Nectarine', \n",
        "          'Orange', 'Papaya', 'Passion Fruit', 'Peach', 'Pineapple', 'Plum', 'Raspberry', 'Strawberry', 'Watermelon']\n",
        "\n",
        "print(l_frutas)"
      ],
      "execution_count": null,
      "outputs": [
        {
          "output_type": "stream",
          "text": [
            "['Avocado', 'Apple', 'Apricot', 'Banana', 'Blackcurrant', 'Blackberry', 'Blueberry', 'Cherry', 'Coconut', 'Fig', 'Grape', 'Kiwi', 'Lemon', 'Mango', 'Nectarine', 'Orange', 'Papaya', 'Passion Fruit', 'Peach', 'Pineapple', 'Plum', 'Raspberry', 'Strawberry', 'Watermelon']\n"
          ],
          "name": "stdout"
        }
      ]
    },
    {
      "cell_type": "code",
      "metadata": {
        "id": "jJyxuMQc9Ewy",
        "colab": {
          "base_uri": "https://localhost:8080/"
        },
        "outputId": "96b05ef4-bb4f-4654-d9b2-d2244e03f3e0"
      },
      "source": [
        "# Definição da lista l_precos_frutas:\n",
        "l_precos_frutas = [0.35, 0.40, 0.25, 0.30, 0.70, 0.55, 0.45, 0.50, 0.75, 0.60, 0.65, 0.20, 0.15, 0.80, 0.75, 0.25, 0.30,0.45,0.55,0.55,0.60,0.40,0.50,0.45]\n",
        "l_precos_frutas"
      ],
      "execution_count": null,
      "outputs": [
        {
          "output_type": "execute_result",
          "data": {
            "text/plain": [
              "[0.35,\n",
              " 0.4,\n",
              " 0.25,\n",
              " 0.3,\n",
              " 0.7,\n",
              " 0.55,\n",
              " 0.45,\n",
              " 0.5,\n",
              " 0.75,\n",
              " 0.6,\n",
              " 0.65,\n",
              " 0.2,\n",
              " 0.15,\n",
              " 0.8,\n",
              " 0.75,\n",
              " 0.25,\n",
              " 0.3,\n",
              " 0.45,\n",
              " 0.55,\n",
              " 0.55,\n",
              " 0.6,\n",
              " 0.4,\n",
              " 0.5,\n",
              " 0.45]"
            ]
          },
          "metadata": {
            "tags": []
          },
          "execution_count": 54
        }
      ]
    },
    {
      "cell_type": "code",
      "metadata": {
        "id": "0mZSypoS7tkr"
      },
      "source": [
        ""
      ],
      "execution_count": null,
      "outputs": []
    },
    {
      "cell_type": "markdown",
      "metadata": {
        "id": "hXP3kxW4-AI1"
      },
      "source": [
        "Observe abaixo o uso das funções dict() e zip() para criarmos o dicionário d_frutas:"
      ]
    },
    {
      "cell_type": "code",
      "metadata": {
        "id": "qT_4sYxA9dyn",
        "colab": {
          "base_uri": "https://localhost:8080/"
        },
        "outputId": "5da55426-693e-4696-ebe9-01f74f3b1d76"
      },
      "source": [
        "# Definir o dicionário d_frutas: estrutura do tipo {chave1: valor1, chave2: valor2, ..., chaveN: valorN} --> JSON\n",
        "# otimização de parâmetros (tunning de parâmetros)\n",
        "# dicionário {chave, valor} --> JSON\n",
        "\n",
        "d_frutas = dict(zip(l_frutas, l_precos_frutas))\n",
        "d_frutas"
      ],
      "execution_count": null,
      "outputs": [
        {
          "output_type": "execute_result",
          "data": {
            "text/plain": [
              "{'Apple': 0.4,\n",
              " 'Apricot': 0.25,\n",
              " 'Avocado': 0.35,\n",
              " 'Banana': 0.3,\n",
              " 'Blackberry': 0.55,\n",
              " 'Blackcurrant': 0.7,\n",
              " 'Blueberry': 0.45,\n",
              " 'Cherry': 0.5,\n",
              " 'Coconut': 0.75,\n",
              " 'Fig': 0.6,\n",
              " 'Grape': 0.65,\n",
              " 'Kiwi': 0.2,\n",
              " 'Lemon': 0.15,\n",
              " 'Mango': 0.8,\n",
              " 'Nectarine': 0.75,\n",
              " 'Orange': 0.25,\n",
              " 'Papaya': 0.3,\n",
              " 'Passion Fruit': 0.45,\n",
              " 'Peach': 0.55,\n",
              " 'Pineapple': 0.55,\n",
              " 'Plum': 0.6,\n",
              " 'Raspberry': 0.4,\n",
              " 'Strawberry': 0.5,\n",
              " 'Watermelon': 0.45}"
            ]
          },
          "metadata": {
            "tags": []
          },
          "execution_count": 77
        }
      ]
    },
    {
      "cell_type": "code",
      "metadata": {
        "colab": {
          "base_uri": "https://localhost:8080/"
        },
        "id": "TvTW0nZ18AC4",
        "outputId": "4257f65e-ecb7-4542-bade-223c3a61b4a5"
      },
      "source": [
        "'Apple' in d_frutas.keys()"
      ],
      "execution_count": null,
      "outputs": [
        {
          "output_type": "execute_result",
          "data": {
            "text/plain": [
              "True"
            ]
          },
          "metadata": {
            "tags": []
          },
          "execution_count": 78
        }
      ]
    },
    {
      "cell_type": "code",
      "metadata": {
        "colab": {
          "base_uri": "https://localhost:8080/"
        },
        "id": "9uINFIdT93zR",
        "outputId": "209ece31-90c3-4197-abe0-02c0a710c960"
      },
      "source": [
        "'Apple' in d_frutas.values()"
      ],
      "execution_count": null,
      "outputs": [
        {
          "output_type": "execute_result",
          "data": {
            "text/plain": [
              "False"
            ]
          },
          "metadata": {
            "tags": []
          },
          "execution_count": 79
        }
      ]
    },
    {
      "cell_type": "code",
      "metadata": {
        "colab": {
          "base_uri": "https://localhost:8080/"
        },
        "id": "ORpBqXOH-CYh",
        "outputId": "0d11402e-c8c9-4d5e-c04f-ea15304c6cdb"
      },
      "source": [
        "0.4 in d_frutas.values()"
      ],
      "execution_count": null,
      "outputs": [
        {
          "output_type": "execute_result",
          "data": {
            "text/plain": [
              "True"
            ]
          },
          "metadata": {
            "tags": []
          },
          "execution_count": 80
        }
      ]
    },
    {
      "cell_type": "code",
      "metadata": {
        "colab": {
          "base_uri": "https://localhost:8080/"
        },
        "id": "jshK6Ecj8Kka",
        "outputId": "2dc28100-5005-4eef-867a-b357a1a420e8"
      },
      "source": [
        "for item in d_frutas.items():\r\n",
        "    print(item)"
      ],
      "execution_count": null,
      "outputs": [
        {
          "output_type": "stream",
          "text": [
            "('Avocado', 0.35)\n",
            "('Apple', 0.4)\n",
            "('Apricot', 0.25)\n",
            "('Banana', 0.3)\n",
            "('Blackcurrant', 0.7)\n",
            "('Blackberry', 0.55)\n",
            "('Blueberry', 0.45)\n",
            "('Cherry', 0.5)\n",
            "('Coconut', 0.75)\n",
            "('Fig', 0.6)\n",
            "('Grape', 0.65)\n",
            "('Kiwi', 0.2)\n",
            "('Lemon', 0.15)\n",
            "('Mango', 0.8)\n",
            "('Nectarine', 0.75)\n",
            "('Orange', 0.25)\n",
            "('Papaya', 0.3)\n",
            "('Passion Fruit', 0.45)\n",
            "('Peach', 0.55)\n",
            "('Pineapple', 0.55)\n",
            "('Plum', 0.6)\n",
            "('Raspberry', 0.4)\n",
            "('Strawberry', 0.5)\n",
            "('Watermelon', 0.45)\n"
          ],
          "name": "stdout"
        }
      ]
    },
    {
      "cell_type": "code",
      "metadata": {
        "colab": {
          "base_uri": "https://localhost:8080/"
        },
        "id": "_YBIfl3p8of9",
        "outputId": "ed1cb8c8-94be-4831-e1f5-c2185afa8378"
      },
      "source": [
        "for key, value in d_frutas.items():\r\n",
        "    print((key, value))"
      ],
      "execution_count": null,
      "outputs": [
        {
          "output_type": "stream",
          "text": [
            "('Avocado', 0.35)\n",
            "('Apple', 0.4)\n",
            "('Apricot', 0.25)\n",
            "('Banana', 0.3)\n",
            "('Blackcurrant', 0.7)\n",
            "('Blackberry', 0.55)\n",
            "('Blueberry', 0.45)\n",
            "('Cherry', 0.5)\n",
            "('Coconut', 0.75)\n",
            "('Fig', 0.6)\n",
            "('Grape', 0.65)\n",
            "('Kiwi', 0.2)\n",
            "('Lemon', 0.15)\n",
            "('Mango', 0.8)\n",
            "('Nectarine', 0.75)\n",
            "('Orange', 0.25)\n",
            "('Papaya', 0.3)\n",
            "('Passion Fruit', 0.45)\n",
            "('Peach', 0.55)\n",
            "('Pineapple', 0.55)\n",
            "('Plum', 0.6)\n",
            "('Raspberry', 0.4)\n",
            "('Strawberry', 0.5)\n",
            "('Watermelon', 0.45)\n"
          ],
          "name": "stdout"
        }
      ]
    },
    {
      "cell_type": "code",
      "metadata": {
        "id": "uuDhPa4B-dtO"
      },
      "source": [
        "d_frutas2 = {'Grapefruit': 1.0}"
      ],
      "execution_count": null,
      "outputs": []
    },
    {
      "cell_type": "code",
      "metadata": {
        "colab": {
          "base_uri": "https://localhost:8080/"
        },
        "id": "Seb1Cd4y-kSX",
        "outputId": "b204cea6-f505-4be6-80d1-43e965e64ff9"
      },
      "source": [
        "d_frutas.update(d_frutas2)\r\n",
        "d_frutas"
      ],
      "execution_count": null,
      "outputs": [
        {
          "output_type": "execute_result",
          "data": {
            "text/plain": [
              "{'Apple': 0.4,\n",
              " 'Apricot': 0.25,\n",
              " 'Avocado': 0.35,\n",
              " 'Banana': 0.3,\n",
              " 'Blackberry': 0.55,\n",
              " 'Blackcurrant': 0.7,\n",
              " 'Blueberry': 0.45,\n",
              " 'Cherry': 0.5,\n",
              " 'Coconut': 0.75,\n",
              " 'Fig': 0.6,\n",
              " 'Grape': 0.65,\n",
              " 'Grapefruit': 1.0,\n",
              " 'Kiwi': 0.2,\n",
              " 'Lemon': 0.15,\n",
              " 'Mango': 0.8,\n",
              " 'Nectarine': 0.75,\n",
              " 'Orange': 0.25,\n",
              " 'Papaya': 0.3,\n",
              " 'Passion Fruit': 0.45,\n",
              " 'Peach': 0.55,\n",
              " 'Pineapple': 0.55,\n",
              " 'Plum': 0.6,\n",
              " 'Raspberry': 0.4,\n",
              " 'Strawberry': 0.5,\n",
              " 'Watermelon': 0.45}"
            ]
          },
          "metadata": {
            "tags": []
          },
          "execution_count": 84
        }
      ]
    },
    {
      "cell_type": "code",
      "metadata": {
        "colab": {
          "base_uri": "https://localhost:8080/"
        },
        "id": "U2XzGstcACbF",
        "outputId": "87d41768-c13a-46b0-9830-ef7df08828f6"
      },
      "source": [
        "d_frutas.items()"
      ],
      "execution_count": null,
      "outputs": [
        {
          "output_type": "execute_result",
          "data": {
            "text/plain": [
              "dict_items([('Avocado', 0.32), ('Apple', 0.36), ('Apricot', 0.23), ('Banana', 0.27), ('Blackcurrant', 0.63), ('Blackberry', 0.5), ('Blueberry', 0.41), ('Cherry', 0.45), ('Coconut', 0.68), ('Fig', 0.54), ('Grape', 0.59), ('Kiwi', 0.18), ('Lemon', 0.14), ('Mango', 0.72), ('Nectarine', 0.68), ('Orange', 0.23), ('Papaya', 0.27), ('Passion Fruit', 0.41), ('Peach', 0.5), ('Pineapple', 0.5), ('Plum', 0.54), ('Raspberry', 0.36), ('Strawberry', 0.45), ('Watermelon', 0.41), ('Grapefruit', 0.9)])"
            ]
          },
          "metadata": {
            "tags": []
          },
          "execution_count": 86
        }
      ]
    },
    {
      "cell_type": "code",
      "metadata": {
        "colab": {
          "base_uri": "https://localhost:8080/"
        },
        "id": "-RSWWhGT-28i",
        "outputId": "1f63db02-c4f1-425a-ee9f-074c2563449a"
      },
      "source": [
        "for key, value in d_frutas.items():\r\n",
        "    d_frutas[key] = round(value * 0.9, 2)   # desconto de 10% no valor das frutas    round de 2 casas dec\r\n",
        "d_frutas    "
      ],
      "execution_count": null,
      "outputs": [
        {
          "output_type": "execute_result",
          "data": {
            "text/plain": [
              "{'Apple': 0.32,\n",
              " 'Apricot': 0.21,\n",
              " 'Avocado': 0.29,\n",
              " 'Banana': 0.24,\n",
              " 'Blackberry': 0.45,\n",
              " 'Blackcurrant': 0.57,\n",
              " 'Blueberry': 0.37,\n",
              " 'Cherry': 0.41,\n",
              " 'Coconut': 0.61,\n",
              " 'Fig': 0.49,\n",
              " 'Grape': 0.53,\n",
              " 'Grapefruit': 0.81,\n",
              " 'Kiwi': 0.16,\n",
              " 'Lemon': 0.13,\n",
              " 'Mango': 0.65,\n",
              " 'Nectarine': 0.61,\n",
              " 'Orange': 0.21,\n",
              " 'Papaya': 0.24,\n",
              " 'Passion Fruit': 0.37,\n",
              " 'Peach': 0.45,\n",
              " 'Pineapple': 0.45,\n",
              " 'Plum': 0.49,\n",
              " 'Raspberry': 0.32,\n",
              " 'Strawberry': 0.41,\n",
              " 'Watermelon': 0.37}"
            ]
          },
          "metadata": {
            "tags": []
          },
          "execution_count": 87
        }
      ]
    },
    {
      "cell_type": "code",
      "metadata": {
        "colab": {
          "base_uri": "https://localhost:8080/"
        },
        "id": "TTpSYHXXAsKx",
        "outputId": "92067287-db43-44a7-dc03-0692749e4e69"
      },
      "source": [
        "for key in list(d_frutas.keys()):     # Dica: usar a função list para melhorar a performance computacional\r\n",
        "    if key == 'Avocado':\r\n",
        "      del d_frutas[key]\r\n",
        "d_frutas      "
      ],
      "execution_count": null,
      "outputs": [
        {
          "output_type": "execute_result",
          "data": {
            "text/plain": [
              "{'Apple': 0.32,\n",
              " 'Apricot': 0.21,\n",
              " 'Banana': 0.24,\n",
              " 'Blackberry': 0.45,\n",
              " 'Blackcurrant': 0.57,\n",
              " 'Blueberry': 0.37,\n",
              " 'Cherry': 0.41,\n",
              " 'Coconut': 0.61,\n",
              " 'Fig': 0.49,\n",
              " 'Grape': 0.53,\n",
              " 'Grapefruit': 0.81,\n",
              " 'Kiwi': 0.16,\n",
              " 'Lemon': 0.13,\n",
              " 'Mango': 0.65,\n",
              " 'Nectarine': 0.61,\n",
              " 'Orange': 0.21,\n",
              " 'Papaya': 0.24,\n",
              " 'Passion Fruit': 0.37,\n",
              " 'Peach': 0.45,\n",
              " 'Pineapple': 0.45,\n",
              " 'Plum': 0.49,\n",
              " 'Raspberry': 0.32,\n",
              " 'Strawberry': 0.41,\n",
              " 'Watermelon': 0.37}"
            ]
          },
          "metadata": {
            "tags": []
          },
          "execution_count": 88
        }
      ]
    },
    {
      "cell_type": "code",
      "metadata": {
        "id": "yfPafkSuBVmb"
      },
      "source": [
        ""
      ],
      "execution_count": null,
      "outputs": []
    },
    {
      "cell_type": "code",
      "metadata": {
        "id": "kZ9MGa0N6oSI"
      },
      "source": [
        "# d_frutas = {'Avocado':[0.35, 0.35, 0.40, 0.45, 0.47]}\r\n",
        "# neste formato, temos uma lista com os preços do avovado por dia da semana , por exemplo, uma lista\r\n",
        "# d_frutas"
      ],
      "execution_count": null,
      "outputs": []
    },
    {
      "cell_type": "markdown",
      "metadata": {
        "id": "iHKUaGNT_IDt"
      },
      "source": [
        "A seguir, resumo dos principais métodos relacionados à dicionários:"
      ]
    },
    {
      "cell_type": "markdown",
      "metadata": {
        "id": "MQLZ1mwW_yiU"
      },
      "source": [
        "| Método                  | Descrição                                                                                          | Exemplo                                  | Resultado                                                                      |\n",
        "|-------------------------|----------------------------------------------------------------------------------------------------|------------------------------------------|--------------------------------------------------------------------------------|\n",
        "| d_dicionario.clear()               | Remove todos os itens de d_dicionario                                                                         | d_frutas.clear()                          | {}                                                                             |\n",
        "| d_dicionario.copy()                | Retorna uma cópia de d_dicionario                                                                             | d_frutas2= d_frutas.copy()                 | d_frutas2 é uma cópia de d_frutas                                                |\n",
        "| d_dicionario.get(key)              | Retorna o valor para key, se key estiver em d_dicionario                                                      | d_frutas.get('Passion Fruit')             | 0.45                                                                           |\n",
        "|                         |                                                                                                    | d_frutas.get('XPTO')                      | O Python não apresenta nenhum retorno                                          |\n",
        "| d_dicionario.items()               | Retorna um objeto com as tuplas (key, valor) de d_dicionario                                                  | d_frutas.items()                          | dict_items([('Avocado', 0.35), ..., ('Watermelon', 0.45)])                     |\n",
        "| d_dicionario.keys()                | Retorna um objeto com as keys de d_dicionario                                                                 | d_frutas.keys()                           | dict_keys(['Avocado', 'Apple', ..., 'Watermelon'])                             |\n",
        "| d_dicionario.values()              | Retorna um objeto com os valores de d_dicionario                                                              | d_frutas.values()                         | dict_values([0.35, 0.4, ..., 0.45])                                            |\n",
        "| d_dicionario.popitem()             | Retorna e remove um item de d_dicionario                                                                      | d_frutas.popitem()                        | ('Watermelon', 0.45)                                                           |\n",
        "|                         |                                                                                                    | 'Watermelon' in d_frutas                  | False                                                                          |\n",
        "| d_dicionario.pop(key[, default])   | Retorna e remove o item de d_dicionario correspondente à key                                                  | d_frutas.pop('Orange')                    | 0.25                                                                           |\n",
        "|                         |                                                                                                    | 'Orange' in d_frutas                      | False                                                                          |\n",
        "| d_dicionario.update(d2)            | Adiciona item(s) à d_dicionario se key não estiver em d_dicionario. Se key estiver em d_dicionario, atualizará key com o novo valor | d_frutas.update({'Cherimoya': 1.3})       | Adicionará o item {'Cherimoya': 1.3} à d_frutas, pois key= 'Cherimoya' não está em d_frutas. |\n",
        "|                         |                                                                                                    | d_frutas.update({'Orange': 0.55})         | Atualiza o valor de key= 'Orange' para 0.55. O valor anterior era 0.25         |\n",
        "| d_dicionario.fromkeys(keys, value) | Retorna um dicionário com keys especificadas e valores                                             | tFruits= ('Avocado', 'Apple', 'Apricot') |                                                                                |\n",
        "|                         |                                                                                                    | d_frutas.fromkeys(tFruits, 0)             | {'Apple': 0, 'Apricot': 0, 'Avocado': 0}                                       |"
      ]
    },
    {
      "cell_type": "markdown",
      "metadata": {
        "id": "uH6cHnctDu2l"
      },
      "source": [
        "A seguir, vamos apresentar mais alguns exemplos de dicionários e seus métodos associados:"
      ]
    },
    {
      "cell_type": "markdown",
      "metadata": {
        "id": "YeCPxCab4e4k"
      },
      "source": [
        "___\n",
        "# **EXEMPLO**\n",
        "* Os dias da semana como dicionário."
      ]
    },
    {
      "cell_type": "code",
      "metadata": {
        "id": "N_2J839X4lps",
        "colab": {
          "base_uri": "https://localhost:8080/"
        },
        "outputId": "fc8c87df-9556-4918-c001-dd8944d33c03"
      },
      "source": [
        "d_dia_semana = {'Seg': 'Segunda', 'Ter': 'Terça', 'Qua': 'Quarta', 'Qui': 'Quinta', 'Sex': 'Sexta', 'Sab': 'Sabado', 'Dom': 'Domingo'}\n",
        "d_dia_semana"
      ],
      "execution_count": null,
      "outputs": [
        {
          "output_type": "execute_result",
          "data": {
            "text/plain": [
              "{'Dom': 'Domingo',\n",
              " 'Qua': 'Quarta',\n",
              " 'Qui': 'Quinta',\n",
              " 'Sab': 'Sabado',\n",
              " 'Seg': 'Segunda',\n",
              " 'Sex': 'Sexta',\n",
              " 'Ter': 'Terça'}"
            ]
          },
          "metadata": {
            "tags": []
          },
          "execution_count": 41
        }
      ]
    },
    {
      "cell_type": "markdown",
      "metadata": {
        "id": "CnZLR-VX6FV4"
      },
      "source": [
        "Observe que:\n",
        "* os itens do dicionário d_dia_semana seguem a estrutura {key: value}.\n"
      ]
    },
    {
      "cell_type": "code",
      "metadata": {
        "id": "eHuvY7BWQKhQ",
        "colab": {
          "base_uri": "https://localhost:8080/",
          "height": 35
        },
        "outputId": "e1996cdc-a7f7-4b09-e1fb-514841ed7275"
      },
      "source": [
        "d_dia_semana['Seg'] # A chave aqui é 'Seg'"
      ],
      "execution_count": null,
      "outputs": [
        {
          "output_type": "execute_result",
          "data": {
            "application/vnd.google.colaboratory.intrinsic+json": {
              "type": "string"
            },
            "text/plain": [
              "'Segunda'"
            ]
          },
          "metadata": {
            "tags": []
          },
          "execution_count": 43
        }
      ]
    },
    {
      "cell_type": "markdown",
      "metadata": {
        "id": "j65BxhzGG0NA"
      },
      "source": [
        "___\n",
        "# **DECLARAR OU INICIALIZAR UM DICIONÁRIO VAZIO**"
      ]
    },
    {
      "cell_type": "markdown",
      "metadata": {
        "id": "LEGwQ0U-fKtL"
      },
      "source": [
        "Por exemplo, o comando abaixo declara um dicionário vazio chamado d_paises:"
      ]
    },
    {
      "cell_type": "code",
      "metadata": {
        "id": "2iPWXPBLfOlr",
        "colab": {
          "base_uri": "https://localhost:8080/"
        },
        "outputId": "c19ff78e-ca90-4c8b-c7aa-46f81df9e2f0"
      },
      "source": [
        "d_paises = {} # Também podemos usar a função dict() para criar o dicionário vazio da seguinte forma: d_paises= dict()\n",
        "d_paises"
      ],
      "execution_count": null,
      "outputs": [
        {
          "output_type": "execute_result",
          "data": {
            "text/plain": [
              "{}"
            ]
          },
          "metadata": {
            "tags": []
          },
          "execution_count": 44
        }
      ]
    },
    {
      "cell_type": "markdown",
      "metadata": {
        "id": "vCxZv-jmG5y0"
      },
      "source": [
        "___\n",
        "# **OBTER O TIPO DO OBJETO**\n",
        "> type(d_dicionario)"
      ]
    },
    {
      "cell_type": "code",
      "metadata": {
        "id": "voPYpGIGff3o",
        "colab": {
          "base_uri": "https://localhost:8080/"
        },
        "outputId": "3fc03cdd-b410-4abb-862d-6097ead43736"
      },
      "source": [
        "type(d_paises)"
      ],
      "execution_count": null,
      "outputs": [
        {
          "output_type": "execute_result",
          "data": {
            "text/plain": [
              "dict"
            ]
          },
          "metadata": {
            "tags": []
          },
          "execution_count": 27
        }
      ]
    },
    {
      "cell_type": "markdown",
      "metadata": {
        "id": "X3MvCkFiG-UO"
      },
      "source": [
        "___\n",
        "# **ADICIONAR ITENS AO DICIONÁRIO**"
      ]
    },
    {
      "cell_type": "markdown",
      "metadata": {
        "id": "fzP8iG5xfi0H"
      },
      "source": [
        "Adicionar o valor 'Italy' à key = 1. Em outras palavras, estamos a adicionar o item {1: 'Italy'}"
      ]
    },
    {
      "cell_type": "code",
      "metadata": {
        "id": "EXZ7eEZofnza",
        "colab": {
          "base_uri": "https://localhost:8080/"
        },
        "outputId": "b2d3c2c3-a1a8-4300-f195-1f1a7c33c530"
      },
      "source": [
        "d_paises[1] = 'Italy'\n",
        "d_paises"
      ],
      "execution_count": null,
      "outputs": [
        {
          "output_type": "execute_result",
          "data": {
            "text/plain": [
              "{1: 'Italy'}"
            ]
          },
          "metadata": {
            "tags": []
          },
          "execution_count": 45
        }
      ]
    },
    {
      "cell_type": "markdown",
      "metadata": {
        "id": "rH51ORGHHREE"
      },
      "source": [
        "Adicionar o valor 'Denmark' à key= 2. Em outras palavras, estamos a adicionar o item {2: 'Denmark'}"
      ]
    },
    {
      "cell_type": "code",
      "metadata": {
        "id": "GAXSzSiufv1u",
        "colab": {
          "base_uri": "https://localhost:8080/"
        },
        "outputId": "929a56dd-7a43-45c4-c0de-c953f7b7a43e"
      },
      "source": [
        "d_paises[2] = 'Denmark'\n",
        "d_paises"
      ],
      "execution_count": null,
      "outputs": [
        {
          "output_type": "execute_result",
          "data": {
            "text/plain": [
              "{1: 'Italy', 2: 'Denmark'}"
            ]
          },
          "metadata": {
            "tags": []
          },
          "execution_count": 46
        }
      ]
    },
    {
      "cell_type": "markdown",
      "metadata": {
        "id": "Xqdc_IYoHVVQ"
      },
      "source": [
        "Adicionar o valor 'Brazil' à key= 3. Em outras palavras, estamos a adicionar o item {3: 'Brazil'}"
      ]
    },
    {
      "cell_type": "code",
      "metadata": {
        "id": "FN7km8C9gAjM",
        "colab": {
          "base_uri": "https://localhost:8080/"
        },
        "outputId": "5e620d1d-010a-466f-a7c4-dc8dc402cf61"
      },
      "source": [
        "d_paises[3]= 'Brazil'\n",
        "d_paises"
      ],
      "execution_count": null,
      "outputs": [
        {
          "output_type": "execute_result",
          "data": {
            "text/plain": [
              "{1: 'Italy', 2: 'Denmark', 3: 'Brazil'}"
            ]
          },
          "metadata": {
            "tags": []
          },
          "execution_count": 47
        }
      ]
    },
    {
      "cell_type": "markdown",
      "metadata": {
        "id": "iwU8pJKRHapD"
      },
      "source": [
        "___\n",
        "# **ATUALIZAR VALORES DO DICIONÁRIO**"
      ]
    },
    {
      "cell_type": "markdown",
      "metadata": {
        "id": "CxXUV7TugLXn"
      },
      "source": [
        "O que acontece quando eu atribuo à key 3 outro valor, por exemplo, 'France'. Vamos conferir abaixo:"
      ]
    },
    {
      "cell_type": "code",
      "metadata": {
        "id": "Rr6DtJnDgU5I",
        "colab": {
          "base_uri": "https://localhost:8080/"
        },
        "outputId": "092f0e26-b59a-4b63-bfe1-3f4961380ab9"
      },
      "source": [
        "# Adicionar o valor 'France' à key= 3\n",
        "d_paises[3]= 'France'\n",
        "d_paises"
      ],
      "execution_count": null,
      "outputs": [
        {
          "output_type": "execute_result",
          "data": {
            "text/plain": [
              "{1: 'Italy', 2: 'Denmark', 3: 'France'}"
            ]
          },
          "metadata": {
            "tags": []
          },
          "execution_count": 48
        }
      ]
    },
    {
      "cell_type": "markdown",
      "metadata": {
        "id": "xB9G1l3_ggo-"
      },
      "source": [
        "Como a key= 3 existe no dicionário d_paises, então o Python substitui o valor anterior 'Brazil' pelo novo valor, 'France'. \n",
        "\n",
        "* Lembre-se, os dicionários são mutáveis!"
      ]
    },
    {
      "cell_type": "markdown",
      "metadata": {
        "id": "T8JBxySZHiOJ"
      },
      "source": [
        "___\n",
        "# **OBTER KEYS DO DICIONÁRIO**"
      ]
    },
    {
      "cell_type": "code",
      "metadata": {
        "id": "FQtAHjJdb0xK",
        "colab": {
          "base_uri": "https://localhost:8080/"
        },
        "outputId": "a765562f-12f4-4774-f250-b8b5293060f9"
      },
      "source": [
        "d_paises"
      ],
      "execution_count": null,
      "outputs": [
        {
          "output_type": "execute_result",
          "data": {
            "text/plain": [
              "{1: 'Italy', 2: 'Denmark', 3: 'France'}"
            ]
          },
          "metadata": {
            "tags": []
          },
          "execution_count": 49
        }
      ]
    },
    {
      "cell_type": "code",
      "metadata": {
        "id": "ALwbHwi4iwky",
        "colab": {
          "base_uri": "https://localhost:8080/"
        },
        "outputId": "c32a8394-5694-4e48-fb40-25998625a3b7"
      },
      "source": [
        "d_paises.keys()"
      ],
      "execution_count": null,
      "outputs": [
        {
          "output_type": "execute_result",
          "data": {
            "text/plain": [
              "dict_keys([1, 2, 3])"
            ]
          },
          "metadata": {
            "tags": []
          },
          "execution_count": 50
        }
      ]
    },
    {
      "cell_type": "markdown",
      "metadata": {
        "id": "FIvi0Li1Hng5"
      },
      "source": [
        "___\n",
        "# **OBTER VALORES DO DICIONÁRIO**"
      ]
    },
    {
      "cell_type": "code",
      "metadata": {
        "id": "cp0PPtl3jEKo",
        "colab": {
          "base_uri": "https://localhost:8080/"
        },
        "outputId": "f78202ef-5e58-4cdb-eaba-6af70e317713"
      },
      "source": [
        "d_paises.values()"
      ],
      "execution_count": null,
      "outputs": [
        {
          "output_type": "execute_result",
          "data": {
            "text/plain": [
              "dict_values(['Italy', 'Denmark', 'France'])"
            ]
          },
          "metadata": {
            "tags": []
          },
          "execution_count": 34
        }
      ]
    },
    {
      "cell_type": "markdown",
      "metadata": {
        "id": "JUblZBMjHrwl"
      },
      "source": [
        "___\n",
        "# **OBTER ITENS (key, value) DO DICIONÁRIO**"
      ]
    },
    {
      "cell_type": "code",
      "metadata": {
        "id": "LraTwXjdjG3m",
        "colab": {
          "base_uri": "https://localhost:8080/"
        },
        "outputId": "286e61bd-f168-4047-c5ab-fbac61903dc1"
      },
      "source": [
        "d_paises.items()"
      ],
      "execution_count": null,
      "outputs": [
        {
          "output_type": "execute_result",
          "data": {
            "text/plain": [
              "dict_items([(1, 'Italy'), (2, 'Denmark'), (3, 'France')])"
            ]
          },
          "metadata": {
            "tags": []
          },
          "execution_count": 51
        }
      ]
    },
    {
      "cell_type": "markdown",
      "metadata": {
        "id": "IJEMg2LKHyGa"
      },
      "source": [
        "___\n",
        "# **OBTER VALOR PARA UMA KEY ESPECÍFICA**\n",
        "* d_dicionario.get(key)"
      ]
    },
    {
      "cell_type": "markdown",
      "metadata": {
        "id": "dzgBhsphjSQm"
      },
      "source": [
        "Qual o valor para key= 1?"
      ]
    },
    {
      "cell_type": "code",
      "metadata": {
        "id": "FUfTjqktjW60",
        "colab": {
          "base_uri": "https://localhost:8080/",
          "height": 35
        },
        "outputId": "fb3fc41e-5b23-403f-c062-edd44c564498"
      },
      "source": [
        "d_paises.get(1)"
      ],
      "execution_count": null,
      "outputs": [
        {
          "output_type": "execute_result",
          "data": {
            "application/vnd.google.colaboratory.intrinsic+json": {
              "type": "string"
            },
            "text/plain": [
              "'Italy'"
            ]
          },
          "metadata": {
            "tags": []
          },
          "execution_count": 52
        }
      ]
    },
    {
      "cell_type": "markdown",
      "metadata": {
        "id": "tyJ0KsloIBoD"
      },
      "source": [
        "___\n",
        "# **COPIAR DICIONÁRIO**\n",
        "* d_dicionario.copy()"
      ]
    },
    {
      "cell_type": "code",
      "metadata": {
        "id": "XL17EmvMkkky",
        "colab": {
          "base_uri": "https://localhost:8080/"
        },
        "outputId": "4c48292a-b9bf-4876-c4f7-efe4c4d09099"
      },
      "source": [
        "d_paises2 = d_paises.copy()\n",
        "d_paises2"
      ],
      "execution_count": null,
      "outputs": [
        {
          "output_type": "execute_result",
          "data": {
            "text/plain": [
              "{1: 'Italy', 2: 'Denmark', 3: 'France'}"
            ]
          },
          "metadata": {
            "tags": []
          },
          "execution_count": 37
        }
      ]
    },
    {
      "cell_type": "markdown",
      "metadata": {
        "id": "8V25l2ZoIG4B"
      },
      "source": [
        "___\n",
        "# **REMOVER TODOS OS ITENS DO DICIONÁRIO**\n",
        "* d_dicionario.clear()"
      ]
    },
    {
      "cell_type": "code",
      "metadata": {
        "id": "r-8Gs1gYjqLN"
      },
      "source": [
        "d_paises.clear()"
      ],
      "execution_count": null,
      "outputs": []
    },
    {
      "cell_type": "code",
      "metadata": {
        "id": "ro_42gzDjsdV",
        "colab": {
          "base_uri": "https://localhost:8080/"
        },
        "outputId": "42c30665-149e-4337-94b9-de413bb0c144"
      },
      "source": [
        "d_paises"
      ],
      "execution_count": null,
      "outputs": [
        {
          "output_type": "execute_result",
          "data": {
            "text/plain": [
              "{}"
            ]
          },
          "metadata": {
            "tags": []
          },
          "execution_count": 19
        }
      ]
    },
    {
      "cell_type": "markdown",
      "metadata": {
        "id": "pCzKkKoujv7G"
      },
      "source": [
        "Como esperado, removemos todos os itens do dicionário d_paises. Entretanto, o dicionário d_paises continua a existir!"
      ]
    },
    {
      "cell_type": "markdown",
      "metadata": {
        "id": "MKtPwGVsIaLQ"
      },
      "source": [
        "___\n",
        "# **DELETAR O DICIONÁRIO**\n",
        "* del d_dicionario"
      ]
    },
    {
      "cell_type": "code",
      "metadata": {
        "id": "8wvM-o7Lj7A0"
      },
      "source": [
        "del d_paises"
      ],
      "execution_count": null,
      "outputs": []
    },
    {
      "cell_type": "code",
      "metadata": {
        "id": "wK83ZURYkD_T",
        "colab": {
          "base_uri": "https://localhost:8080/",
          "height": 167
        },
        "outputId": "0965281d-882b-450e-e06c-b74b1a903282"
      },
      "source": [
        "d_paises"
      ],
      "execution_count": null,
      "outputs": [
        {
          "output_type": "error",
          "ename": "NameError",
          "evalue": "ignored",
          "traceback": [
            "\u001b[0;31m---------------------------------------------------------------------------\u001b[0m",
            "\u001b[0;31mNameError\u001b[0m                                 Traceback (most recent call last)",
            "\u001b[0;32m<ipython-input-21-e17de82892a8>\u001b[0m in \u001b[0;36m<module>\u001b[0;34m()\u001b[0m\n\u001b[0;32m----> 1\u001b[0;31m \u001b[0md_paises\u001b[0m\u001b[0;34m\u001b[0m\u001b[0;34m\u001b[0m\u001b[0m\n\u001b[0m",
            "\u001b[0;31mNameError\u001b[0m: name 'd_paises' is not defined"
          ]
        }
      ]
    },
    {
      "cell_type": "markdown",
      "metadata": {
        "id": "aSe3veUB1lo_"
      },
      "source": [
        "Como esperado, pois agora o dicionário já não existe mais. Ok?"
      ]
    },
    {
      "cell_type": "markdown",
      "metadata": {
        "id": "STtkGUvEg7d1"
      },
      "source": [
        "___\n",
        "# **ITERAR PELO DICIONÁRIO**\n",
        "* Considere o dicionário d_frutas a seguir:"
      ]
    },
    {
      "cell_type": "code",
      "metadata": {
        "id": "IG8hKSvcfalZ"
      },
      "source": [
        "# Definindo os valores iniciais do dicionário d_frutas:\n",
        "d_frutas = {'Avocado': 0.35, \n",
        "         'Apple': 0.40, \n",
        "         'Apricot': 0.25, \n",
        "         'Banana': 0.30, \n",
        "         'Blackcurrant': 0.70, \n",
        "         'Blackberry': 0.55, \n",
        "         'Blueberry': 0.45, \n",
        "         'Cherry': 0.50, \n",
        "         'Coconut': 0.75, \n",
        "         'Fig': 0.60, \n",
        "         'Grape': 0.65, \n",
        "         'Kiwi': 0.20, \n",
        "         'Lemon': 0.15, \n",
        "         'Mango': 0.80, \n",
        "         'Nectarine': 0.75, \n",
        "         'Orange': 0.25, \n",
        "         'Papaya': 0.30,\n",
        "         'Passion Fruit': 0.45,\n",
        "         'Peach': 0.55,\n",
        "         'Pineapple': 0.55,\n",
        "         'Plum': 0.60,\n",
        "         'Raspberry': 0.40,\n",
        "         'Strawberry': 0.50,\n",
        "         'Watermelon': 0.45}"
      ],
      "execution_count": null,
      "outputs": []
    },
    {
      "cell_type": "markdown",
      "metadata": {
        "id": "ppRkK_jJJG6W"
      },
      "source": [
        "Mostrando os itens do dicionário d_frutas:"
      ]
    },
    {
      "cell_type": "code",
      "metadata": {
        "id": "bI7Ctf0ohyz8",
        "colab": {
          "base_uri": "https://localhost:8080/"
        },
        "outputId": "d37f4973-2c9c-458d-b620-ccc4c7258780"
      },
      "source": [
        "d_frutas"
      ],
      "execution_count": null,
      "outputs": [
        {
          "output_type": "execute_result",
          "data": {
            "text/plain": [
              "{'Apple': 0.4,\n",
              " 'Apricot': 0.25,\n",
              " 'Avocado': 0.35,\n",
              " 'Banana': 0.3,\n",
              " 'Blackberry': 0.55,\n",
              " 'Blackcurrant': 0.7,\n",
              " 'Blueberry': 0.45,\n",
              " 'Cherry': 0.5,\n",
              " 'Coconut': 0.75,\n",
              " 'Fig': 0.6,\n",
              " 'Grape': 0.65,\n",
              " 'Kiwi': 0.2,\n",
              " 'Lemon': 0.15,\n",
              " 'Mango': 0.8,\n",
              " 'Nectarine': 0.75,\n",
              " 'Orange': 0.25,\n",
              " 'Papaya': 0.3,\n",
              " 'Passion Fruit': 0.45,\n",
              " 'Peach': 0.55,\n",
              " 'Pineapple': 0.55,\n",
              " 'Plum': 0.6,\n",
              " 'Raspberry': 0.4,\n",
              " 'Strawberry': 0.5,\n",
              " 'Watermelon': 0.45}"
            ]
          },
          "metadata": {
            "tags": []
          },
          "execution_count": 90
        }
      ]
    },
    {
      "cell_type": "markdown",
      "metadata": {
        "id": "wXFfyiyPtD35"
      },
      "source": [
        "Qual o valor para a fruta 'Apple'? Para responder à esta pergunta, basta lembrar que 'Apple' é uma key do dicionário d_frutas. Certo?"
      ]
    },
    {
      "cell_type": "code",
      "metadata": {
        "id": "JpreyE_LtCcU",
        "colab": {
          "base_uri": "https://localhost:8080/"
        },
        "outputId": "8b1b895e-deec-4f17-c136-c225ff1a1948"
      },
      "source": [
        "d_frutas['Apple']"
      ],
      "execution_count": null,
      "outputs": [
        {
          "output_type": "execute_result",
          "data": {
            "text/plain": [
              "0.4"
            ]
          },
          "metadata": {
            "tags": []
          },
          "execution_count": 91
        }
      ]
    },
    {
      "cell_type": "code",
      "metadata": {
        "id": "RMWau2TOclHr",
        "colab": {
          "base_uri": "https://localhost:8080/",
          "height": 167
        },
        "outputId": "acb62e22-8d4f-484f-918d-abb0ba3c3694"
      },
      "source": [
        "d_frutas['blablabla'] # Isso significa que 'blablabla' não faz parte do dicionário!"
      ],
      "execution_count": null,
      "outputs": [
        {
          "output_type": "error",
          "ename": "KeyError",
          "evalue": "ignored",
          "traceback": [
            "\u001b[0;31m---------------------------------------------------------------------------\u001b[0m",
            "\u001b[0;31mKeyError\u001b[0m                                  Traceback (most recent call last)",
            "\u001b[0;32m<ipython-input-92-5a80a61687f8>\u001b[0m in \u001b[0;36m<module>\u001b[0;34m()\u001b[0m\n\u001b[0;32m----> 1\u001b[0;31m \u001b[0md_frutas\u001b[0m\u001b[0;34m[\u001b[0m\u001b[0;34m'blablabla'\u001b[0m\u001b[0;34m]\u001b[0m \u001b[0;31m# Isso significa que 'blablabla' não faz parte do dicionário!\u001b[0m\u001b[0;34m\u001b[0m\u001b[0;34m\u001b[0m\u001b[0m\n\u001b[0m",
            "\u001b[0;31mKeyError\u001b[0m: 'blablabla'"
          ]
        }
      ]
    },
    {
      "cell_type": "markdown",
      "metadata": {
        "id": "JBMf8SbAJmiq"
      },
      "source": [
        "## Iterar pelas keys do dicionário:"
      ]
    },
    {
      "cell_type": "code",
      "metadata": {
        "id": "i-6-pNQCcyXY",
        "colab": {
          "base_uri": "https://localhost:8080/"
        },
        "outputId": "19efcdfb-cbed-40c1-dffb-0b7efa36f0da"
      },
      "source": [
        "for chave in d_frutas.keys():\n",
        "    print(chave)"
      ],
      "execution_count": null,
      "outputs": [
        {
          "output_type": "stream",
          "text": [
            "Avocado\n",
            "Apple\n",
            "Apricot\n",
            "Banana\n",
            "Blackcurrant\n",
            "Blackberry\n",
            "Blueberry\n",
            "Cherry\n",
            "Coconut\n",
            "Fig\n",
            "Grape\n",
            "Kiwi\n",
            "Lemon\n",
            "Mango\n",
            "Nectarine\n",
            "Orange\n",
            "Papaya\n",
            "Passion Fruit\n",
            "Peach\n",
            "Pineapple\n",
            "Plum\n",
            "Raspberry\n",
            "Strawberry\n",
            "Watermelon\n"
          ],
          "name": "stdout"
        }
      ]
    },
    {
      "cell_type": "markdown",
      "metadata": {
        "id": "9u4xJ0FfdCxm"
      },
      "source": [
        "## Iterar pelos valores do dicionário:"
      ]
    },
    {
      "cell_type": "code",
      "metadata": {
        "id": "vrFPwQPDdFP3",
        "colab": {
          "base_uri": "https://localhost:8080/"
        },
        "outputId": "4185d8be-4a81-4d19-dbc2-4fe34f16aee9"
      },
      "source": [
        "for i_valor in d_frutas.values():\n",
        "    print(i_valor)"
      ],
      "execution_count": null,
      "outputs": [
        {
          "output_type": "stream",
          "text": [
            "0.35\n",
            "0.4\n",
            "0.25\n",
            "0.3\n",
            "0.7\n",
            "0.55\n",
            "0.45\n",
            "0.5\n",
            "0.75\n",
            "0.6\n",
            "0.65\n",
            "0.2\n",
            "0.15\n",
            "0.8\n",
            "0.75\n",
            "0.25\n",
            "0.3\n",
            "0.45\n",
            "0.55\n",
            "0.55\n",
            "0.6\n",
            "0.4\n",
            "0.5\n",
            "0.45\n"
          ],
          "name": "stdout"
        }
      ]
    },
    {
      "cell_type": "markdown",
      "metadata": {
        "id": "yDkOLvRFJxco"
      },
      "source": [
        "## Iterar pelos itens (chave, valor) do dicionário"
      ]
    },
    {
      "cell_type": "code",
      "metadata": {
        "id": "H8BCC6qodU6o",
        "colab": {
          "base_uri": "https://localhost:8080/"
        },
        "outputId": "4adb7b14-424c-49e8-e512-0f9933dd9d38"
      },
      "source": [
        "d_frutas.items()"
      ],
      "execution_count": null,
      "outputs": [
        {
          "output_type": "execute_result",
          "data": {
            "text/plain": [
              "dict_items([('Avocado', 0.35), ('Apple', 0.4), ('Apricot', 0.25), ('Banana', 0.3), ('Blackcurrant', 0.7), ('Blackberry', 0.55), ('Blueberry', 0.45), ('Cherry', 0.5), ('Coconut', 0.75), ('Fig', 0.6), ('Grape', 0.65), ('Kiwi', 0.2), ('Lemon', 0.15), ('Mango', 0.8), ('Nectarine', 0.75), ('Orange', 0.25), ('Papaya', 0.3), ('Passion Fruit', 0.45), ('Peach', 0.55), ('Pineapple', 0.55), ('Plum', 0.6), ('Raspberry', 0.4), ('Strawberry', 0.5), ('Watermelon', 0.45)])"
            ]
          },
          "metadata": {
            "tags": []
          },
          "execution_count": 95
        }
      ]
    },
    {
      "cell_type": "code",
      "metadata": {
        "id": "DpFB1g-3kDSt",
        "colab": {
          "base_uri": "https://localhost:8080/"
        },
        "outputId": "ccd77e51-88f0-4d2c-d3ef-fd89b2db57d4"
      },
      "source": [
        "for item in d_frutas.items():\n",
        "    print(item)    "
      ],
      "execution_count": null,
      "outputs": [
        {
          "output_type": "stream",
          "text": [
            "('Avocado', 0.35)\n",
            "('Apple', 0.4)\n",
            "('Apricot', 0.25)\n",
            "('Banana', 0.3)\n",
            "('Blackcurrant', 0.7)\n",
            "('Blackberry', 0.55)\n",
            "('Blueberry', 0.45)\n",
            "('Cherry', 0.5)\n",
            "('Coconut', 0.75)\n",
            "('Fig', 0.6)\n",
            "('Grape', 0.65)\n",
            "('Kiwi', 0.2)\n",
            "('Lemon', 0.15)\n",
            "('Mango', 0.8)\n",
            "('Nectarine', 0.75)\n",
            "('Orange', 0.25)\n",
            "('Papaya', 0.3)\n",
            "('Passion Fruit', 0.45)\n",
            "('Peach', 0.55)\n",
            "('Pineapple', 0.55)\n",
            "('Plum', 0.6)\n",
            "('Raspberry', 0.4)\n",
            "('Strawberry', 0.5)\n",
            "('Watermelon', 0.45)\n"
          ],
          "name": "stdout"
        }
      ]
    },
    {
      "cell_type": "markdown",
      "metadata": {
        "id": "-LmEUroVKDUA"
      },
      "source": [
        "## Iterar pela key e valor do dicionário"
      ]
    },
    {
      "cell_type": "code",
      "metadata": {
        "id": "oRhZ_Zq9oQIg",
        "colab": {
          "base_uri": "https://localhost:8080/"
        },
        "outputId": "63521d5f-b204-4c07-f3f7-27180b778b29"
      },
      "source": [
        "for key, value in d_frutas.items():\n",
        "    print(\"%s --> %s\" %(key, value))"
      ],
      "execution_count": null,
      "outputs": [
        {
          "output_type": "stream",
          "text": [
            "Avocado --> 0.35\n",
            "Apple --> 0.4\n",
            "Apricot --> 0.25\n",
            "Banana --> 0.3\n",
            "Blackcurrant --> 0.7\n",
            "Blackberry --> 0.55\n",
            "Blueberry --> 0.45\n",
            "Cherry --> 0.5\n",
            "Coconut --> 0.75\n",
            "Fig --> 0.6\n",
            "Grape --> 0.65\n",
            "Kiwi --> 0.2\n",
            "Lemon --> 0.15\n",
            "Mango --> 0.8\n",
            "Nectarine --> 0.75\n",
            "Orange --> 0.25\n",
            "Papaya --> 0.3\n",
            "Passion Fruit --> 0.45\n",
            "Peach --> 0.55\n",
            "Pineapple --> 0.55\n",
            "Plum --> 0.6\n",
            "Raspberry --> 0.4\n",
            "Strawberry --> 0.5\n",
            "Watermelon --> 0.45\n"
          ],
          "name": "stdout"
        }
      ]
    },
    {
      "cell_type": "markdown",
      "metadata": {
        "id": "Fotx7XUquAo8"
      },
      "source": [
        "___\n",
        "# **VERIFICAR SE UMA KEY ESPECÍFICA PERTENCE AO DICIONÁRIO**"
      ]
    },
    {
      "cell_type": "markdown",
      "metadata": {
        "id": "ju__WsSoKXtk"
      },
      "source": [
        "A fruta 'Apple' (que em nosso caso, é uma key) existe no dicionário?"
      ]
    },
    {
      "cell_type": "code",
      "metadata": {
        "id": "-gkEKNZPTeMp",
        "colab": {
          "base_uri": "https://localhost:8080/"
        },
        "outputId": "35e015e3-e8ce-4343-d3a3-0f33b73ad22f"
      },
      "source": [
        "'Apple' in d_frutas.keys()"
      ],
      "execution_count": null,
      "outputs": [
        {
          "output_type": "execute_result",
          "data": {
            "text/plain": [
              "True"
            ]
          },
          "metadata": {
            "tags": []
          },
          "execution_count": 98
        }
      ]
    },
    {
      "cell_type": "markdown",
      "metadata": {
        "id": "fMzBeFMIusv7"
      },
      "source": [
        "A fruta 'Coconut' pertence ao dicionário d_frutas?"
      ]
    },
    {
      "cell_type": "code",
      "metadata": {
        "id": "SKtEwmBCuxyi",
        "colab": {
          "base_uri": "https://localhost:8080/"
        },
        "outputId": "b0a1a5ad-9cb4-4ee2-bd89-c009a2e0fede"
      },
      "source": [
        "'Coconut' in d_frutas.keys()"
      ],
      "execution_count": null,
      "outputs": [
        {
          "output_type": "execute_result",
          "data": {
            "text/plain": [
              "True"
            ]
          },
          "metadata": {
            "tags": []
          },
          "execution_count": 99
        }
      ]
    },
    {
      "cell_type": "markdown",
      "metadata": {
        "id": "rrH8ArqsK6Bd"
      },
      "source": [
        "___\n",
        "# **VERIFICAR SE VALOR PERTENCE AO DICIONÁRIO**"
      ]
    },
    {
      "cell_type": "code",
      "metadata": {
        "id": "DbWpbuLTK9sn",
        "colab": {
          "base_uri": "https://localhost:8080/"
        },
        "outputId": "8a19e71b-4707-4f05-9dc9-43c4e1bb1020"
      },
      "source": [
        "0.4 in d_frutas.values()"
      ],
      "execution_count": null,
      "outputs": [
        {
          "output_type": "execute_result",
          "data": {
            "text/plain": [
              "True"
            ]
          },
          "metadata": {
            "tags": []
          },
          "execution_count": 100
        }
      ]
    },
    {
      "cell_type": "markdown",
      "metadata": {
        "id": "36kmLUYDvsUI"
      },
      "source": [
        "## Adicionar novos itens ao dicionário\n",
        "* Considere o dicionário d_frutas2 abaixo:"
      ]
    },
    {
      "cell_type": "code",
      "metadata": {
        "id": "5Rwq4-UG4--u",
        "colab": {
          "base_uri": "https://localhost:8080/"
        },
        "outputId": "673c4eed-c0c6-48aa-b16d-ebe8476668ef"
      },
      "source": [
        "d_frutas2 = {'Grapefruit': 1.0}\n",
        "d_frutas2"
      ],
      "execution_count": null,
      "outputs": [
        {
          "output_type": "execute_result",
          "data": {
            "text/plain": [
              "{'Grapefruit': 1.0}"
            ]
          },
          "metadata": {
            "tags": []
          },
          "execution_count": 105
        }
      ]
    },
    {
      "cell_type": "markdown",
      "metadata": {
        "id": "vljceM6_5H9o"
      },
      "source": [
        "O comando abaixo adiciona o dicionário d_frutas2 ao dicionário d_frutas."
      ]
    },
    {
      "cell_type": "code",
      "metadata": {
        "id": "7BD_mYMM5O5o",
        "colab": {
          "base_uri": "https://localhost:8080/"
        },
        "outputId": "f1362bbb-6d40-47f6-c19e-64b69907fd44"
      },
      "source": [
        "d_frutas.update(d_frutas2)\n",
        "d_frutas"
      ],
      "execution_count": null,
      "outputs": [
        {
          "output_type": "execute_result",
          "data": {
            "text/plain": [
              "{'Apple': 0.7,\n",
              " 'Apricot': 0.25,\n",
              " 'Avocado': 0.35,\n",
              " 'Banana': 0.3,\n",
              " 'Blackberry': 0.55,\n",
              " 'Blackcurrant': 0.7,\n",
              " 'Blueberry': 0.45,\n",
              " 'Cherry': 0.5,\n",
              " 'Coconut': 0.75,\n",
              " 'Fig': 0.6,\n",
              " 'Grape': 0.65,\n",
              " 'Grapefruit': 1.0,\n",
              " 'Kiwi': 0.2,\n",
              " 'Lemon': 0.15,\n",
              " 'Mango': 0.8,\n",
              " 'Nectarine': 0.75,\n",
              " 'Orange': 0.25,\n",
              " 'Papaya': 0.3,\n",
              " 'Passion Fruit': 0.45,\n",
              " 'Peach': 0.55,\n",
              " 'Pineapple': 0.55,\n",
              " 'Plum': 0.6,\n",
              " 'Raspberry': 0.4,\n",
              " 'Strawberry': 0.5,\n",
              " 'Watermelon': 0.45}"
            ]
          },
          "metadata": {
            "tags": []
          },
          "execution_count": 106
        }
      ]
    },
    {
      "cell_type": "markdown",
      "metadata": {
        "id": "ffh-94lo55n4"
      },
      "source": [
        "Agora, considere o dicionário d_frutas3 abaixo:"
      ]
    },
    {
      "cell_type": "code",
      "metadata": {
        "id": "JMAq_jbP5---"
      },
      "source": [
        "d_frutas3 = {'Apple': 0.70}"
      ],
      "execution_count": null,
      "outputs": []
    },
    {
      "cell_type": "markdown",
      "metadata": {
        "id": "Jd6B2cy-6KmY"
      },
      "source": [
        "Qual o resultado do comando abaixo?\n",
        "\n",
        "* Atenção: A fruta 'Apple' (é uma key do dicionário d_frutas) tem valor 0.40. E no dicionário d_frutas3 a fruta 'Apple' tem valor 0.70."
      ]
    },
    {
      "cell_type": "code",
      "metadata": {
        "id": "E4GKdTw76PXI",
        "colab": {
          "base_uri": "https://localhost:8080/"
        },
        "outputId": "d18649b3-1f29-4b05-a1b2-2954b570cfe7"
      },
      "source": [
        "d_frutas.update(d_frutas3)\n",
        "d_frutas"
      ],
      "execution_count": null,
      "outputs": [
        {
          "output_type": "execute_result",
          "data": {
            "text/plain": [
              "{'Apple': 0.7,\n",
              " 'Apricot': 0.25,\n",
              " 'Avocado': 0.35,\n",
              " 'Banana': 0.3,\n",
              " 'Blackberry': 0.55,\n",
              " 'Blackcurrant': 0.7,\n",
              " 'Blueberry': 0.45,\n",
              " 'Cherry': 0.5,\n",
              " 'Coconut': 0.75,\n",
              " 'Fig': 0.6,\n",
              " 'Grape': 0.65,\n",
              " 'Grapefruit': 1.0,\n",
              " 'Kiwi': 0.2,\n",
              " 'Lemon': 0.15,\n",
              " 'Mango': 0.8,\n",
              " 'Nectarine': 0.75,\n",
              " 'Orange': 0.25,\n",
              " 'Papaya': 0.3,\n",
              " 'Passion Fruit': 0.45,\n",
              " 'Peach': 0.55,\n",
              " 'Pineapple': 0.55,\n",
              " 'Plum': 0.6,\n",
              " 'Raspberry': 0.4,\n",
              " 'Strawberry': 0.5,\n",
              " 'Watermelon': 0.45}"
            ]
          },
          "metadata": {
            "tags": []
          },
          "execution_count": 108
        }
      ]
    },
    {
      "cell_type": "markdown",
      "metadata": {
        "id": "HMmDfrln6o0c"
      },
      "source": [
        "Como esperado, como key= 'Apple' existe no dicionário d_frutas, então o Python atualizou o valor de key= 'Apple' para 0.70."
      ]
    },
    {
      "cell_type": "markdown",
      "metadata": {
        "id": "SWO2GdNovxAp"
      },
      "source": [
        "## Modificar keys e valores"
      ]
    },
    {
      "cell_type": "markdown",
      "metadata": {
        "id": "DX9UTy4TwlAw"
      },
      "source": [
        "Suponha que queremos aplicar um desconto de 10% para cada fruta do nosso dicionário.\n",
        "\n",
        "* Como fazemos isso?"
      ]
    },
    {
      "cell_type": "code",
      "metadata": {
        "id": "RV-YOkrffa3h",
        "colab": {
          "base_uri": "https://localhost:8080/"
        },
        "outputId": "d9981275-ada2-4591-d29e-1fc3c15093ea"
      },
      "source": [
        "d_frutas.keys()"
      ],
      "execution_count": null,
      "outputs": [
        {
          "output_type": "execute_result",
          "data": {
            "text/plain": [
              "dict_keys(['Avocado', 'Apple', 'Apricot', 'Banana', 'Blackcurrant', 'Blackberry', 'Blueberry', 'Cherry', 'Coconut', 'Fig', 'Grape', 'Kiwi', 'Lemon', 'Mango', 'Nectarine', 'Orange', 'Papaya', 'Passion Fruit', 'Peach', 'Pineapple', 'Plum', 'Raspberry', 'Strawberry', 'Watermelon', 'Grapefruit'])"
            ]
          },
          "metadata": {
            "tags": []
          },
          "execution_count": 109
        }
      ]
    },
    {
      "cell_type": "code",
      "metadata": {
        "id": "tV8k5w2Bf1Oq",
        "colab": {
          "base_uri": "https://localhost:8080/"
        },
        "outputId": "34c9403a-fdda-4479-c02c-140531939636"
      },
      "source": [
        "d_frutas.items()"
      ],
      "execution_count": null,
      "outputs": [
        {
          "output_type": "execute_result",
          "data": {
            "text/plain": [
              "dict_items([('Avocado', 0.35), ('Apple', 0.7), ('Apricot', 0.25), ('Banana', 0.3), ('Blackcurrant', 0.7), ('Blackberry', 0.55), ('Blueberry', 0.45), ('Cherry', 0.5), ('Coconut', 0.75), ('Fig', 0.6), ('Grape', 0.65), ('Kiwi', 0.2), ('Lemon', 0.15), ('Mango', 0.8), ('Nectarine', 0.75), ('Orange', 0.25), ('Papaya', 0.3), ('Passion Fruit', 0.45), ('Peach', 0.55), ('Pineapple', 0.55), ('Plum', 0.6), ('Raspberry', 0.4), ('Strawberry', 0.5), ('Watermelon', 0.45), ('Grapefruit', 1.0)])"
            ]
          },
          "metadata": {
            "tags": []
          },
          "execution_count": 110
        }
      ]
    },
    {
      "cell_type": "code",
      "metadata": {
        "id": "ZziGmKGmwqwn",
        "colab": {
          "base_uri": "https://localhost:8080/"
        },
        "outputId": "582f035d-4c44-47fa-e291-c588e6594d87"
      },
      "source": [
        "for key, value in d_frutas.items():\n",
        "    d_frutas[key] = round((value * 0.9), 2) # Isso representa um desconto de 10% no valor das frutas\n",
        "\n",
        "d_frutas"
      ],
      "execution_count": null,
      "outputs": [
        {
          "output_type": "execute_result",
          "data": {
            "text/plain": [
              "{'Apple': 0.63,\n",
              " 'Apricot': 0.23,\n",
              " 'Avocado': 0.32,\n",
              " 'Banana': 0.27,\n",
              " 'Blackberry': 0.5,\n",
              " 'Blackcurrant': 0.63,\n",
              " 'Blueberry': 0.41,\n",
              " 'Cherry': 0.45,\n",
              " 'Coconut': 0.68,\n",
              " 'Fig': 0.54,\n",
              " 'Grape': 0.59,\n",
              " 'Grapefruit': 0.9,\n",
              " 'Kiwi': 0.18,\n",
              " 'Lemon': 0.14,\n",
              " 'Mango': 0.72,\n",
              " 'Nectarine': 0.68,\n",
              " 'Orange': 0.23,\n",
              " 'Papaya': 0.27,\n",
              " 'Passion Fruit': 0.41,\n",
              " 'Peach': 0.5,\n",
              " 'Pineapple': 0.5,\n",
              " 'Plum': 0.54,\n",
              " 'Raspberry': 0.36,\n",
              " 'Strawberry': 0.45,\n",
              " 'Watermelon': 0.41}"
            ]
          },
          "metadata": {
            "tags": []
          },
          "execution_count": 111
        }
      ]
    },
    {
      "cell_type": "markdown",
      "metadata": {
        "id": "s1B-yN8lM-C1"
      },
      "source": [
        "Mostra d_frutas com os valores atualizados:"
      ]
    },
    {
      "cell_type": "code",
      "metadata": {
        "id": "zZLa85knxBtY",
        "colab": {
          "base_uri": "https://localhost:8080/"
        },
        "outputId": "f6d436ec-2874-4fe6-d38a-beba281dfb73"
      },
      "source": [
        "d_frutas"
      ],
      "execution_count": null,
      "outputs": [
        {
          "output_type": "execute_result",
          "data": {
            "text/plain": [
              "{'Apple': 0.63,\n",
              " 'Apricot': 0.23,\n",
              " 'Avocado': 0.32,\n",
              " 'Banana': 0.27,\n",
              " 'Blackberry': 0.5,\n",
              " 'Blackcurrant': 0.63,\n",
              " 'Blueberry': 0.41,\n",
              " 'Cherry': 0.45,\n",
              " 'Coconut': 0.68,\n",
              " 'Fig': 0.54,\n",
              " 'Grape': 0.59,\n",
              " 'Grapefruit': 0.9,\n",
              " 'Kiwi': 0.18,\n",
              " 'Lemon': 0.14,\n",
              " 'Mango': 0.72,\n",
              " 'Nectarine': 0.68,\n",
              " 'Orange': 0.23,\n",
              " 'Papaya': 0.27,\n",
              " 'Passion Fruit': 0.41,\n",
              " 'Peach': 0.5,\n",
              " 'Pineapple': 0.5,\n",
              " 'Plum': 0.54,\n",
              " 'Raspberry': 0.36,\n",
              " 'Strawberry': 0.45,\n",
              " 'Watermelon': 0.41}"
            ]
          },
          "metadata": {
            "tags": []
          },
          "execution_count": 112
        }
      ]
    },
    {
      "cell_type": "markdown",
      "metadata": {
        "id": "vpN54l4vxze5"
      },
      "source": [
        "## Deletar keys do dicionário\n",
        "* Deletar uma key significa deletar todo o item {key: value}, ok?"
      ]
    },
    {
      "cell_type": "markdown",
      "metadata": {
        "id": "eDlthLStNIwR"
      },
      "source": [
        "Suponha que queremos deletar a fruta 'Avocado' do dicionário d_frutas.\n",
        "\n",
        "* Como fazer isso?"
      ]
    },
    {
      "cell_type": "code",
      "metadata": {
        "id": "fnpzHZU_x5Y1"
      },
      "source": [
        "for key in list(d_frutas.keys()):  # Dica: use a função list para melhorar a performance computacional\n",
        "    if key == 'Avocado':\n",
        "        del d_frutas[key]  # Deleta key = 'Avocado'"
      ],
      "execution_count": null,
      "outputs": []
    },
    {
      "cell_type": "markdown",
      "metadata": {
        "id": "VyPUrobONqvI"
      },
      "source": [
        "Mostra o dicionário d_frutas atualizado:"
      ]
    },
    {
      "cell_type": "code",
      "metadata": {
        "id": "IwnsHejhyT4l",
        "colab": {
          "base_uri": "https://localhost:8080/"
        },
        "outputId": "9409e29d-96a2-4c49-ecc1-01e60d0c47b4"
      },
      "source": [
        "d_frutas"
      ],
      "execution_count": null,
      "outputs": [
        {
          "output_type": "execute_result",
          "data": {
            "text/plain": [
              "{'Apple': 0.63,\n",
              " 'Apricot': 0.23,\n",
              " 'Banana': 0.27,\n",
              " 'Blackberry': 0.5,\n",
              " 'Blackcurrant': 0.63,\n",
              " 'Blueberry': 0.41,\n",
              " 'Cherry': 0.45,\n",
              " 'Coconut': 0.68,\n",
              " 'Fig': 0.54,\n",
              " 'Grape': 0.59,\n",
              " 'Grapefruit': 0.9,\n",
              " 'Kiwi': 0.18,\n",
              " 'Lemon': 0.14,\n",
              " 'Mango': 0.72,\n",
              " 'Nectarine': 0.68,\n",
              " 'Orange': 0.23,\n",
              " 'Papaya': 0.27,\n",
              " 'Passion Fruit': 0.41,\n",
              " 'Peach': 0.5,\n",
              " 'Pineapple': 0.5,\n",
              " 'Plum': 0.54,\n",
              " 'Raspberry': 0.36,\n",
              " 'Strawberry': 0.45,\n",
              " 'Watermelon': 0.41}"
            ]
          },
          "metadata": {
            "tags": []
          },
          "execution_count": 114
        }
      ]
    },
    {
      "cell_type": "markdown",
      "metadata": {
        "id": "u4HOf9SNytSq"
      },
      "source": [
        "## Filtrar/Selecionar itens baseado em condições\n",
        "Em algumas situações você vai querer filtrar os itens do dicionário que satisfaçam alguma(s) condições.\n",
        "\n",
        "* Considere o exemplo a seguir: queremos selecionar/filtrar somente as frutas com preços maiores que 0.5."
      ]
    },
    {
      "cell_type": "code",
      "metadata": {
        "id": "EwqxWiVlyvgH"
      },
      "source": [
        "d_frutas_filtro = {}\n",
        "\n",
        "for key, value in d_frutas.items():\n",
        "    if value > 0.5:\n",
        "        d_frutas_filtro.update({key: value})\n",
        "\n",
        "        # criado um dicionário novo d_frutas_filtro\n",
        "        # ao percorrer d_frutas e encontrar value > 0.5, o dicionário d_frutas.filtro é atualizado\n",
        "        # com a chave, valor que atende a condição valor > 0.5"
      ],
      "execution_count": null,
      "outputs": []
    },
    {
      "cell_type": "markdown",
      "metadata": {
        "id": "eb0jmAKWOtYt"
      },
      "source": [
        "Mostrar o conteúdo do dicionário d_frutas_filtro:"
      ]
    },
    {
      "cell_type": "code",
      "metadata": {
        "id": "SsStWM5k1s-Q",
        "colab": {
          "base_uri": "https://localhost:8080/"
        },
        "outputId": "3532c5b8-b197-4976-be6c-7c749a7479c3"
      },
      "source": [
        "d_frutas_filtro"
      ],
      "execution_count": null,
      "outputs": [
        {
          "output_type": "execute_result",
          "data": {
            "text/plain": [
              "{'Apple': 0.63,\n",
              " 'Blackcurrant': 0.63,\n",
              " 'Coconut': 0.68,\n",
              " 'Fig': 0.54,\n",
              " 'Grape': 0.59,\n",
              " 'Grapefruit': 0.9,\n",
              " 'Mango': 0.72,\n",
              " 'Nectarine': 0.68,\n",
              " 'Plum': 0.54}"
            ]
          },
          "metadata": {
            "tags": []
          },
          "execution_count": 118
        }
      ]
    },
    {
      "cell_type": "markdown",
      "metadata": {
        "id": "u1ve6xIGOjrE"
      },
      "source": [
        " Como se pode ver, temos várias frutas com preços acima de 0.5 (satisfaz a condição)."
      ]
    },
    {
      "cell_type": "markdown",
      "metadata": {
        "id": "KJqpPrfkCk9L"
      },
      "source": [
        "## Cálculos com os itens do dicionário"
      ]
    },
    {
      "cell_type": "code",
      "metadata": {
        "id": "exD8HXodCqg6"
      },
      "source": [
        "from collections import Counter"
      ],
      "execution_count": null,
      "outputs": []
    },
    {
      "cell_type": "markdown",
      "metadata": {
        "id": "llCLTysdCuwB"
      },
      "source": [
        "Somando os valores de todas as frutas"
      ]
    },
    {
      "cell_type": "code",
      "metadata": {
        "id": "uG0VP1MNCroX",
        "colab": {
          "base_uri": "https://localhost:8080/"
        },
        "outputId": "da674524-bedc-431f-b2ec-8f26921b51ac"
      },
      "source": [
        "sum(d_frutas.values())"
      ],
      "execution_count": null,
      "outputs": [
        {
          "output_type": "execute_result",
          "data": {
            "text/plain": [
              "11.219999999999997"
            ]
          },
          "metadata": {
            "tags": []
          },
          "execution_count": 120
        }
      ]
    },
    {
      "cell_type": "markdown",
      "metadata": {
        "id": "a5MBNCF-C5-4"
      },
      "source": [
        "Quantos itens existem no dicionário:"
      ]
    },
    {
      "cell_type": "code",
      "metadata": {
        "id": "AkvygR0PC9bT",
        "colab": {
          "base_uri": "https://localhost:8080/"
        },
        "outputId": "99a7560a-adfa-4180-a30c-8bb29fa1ed34"
      },
      "source": [
        "len(list(d_frutas))"
      ],
      "execution_count": null,
      "outputs": [
        {
          "output_type": "execute_result",
          "data": {
            "text/plain": [
              "24"
            ]
          },
          "metadata": {
            "tags": []
          },
          "execution_count": 121
        }
      ]
    },
    {
      "cell_type": "markdown",
      "metadata": {
        "id": "xBNFaklq8OC9"
      },
      "source": [
        "## Sortear itens do dicionário - sorted(d_dicionario.items(), reverse= True/False)"
      ]
    },
    {
      "cell_type": "markdown",
      "metadata": {
        "id": "WULJMjHA-mal"
      },
      "source": [
        "Ordem alfabética (por key):"
      ]
    },
    {
      "cell_type": "code",
      "metadata": {
        "id": "SH0WIKZ8-Ylr",
        "colab": {
          "base_uri": "https://localhost:8080/"
        },
        "outputId": "dd103e46-c134-4a17-b4fb-1d0170a1391f"
      },
      "source": [
        "d_frutas_ordenadas = sorted(d_frutas.items(), reverse = False)\n",
        "d_frutas_ordenadas"
      ],
      "execution_count": null,
      "outputs": [
        {
          "output_type": "execute_result",
          "data": {
            "text/plain": [
              "[('Apple', 0.63),\n",
              " ('Apricot', 0.23),\n",
              " ('Banana', 0.27),\n",
              " ('Blackberry', 0.5),\n",
              " ('Blackcurrant', 0.63),\n",
              " ('Blueberry', 0.41),\n",
              " ('Cherry', 0.45),\n",
              " ('Coconut', 0.68),\n",
              " ('Fig', 0.54),\n",
              " ('Grape', 0.59),\n",
              " ('Grapefruit', 0.9),\n",
              " ('Kiwi', 0.18),\n",
              " ('Lemon', 0.14),\n",
              " ('Mango', 0.72),\n",
              " ('Nectarine', 0.68),\n",
              " ('Orange', 0.23),\n",
              " ('Papaya', 0.27),\n",
              " ('Passion Fruit', 0.41),\n",
              " ('Peach', 0.5),\n",
              " ('Pineapple', 0.5),\n",
              " ('Plum', 0.54),\n",
              " ('Raspberry', 0.36),\n",
              " ('Strawberry', 0.45),\n",
              " ('Watermelon', 0.41)]"
            ]
          },
          "metadata": {
            "tags": []
          },
          "execution_count": 122
        }
      ]
    },
    {
      "cell_type": "markdown",
      "metadata": {
        "id": "T4Li1Q2d-pnZ"
      },
      "source": [
        "Ordem reversa (por key):"
      ]
    },
    {
      "cell_type": "code",
      "metadata": {
        "id": "PoBOmfpM_A_a",
        "colab": {
          "base_uri": "https://localhost:8080/"
        },
        "outputId": "694bedec-441d-4141-fd20-fccc701a4237"
      },
      "source": [
        "d_frutas_ordenadas_reverse = sorted(d_frutas.items(), reverse = True)\n",
        "d_frutas_ordenadas_reverse"
      ],
      "execution_count": null,
      "outputs": [
        {
          "output_type": "execute_result",
          "data": {
            "text/plain": [
              "[('Watermelon', 0.41),\n",
              " ('Strawberry', 0.45),\n",
              " ('Raspberry', 0.36),\n",
              " ('Plum', 0.54),\n",
              " ('Pineapple', 0.5),\n",
              " ('Peach', 0.5),\n",
              " ('Passion Fruit', 0.41),\n",
              " ('Papaya', 0.27),\n",
              " ('Orange', 0.23),\n",
              " ('Nectarine', 0.68),\n",
              " ('Mango', 0.72),\n",
              " ('Lemon', 0.14),\n",
              " ('Kiwi', 0.18),\n",
              " ('Grapefruit', 0.9),\n",
              " ('Grape', 0.59),\n",
              " ('Fig', 0.54),\n",
              " ('Coconut', 0.68),\n",
              " ('Cherry', 0.45),\n",
              " ('Blueberry', 0.41),\n",
              " ('Blackcurrant', 0.63),\n",
              " ('Blackberry', 0.5),\n",
              " ('Banana', 0.27),\n",
              " ('Apricot', 0.23),\n",
              " ('Apple', 0.63)]"
            ]
          },
          "metadata": {
            "tags": []
          },
          "execution_count": 123
        }
      ]
    },
    {
      "cell_type": "markdown",
      "metadata": {
        "id": "FxTC2-U88ajk"
      },
      "source": [
        "## Função filter()\n",
        "* A função filter() aplica um filtro no dicionário, retornando apenas os itens que satisfaz as condições do filtro."
      ]
    },
    {
      "cell_type": "code",
      "metadata": {
        "id": "iJq1clvOHVG2",
        "colab": {
          "base_uri": "https://localhost:8080/"
        },
        "outputId": "7f678db9-0d03-445f-e52a-304f0b1ed232"
      },
      "source": [
        "d_frutas"
      ],
      "execution_count": null,
      "outputs": [
        {
          "output_type": "execute_result",
          "data": {
            "text/plain": [
              "{'Apple': 0.63,\n",
              " 'Apricot': 0.23,\n",
              " 'Banana': 0.27,\n",
              " 'Blackberry': 0.5,\n",
              " 'Blackcurrant': 0.63,\n",
              " 'Blueberry': 0.41,\n",
              " 'Cherry': 0.45,\n",
              " 'Coconut': 0.68,\n",
              " 'Fig': 0.54,\n",
              " 'Grape': 0.59,\n",
              " 'Grapefruit': 0.9,\n",
              " 'Kiwi': 0.18,\n",
              " 'Lemon': 0.14,\n",
              " 'Mango': 0.72,\n",
              " 'Nectarine': 0.68,\n",
              " 'Orange': 0.23,\n",
              " 'Papaya': 0.27,\n",
              " 'Passion Fruit': 0.41,\n",
              " 'Peach': 0.5,\n",
              " 'Pineapple': 0.5,\n",
              " 'Plum': 0.54,\n",
              " 'Raspberry': 0.36,\n",
              " 'Strawberry': 0.45,\n",
              " 'Watermelon': 0.41}"
            ]
          },
          "metadata": {
            "tags": []
          },
          "execution_count": 132
        }
      ]
    },
    {
      "cell_type": "markdown",
      "metadata": {
        "id": "qtTKvNeJNycl"
      },
      "source": [
        "### Filtrando por key:"
      ]
    },
    {
      "cell_type": "code",
      "metadata": {
        "id": "uIDW5FhwAiSs",
        "colab": {
          "base_uri": "https://localhost:8080/"
        },
        "outputId": "8364b6fe-bc23-4fb1-cff0-340b3de583b1"
      },
      "source": [
        "# t[0] é a chave \n",
        "# para t = chave -> visualizar os itens\n",
        "# for implícito\n",
        "\n",
        "d_frutas2 = {chave: valor for chave, valor in filter(lambda t: t[0] == 'Apple', d_frutas.items())}\n",
        "d_frutas2"
      ],
      "execution_count": null,
      "outputs": [
        {
          "output_type": "execute_result",
          "data": {
            "text/plain": [
              "{'Apple': 0.63}"
            ]
          },
          "metadata": {
            "tags": []
          },
          "execution_count": 136
        }
      ]
    },
    {
      "cell_type": "markdown",
      "metadata": {
        "id": "JtbUrtyaTl-H"
      },
      "source": [
        "#### Versões mais Pythonic!"
      ]
    },
    {
      "cell_type": "code",
      "metadata": {
        "id": "l4etRMMEToau",
        "colab": {
          "base_uri": "https://localhost:8080/"
        },
        "outputId": "2d5d39b9-5665-4bee-d04e-d22f2b1284a7"
      },
      "source": [
        "# Opção 1:\n",
        "d_frutas2 = dict(filter(lambda t: t[0] == 'Apple', d_frutas.items()))\n",
        "d_frutas2"
      ],
      "execution_count": null,
      "outputs": [
        {
          "output_type": "execute_result",
          "data": {
            "text/plain": [
              "{'Apple': 0.63}"
            ]
          },
          "metadata": {
            "tags": []
          },
          "execution_count": 134
        }
      ]
    },
    {
      "cell_type": "code",
      "metadata": {
        "id": "0y0cfS61Vbgw"
      },
      "source": [
        "# Opção 2:\n",
        "d_frutas2 = {chave: valor for chave, valor in d_frutas.items() if chave == 'Apple'}"
      ],
      "execution_count": null,
      "outputs": []
    },
    {
      "cell_type": "markdown",
      "metadata": {
        "id": "3XmPlpNqBVMl"
      },
      "source": [
        "### A expressão acima é equivalente à expressão abaixo:"
      ]
    },
    {
      "cell_type": "code",
      "metadata": {
        "id": "_5j19I7tiHgp",
        "colab": {
          "base_uri": "https://localhost:8080/"
        },
        "outputId": "a8cf011f-5398-4ee7-d342-4df6f35fdce0"
      },
      "source": [
        "d_filtro = {}\n",
        "\n",
        "for chave, valor in d_frutas.items():\n",
        "    if chave == 'Apple':\n",
        "        d_filtro.update({chave: valor})\n",
        "\n",
        "d_filtro"
      ],
      "execution_count": null,
      "outputs": [
        {
          "output_type": "execute_result",
          "data": {
            "text/plain": [
              "{'Apple': 0.63}"
            ]
          },
          "metadata": {
            "tags": []
          },
          "execution_count": 138
        }
      ]
    },
    {
      "cell_type": "markdown",
      "metadata": {
        "id": "nUMGIzxeNt_U"
      },
      "source": [
        "### Filtrando por valor:\n",
        "\n",
        "Equivalente a:\n",
        "\n",
        "```\n",
        "d_frutas3 = {}\n",
        "\n",
        "for key, value in d_frutas.items():\n",
        "    if value > 0.5:\n",
        "        d_frutas3.update({key: value})\n",
        "```"
      ]
    },
    {
      "cell_type": "code",
      "metadata": {
        "id": "tvHcQatANltL",
        "colab": {
          "base_uri": "https://localhost:8080/"
        },
        "outputId": "e4d47ca1-415e-4cac-e00c-040b42a79f6d"
      },
      "source": [
        "# dicionário tem dois indices {chave, valor} = t[0], t[1]\n",
        "# filtrando valores > 0.5\n",
        "\n",
        "d_frutas3 = {k: v for k, v in filter(lambda t: t[1] > 0.5, d_frutas.items())}\n",
        "d_frutas3"
      ],
      "execution_count": null,
      "outputs": [
        {
          "output_type": "execute_result",
          "data": {
            "text/plain": [
              "{'Apple': 0.63,\n",
              " 'Blackcurrant': 0.63,\n",
              " 'Coconut': 0.68,\n",
              " 'Fig': 0.54,\n",
              " 'Grape': 0.59,\n",
              " 'Grapefruit': 0.9,\n",
              " 'Mango': 0.72,\n",
              " 'Nectarine': 0.68,\n",
              " 'Plum': 0.54}"
            ]
          },
          "metadata": {
            "tags": []
          },
          "execution_count": 139
        }
      ]
    },
    {
      "cell_type": "markdown",
      "metadata": {
        "id": "mqOFuiG1WEMG"
      },
      "source": [
        "#### Versões mais Pythonic!"
      ]
    },
    {
      "cell_type": "code",
      "metadata": {
        "id": "n0QV7jEfWEMH",
        "colab": {
          "base_uri": "https://localhost:8080/"
        },
        "outputId": "ea87561a-353e-4222-d919-dd305f86b7b5"
      },
      "source": [
        "# Opção 1:\n",
        "d_frutas3 = dict(filter(lambda t: t[1] > 0.5, d_frutas.items()))\n",
        "d_frutas3"
      ],
      "execution_count": null,
      "outputs": [
        {
          "output_type": "execute_result",
          "data": {
            "text/plain": [
              "{'Apple': 0.63,\n",
              " 'Blackcurrant': 0.63,\n",
              " 'Coconut': 0.68,\n",
              " 'Fig': 0.54,\n",
              " 'Grape': 0.59,\n",
              " 'Grapefruit': 0.9,\n",
              " 'Mango': 0.72,\n",
              " 'Nectarine': 0.68,\n",
              " 'Plum': 0.54}"
            ]
          },
          "metadata": {
            "tags": []
          },
          "execution_count": 140
        }
      ]
    },
    {
      "cell_type": "code",
      "metadata": {
        "id": "5BhyxoDvWEMK",
        "colab": {
          "base_uri": "https://localhost:8080/"
        },
        "outputId": "8088f319-4835-4d01-d536-4f9f6afd7100"
      },
      "source": [
        "# Opção 2:\n",
        "d_frutas3 = {chave: valor for chave, valor in d_frutas.items() if valor > 0.5}\n",
        "d_frutas3"
      ],
      "execution_count": null,
      "outputs": [
        {
          "output_type": "execute_result",
          "data": {
            "text/plain": [
              "{'Apple': 0.63,\n",
              " 'Blackcurrant': 0.63,\n",
              " 'Coconut': 0.68,\n",
              " 'Fig': 0.54,\n",
              " 'Grape': 0.59,\n",
              " 'Grapefruit': 0.9,\n",
              " 'Mango': 0.72,\n",
              " 'Nectarine': 0.68,\n",
              " 'Plum': 0.54}"
            ]
          },
          "metadata": {
            "tags": []
          },
          "execution_count": 142
        }
      ]
    },
    {
      "cell_type": "markdown",
      "metadata": {
        "id": "qA_XhCdmA6Gn"
      },
      "source": [
        "___\n",
        "# **EXERCÍCIOS**"
      ]
    },
    {
      "cell_type": "markdown",
      "metadata": {
        "id": "RSpyl_URgNyE"
      },
      "source": [
        "## Exercício 1\n",
        "* É possível sortear os itens de um dicionário? Explique sua resposta."
      ]
    },
    {
      "cell_type": "markdown",
      "metadata": {
        "id": "CXqc9kHch6Mm"
      },
      "source": [
        "## Exercício 2\n",
        "* É possível termos um dicionário do tipo abaixo?"
      ]
    },
    {
      "cell_type": "code",
      "metadata": {
        "id": "0BBWO9Zth_mc",
        "colab": {
          "base_uri": "https://localhost:8080/"
        },
        "outputId": "6f5f69b4-53a6-4713-9234-8a33f1457c4f"
      },
      "source": [
        "d_colaboradores = {'Gerentes': ['A', 'B', 'C'], 'Programadores': ['B', 'D', 'E', 'F', 'G'], 'Gerentes_Projeto': ['A', 'E']}\n",
        "d_colaboradores"
      ],
      "execution_count": 2,
      "outputs": [
        {
          "output_type": "execute_result",
          "data": {
            "text/plain": [
              "{'Gerentes': ['A', 'B', 'C'],\n",
              " 'Gerentes_Projeto': ['A', 'E'],\n",
              " 'Programadores': ['B', 'D', 'E', 'F', 'G']}"
            ]
          },
          "metadata": {
            "tags": []
          },
          "execution_count": 2
        }
      ]
    },
    {
      "cell_type": "markdown",
      "metadata": {
        "id": "TNiJSG_uiePb"
      },
      "source": [
        "Como acessar o Gerente 'A'?"
      ]
    },
    {
      "cell_type": "code",
      "metadata": {
        "id": "rGvVgyz7jxwn",
        "colab": {
          "base_uri": "https://localhost:8080/"
        },
        "outputId": "0bd22950-3205-4696-f4ca-a550b7c629a0"
      },
      "source": [
        "d_colaboradores['Gerentes']"
      ],
      "execution_count": 3,
      "outputs": [
        {
          "output_type": "execute_result",
          "data": {
            "text/plain": [
              "['A', 'B', 'C']"
            ]
          },
          "metadata": {
            "tags": []
          },
          "execution_count": 3
        }
      ]
    },
    {
      "cell_type": "code",
      "metadata": {
        "id": "c-VwXvdij3QQ",
        "colab": {
          "base_uri": "https://localhost:8080/"
        },
        "outputId": "63c76366-c1ee-4dd6-bf5f-483708e08185"
      },
      "source": [
        "d_colaboradores['Programadores']"
      ],
      "execution_count": 4,
      "outputs": [
        {
          "output_type": "execute_result",
          "data": {
            "text/plain": [
              "['B', 'D', 'E', 'F', 'G']"
            ]
          },
          "metadata": {
            "tags": []
          },
          "execution_count": 4
        }
      ]
    },
    {
      "cell_type": "code",
      "metadata": {
        "id": "WV0WaGB4kCiP",
        "colab": {
          "base_uri": "https://localhost:8080/",
          "height": 35
        },
        "outputId": "e0e7fdda-b606-4f81-da06-d83deb2d5c92"
      },
      "source": [
        "s_gerentes = d_colaboradores['Gerentes']\n",
        "s_gerentes[0]"
      ],
      "execution_count": 5,
      "outputs": [
        {
          "output_type": "execute_result",
          "data": {
            "application/vnd.google.colaboratory.intrinsic+json": {
              "type": "string"
            },
            "text/plain": [
              "'A'"
            ]
          },
          "metadata": {
            "tags": []
          },
          "execution_count": 5
        }
      ]
    },
    {
      "cell_type": "code",
      "metadata": {
        "colab": {
          "base_uri": "https://localhost:8080/",
          "height": 35
        },
        "id": "dzGo5PxOHO7U",
        "outputId": "c5335f00-e8a0-449b-9010-7b9ce2df4ef4"
      },
      "source": [
        "gerente_A = s_gerentes = d_colaboradores['Gerentes'][0]\r\n",
        "gerente_A"
      ],
      "execution_count": null,
      "outputs": [
        {
          "output_type": "execute_result",
          "data": {
            "application/vnd.google.colaboratory.intrinsic+json": {
              "type": "string"
            },
            "text/plain": [
              "'A'"
            ]
          },
          "metadata": {
            "tags": []
          },
          "execution_count": 154
        }
      ]
    },
    {
      "cell_type": "code",
      "metadata": {
        "id": "yRrG7wUgkf6K",
        "colab": {
          "base_uri": "https://localhost:8080/"
        },
        "outputId": "dd9760e1-6824-460b-f83f-47ab5c48056e"
      },
      "source": [
        "s_gerente_A = d_colaboradores.values()\n",
        "s_gerente_A"
      ],
      "execution_count": null,
      "outputs": [
        {
          "output_type": "execute_result",
          "data": {
            "text/plain": [
              "dict_values([['A', 'B', 'C'], ['B', 'D', 'E', 'F', 'G'], ['A', 'E']])"
            ]
          },
          "metadata": {
            "tags": []
          },
          "execution_count": 151
        }
      ]
    },
    {
      "cell_type": "code",
      "metadata": {
        "colab": {
          "base_uri": "https://localhost:8080/"
        },
        "id": "gfmXWG-66EpX",
        "outputId": "3671fad5-1b97-4bd3-b12a-bf56fc1bda62"
      },
      "source": [
        "def list_of_dicts(marks):\r\n",
        "    keys = marks.keys()\r\n",
        "    vals = zip(*[marks[k] for k in keys])\r\n",
        "    result = [dict(zip(keys, v)) for v in vals]\r\n",
        "    return result\r\n",
        "\r\n",
        "d_colaboradores = {'Gerentes': ['A', 'B', 'C'], 'Programadores': ['B', 'D', 'E', 'F', 'G'], 'Gerentes_Projeto': ['A', 'E']}\r\n",
        "d_colaboradores\r\n",
        "\r\n",
        "print(list_of_dicts(d_colaboradores))\r\n",
        "print(type(list_of_dicts(d_colaboradores)))\r\n",
        "\r\n",
        "lista = list_of_dicts(d_colaboradores)\r\n",
        "for indice in range(len(lista)):\r\n",
        "    print(lista[indice])\r\n",
        "    print(type(lista[indice]))\r\n",
        "    print(lista[indice].items())\r\n",
        "    print(lista[indice].keys())\r\n",
        "    print(lista[indice].values())\r\n",
        "    print(type(lista[indice].values()))\r\n",
        "    if 'E' in lista[indice].values():\r\n",
        "      print('Sim')\r\n",
        "  \r\n"
      ],
      "execution_count": 27,
      "outputs": [
        {
          "output_type": "stream",
          "text": [
            "[{'Gerentes': 'A', 'Programadores': 'B', 'Gerentes_Projeto': 'A'}, {'Gerentes': 'B', 'Programadores': 'D', 'Gerentes_Projeto': 'E'}]\n",
            "<class 'list'>\n",
            "{'Gerentes': 'A', 'Programadores': 'B', 'Gerentes_Projeto': 'A'}\n",
            "<class 'dict'>\n",
            "dict_items([('Gerentes', 'A'), ('Programadores', 'B'), ('Gerentes_Projeto', 'A')])\n",
            "dict_keys(['Gerentes', 'Programadores', 'Gerentes_Projeto'])\n",
            "dict_values(['A', 'B', 'A'])\n",
            "<class 'dict_values'>\n",
            "{'Gerentes': 'B', 'Programadores': 'D', 'Gerentes_Projeto': 'E'}\n",
            "<class 'dict'>\n",
            "dict_items([('Gerentes', 'B'), ('Programadores', 'D'), ('Gerentes_Projeto', 'E')])\n",
            "dict_keys(['Gerentes', 'Programadores', 'Gerentes_Projeto'])\n",
            "dict_values(['B', 'D', 'E'])\n",
            "<class 'dict_values'>\n",
            "Sim\n"
          ],
          "name": "stdout"
        }
      ]
    },
    {
      "cell_type": "code",
      "metadata": {
        "colab": {
          "base_uri": "https://localhost:8080/"
        },
        "id": "Ttkk778HByXy",
        "outputId": "ca80816c-bd9a-44ec-d449-9d105d5a61ef"
      },
      "source": [
        "d_colaboradores = {'Gerentes': ['A', 'B', 'C'], 'Programadores': ['B', 'D', 'E', 'F', 'G'], 'Gerentes_Projeto': ['A', 'E']}\r\n",
        "\r\n",
        "def filter_data(colaboradores):\r\n",
        "    result = {k: s for k, s in colaboradores.items() if s[0] == 'A'}\r\n",
        "    return result  \r\n",
        "\r\n",
        "print(\"Original Dictionary:\")\r\n",
        "print(d_colaboradores)\r\n",
        "print(\"Dicionário Filtrado:\")\r\n",
        "gerentes_A = filter_data(d_colaboradores)\r\n",
        "\r\n",
        "print(gerentes_A)\r\n",
        "print(type(gerentes_A))\r\n",
        "\r\n",
        "# for key, value in gerentes_A.items():\r\n",
        "#    print(\"%s --> %s\" %(key, value))\r\n",
        "    \r\n",
        "lista = list(gerentes_A.values())\r\n",
        "print((lista))\r\n",
        "\r\n",
        "for lis in lista:\r\n",
        "    for c in lis:\r\n",
        "        if c == 'E':\r\n",
        "            print(c, lis)    \r\n",
        "\r\n",
        "      \r\n"
      ],
      "execution_count": 83,
      "outputs": [
        {
          "output_type": "stream",
          "text": [
            "Original Dictionary:\n",
            "{'Gerentes': ['A', 'B', 'C'], 'Programadores': ['B', 'D', 'E', 'F', 'G'], 'Gerentes_Projeto': ['A', 'E']}\n",
            "Dicionário Filtrado:\n",
            "{'Gerentes': ['A', 'B', 'C'], 'Gerentes_Projeto': ['A', 'E']}\n",
            "<class 'dict'>\n",
            "[['A', 'B', 'C'], ['A', 'E']]\n",
            "E ['A', 'E']\n"
          ],
          "name": "stdout"
        }
      ]
    },
    {
      "cell_type": "markdown",
      "metadata": {
        "id": "ntVcr_3XwaQ-"
      },
      "source": [
        "## Exercício 3\n",
        "Consulte a página [Python Data Types: Dictionary - Exercises, Practice, Solution](https://www.w3resource.com/python-exercises/dictionary/) para mais exercícios relacionados à dicionários."
      ]
    },
    {
      "cell_type": "code",
      "metadata": {
        "id": "PzL9vU0uHOXS"
      },
      "source": [
        ""
      ],
      "execution_count": null,
      "outputs": []
    },
    {
      "cell_type": "markdown",
      "metadata": {
        "id": "7u5-o8dzlryA"
      },
      "source": [
        "## **Exercício 4**\n",
        "\n",
        "Retornar do dicionário d_colaboradores somente o Programador cujo nome seja 'E'. "
      ]
    },
    {
      "cell_type": "markdown",
      "metadata": {
        "id": "zfnP-CArmPb4"
      },
      "source": [
        "## **Exercício 5**\n",
        "\n",
        "Retornar qual é o cargo do funcionário (todas as pessoas da organização) que se chama 'A'."
      ]
    },
    {
      "cell_type": "markdown",
      "metadata": {
        "id": "VzjLVeFvmnjk"
      },
      "source": [
        "## **Exercício 6**\n",
        "\n",
        "* Quais são os colabores que são ao mesmo tempo:\n",
        "    * Gerente de Projeto e Gerente (funcional)?\n",
        "    * Gerentes de Projeto e Programadores?"
      ]
    },
    {
      "cell_type": "code",
      "metadata": {
        "id": "wnCi3kWcl8Sb"
      },
      "source": [
        ""
      ],
      "execution_count": null,
      "outputs": []
    }
  ]
}