{
  "nbformat": 4,
  "nbformat_minor": 0,
  "metadata": {
    "colab": {
      "name": "PYCARET Clustering EXEMPLO.ipynb",
      "provenance": [],
      "authorship_tag": "ABX9TyNBp0pM6GM/6znAN5tI0QS+",
      "include_colab_link": true
    },
    "kernelspec": {
      "name": "python3",
      "display_name": "Python 3"
    },
    "widgets": {
      "application/vnd.jupyter.widget-state+json": {
        "928c5f944a1c42c7a3205227259c97a6": {
          "model_module": "@jupyter-widgets/controls",
          "model_name": "IntProgressModel",
          "state": {
            "_view_name": "ProgressView",
            "style": "IPY_MODEL_e9ea482c294547f69b9c9a99b70ae80b",
            "_dom_classes": [],
            "description": "Processing: ",
            "_model_name": "IntProgressModel",
            "bar_style": "",
            "max": 3,
            "_view_module": "@jupyter-widgets/controls",
            "_model_module_version": "1.5.0",
            "value": 3,
            "_view_count": null,
            "_view_module_version": "1.5.0",
            "orientation": "horizontal",
            "min": 0,
            "description_tooltip": null,
            "_model_module": "@jupyter-widgets/controls",
            "layout": "IPY_MODEL_5f3ffeb2d4b14eafb1f5600e1d8b856a"
          }
        },
        "e9ea482c294547f69b9c9a99b70ae80b": {
          "model_module": "@jupyter-widgets/controls",
          "model_name": "ProgressStyleModel",
          "state": {
            "_view_name": "StyleView",
            "_model_name": "ProgressStyleModel",
            "description_width": "",
            "_view_module": "@jupyter-widgets/base",
            "_model_module_version": "1.5.0",
            "_view_count": null,
            "_view_module_version": "1.2.0",
            "bar_color": null,
            "_model_module": "@jupyter-widgets/controls"
          }
        },
        "5f3ffeb2d4b14eafb1f5600e1d8b856a": {
          "model_module": "@jupyter-widgets/base",
          "model_name": "LayoutModel",
          "state": {
            "_view_name": "LayoutView",
            "grid_template_rows": null,
            "right": null,
            "justify_content": null,
            "_view_module": "@jupyter-widgets/base",
            "overflow": null,
            "_model_module_version": "1.2.0",
            "_view_count": null,
            "flex_flow": null,
            "width": null,
            "min_width": null,
            "border": null,
            "align_items": null,
            "bottom": null,
            "_model_module": "@jupyter-widgets/base",
            "top": null,
            "grid_column": null,
            "overflow_y": null,
            "overflow_x": null,
            "grid_auto_flow": null,
            "grid_area": null,
            "grid_template_columns": null,
            "flex": null,
            "_model_name": "LayoutModel",
            "justify_items": null,
            "grid_row": null,
            "max_height": null,
            "align_content": null,
            "visibility": null,
            "align_self": null,
            "height": null,
            "min_height": null,
            "padding": null,
            "grid_auto_rows": null,
            "grid_gap": null,
            "max_width": null,
            "order": null,
            "_view_module_version": "1.2.0",
            "grid_template_areas": null,
            "object_position": null,
            "object_fit": null,
            "grid_auto_columns": null,
            "margin": null,
            "display": null,
            "left": null
          }
        },
        "ecf9266a5a2b41228e01e35c0155e354": {
          "model_module": "@jupyter-widgets/controls",
          "model_name": "TextModel",
          "state": {
            "_view_name": "TextView",
            "style": "IPY_MODEL_5e3f86dbd484465d96d7ae250cc78bd7",
            "_dom_classes": [],
            "description": "",
            "_model_name": "TextModel",
            "placeholder": "​",
            "_view_module": "@jupyter-widgets/controls",
            "_model_module_version": "1.5.0",
            "value": "Following data types have been inferred automatically, if they are correct press enter to continue or type 'quit' otherwise.",
            "_view_count": null,
            "disabled": false,
            "_view_module_version": "1.5.0",
            "continuous_update": true,
            "description_tooltip": null,
            "_model_module": "@jupyter-widgets/controls",
            "layout": "IPY_MODEL_315e971820a045b19173ba1a544dd865"
          }
        },
        "5e3f86dbd484465d96d7ae250cc78bd7": {
          "model_module": "@jupyter-widgets/controls",
          "model_name": "DescriptionStyleModel",
          "state": {
            "_view_name": "StyleView",
            "_model_name": "DescriptionStyleModel",
            "description_width": "",
            "_view_module": "@jupyter-widgets/base",
            "_model_module_version": "1.5.0",
            "_view_count": null,
            "_view_module_version": "1.2.0",
            "_model_module": "@jupyter-widgets/controls"
          }
        },
        "315e971820a045b19173ba1a544dd865": {
          "model_module": "@jupyter-widgets/base",
          "model_name": "LayoutModel",
          "state": {
            "_view_name": "LayoutView",
            "grid_template_rows": null,
            "right": null,
            "justify_content": null,
            "_view_module": "@jupyter-widgets/base",
            "overflow": null,
            "_model_module_version": "1.2.0",
            "_view_count": null,
            "flex_flow": null,
            "width": "100%",
            "min_width": null,
            "border": null,
            "align_items": null,
            "bottom": null,
            "_model_module": "@jupyter-widgets/base",
            "top": null,
            "grid_column": null,
            "overflow_y": null,
            "overflow_x": null,
            "grid_auto_flow": null,
            "grid_area": null,
            "grid_template_columns": null,
            "flex": null,
            "_model_name": "LayoutModel",
            "justify_items": null,
            "grid_row": null,
            "max_height": null,
            "align_content": null,
            "visibility": null,
            "align_self": null,
            "height": null,
            "min_height": null,
            "padding": null,
            "grid_auto_rows": null,
            "grid_gap": null,
            "max_width": null,
            "order": null,
            "_view_module_version": "1.2.0",
            "grid_template_areas": null,
            "object_position": null,
            "object_fit": null,
            "grid_auto_columns": null,
            "margin": null,
            "display": null,
            "left": null
          }
        },
        "76a75758c7374ca3af552d7e0b6c6b46": {
          "model_module": "@jupyter-widgets/controls",
          "model_name": "IntProgressModel",
          "state": {
            "_view_name": "ProgressView",
            "style": "IPY_MODEL_d1f0e2ae64f24daeab80d4d11a8b9ddb",
            "_dom_classes": [],
            "description": "Processing: ",
            "_model_name": "IntProgressModel",
            "bar_style": "",
            "max": 3,
            "_view_module": "@jupyter-widgets/controls",
            "_model_module_version": "1.5.0",
            "value": 3,
            "_view_count": null,
            "_view_module_version": "1.5.0",
            "orientation": "horizontal",
            "min": 0,
            "description_tooltip": null,
            "_model_module": "@jupyter-widgets/controls",
            "layout": "IPY_MODEL_cdf6226cabba41eba27a9ca6bdd8a81e"
          }
        },
        "d1f0e2ae64f24daeab80d4d11a8b9ddb": {
          "model_module": "@jupyter-widgets/controls",
          "model_name": "ProgressStyleModel",
          "state": {
            "_view_name": "StyleView",
            "_model_name": "ProgressStyleModel",
            "description_width": "",
            "_view_module": "@jupyter-widgets/base",
            "_model_module_version": "1.5.0",
            "_view_count": null,
            "_view_module_version": "1.2.0",
            "bar_color": null,
            "_model_module": "@jupyter-widgets/controls"
          }
        },
        "cdf6226cabba41eba27a9ca6bdd8a81e": {
          "model_module": "@jupyter-widgets/base",
          "model_name": "LayoutModel",
          "state": {
            "_view_name": "LayoutView",
            "grid_template_rows": null,
            "right": null,
            "justify_content": null,
            "_view_module": "@jupyter-widgets/base",
            "overflow": null,
            "_model_module_version": "1.2.0",
            "_view_count": null,
            "flex_flow": null,
            "width": null,
            "min_width": null,
            "border": null,
            "align_items": null,
            "bottom": null,
            "_model_module": "@jupyter-widgets/base",
            "top": null,
            "grid_column": null,
            "overflow_y": null,
            "overflow_x": null,
            "grid_auto_flow": null,
            "grid_area": null,
            "grid_template_columns": null,
            "flex": null,
            "_model_name": "LayoutModel",
            "justify_items": null,
            "grid_row": null,
            "max_height": null,
            "align_content": null,
            "visibility": null,
            "align_self": null,
            "height": null,
            "min_height": null,
            "padding": null,
            "grid_auto_rows": null,
            "grid_gap": null,
            "max_width": null,
            "order": null,
            "_view_module_version": "1.2.0",
            "grid_template_areas": null,
            "object_position": null,
            "object_fit": null,
            "grid_auto_columns": null,
            "margin": null,
            "display": null,
            "left": null
          }
        },
        "028cf9aa064f4f23baa83f3074ce93af": {
          "model_module": "@jupyter-widgets/controls",
          "model_name": "IntProgressModel",
          "state": {
            "_view_name": "ProgressView",
            "style": "IPY_MODEL_1a668586184d4971a7586ad76e39679e",
            "_dom_classes": [],
            "description": "Processing: ",
            "_model_name": "IntProgressModel",
            "bar_style": "",
            "max": 3,
            "_view_module": "@jupyter-widgets/controls",
            "_model_module_version": "1.5.0",
            "value": 3,
            "_view_count": null,
            "_view_module_version": "1.5.0",
            "orientation": "horizontal",
            "min": 0,
            "description_tooltip": null,
            "_model_module": "@jupyter-widgets/controls",
            "layout": "IPY_MODEL_8900b86de5b74061855ce41320dd3159"
          }
        },
        "1a668586184d4971a7586ad76e39679e": {
          "model_module": "@jupyter-widgets/controls",
          "model_name": "ProgressStyleModel",
          "state": {
            "_view_name": "StyleView",
            "_model_name": "ProgressStyleModel",
            "description_width": "",
            "_view_module": "@jupyter-widgets/base",
            "_model_module_version": "1.5.0",
            "_view_count": null,
            "_view_module_version": "1.2.0",
            "bar_color": null,
            "_model_module": "@jupyter-widgets/controls"
          }
        },
        "8900b86de5b74061855ce41320dd3159": {
          "model_module": "@jupyter-widgets/base",
          "model_name": "LayoutModel",
          "state": {
            "_view_name": "LayoutView",
            "grid_template_rows": null,
            "right": null,
            "justify_content": null,
            "_view_module": "@jupyter-widgets/base",
            "overflow": null,
            "_model_module_version": "1.2.0",
            "_view_count": null,
            "flex_flow": null,
            "width": null,
            "min_width": null,
            "border": null,
            "align_items": null,
            "bottom": null,
            "_model_module": "@jupyter-widgets/base",
            "top": null,
            "grid_column": null,
            "overflow_y": null,
            "overflow_x": null,
            "grid_auto_flow": null,
            "grid_area": null,
            "grid_template_columns": null,
            "flex": null,
            "_model_name": "LayoutModel",
            "justify_items": null,
            "grid_row": null,
            "max_height": null,
            "align_content": null,
            "visibility": null,
            "align_self": null,
            "height": null,
            "min_height": null,
            "padding": null,
            "grid_auto_rows": null,
            "grid_gap": null,
            "max_width": null,
            "order": null,
            "_view_module_version": "1.2.0",
            "grid_template_areas": null,
            "object_position": null,
            "object_fit": null,
            "grid_auto_columns": null,
            "margin": null,
            "display": null,
            "left": null
          }
        },
        "598319e5fe5248c684611e92a42a2e56": {
          "model_module": "@jupyter-widgets/controls",
          "model_name": "IntProgressModel",
          "state": {
            "_view_name": "ProgressView",
            "style": "IPY_MODEL_1b51cc430ff94791bd4e54c024db4d64",
            "_dom_classes": [],
            "description": "Processing: ",
            "_model_name": "IntProgressModel",
            "bar_style": "",
            "max": 5,
            "_view_module": "@jupyter-widgets/controls",
            "_model_module_version": "1.5.0",
            "value": 3,
            "_view_count": null,
            "_view_module_version": "1.5.0",
            "orientation": "horizontal",
            "min": 0,
            "description_tooltip": null,
            "_model_module": "@jupyter-widgets/controls",
            "layout": "IPY_MODEL_878d1b061c6447ff8724510a59a1f1c9"
          }
        },
        "1b51cc430ff94791bd4e54c024db4d64": {
          "model_module": "@jupyter-widgets/controls",
          "model_name": "ProgressStyleModel",
          "state": {
            "_view_name": "StyleView",
            "_model_name": "ProgressStyleModel",
            "description_width": "",
            "_view_module": "@jupyter-widgets/base",
            "_model_module_version": "1.5.0",
            "_view_count": null,
            "_view_module_version": "1.2.0",
            "bar_color": null,
            "_model_module": "@jupyter-widgets/controls"
          }
        },
        "878d1b061c6447ff8724510a59a1f1c9": {
          "model_module": "@jupyter-widgets/base",
          "model_name": "LayoutModel",
          "state": {
            "_view_name": "LayoutView",
            "grid_template_rows": null,
            "right": null,
            "justify_content": null,
            "_view_module": "@jupyter-widgets/base",
            "overflow": null,
            "_model_module_version": "1.2.0",
            "_view_count": null,
            "flex_flow": null,
            "width": null,
            "min_width": null,
            "border": null,
            "align_items": null,
            "bottom": null,
            "_model_module": "@jupyter-widgets/base",
            "top": null,
            "grid_column": null,
            "overflow_y": null,
            "overflow_x": null,
            "grid_auto_flow": null,
            "grid_area": null,
            "grid_template_columns": null,
            "flex": null,
            "_model_name": "LayoutModel",
            "justify_items": null,
            "grid_row": null,
            "max_height": null,
            "align_content": null,
            "visibility": null,
            "align_self": null,
            "height": null,
            "min_height": null,
            "padding": null,
            "grid_auto_rows": null,
            "grid_gap": null,
            "max_width": null,
            "order": null,
            "_view_module_version": "1.2.0",
            "grid_template_areas": null,
            "object_position": null,
            "object_fit": null,
            "grid_auto_columns": null,
            "margin": null,
            "display": null,
            "left": null
          }
        },
        "93e344caf6994e6f919a2ec8112820dd": {
          "model_module": "@jupyter-widgets/controls",
          "model_name": "IntProgressModel",
          "state": {
            "_view_name": "ProgressView",
            "style": "IPY_MODEL_5f7a7c45531a42f7a18cd4eef637de2b",
            "_dom_classes": [],
            "description": "Processing: ",
            "_model_name": "IntProgressModel",
            "bar_style": "",
            "max": 5,
            "_view_module": "@jupyter-widgets/controls",
            "_model_module_version": "1.5.0",
            "value": 5,
            "_view_count": null,
            "_view_module_version": "1.5.0",
            "orientation": "horizontal",
            "min": 0,
            "description_tooltip": null,
            "_model_module": "@jupyter-widgets/controls",
            "layout": "IPY_MODEL_9c4df7dca3264d70b79388c4eead229c"
          }
        },
        "5f7a7c45531a42f7a18cd4eef637de2b": {
          "model_module": "@jupyter-widgets/controls",
          "model_name": "ProgressStyleModel",
          "state": {
            "_view_name": "StyleView",
            "_model_name": "ProgressStyleModel",
            "description_width": "",
            "_view_module": "@jupyter-widgets/base",
            "_model_module_version": "1.5.0",
            "_view_count": null,
            "_view_module_version": "1.2.0",
            "bar_color": null,
            "_model_module": "@jupyter-widgets/controls"
          }
        },
        "9c4df7dca3264d70b79388c4eead229c": {
          "model_module": "@jupyter-widgets/base",
          "model_name": "LayoutModel",
          "state": {
            "_view_name": "LayoutView",
            "grid_template_rows": null,
            "right": null,
            "justify_content": null,
            "_view_module": "@jupyter-widgets/base",
            "overflow": null,
            "_model_module_version": "1.2.0",
            "_view_count": null,
            "flex_flow": null,
            "width": null,
            "min_width": null,
            "border": null,
            "align_items": null,
            "bottom": null,
            "_model_module": "@jupyter-widgets/base",
            "top": null,
            "grid_column": null,
            "overflow_y": null,
            "overflow_x": null,
            "grid_auto_flow": null,
            "grid_area": null,
            "grid_template_columns": null,
            "flex": null,
            "_model_name": "LayoutModel",
            "justify_items": null,
            "grid_row": null,
            "max_height": null,
            "align_content": null,
            "visibility": null,
            "align_self": null,
            "height": null,
            "min_height": null,
            "padding": null,
            "grid_auto_rows": null,
            "grid_gap": null,
            "max_width": null,
            "order": null,
            "_view_module_version": "1.2.0",
            "grid_template_areas": null,
            "object_position": null,
            "object_fit": null,
            "grid_auto_columns": null,
            "margin": null,
            "display": null,
            "left": null
          }
        }
      }
    }
  },
  "cells": [
    {
      "cell_type": "markdown",
      "metadata": {
        "id": "view-in-github",
        "colab_type": "text"
      },
      "source": [
        "<a href=\"https://colab.research.google.com/github/pimentad2020/DSWP/blob/master/PYCARET_Clustering_EXEMPLO.ipynb\" target=\"_parent\"><img src=\"https://colab.research.google.com/assets/colab-badge.svg\" alt=\"Open In Colab\"/></a>"
      ]
    },
    {
      "cell_type": "code",
      "metadata": {
        "id": "fPjFBCRpgYmJ"
      },
      "source": [
        "# https://www.youtube.com/watch?v=2oxLDir7foQ\r\n"
      ],
      "execution_count": null,
      "outputs": []
    },
    {
      "cell_type": "code",
      "metadata": {
        "colab": {
          "base_uri": "https://localhost:8080/",
          "height": 1000
        },
        "id": "q3VJ1VRWdOOr",
        "outputId": "09e53b3d-d04d-4a16-ceac-8a65e6a4d591"
      },
      "source": [
        "!pip install pycaret"
      ],
      "execution_count": 2,
      "outputs": [
        {
          "output_type": "stream",
          "text": [
            "Collecting pycaret\n",
            "\u001b[?25l  Downloading https://files.pythonhosted.org/packages/a2/7b/70e41d8aa900ed47e0e2ac6a8f5cbaf9e359efdf8ae10bf89502c14ce3ed/pycaret-2.2.3-py3-none-any.whl (249kB)\n",
            "\u001b[K     |████████████████████████████████| 256kB 6.5MB/s \n",
            "\u001b[?25hCollecting mlflow\n",
            "\u001b[?25l  Downloading https://files.pythonhosted.org/packages/4c/4d/a6a4460e214842377dbc43d3e83bf976d564f7976822a9351adde60af44b/mlflow-1.13.1-py3-none-any.whl (14.1MB)\n",
            "\u001b[K     |████████████████████████████████| 14.2MB 300kB/s \n",
            "\u001b[?25hRequirement already satisfied: textblob in /usr/local/lib/python3.6/dist-packages (from pycaret) (0.15.3)\n",
            "Requirement already satisfied: gensim in /usr/local/lib/python3.6/dist-packages (from pycaret) (3.6.0)\n",
            "Collecting pandas-profiling>=2.8.0\n",
            "\u001b[?25l  Downloading https://files.pythonhosted.org/packages/3d/8e/645ad7f304dd8d6d7181d22d4bd3d6356331c80c2944a25be3ebe617ec38/pandas_profiling-2.10.0-py2.py3-none-any.whl (239kB)\n",
            "\u001b[K     |████████████████████████████████| 245kB 38.3MB/s \n",
            "\u001b[?25hRequirement already satisfied: nltk in /usr/local/lib/python3.6/dist-packages (from pycaret) (3.2.5)\n",
            "Collecting catboost>=0.23.2\n",
            "\u001b[?25l  Downloading https://files.pythonhosted.org/packages/20/37/bc4e0ddc30c07a96482abf1de7ed1ca54e59bba2026a33bca6d2ef286e5b/catboost-0.24.4-cp36-none-manylinux1_x86_64.whl (65.7MB)\n",
            "\u001b[K     |████████████████████████████████| 65.8MB 58kB/s \n",
            "\u001b[?25hCollecting imbalanced-learn>=0.7.0\n",
            "\u001b[?25l  Downloading https://files.pythonhosted.org/packages/c8/81/8db4d87b03b998fda7c6f835d807c9ae4e3b141f978597b8d7f31600be15/imbalanced_learn-0.7.0-py3-none-any.whl (167kB)\n",
            "\u001b[K     |████████████████████████████████| 174kB 41.4MB/s \n",
            "\u001b[?25hRequirement already satisfied: cufflinks>=0.17.0 in /usr/local/lib/python3.6/dist-packages (from pycaret) (0.17.3)\n",
            "Requirement already satisfied: plotly>=4.4.1 in /usr/local/lib/python3.6/dist-packages (from pycaret) (4.4.1)\n",
            "Requirement already satisfied: joblib in /usr/local/lib/python3.6/dist-packages (from pycaret) (1.0.0)\n",
            "Requirement already satisfied: umap-learn in /usr/local/lib/python3.6/dist-packages (from pycaret) (0.5.0)\n",
            "Requirement already satisfied: mlxtend in /usr/local/lib/python3.6/dist-packages (from pycaret) (0.14.0)\n",
            "Requirement already satisfied: wordcloud in /usr/local/lib/python3.6/dist-packages (from pycaret) (1.5.0)\n",
            "Collecting scikit-plot\n",
            "  Downloading https://files.pythonhosted.org/packages/7c/47/32520e259340c140a4ad27c1b97050dd3254fdc517b1d59974d47037510e/scikit_plot-0.3.7-py3-none-any.whl\n",
            "Requirement already satisfied: IPython in /usr/local/lib/python3.6/dist-packages (from pycaret) (5.5.0)\n",
            "Collecting kmodes>=0.10.1\n",
            "  Downloading https://files.pythonhosted.org/packages/b2/55/d8ec1ae1f7e1e202a8a4184c6852a3ee993b202b0459672c699d0ac18fc8/kmodes-0.10.2-py2.py3-none-any.whl\n",
            "Requirement already satisfied: matplotlib in /usr/local/lib/python3.6/dist-packages (from pycaret) (3.2.2)\n",
            "Requirement already satisfied: ipywidgets in /usr/local/lib/python3.6/dist-packages (from pycaret) (7.6.3)\n",
            "Collecting xgboost>=1.1.0\n",
            "\u001b[?25l  Downloading https://files.pythonhosted.org/packages/2e/57/bf5026701c384decd2b995eb39d86587a103ba4eb26f8a9b1811db0896d3/xgboost-1.3.3-py3-none-manylinux2010_x86_64.whl (157.5MB)\n",
            "\u001b[K     |████████████████████████████████| 157.5MB 68kB/s \n",
            "\u001b[?25hCollecting lightgbm>=2.3.1\n",
            "\u001b[?25l  Downloading https://files.pythonhosted.org/packages/70/cd/2b7783e8c250f8191b72e9a0010e0429a799d3305c27764d7bf113dfd078/lightgbm-3.1.1-py2.py3-none-manylinux1_x86_64.whl (1.8MB)\n",
            "\u001b[K     |████████████████████████████████| 1.8MB 32.2MB/s \n",
            "\u001b[?25hRequirement already satisfied: numpy>=1.17 in /usr/local/lib/python3.6/dist-packages (from pycaret) (1.19.5)\n",
            "Collecting pyod\n",
            "\u001b[?25l  Downloading https://files.pythonhosted.org/packages/ac/26/ae4f4143643d2d87fe4bbc356064dd95eed95227b879ba3ee6c4e4ee81ca/pyod-0.8.6.tar.gz (98kB)\n",
            "\u001b[K     |████████████████████████████████| 102kB 7.9MB/s \n",
            "\u001b[?25hCollecting pyLDAvis\n",
            "\u001b[?25l  Downloading https://files.pythonhosted.org/packages/a5/3a/af82e070a8a96e13217c8f362f9a73e82d61ac8fff3a2561946a97f96266/pyLDAvis-2.1.2.tar.gz (1.6MB)\n",
            "\u001b[K     |████████████████████████████████| 1.6MB 35.3MB/s \n",
            "\u001b[?25hCollecting scikit-learn==0.23.2\n",
            "\u001b[?25l  Downloading https://files.pythonhosted.org/packages/5c/a1/273def87037a7fb010512bbc5901c31cfddfca8080bc63b42b26e3cc55b3/scikit_learn-0.23.2-cp36-cp36m-manylinux1_x86_64.whl (6.8MB)\n",
            "\u001b[K     |████████████████████████████████| 6.8MB 27.3MB/s \n",
            "\u001b[?25hRequirement already satisfied: seaborn in /usr/local/lib/python3.6/dist-packages (from pycaret) (0.11.1)\n",
            "Requirement already satisfied: pandas in /usr/local/lib/python3.6/dist-packages (from pycaret) (1.1.5)\n",
            "Requirement already satisfied: spacy in /usr/local/lib/python3.6/dist-packages (from pycaret) (2.2.4)\n",
            "Collecting yellowbrick>=1.0.1\n",
            "\u001b[?25l  Downloading https://files.pythonhosted.org/packages/b1/bb/57fd86c319a43666fe447bb1bc5af66fb0eb89dc4efc305a7544d50f52d6/yellowbrick-1.2.1-py3-none-any.whl (269kB)\n",
            "\u001b[K     |████████████████████████████████| 276kB 31.4MB/s \n",
            "\u001b[?25hRequirement already satisfied: python-dateutil in /usr/local/lib/python3.6/dist-packages (from mlflow->pycaret) (2.8.1)\n",
            "Collecting alembic<=1.4.1\n",
            "\u001b[?25l  Downloading https://files.pythonhosted.org/packages/e0/e9/359dbb77c35c419df0aedeb1d53e71e7e3f438ff64a8fdb048c907404de3/alembic-1.4.1.tar.gz (1.1MB)\n",
            "\u001b[K     |████████████████████████████████| 1.1MB 32.3MB/s \n",
            "\u001b[?25hRequirement already satisfied: six>=1.10.0 in /usr/local/lib/python3.6/dist-packages (from mlflow->pycaret) (1.15.0)\n",
            "Collecting prometheus-flask-exporter\n",
            "  Downloading https://files.pythonhosted.org/packages/4c/d5/8a046d683c2cc084b6a502812827ede69b1064f95d93f94b83f809b21723/prometheus_flask_exporter-0.18.1.tar.gz\n",
            "Collecting azure-storage-blob>=12.0.0\n",
            "\u001b[?25l  Downloading https://files.pythonhosted.org/packages/8e/00/6772472a99cd0a5e74e4e90f87947fa041b37981a3ff93d883cbc450518d/azure_storage_blob-12.7.1-py2.py3-none-any.whl (339kB)\n",
            "\u001b[K     |████████████████████████████████| 348kB 35.2MB/s \n",
            "\u001b[?25hRequirement already satisfied: entrypoints in /usr/local/lib/python3.6/dist-packages (from mlflow->pycaret) (0.3)\n",
            "Requirement already satisfied: cloudpickle in /usr/local/lib/python3.6/dist-packages (from mlflow->pycaret) (1.3.0)\n",
            "Requirement already satisfied: requests>=2.17.3 in /usr/local/lib/python3.6/dist-packages (from mlflow->pycaret) (2.23.0)\n",
            "Requirement already satisfied: pyyaml in /usr/local/lib/python3.6/dist-packages (from mlflow->pycaret) (3.13)\n",
            "Requirement already satisfied: sqlalchemy in /usr/local/lib/python3.6/dist-packages (from mlflow->pycaret) (1.3.22)\n",
            "Requirement already satisfied: click>=7.0 in /usr/local/lib/python3.6/dist-packages (from mlflow->pycaret) (7.1.2)\n",
            "Collecting querystring-parser\n",
            "  Downloading https://files.pythonhosted.org/packages/88/6b/572b2590fd55114118bf08bde63c0a421dcc82d593700f3e2ad89908a8a9/querystring_parser-1.2.4-py2.py3-none-any.whl\n",
            "Collecting docker>=4.0.0\n",
            "\u001b[?25l  Downloading https://files.pythonhosted.org/packages/9f/a5/eec74d8d1016e6c2042ba31ca6fba3bba520e27d8a061e82bccd36bd64ef/docker-4.4.1-py2.py3-none-any.whl (146kB)\n",
            "\u001b[K     |████████████████████████████████| 153kB 35.5MB/s \n",
            "\u001b[?25hCollecting gitpython>=2.1.0\n",
            "\u001b[?25l  Downloading https://files.pythonhosted.org/packages/d7/cb/ec98155c501b68dcb11314c7992cd3df6dce193fd763084338a117967d53/GitPython-3.1.12-py3-none-any.whl (159kB)\n",
            "\u001b[K     |████████████████████████████████| 163kB 32.8MB/s \n",
            "\u001b[?25hCollecting gunicorn; platform_system != \"Windows\"\n",
            "\u001b[?25l  Downloading https://files.pythonhosted.org/packages/69/ca/926f7cd3a2014b16870086b2d0fdc84a9e49473c68a8dff8b57f7c156f43/gunicorn-20.0.4-py2.py3-none-any.whl (77kB)\n",
            "\u001b[K     |████████████████████████████████| 81kB 8.3MB/s \n",
            "\u001b[?25hRequirement already satisfied: Flask in /usr/local/lib/python3.6/dist-packages (from mlflow->pycaret) (1.1.2)\n",
            "Collecting databricks-cli>=0.8.7\n",
            "\u001b[?25l  Downloading https://files.pythonhosted.org/packages/40/88/ae1f78cf582b707c605c77df49b4c8786a4465edc51adb25d2f98ef4c4de/databricks-cli-0.14.1.tar.gz (54kB)\n",
            "\u001b[K     |████████████████████████████████| 61kB 5.7MB/s \n",
            "\u001b[?25hRequirement already satisfied: sqlparse>=0.3.1 in /usr/local/lib/python3.6/dist-packages (from mlflow->pycaret) (0.4.1)\n",
            "Requirement already satisfied: protobuf>=3.6.0 in /usr/local/lib/python3.6/dist-packages (from mlflow->pycaret) (3.12.4)\n",
            "Requirement already satisfied: smart-open>=1.2.1 in /usr/local/lib/python3.6/dist-packages (from gensim->pycaret) (4.1.2)\n",
            "Requirement already satisfied: scipy>=0.18.1 in /usr/local/lib/python3.6/dist-packages (from gensim->pycaret) (1.4.1)\n",
            "Collecting visions[type_image_path]==0.6.0\n",
            "\u001b[?25l  Downloading https://files.pythonhosted.org/packages/98/30/b1e70bc55962239c4c3c9660e892be2d8247a882135a3035c10ff7f02cde/visions-0.6.0-py3-none-any.whl (75kB)\n",
            "\u001b[K     |████████████████████████████████| 81kB 7.8MB/s \n",
            "\u001b[?25hCollecting htmlmin>=0.1.12\n",
            "  Downloading https://files.pythonhosted.org/packages/b3/e7/fcd59e12169de19f0131ff2812077f964c6b960e7c09804d30a7bf2ab461/htmlmin-0.1.12.tar.gz\n",
            "Collecting tqdm>=4.48.2\n",
            "\u001b[?25l  Downloading https://files.pythonhosted.org/packages/80/02/8f8880a4fd6625461833abcf679d4c12a44c76f9925f92bf212bb6cefaad/tqdm-4.56.0-py2.py3-none-any.whl (72kB)\n",
            "\u001b[K     |████████████████████████████████| 81kB 8.2MB/s \n",
            "\u001b[?25hRequirement already satisfied: jinja2>=2.11.1 in /usr/local/lib/python3.6/dist-packages (from pandas-profiling>=2.8.0->pycaret) (2.11.2)\n",
            "Collecting phik>=0.10.0\n",
            "\u001b[?25l  Downloading https://files.pythonhosted.org/packages/d9/27/d4197ed93c26d9eeedb7c73c0f24462a65c617807c3140e012950c35ccf9/phik-0.11.0.tar.gz (594kB)\n",
            "\u001b[K     |████████████████████████████████| 604kB 35.5MB/s \n",
            "\u001b[?25hCollecting confuse>=1.0.0\n",
            "  Downloading https://files.pythonhosted.org/packages/6d/55/b4726d81e5d6509fa3441f770f8a9524612627dc1b2a7d6209d1d20083fe/confuse-1.4.0-py2.py3-none-any.whl\n",
            "Collecting tangled-up-in-unicode>=0.0.6\n",
            "\u001b[?25l  Downloading https://files.pythonhosted.org/packages/4a/e2/e588ab9298d4989ce7fdb2b97d18aac878d99dbdc379a4476a09d9271b68/tangled_up_in_unicode-0.0.6-py3-none-any.whl (3.1MB)\n",
            "\u001b[K     |████████████████████████████████| 3.1MB 26.9MB/s \n",
            "\u001b[?25hRequirement already satisfied: attrs>=19.3.0 in /usr/local/lib/python3.6/dist-packages (from pandas-profiling>=2.8.0->pycaret) (20.3.0)\n",
            "Requirement already satisfied: missingno>=0.4.2 in /usr/local/lib/python3.6/dist-packages (from pandas-profiling>=2.8.0->pycaret) (0.4.2)\n",
            "Requirement already satisfied: graphviz in /usr/local/lib/python3.6/dist-packages (from catboost>=0.23.2->pycaret) (0.10.1)\n",
            "Requirement already satisfied: setuptools>=34.4.1 in /usr/local/lib/python3.6/dist-packages (from cufflinks>=0.17.0->pycaret) (51.3.3)\n",
            "Requirement already satisfied: colorlover>=0.2.1 in /usr/local/lib/python3.6/dist-packages (from cufflinks>=0.17.0->pycaret) (0.3.0)\n",
            "Requirement already satisfied: retrying>=1.3.3 in /usr/local/lib/python3.6/dist-packages (from plotly>=4.4.1->pycaret) (1.3.3)\n",
            "Requirement already satisfied: numba>=0.49 in /usr/local/lib/python3.6/dist-packages (from umap-learn->pycaret) (0.51.2)\n",
            "Requirement already satisfied: pynndescent>=0.5 in /usr/local/lib/python3.6/dist-packages (from umap-learn->pycaret) (0.5.1)\n",
            "Requirement already satisfied: pillow in /usr/local/lib/python3.6/dist-packages (from wordcloud->pycaret) (7.0.0)\n",
            "Requirement already satisfied: prompt-toolkit<2.0.0,>=1.0.4 in /usr/local/lib/python3.6/dist-packages (from IPython->pycaret) (1.0.18)\n",
            "Requirement already satisfied: pygments in /usr/local/lib/python3.6/dist-packages (from IPython->pycaret) (2.6.1)\n",
            "Requirement already satisfied: traitlets>=4.2 in /usr/local/lib/python3.6/dist-packages (from IPython->pycaret) (4.3.3)\n",
            "Requirement already satisfied: pexpect; sys_platform != \"win32\" in /usr/local/lib/python3.6/dist-packages (from IPython->pycaret) (4.8.0)\n",
            "Requirement already satisfied: simplegeneric>0.8 in /usr/local/lib/python3.6/dist-packages (from IPython->pycaret) (0.8.1)\n",
            "Requirement already satisfied: decorator in /usr/local/lib/python3.6/dist-packages (from IPython->pycaret) (4.4.2)\n",
            "Requirement already satisfied: pickleshare in /usr/local/lib/python3.6/dist-packages (from IPython->pycaret) (0.7.5)\n",
            "Requirement already satisfied: cycler>=0.10 in /usr/local/lib/python3.6/dist-packages (from matplotlib->pycaret) (0.10.0)\n",
            "Requirement already satisfied: kiwisolver>=1.0.1 in /usr/local/lib/python3.6/dist-packages (from matplotlib->pycaret) (1.3.1)\n",
            "Requirement already satisfied: pyparsing!=2.0.4,!=2.1.2,!=2.1.6,>=2.0.1 in /usr/local/lib/python3.6/dist-packages (from matplotlib->pycaret) (2.4.7)\n",
            "Requirement already satisfied: nbformat>=4.2.0 in /usr/local/lib/python3.6/dist-packages (from ipywidgets->pycaret) (5.1.2)\n",
            "Requirement already satisfied: widgetsnbextension~=3.5.0 in /usr/local/lib/python3.6/dist-packages (from ipywidgets->pycaret) (3.5.1)\n",
            "Requirement already satisfied: ipykernel>=4.5.1 in /usr/local/lib/python3.6/dist-packages (from ipywidgets->pycaret) (4.10.1)\n",
            "Requirement already satisfied: jupyterlab-widgets>=1.0.0; python_version >= \"3.6\" in /usr/local/lib/python3.6/dist-packages (from ipywidgets->pycaret) (1.0.0)\n",
            "Requirement already satisfied: wheel in /usr/local/lib/python3.6/dist-packages (from lightgbm>=2.3.1->pycaret) (0.36.2)\n",
            "Collecting combo\n",
            "  Downloading https://files.pythonhosted.org/packages/12/ae/66029dcaa88ccca77f454dbb29c1178c751ec24fc771ed475a992b49a02d/combo-0.1.2.tar.gz\n",
            "Requirement already satisfied: statsmodels in /usr/local/lib/python3.6/dist-packages (from pyod->pycaret) (0.10.2)\n",
            "Collecting suod\n",
            "\u001b[?25l  Downloading https://files.pythonhosted.org/packages/4e/8a/255ed2c959abab7c712b10fe710e454d5a8e3461c6ae60e426349a8eb6a5/suod-0.0.6.tar.gz (2.1MB)\n",
            "\u001b[K     |████████████████████████████████| 2.1MB 24.6MB/s \n",
            "\u001b[?25hRequirement already satisfied: numexpr in /usr/local/lib/python3.6/dist-packages (from pyLDAvis->pycaret) (2.7.2)\n",
            "Requirement already satisfied: pytest in /usr/local/lib/python3.6/dist-packages (from pyLDAvis->pycaret) (3.6.4)\n",
            "Requirement already satisfied: future in /usr/local/lib/python3.6/dist-packages (from pyLDAvis->pycaret) (0.16.0)\n",
            "Collecting funcy\n",
            "  Downloading https://files.pythonhosted.org/packages/66/89/479de0afbbfb98d1c4b887936808764627300208bb771fcd823403645a36/funcy-1.15-py2.py3-none-any.whl\n",
            "Collecting threadpoolctl>=2.0.0\n",
            "  Downloading https://files.pythonhosted.org/packages/f7/12/ec3f2e203afa394a149911729357aa48affc59c20e2c1c8297a60f33f133/threadpoolctl-2.1.0-py3-none-any.whl\n",
            "Requirement already satisfied: pytz>=2017.2 in /usr/local/lib/python3.6/dist-packages (from pandas->pycaret) (2018.9)\n",
            "Requirement already satisfied: preshed<3.1.0,>=3.0.2 in /usr/local/lib/python3.6/dist-packages (from spacy->pycaret) (3.0.5)\n",
            "Requirement already satisfied: srsly<1.1.0,>=1.0.2 in /usr/local/lib/python3.6/dist-packages (from spacy->pycaret) (1.0.5)\n",
            "Requirement already satisfied: plac<1.2.0,>=0.9.6 in /usr/local/lib/python3.6/dist-packages (from spacy->pycaret) (1.1.3)\n",
            "Requirement already satisfied: wasabi<1.1.0,>=0.4.0 in /usr/local/lib/python3.6/dist-packages (from spacy->pycaret) (0.8.1)\n",
            "Requirement already satisfied: thinc==7.4.0 in /usr/local/lib/python3.6/dist-packages (from spacy->pycaret) (7.4.0)\n",
            "Requirement already satisfied: catalogue<1.1.0,>=0.0.7 in /usr/local/lib/python3.6/dist-packages (from spacy->pycaret) (1.0.0)\n",
            "Requirement already satisfied: blis<0.5.0,>=0.4.0 in /usr/local/lib/python3.6/dist-packages (from spacy->pycaret) (0.4.1)\n",
            "Requirement already satisfied: murmurhash<1.1.0,>=0.28.0 in /usr/local/lib/python3.6/dist-packages (from spacy->pycaret) (1.0.5)\n",
            "Requirement already satisfied: cymem<2.1.0,>=2.0.2 in /usr/local/lib/python3.6/dist-packages (from spacy->pycaret) (2.0.5)\n",
            "Collecting Mako\n",
            "\u001b[?25l  Downloading https://files.pythonhosted.org/packages/5c/db/2d2d88b924aa4674a080aae83b59ea19d593250bfe5ed789947c21736785/Mako-1.1.4.tar.gz (479kB)\n",
            "\u001b[K     |████████████████████████████████| 481kB 34.2MB/s \n",
            "\u001b[?25hCollecting python-editor>=0.3\n",
            "  Downloading https://files.pythonhosted.org/packages/c6/d3/201fc3abe391bbae6606e6f1d598c15d367033332bd54352b12f35513717/python_editor-1.0.4-py3-none-any.whl\n",
            "Requirement already satisfied: prometheus_client in /usr/local/lib/python3.6/dist-packages (from prometheus-flask-exporter->mlflow->pycaret) (0.9.0)\n",
            "Collecting msrest>=0.6.18\n",
            "\u001b[?25l  Downloading https://files.pythonhosted.org/packages/e8/cc/6c96bfb3d3cf4c3bdedfa6b46503223f4c2a4fa388377697e0f8082a4fed/msrest-0.6.21-py2.py3-none-any.whl (85kB)\n",
            "\u001b[K     |████████████████████████████████| 92kB 8.2MB/s \n",
            "\u001b[?25hCollecting azure-core<2.0.0,>=1.10.0\n",
            "\u001b[?25l  Downloading https://files.pythonhosted.org/packages/12/9e/6bb67fe85f6a89d71f50c86a0da778a5064f749a485ed9ba498067034227/azure_core-1.10.0-py2.py3-none-any.whl (125kB)\n",
            "\u001b[K     |████████████████████████████████| 133kB 37.2MB/s \n",
            "\u001b[?25hCollecting cryptography>=2.1.4\n",
            "\u001b[?25l  Downloading https://files.pythonhosted.org/packages/c9/de/7054df0620b5411ba45480f0261e1fb66a53f3db31b28e3aa52c026e72d9/cryptography-3.3.1-cp36-abi3-manylinux2010_x86_64.whl (2.6MB)\n",
            "\u001b[K     |████████████████████████████████| 2.6MB 33.6MB/s \n",
            "\u001b[?25hRequirement already satisfied: idna<3,>=2.5 in /usr/local/lib/python3.6/dist-packages (from requests>=2.17.3->mlflow->pycaret) (2.10)\n",
            "Requirement already satisfied: certifi>=2017.4.17 in /usr/local/lib/python3.6/dist-packages (from requests>=2.17.3->mlflow->pycaret) (2020.12.5)\n",
            "Requirement already satisfied: chardet<4,>=3.0.2 in /usr/local/lib/python3.6/dist-packages (from requests>=2.17.3->mlflow->pycaret) (3.0.4)\n",
            "Requirement already satisfied: urllib3!=1.25.0,!=1.25.1,<1.26,>=1.21.1 in /usr/local/lib/python3.6/dist-packages (from requests>=2.17.3->mlflow->pycaret) (1.24.3)\n",
            "Collecting websocket-client>=0.32.0\n",
            "\u001b[?25l  Downloading https://files.pythonhosted.org/packages/4c/5f/f61b420143ed1c8dc69f9eaec5ff1ac36109d52c80de49d66e0c36c3dfdf/websocket_client-0.57.0-py2.py3-none-any.whl (200kB)\n",
            "\u001b[K     |████████████████████████████████| 204kB 42.3MB/s \n",
            "\u001b[?25hCollecting gitdb<5,>=4.0.1\n",
            "\u001b[?25l  Downloading https://files.pythonhosted.org/packages/48/11/d1800bca0a3bae820b84b7d813ad1eff15a48a64caea9c823fc8c1b119e8/gitdb-4.0.5-py3-none-any.whl (63kB)\n",
            "\u001b[K     |████████████████████████████████| 71kB 7.0MB/s \n",
            "\u001b[?25hRequirement already satisfied: Werkzeug>=0.15 in /usr/local/lib/python3.6/dist-packages (from Flask->mlflow->pycaret) (1.0.1)\n",
            "Requirement already satisfied: itsdangerous>=0.24 in /usr/local/lib/python3.6/dist-packages (from Flask->mlflow->pycaret) (1.1.0)\n",
            "Requirement already satisfied: tabulate>=0.7.7 in /usr/local/lib/python3.6/dist-packages (from databricks-cli>=0.8.7->mlflow->pycaret) (0.8.7)\n",
            "Requirement already satisfied: networkx>=2.4 in /usr/local/lib/python3.6/dist-packages (from visions[type_image_path]==0.6.0->pandas-profiling>=2.8.0->pycaret) (2.5)\n",
            "Collecting imagehash; extra == \"type_image_path\"\n",
            "\u001b[?25l  Downloading https://files.pythonhosted.org/packages/8e/18/9dbb772b5ef73a3069c66bb5bf29b9fb4dd57af0d5790c781c3f559bcca6/ImageHash-4.2.0-py2.py3-none-any.whl (295kB)\n",
            "\u001b[K     |████████████████████████████████| 296kB 43.1MB/s \n",
            "\u001b[?25hRequirement already satisfied: MarkupSafe>=0.23 in /usr/local/lib/python3.6/dist-packages (from jinja2>=2.11.1->pandas-profiling>=2.8.0->pycaret) (1.1.1)\n",
            "Requirement already satisfied: llvmlite<0.35,>=0.34.0.dev0 in /usr/local/lib/python3.6/dist-packages (from numba>=0.49->umap-learn->pycaret) (0.34.0)\n",
            "Requirement already satisfied: wcwidth in /usr/local/lib/python3.6/dist-packages (from prompt-toolkit<2.0.0,>=1.0.4->IPython->pycaret) (0.2.5)\n",
            "Requirement already satisfied: ipython-genutils in /usr/local/lib/python3.6/dist-packages (from traitlets>=4.2->IPython->pycaret) (0.2.0)\n",
            "Requirement already satisfied: ptyprocess>=0.5 in /usr/local/lib/python3.6/dist-packages (from pexpect; sys_platform != \"win32\"->IPython->pycaret) (0.7.0)\n",
            "Requirement already satisfied: jupyter-core in /usr/local/lib/python3.6/dist-packages (from nbformat>=4.2.0->ipywidgets->pycaret) (4.7.0)\n",
            "Requirement already satisfied: jsonschema!=2.5.0,>=2.4 in /usr/local/lib/python3.6/dist-packages (from nbformat>=4.2.0->ipywidgets->pycaret) (2.6.0)\n",
            "Requirement already satisfied: notebook>=4.4.1 in /usr/local/lib/python3.6/dist-packages (from widgetsnbextension~=3.5.0->ipywidgets->pycaret) (5.3.1)\n",
            "Requirement already satisfied: jupyter-client in /usr/local/lib/python3.6/dist-packages (from ipykernel>=4.5.1->ipywidgets->pycaret) (5.3.5)\n",
            "Requirement already satisfied: tornado>=4.0 in /usr/local/lib/python3.6/dist-packages (from ipykernel>=4.5.1->ipywidgets->pycaret) (5.1.1)\n",
            "Requirement already satisfied: patsy>=0.4.0 in /usr/local/lib/python3.6/dist-packages (from statsmodels->pyod->pycaret) (0.5.1)\n",
            "Requirement already satisfied: psutil in /usr/local/lib/python3.6/dist-packages (from suod->pyod->pycaret) (5.4.8)\n",
            "Requirement already satisfied: atomicwrites>=1.0 in /usr/local/lib/python3.6/dist-packages (from pytest->pyLDAvis->pycaret) (1.4.0)\n",
            "Requirement already satisfied: more-itertools>=4.0.0 in /usr/local/lib/python3.6/dist-packages (from pytest->pyLDAvis->pycaret) (8.6.0)\n",
            "Requirement already satisfied: pluggy<0.8,>=0.5 in /usr/local/lib/python3.6/dist-packages (from pytest->pyLDAvis->pycaret) (0.7.1)\n",
            "Requirement already satisfied: py>=1.5.0 in /usr/local/lib/python3.6/dist-packages (from pytest->pyLDAvis->pycaret) (1.10.0)\n",
            "Requirement already satisfied: importlib-metadata>=0.20; python_version < \"3.8\" in /usr/local/lib/python3.6/dist-packages (from catalogue<1.1.0,>=0.0.7->spacy->pycaret) (3.4.0)\n",
            "Collecting isodate>=0.6.0\n",
            "\u001b[?25l  Downloading https://files.pythonhosted.org/packages/9b/9f/b36f7774ff5ea8e428fdcfc4bb332c39ee5b9362ddd3d40d9516a55221b2/isodate-0.6.0-py2.py3-none-any.whl (45kB)\n",
            "\u001b[K     |████████████████████████████████| 51kB 5.0MB/s \n",
            "\u001b[?25hRequirement already satisfied: requests-oauthlib>=0.5.0 in /usr/local/lib/python3.6/dist-packages (from msrest>=0.6.18->azure-storage-blob>=12.0.0->mlflow->pycaret) (1.3.0)\n",
            "Requirement already satisfied: cffi>=1.12 in /usr/local/lib/python3.6/dist-packages (from cryptography>=2.1.4->azure-storage-blob>=12.0.0->mlflow->pycaret) (1.14.4)\n",
            "Collecting smmap<4,>=3.0.1\n",
            "  Downloading https://files.pythonhosted.org/packages/d5/1e/6130925131f639b2acde0f7f18b73e33ce082ff2d90783c436b52040af5a/smmap-3.0.5-py2.py3-none-any.whl\n",
            "Requirement already satisfied: PyWavelets in /usr/local/lib/python3.6/dist-packages (from imagehash; extra == \"type_image_path\"->visions[type_image_path]==0.6.0->pandas-profiling>=2.8.0->pycaret) (1.1.1)\n",
            "Requirement already satisfied: Send2Trash in /usr/local/lib/python3.6/dist-packages (from notebook>=4.4.1->widgetsnbextension~=3.5.0->ipywidgets->pycaret) (1.5.0)\n",
            "Requirement already satisfied: terminado>=0.8.1 in /usr/local/lib/python3.6/dist-packages (from notebook>=4.4.1->widgetsnbextension~=3.5.0->ipywidgets->pycaret) (0.9.2)\n",
            "Requirement already satisfied: nbconvert in /usr/local/lib/python3.6/dist-packages (from notebook>=4.4.1->widgetsnbextension~=3.5.0->ipywidgets->pycaret) (5.6.1)\n",
            "Requirement already satisfied: pyzmq>=13 in /usr/local/lib/python3.6/dist-packages (from jupyter-client->ipykernel>=4.5.1->ipywidgets->pycaret) (21.0.2)\n",
            "Requirement already satisfied: typing-extensions>=3.6.4; python_version < \"3.8\" in /usr/local/lib/python3.6/dist-packages (from importlib-metadata>=0.20; python_version < \"3.8\"->catalogue<1.1.0,>=0.0.7->spacy->pycaret) (3.7.4.3)\n",
            "Requirement already satisfied: zipp>=0.5 in /usr/local/lib/python3.6/dist-packages (from importlib-metadata>=0.20; python_version < \"3.8\"->catalogue<1.1.0,>=0.0.7->spacy->pycaret) (3.4.0)\n",
            "Requirement already satisfied: oauthlib>=3.0.0 in /usr/local/lib/python3.6/dist-packages (from requests-oauthlib>=0.5.0->msrest>=0.6.18->azure-storage-blob>=12.0.0->mlflow->pycaret) (3.1.0)\n",
            "Requirement already satisfied: pycparser in /usr/local/lib/python3.6/dist-packages (from cffi>=1.12->cryptography>=2.1.4->azure-storage-blob>=12.0.0->mlflow->pycaret) (2.20)\n",
            "Requirement already satisfied: defusedxml in /usr/local/lib/python3.6/dist-packages (from nbconvert->notebook>=4.4.1->widgetsnbextension~=3.5.0->ipywidgets->pycaret) (0.6.0)\n",
            "Requirement already satisfied: testpath in /usr/local/lib/python3.6/dist-packages (from nbconvert->notebook>=4.4.1->widgetsnbextension~=3.5.0->ipywidgets->pycaret) (0.4.4)\n",
            "Requirement already satisfied: bleach in /usr/local/lib/python3.6/dist-packages (from nbconvert->notebook>=4.4.1->widgetsnbextension~=3.5.0->ipywidgets->pycaret) (3.2.3)\n",
            "Requirement already satisfied: pandocfilters>=1.4.1 in /usr/local/lib/python3.6/dist-packages (from nbconvert->notebook>=4.4.1->widgetsnbextension~=3.5.0->ipywidgets->pycaret) (1.4.3)\n",
            "Requirement already satisfied: mistune<2,>=0.8.1 in /usr/local/lib/python3.6/dist-packages (from nbconvert->notebook>=4.4.1->widgetsnbextension~=3.5.0->ipywidgets->pycaret) (0.8.4)\n",
            "Requirement already satisfied: webencodings in /usr/local/lib/python3.6/dist-packages (from bleach->nbconvert->notebook>=4.4.1->widgetsnbextension~=3.5.0->ipywidgets->pycaret) (0.5.1)\n",
            "Requirement already satisfied: packaging in /usr/local/lib/python3.6/dist-packages (from bleach->nbconvert->notebook>=4.4.1->widgetsnbextension~=3.5.0->ipywidgets->pycaret) (20.8)\n",
            "Building wheels for collected packages: pyod, pyLDAvis, alembic, prometheus-flask-exporter, databricks-cli, htmlmin, phik, combo, suod, Mako\n",
            "  Building wheel for pyod (setup.py) ... \u001b[?25l\u001b[?25hdone\n",
            "  Created wheel for pyod: filename=pyod-0.8.6-cp36-none-any.whl size=112146 sha256=316268a8d5ac2dc0700832c82507deddf38ed50e44189115864838ac8aea1524\n",
            "  Stored in directory: /root/.cache/pip/wheels/48/95/81/2c6f52c3d366e7b5ef4770550f8bf0764257c66fbe64deecdb\n",
            "  Building wheel for pyLDAvis (setup.py) ... \u001b[?25l\u001b[?25hdone\n",
            "  Created wheel for pyLDAvis: filename=pyLDAvis-2.1.2-py2.py3-none-any.whl size=97712 sha256=69ddcbeb31aaca513c3c0a07e8d60c613ab521fa4995c17797a5f8e89582df46\n",
            "  Stored in directory: /root/.cache/pip/wheels/98/71/24/513a99e58bb6b8465bae4d2d5e9dba8f0bef8179e3051ac414\n",
            "  Building wheel for alembic (setup.py) ... \u001b[?25l\u001b[?25hdone\n",
            "  Created wheel for alembic: filename=alembic-1.4.1-py2.py3-none-any.whl size=158155 sha256=1bd0b59c349a2a6b7163001c50f8e12ec080009b8c2d5b4af754c8e38c3681a2\n",
            "  Stored in directory: /root/.cache/pip/wheels/84/07/f7/12f7370ca47a66030c2edeedcc23dec26ea0ac22dcb4c4a0f3\n",
            "  Building wheel for prometheus-flask-exporter (setup.py) ... \u001b[?25l\u001b[?25hdone\n",
            "  Created wheel for prometheus-flask-exporter: filename=prometheus_flask_exporter-0.18.1-cp36-none-any.whl size=17159 sha256=c747ec21e0c4b2efad75282bc3ef42962a45818974b760a5e41a2d0698cb2a61\n",
            "  Stored in directory: /root/.cache/pip/wheels/b4/1f/b8/66bd9bc3a9d6c6987ff6c4dfeb6f1fe97b5a0e5ed5849c0437\n",
            "  Building wheel for databricks-cli (setup.py) ... \u001b[?25l\u001b[?25hdone\n",
            "  Created wheel for databricks-cli: filename=databricks_cli-0.14.1-cp36-none-any.whl size=100579 sha256=407bb1a6621dc65644433a66044c79088b3989d2bdb461ad4712ac90cba9f3fd\n",
            "  Stored in directory: /root/.cache/pip/wheels/82/91/ac/5d417ee5ccbb76c8cca096cf4cfb9ed9d49d889d1d1ca0fc39\n",
            "  Building wheel for htmlmin (setup.py) ... \u001b[?25l\u001b[?25hdone\n",
            "  Created wheel for htmlmin: filename=htmlmin-0.1.12-cp36-none-any.whl size=27085 sha256=552de34a8659f18c80cb38e57e2081e05365a1c3eddb5bf47f0ea7580698bf28\n",
            "  Stored in directory: /root/.cache/pip/wheels/43/07/ac/7c5a9d708d65247ac1f94066cf1db075540b85716c30255459\n",
            "  Building wheel for phik (setup.py) ... \u001b[?25l\u001b[?25hdone\n",
            "  Created wheel for phik: filename=phik-0.11.0-cp36-none-any.whl size=599738 sha256=ac4efa831bd4341cac70bd92cd12e57b55deb4a2e57749ab624b35e3e300d1ff\n",
            "  Stored in directory: /root/.cache/pip/wheels/af/54/11/aba77f21075918de02f7964eabfe8c10d5542df9e6ad10b225\n",
            "  Building wheel for combo (setup.py) ... \u001b[?25l\u001b[?25hdone\n",
            "  Created wheel for combo: filename=combo-0.1.2-cp36-none-any.whl size=42028 sha256=e1fe8c7233cf3eb53e55712b167b76d5e22601f1874504ccd1be9d939fc48337\n",
            "  Stored in directory: /root/.cache/pip/wheels/01/d9/bf/d1a371a5f0844cd8a53c04c14daa89974c93f429dda9dceb86\n",
            "  Building wheel for suod (setup.py) ... \u001b[?25l\u001b[?25hdone\n",
            "  Created wheel for suod: filename=suod-0.0.6-cp36-none-any.whl size=2154759 sha256=c7eb096ba8c1c880c0d2eb1483b04971d6915f997787518232b90a4c7256e4fa\n",
            "  Stored in directory: /root/.cache/pip/wheels/c5/d7/c1/6c778aee7fccfe3c054ea9bab92c5994ae3a0f6bba7078541e\n",
            "  Building wheel for Mako (setup.py) ... \u001b[?25l\u001b[?25hdone\n",
            "  Created wheel for Mako: filename=Mako-1.1.4-py2.py3-none-any.whl size=75675 sha256=2d4d5c7e3f0129ca556a311a33b4fd367811b19a0957556abc647ed2feec90fa\n",
            "  Stored in directory: /root/.cache/pip/wheels/ad/10/d3/aeb26e20d19045e2a68e5d3cbb57432e11b5d9c92c99f98d47\n",
            "Successfully built pyod pyLDAvis alembic prometheus-flask-exporter databricks-cli htmlmin phik combo suod Mako\n",
            "\u001b[31mERROR: pandas-profiling 2.10.0 has requirement requests>=2.24.0, but you'll have requests 2.23.0 which is incompatible.\u001b[0m\n",
            "Installing collected packages: Mako, python-editor, alembic, prometheus-flask-exporter, isodate, msrest, azure-core, cryptography, azure-storage-blob, querystring-parser, websocket-client, docker, smmap, gitdb, gitpython, gunicorn, databricks-cli, mlflow, tangled-up-in-unicode, imagehash, visions, htmlmin, tqdm, phik, confuse, pandas-profiling, catboost, threadpoolctl, scikit-learn, imbalanced-learn, scikit-plot, kmodes, xgboost, lightgbm, combo, suod, pyod, funcy, pyLDAvis, yellowbrick, pycaret\n",
            "  Found existing installation: tqdm 4.41.1\n",
            "    Uninstalling tqdm-4.41.1:\n",
            "      Successfully uninstalled tqdm-4.41.1\n",
            "  Found existing installation: pandas-profiling 1.4.1\n",
            "    Uninstalling pandas-profiling-1.4.1:\n",
            "      Successfully uninstalled pandas-profiling-1.4.1\n",
            "  Found existing installation: scikit-learn 0.22.2.post1\n",
            "    Uninstalling scikit-learn-0.22.2.post1:\n",
            "      Successfully uninstalled scikit-learn-0.22.2.post1\n",
            "  Found existing installation: imbalanced-learn 0.4.3\n",
            "    Uninstalling imbalanced-learn-0.4.3:\n",
            "      Successfully uninstalled imbalanced-learn-0.4.3\n",
            "  Found existing installation: xgboost 0.90\n",
            "    Uninstalling xgboost-0.90:\n",
            "      Successfully uninstalled xgboost-0.90\n",
            "  Found existing installation: lightgbm 2.2.3\n",
            "    Uninstalling lightgbm-2.2.3:\n",
            "      Successfully uninstalled lightgbm-2.2.3\n",
            "  Found existing installation: yellowbrick 0.9.1\n",
            "    Uninstalling yellowbrick-0.9.1:\n",
            "      Successfully uninstalled yellowbrick-0.9.1\n",
            "Successfully installed Mako-1.1.4 alembic-1.4.1 azure-core-1.10.0 azure-storage-blob-12.7.1 catboost-0.24.4 combo-0.1.2 confuse-1.4.0 cryptography-3.3.1 databricks-cli-0.14.1 docker-4.4.1 funcy-1.15 gitdb-4.0.5 gitpython-3.1.12 gunicorn-20.0.4 htmlmin-0.1.12 imagehash-4.2.0 imbalanced-learn-0.7.0 isodate-0.6.0 kmodes-0.10.2 lightgbm-3.1.1 mlflow-1.13.1 msrest-0.6.21 pandas-profiling-2.10.0 phik-0.11.0 prometheus-flask-exporter-0.18.1 pyLDAvis-2.1.2 pycaret-2.2.3 pyod-0.8.6 python-editor-1.0.4 querystring-parser-1.2.4 scikit-learn-0.23.2 scikit-plot-0.3.7 smmap-3.0.5 suod-0.0.6 tangled-up-in-unicode-0.0.6 threadpoolctl-2.1.0 tqdm-4.56.0 visions-0.6.0 websocket-client-0.57.0 xgboost-1.3.3 yellowbrick-1.2.1\n"
          ],
          "name": "stdout"
        },
        {
          "output_type": "display_data",
          "data": {
            "application/vnd.colab-display-data+json": {
              "pip_warning": {
                "packages": [
                  "tqdm"
                ]
              }
            }
          },
          "metadata": {
            "tags": []
          }
        }
      ]
    },
    {
      "cell_type": "code",
      "metadata": {
        "id": "wABwA6QvdT8R"
      },
      "source": [
        ""
      ],
      "execution_count": null,
      "outputs": []
    },
    {
      "cell_type": "code",
      "metadata": {
        "colab": {
          "base_uri": "https://localhost:8080/",
          "height": 200
        },
        "id": "oi6sgwIddC5c",
        "outputId": "c6252479-438d-4056-8a73-467eaf13f57f"
      },
      "source": [
        "from pycaret.datasets import get_data\r\n",
        "data = get_data('jewellery')"
      ],
      "execution_count": 3,
      "outputs": [
        {
          "output_type": "display_data",
          "data": {
            "text/html": [
              "<div>\n",
              "<style scoped>\n",
              "    .dataframe tbody tr th:only-of-type {\n",
              "        vertical-align: middle;\n",
              "    }\n",
              "\n",
              "    .dataframe tbody tr th {\n",
              "        vertical-align: top;\n",
              "    }\n",
              "\n",
              "    .dataframe thead th {\n",
              "        text-align: right;\n",
              "    }\n",
              "</style>\n",
              "<table border=\"1\" class=\"dataframe\">\n",
              "  <thead>\n",
              "    <tr style=\"text-align: right;\">\n",
              "      <th></th>\n",
              "      <th>Age</th>\n",
              "      <th>Income</th>\n",
              "      <th>SpendingScore</th>\n",
              "      <th>Savings</th>\n",
              "    </tr>\n",
              "  </thead>\n",
              "  <tbody>\n",
              "    <tr>\n",
              "      <th>0</th>\n",
              "      <td>58</td>\n",
              "      <td>77769</td>\n",
              "      <td>0.791329</td>\n",
              "      <td>6559.829923</td>\n",
              "    </tr>\n",
              "    <tr>\n",
              "      <th>1</th>\n",
              "      <td>59</td>\n",
              "      <td>81799</td>\n",
              "      <td>0.791082</td>\n",
              "      <td>5417.661426</td>\n",
              "    </tr>\n",
              "    <tr>\n",
              "      <th>2</th>\n",
              "      <td>62</td>\n",
              "      <td>74751</td>\n",
              "      <td>0.702657</td>\n",
              "      <td>9258.992965</td>\n",
              "    </tr>\n",
              "    <tr>\n",
              "      <th>3</th>\n",
              "      <td>59</td>\n",
              "      <td>74373</td>\n",
              "      <td>0.765680</td>\n",
              "      <td>7346.334504</td>\n",
              "    </tr>\n",
              "    <tr>\n",
              "      <th>4</th>\n",
              "      <td>87</td>\n",
              "      <td>17760</td>\n",
              "      <td>0.348778</td>\n",
              "      <td>16869.507130</td>\n",
              "    </tr>\n",
              "  </tbody>\n",
              "</table>\n",
              "</div>"
            ],
            "text/plain": [
              "   Age  Income  SpendingScore       Savings\n",
              "0   58   77769       0.791329   6559.829923\n",
              "1   59   81799       0.791082   5417.661426\n",
              "2   62   74751       0.702657   9258.992965\n",
              "3   59   74373       0.765680   7346.334504\n",
              "4   87   17760       0.348778  16869.507130"
            ]
          },
          "metadata": {
            "tags": []
          }
        }
      ]
    },
    {
      "cell_type": "code",
      "metadata": {
        "colab": {
          "base_uri": "https://localhost:8080/"
        },
        "id": "DAsH7SR5dpQD",
        "outputId": "b615a59d-a324-44ac-a024-62d14258ef0f"
      },
      "source": [
        "data.shape"
      ],
      "execution_count": 4,
      "outputs": [
        {
          "output_type": "execute_result",
          "data": {
            "text/plain": [
              "(505, 4)"
            ]
          },
          "metadata": {
            "tags": []
          },
          "execution_count": 4
        }
      ]
    },
    {
      "cell_type": "markdown",
      "metadata": {
        "id": "jqDWDWLphuCN"
      },
      "source": [
        "# Training clustering model"
      ]
    },
    {
      "cell_type": "code",
      "metadata": {
        "id": "Nrh6agAFdtMp"
      },
      "source": [
        "from pycaret.clustering import *"
      ],
      "execution_count": 5,
      "outputs": []
    },
    {
      "cell_type": "code",
      "metadata": {
        "colab": {
          "base_uri": "https://localhost:8080/",
          "height": 1000,
          "referenced_widgets": [
            "928c5f944a1c42c7a3205227259c97a6",
            "e9ea482c294547f69b9c9a99b70ae80b",
            "5f3ffeb2d4b14eafb1f5600e1d8b856a",
            "ecf9266a5a2b41228e01e35c0155e354",
            "5e3f86dbd484465d96d7ae250cc78bd7",
            "315e971820a045b19173ba1a544dd865"
          ]
        },
        "id": "jSMl8bUZd1M2",
        "outputId": "74f6f2ef-b6e5-4fd6-f161-44965f7eb36c"
      },
      "source": [
        "modelo_cluster = setup(data, normalize=True, session_id=123)"
      ],
      "execution_count": 6,
      "outputs": [
        {
          "output_type": "display_data",
          "data": {
            "text/html": [
              "<div>\n",
              "<style scoped>\n",
              "    .dataframe tbody tr th:only-of-type {\n",
              "        vertical-align: middle;\n",
              "    }\n",
              "\n",
              "    .dataframe tbody tr th {\n",
              "        vertical-align: top;\n",
              "    }\n",
              "\n",
              "    .dataframe thead th {\n",
              "        text-align: right;\n",
              "    }\n",
              "</style>\n",
              "<table border=\"1\" class=\"dataframe\">\n",
              "  <thead>\n",
              "    <tr style=\"text-align: right;\">\n",
              "      <th></th>\n",
              "      <th>Description</th>\n",
              "      <th>Value</th>\n",
              "    </tr>\n",
              "  </thead>\n",
              "  <tbody>\n",
              "    <tr>\n",
              "      <th>0</th>\n",
              "      <td>session_id</td>\n",
              "      <td>123</td>\n",
              "    </tr>\n",
              "    <tr>\n",
              "      <th>1</th>\n",
              "      <td>Original Data</td>\n",
              "      <td>(505, 4)</td>\n",
              "    </tr>\n",
              "    <tr>\n",
              "      <th>2</th>\n",
              "      <td>Missing Values</td>\n",
              "      <td>False</td>\n",
              "    </tr>\n",
              "    <tr>\n",
              "      <th>3</th>\n",
              "      <td>Numeric Features</td>\n",
              "      <td>4</td>\n",
              "    </tr>\n",
              "    <tr>\n",
              "      <th>4</th>\n",
              "      <td>Categorical Features</td>\n",
              "      <td>0</td>\n",
              "    </tr>\n",
              "    <tr>\n",
              "      <th>5</th>\n",
              "      <td>Ordinal Features</td>\n",
              "      <td>False</td>\n",
              "    </tr>\n",
              "    <tr>\n",
              "      <th>6</th>\n",
              "      <td>High Cardinality Features</td>\n",
              "      <td>False</td>\n",
              "    </tr>\n",
              "    <tr>\n",
              "      <th>7</th>\n",
              "      <td>High Cardinality Method</td>\n",
              "      <td>None</td>\n",
              "    </tr>\n",
              "    <tr>\n",
              "      <th>8</th>\n",
              "      <td>Transformed Data</td>\n",
              "      <td>(505, 4)</td>\n",
              "    </tr>\n",
              "    <tr>\n",
              "      <th>9</th>\n",
              "      <td>CPU Jobs</td>\n",
              "      <td>-1</td>\n",
              "    </tr>\n",
              "    <tr>\n",
              "      <th>10</th>\n",
              "      <td>Use GPU</td>\n",
              "      <td>False</td>\n",
              "    </tr>\n",
              "    <tr>\n",
              "      <th>11</th>\n",
              "      <td>Log Experiment</td>\n",
              "      <td>False</td>\n",
              "    </tr>\n",
              "    <tr>\n",
              "      <th>12</th>\n",
              "      <td>Experiment Name</td>\n",
              "      <td>cluster-default-name</td>\n",
              "    </tr>\n",
              "    <tr>\n",
              "      <th>13</th>\n",
              "      <td>USI</td>\n",
              "      <td>f779</td>\n",
              "    </tr>\n",
              "    <tr>\n",
              "      <th>14</th>\n",
              "      <td>Imputation Type</td>\n",
              "      <td>simple</td>\n",
              "    </tr>\n",
              "    <tr>\n",
              "      <th>15</th>\n",
              "      <td>Iterative Imputation Iteration</td>\n",
              "      <td>None</td>\n",
              "    </tr>\n",
              "    <tr>\n",
              "      <th>16</th>\n",
              "      <td>Numeric Imputer</td>\n",
              "      <td>mean</td>\n",
              "    </tr>\n",
              "    <tr>\n",
              "      <th>17</th>\n",
              "      <td>Iterative Imputation Numeric Model</td>\n",
              "      <td>None</td>\n",
              "    </tr>\n",
              "    <tr>\n",
              "      <th>18</th>\n",
              "      <td>Categorical Imputer</td>\n",
              "      <td>mode</td>\n",
              "    </tr>\n",
              "    <tr>\n",
              "      <th>19</th>\n",
              "      <td>Iterative Imputation Categorical Model</td>\n",
              "      <td>None</td>\n",
              "    </tr>\n",
              "    <tr>\n",
              "      <th>20</th>\n",
              "      <td>Unknown Categoricals Handling</td>\n",
              "      <td>least_frequent</td>\n",
              "    </tr>\n",
              "    <tr>\n",
              "      <th>21</th>\n",
              "      <td>Normalize</td>\n",
              "      <td>True</td>\n",
              "    </tr>\n",
              "    <tr>\n",
              "      <th>22</th>\n",
              "      <td>Normalize Method</td>\n",
              "      <td>zscore</td>\n",
              "    </tr>\n",
              "    <tr>\n",
              "      <th>23</th>\n",
              "      <td>Transformation</td>\n",
              "      <td>False</td>\n",
              "    </tr>\n",
              "    <tr>\n",
              "      <th>24</th>\n",
              "      <td>Transformation Method</td>\n",
              "      <td>None</td>\n",
              "    </tr>\n",
              "    <tr>\n",
              "      <th>25</th>\n",
              "      <td>PCA</td>\n",
              "      <td>False</td>\n",
              "    </tr>\n",
              "    <tr>\n",
              "      <th>26</th>\n",
              "      <td>PCA Method</td>\n",
              "      <td>None</td>\n",
              "    </tr>\n",
              "    <tr>\n",
              "      <th>27</th>\n",
              "      <td>PCA Components</td>\n",
              "      <td>None</td>\n",
              "    </tr>\n",
              "    <tr>\n",
              "      <th>28</th>\n",
              "      <td>Ignore Low Variance</td>\n",
              "      <td>False</td>\n",
              "    </tr>\n",
              "    <tr>\n",
              "      <th>29</th>\n",
              "      <td>Combine Rare Levels</td>\n",
              "      <td>False</td>\n",
              "    </tr>\n",
              "    <tr>\n",
              "      <th>30</th>\n",
              "      <td>Rare Level Threshold</td>\n",
              "      <td>None</td>\n",
              "    </tr>\n",
              "    <tr>\n",
              "      <th>31</th>\n",
              "      <td>Numeric Binning</td>\n",
              "      <td>False</td>\n",
              "    </tr>\n",
              "    <tr>\n",
              "      <th>32</th>\n",
              "      <td>Remove Outliers</td>\n",
              "      <td>False</td>\n",
              "    </tr>\n",
              "    <tr>\n",
              "      <th>33</th>\n",
              "      <td>Outliers Threshold</td>\n",
              "      <td>None</td>\n",
              "    </tr>\n",
              "    <tr>\n",
              "      <th>34</th>\n",
              "      <td>Remove Multicollinearity</td>\n",
              "      <td>False</td>\n",
              "    </tr>\n",
              "    <tr>\n",
              "      <th>35</th>\n",
              "      <td>Multicollinearity Threshold</td>\n",
              "      <td>None</td>\n",
              "    </tr>\n",
              "    <tr>\n",
              "      <th>36</th>\n",
              "      <td>Clustering</td>\n",
              "      <td>False</td>\n",
              "    </tr>\n",
              "    <tr>\n",
              "      <th>37</th>\n",
              "      <td>Clustering Iteration</td>\n",
              "      <td>None</td>\n",
              "    </tr>\n",
              "    <tr>\n",
              "      <th>38</th>\n",
              "      <td>Polynomial Features</td>\n",
              "      <td>False</td>\n",
              "    </tr>\n",
              "    <tr>\n",
              "      <th>39</th>\n",
              "      <td>Polynomial Degree</td>\n",
              "      <td>None</td>\n",
              "    </tr>\n",
              "    <tr>\n",
              "      <th>40</th>\n",
              "      <td>Trignometry Features</td>\n",
              "      <td>False</td>\n",
              "    </tr>\n",
              "    <tr>\n",
              "      <th>41</th>\n",
              "      <td>Polynomial Threshold</td>\n",
              "      <td>None</td>\n",
              "    </tr>\n",
              "    <tr>\n",
              "      <th>42</th>\n",
              "      <td>Group Features</td>\n",
              "      <td>False</td>\n",
              "    </tr>\n",
              "    <tr>\n",
              "      <th>43</th>\n",
              "      <td>Feature Selection</td>\n",
              "      <td>False</td>\n",
              "    </tr>\n",
              "    <tr>\n",
              "      <th>44</th>\n",
              "      <td>Features Selection Threshold</td>\n",
              "      <td>None</td>\n",
              "    </tr>\n",
              "    <tr>\n",
              "      <th>45</th>\n",
              "      <td>Feature Interaction</td>\n",
              "      <td>False</td>\n",
              "    </tr>\n",
              "    <tr>\n",
              "      <th>46</th>\n",
              "      <td>Feature Ratio</td>\n",
              "      <td>False</td>\n",
              "    </tr>\n",
              "    <tr>\n",
              "      <th>47</th>\n",
              "      <td>Interaction Threshold</td>\n",
              "      <td>None</td>\n",
              "    </tr>\n",
              "  </tbody>\n",
              "</table>\n",
              "</div>"
            ],
            "text/plain": [
              "                               Description                 Value\n",
              "0                               session_id                   123\n",
              "1                            Original Data              (505, 4)\n",
              "2                           Missing Values                 False\n",
              "3                         Numeric Features                     4\n",
              "4                     Categorical Features                     0\n",
              "5                         Ordinal Features                 False\n",
              "6                High Cardinality Features                 False\n",
              "7                  High Cardinality Method                  None\n",
              "8                         Transformed Data              (505, 4)\n",
              "9                                 CPU Jobs                    -1\n",
              "10                                 Use GPU                 False\n",
              "11                          Log Experiment                 False\n",
              "12                         Experiment Name  cluster-default-name\n",
              "13                                     USI                  f779\n",
              "14                         Imputation Type                simple\n",
              "15          Iterative Imputation Iteration                  None\n",
              "16                         Numeric Imputer                  mean\n",
              "17      Iterative Imputation Numeric Model                  None\n",
              "18                     Categorical Imputer                  mode\n",
              "19  Iterative Imputation Categorical Model                  None\n",
              "20           Unknown Categoricals Handling        least_frequent\n",
              "21                               Normalize                  True\n",
              "22                        Normalize Method                zscore\n",
              "23                          Transformation                 False\n",
              "24                   Transformation Method                  None\n",
              "25                                     PCA                 False\n",
              "26                              PCA Method                  None\n",
              "27                          PCA Components                  None\n",
              "28                     Ignore Low Variance                 False\n",
              "29                     Combine Rare Levels                 False\n",
              "30                    Rare Level Threshold                  None\n",
              "31                         Numeric Binning                 False\n",
              "32                         Remove Outliers                 False\n",
              "33                      Outliers Threshold                  None\n",
              "34                Remove Multicollinearity                 False\n",
              "35             Multicollinearity Threshold                  None\n",
              "36                              Clustering                 False\n",
              "37                    Clustering Iteration                  None\n",
              "38                     Polynomial Features                 False\n",
              "39                       Polynomial Degree                  None\n",
              "40                    Trignometry Features                 False\n",
              "41                    Polynomial Threshold                  None\n",
              "42                          Group Features                 False\n",
              "43                       Feature Selection                 False\n",
              "44            Features Selection Threshold                  None\n",
              "45                     Feature Interaction                 False\n",
              "46                           Feature Ratio                 False\n",
              "47                   Interaction Threshold                  None"
            ]
          },
          "metadata": {
            "tags": []
          }
        }
      ]
    },
    {
      "cell_type": "code",
      "metadata": {
        "id": "MVHcXHkkhjpN"
      },
      "source": [
        ""
      ],
      "execution_count": null,
      "outputs": []
    },
    {
      "cell_type": "markdown",
      "metadata": {
        "id": "9KjdIdQLhka0"
      },
      "source": [
        "# Create Model"
      ]
    },
    {
      "cell_type": "code",
      "metadata": {
        "colab": {
          "base_uri": "https://localhost:8080/",
          "height": 78,
          "referenced_widgets": [
            "76a75758c7374ca3af552d7e0b6c6b46",
            "d1f0e2ae64f24daeab80d4d11a8b9ddb",
            "cdf6226cabba41eba27a9ca6bdd8a81e"
          ]
        },
        "id": "6Yfab_0jeMJ7",
        "outputId": "c404df81-305f-468f-e2cd-d0b834c5c312"
      },
      "source": [
        "kmeans = create_model('kmeans')"
      ],
      "execution_count": 7,
      "outputs": [
        {
          "output_type": "display_data",
          "data": {
            "text/html": [
              "<div>\n",
              "<style scoped>\n",
              "    .dataframe tbody tr th:only-of-type {\n",
              "        vertical-align: middle;\n",
              "    }\n",
              "\n",
              "    .dataframe tbody tr th {\n",
              "        vertical-align: top;\n",
              "    }\n",
              "\n",
              "    .dataframe thead th {\n",
              "        text-align: right;\n",
              "    }\n",
              "</style>\n",
              "<table border=\"1\" class=\"dataframe\">\n",
              "  <thead>\n",
              "    <tr style=\"text-align: right;\">\n",
              "      <th></th>\n",
              "      <th>Silhouette</th>\n",
              "      <th>Calinski-Harabasz</th>\n",
              "      <th>Davies-Bouldin</th>\n",
              "      <th>Homogeneity</th>\n",
              "      <th>Rand Index</th>\n",
              "      <th>Completeness</th>\n",
              "    </tr>\n",
              "  </thead>\n",
              "  <tbody>\n",
              "    <tr>\n",
              "      <th>0</th>\n",
              "      <td>0.7581</td>\n",
              "      <td>1611.2649</td>\n",
              "      <td>0.3743</td>\n",
              "      <td>0</td>\n",
              "      <td>0</td>\n",
              "      <td>0</td>\n",
              "    </tr>\n",
              "  </tbody>\n",
              "</table>\n",
              "</div>"
            ],
            "text/plain": [
              "   Silhouette  Calinski-Harabasz  ...  Rand Index  Completeness\n",
              "0      0.7581          1611.2649  ...           0             0\n",
              "\n",
              "[1 rows x 6 columns]"
            ]
          },
          "metadata": {
            "tags": []
          }
        }
      ]
    },
    {
      "cell_type": "code",
      "metadata": {
        "colab": {
          "base_uri": "https://localhost:8080/"
        },
        "id": "jbt2w4YBe-Dm",
        "outputId": "ad54c8ea-9599-457e-f4dd-1b63296995f0"
      },
      "source": [
        "print(kmeans)"
      ],
      "execution_count": 13,
      "outputs": [
        {
          "output_type": "stream",
          "text": [
            "KMeans(algorithm='auto', copy_x=True, init='k-means++', max_iter=300,\n",
            "       n_clusters=4, n_init=10, n_jobs=-1, precompute_distances='deprecated',\n",
            "       random_state=123, tol=0.0001, verbose=0)\n"
          ],
          "name": "stdout"
        }
      ]
    },
    {
      "cell_type": "code",
      "metadata": {
        "colab": {
          "base_uri": "https://localhost:8080/",
          "height": 78,
          "referenced_widgets": [
            "028cf9aa064f4f23baa83f3074ce93af",
            "1a668586184d4971a7586ad76e39679e",
            "8900b86de5b74061855ce41320dd3159"
          ]
        },
        "id": "mMqnKlyufMEV",
        "outputId": "ec8ca9f2-804e-4b92-be68-d5ac3b73338f"
      },
      "source": [
        "kmodes = create_model('kmodes')"
      ],
      "execution_count": 14,
      "outputs": [
        {
          "output_type": "display_data",
          "data": {
            "text/html": [
              "<div>\n",
              "<style scoped>\n",
              "    .dataframe tbody tr th:only-of-type {\n",
              "        vertical-align: middle;\n",
              "    }\n",
              "\n",
              "    .dataframe tbody tr th {\n",
              "        vertical-align: top;\n",
              "    }\n",
              "\n",
              "    .dataframe thead th {\n",
              "        text-align: right;\n",
              "    }\n",
              "</style>\n",
              "<table border=\"1\" class=\"dataframe\">\n",
              "  <thead>\n",
              "    <tr style=\"text-align: right;\">\n",
              "      <th></th>\n",
              "      <th>Silhouette</th>\n",
              "      <th>Calinski-Harabasz</th>\n",
              "      <th>Davies-Bouldin</th>\n",
              "      <th>Homogeneity</th>\n",
              "      <th>Rand Index</th>\n",
              "      <th>Completeness</th>\n",
              "    </tr>\n",
              "  </thead>\n",
              "  <tbody>\n",
              "    <tr>\n",
              "      <th>0</th>\n",
              "      <td>-0.3487</td>\n",
              "      <td>19.8356</td>\n",
              "      <td>3.1046</td>\n",
              "      <td>0</td>\n",
              "      <td>0</td>\n",
              "      <td>0</td>\n",
              "    </tr>\n",
              "  </tbody>\n",
              "</table>\n",
              "</div>"
            ],
            "text/plain": [
              "   Silhouette  Calinski-Harabasz  ...  Rand Index  Completeness\n",
              "0     -0.3487            19.8356  ...           0             0\n",
              "\n",
              "[1 rows x 6 columns]"
            ]
          },
          "metadata": {
            "tags": []
          }
        }
      ]
    },
    {
      "cell_type": "code",
      "metadata": {
        "colab": {
          "base_uri": "https://localhost:8080/"
        },
        "id": "4ZpxlK2sfL4t",
        "outputId": "e0e8bd3c-51cf-4d42-fea0-d9299cf215c6"
      },
      "source": [
        "print(kmodes)"
      ],
      "execution_count": 15,
      "outputs": [
        {
          "output_type": "stream",
          "text": [
            "KModes(cat_dissim=<function matching_dissim at 0x7f9d53ca5d08>, init='Cao',\n",
            "       max_iter=100, n_clusters=4, n_init=1, n_jobs=-1, random_state=123,\n",
            "       verbose=0)\n"
          ],
          "name": "stdout"
        }
      ]
    },
    {
      "cell_type": "markdown",
      "metadata": {
        "id": "HUeoSHbshdT3"
      },
      "source": [
        "# Analyze Model"
      ]
    },
    {
      "cell_type": "code",
      "metadata": {
        "colab": {
          "base_uri": "https://localhost:8080/",
          "height": 617
        },
        "id": "Xxb6T2aneXAh",
        "outputId": "c9d9c44c-5941-483a-dd23-4d17e53d712c"
      },
      "source": [
        "plot_model(kmeans)"
      ],
      "execution_count": 8,
      "outputs": [
        {
          "output_type": "display_data",
          "data": {
            "text/html": [
              "<html>\n",
              "<head><meta charset=\"utf-8\" /></head>\n",
              "<body>\n",
              "    <div>\n",
              "            <script src=\"https://cdnjs.cloudflare.com/ajax/libs/mathjax/2.7.5/MathJax.js?config=TeX-AMS-MML_SVG\"></script><script type=\"text/javascript\">if (window.MathJax) {MathJax.Hub.Config({SVG: {font: \"STIX-Web\"}});}</script>\n",
              "                <script type=\"text/javascript\">window.PlotlyConfig = {MathJaxConfig: 'local'};</script>\n",
              "        <script src=\"https://cdn.plot.ly/plotly-latest.min.js\"></script>    \n",
              "            <div id=\"acdc45df-24d7-4993-abd2-d6066408ff23\" class=\"plotly-graph-div\" style=\"height:600px; width:100%;\"></div>\n",
              "            <script type=\"text/javascript\">\n",
              "                \n",
              "                    window.PLOTLYENV=window.PLOTLYENV || {};\n",
              "                    \n",
              "                if (document.getElementById(\"acdc45df-24d7-4993-abd2-d6066408ff23\")) {\n",
              "                    Plotly.newPlot(\n",
              "                        'acdc45df-24d7-4993-abd2-d6066408ff23',\n",
              "                        [{\"customdata\": [[89], [91], [92], [90], [93], [89], [88], [87], [86], [82], [91], [88], [87], [91], [90], [85], [91], [88], [85], [85], [88], [84], [88], [94], [86], [94], [89], [87], [84], [91], [91], [88], [88], [89], [91], [90], [89], [83], [83], [86], [84], [94], [94], [79], [88], [85], [82], [82], [91], [91], [89], [84], [87], [81], [93], [84], [95], [89], [86], [85], [87], [92], [89], [85], [88], [86], [94], [87], [85], [83], [87], [88], [84], [85], [91], [90], [88], [89], [88], [92], [90], [85], [88], [94], [84], [91], [88], [87], [86], [83], [83], [91], [86], [89], [92], [87], [84], [83], [83], [85], [90], [97], [92], [87], [91], [83], [87], [91], [82], [91], [90], [86], [85], [90], [84], [87], [84], [88], [91], [84], [94], [89], [92], [89], [90], [90], [88], [88], [93], [90], [87], [87], [91], [87], [87], [92], [84], [87], [87], [83], [79], [92], [91], [83], [86], [84], [82]], \"hoverlabel\": {\"namelength\": 0}, \"hovertemplate\": \"Cluster=Cluster 0<br>PCA1=%{x}<br>PCA2=%{y}<br>Feature=%{customdata[0]}\", \"legendgroup\": \"Cluster=Cluster 0\", \"marker\": {\"color\": \"#636efa\", \"opacity\": 0.5, \"symbol\": \"circle\"}, \"mode\": \"markers\", \"name\": \"Cluster=Cluster 0\", \"showlegend\": true, \"textposition\": \"top center\", \"type\": \"scatter\", \"x\": [-1.8925108909606934, -2.446141481399536, -2.441359281539917, -1.9237722158432007, -2.567403554916382, -2.1055781841278076, -2.188415288925171, -2.0617520809173584, -2.3022961616516113, -2.0517539978027344, -2.287584066390991, -1.9803950786590576, -2.186924934387207, -1.9888646602630615, -2.4957385063171387, -2.069377899169922, -2.0606772899627686, -1.856850504875183, -1.8605685234069824, -1.8598631620407104, -1.8583760261535645, -1.8125985860824585, -2.181046962738037, -2.1219983100891113, -1.9440786838531494, -2.0897743701934814, -2.1338746547698975, -1.9494258165359497, -2.039295196533203, -2.2638330459594727, -2.0596237182617188, -2.1045496463775635, -1.8776606321334839, -1.587644100189209, -2.4708573818206787, -1.8108783960342407, -1.9874404668807983, -2.084897041320801, -2.075246810913086, -2.07730770111084, -2.1082663536071777, -2.4042844772338867, -2.2408645153045654, -1.651897668838501, -2.1966559886932373, -2.1063120365142822, -1.6872618198394775, -1.9126179218292236, -2.351104974746704, -2.377901315689087, -2.1601521968841553, -1.855593204498291, -2.1368680000305176, -1.9100580215454102, -2.419935941696167, -2.353624105453491, -2.3908019065856934, -2.2267348766326904, -1.7605111598968506, -1.7579728364944458, -2.011019468307495, -2.0545296669006348, -2.109975814819336, -2.0341999530792236, -2.2967092990875244, -2.3114418983459473, -2.0640289783477783, -2.1894965171813965, -2.2135655879974365, -1.7196685075759888, -1.64151132106781, -1.9635159969329834, -1.881954312324524, -1.959352731704712, -2.1987507343292236, -2.1246163845062256, -1.947566032409668, -2.2696261405944824, -2.025716543197632, -1.9876149892807007, -2.2367465496063232, -2.155531167984009, -1.9479434490203857, -2.324178457260132, -2.0794029235839844, -2.1601338386535645, -2.325666666030884, -1.8905360698699951, -2.127960443496704, -1.8501152992248535, -2.0660319328308105, -2.284118413925171, -2.408627510070801, -2.0549628734588623, -2.1151368618011475, -2.2149157524108887, -1.8268460035324097, -2.0488767623901367, -2.074065685272217, -1.7799248695373535, -2.1132564544677734, -2.1665842533111572, -2.1383726596832275, -2.100966215133667, -2.271970510482788, -2.1726090908050537, -1.9797379970550537, -2.2095301151275635, -1.9316942691802979, -2.1905839443206787, -2.0875253677368164, -2.0325489044189453, -1.8449581861495972, -2.0547006130218506, -2.3168742656707764, -2.0156712532043457, -2.137449264526367, -1.874466061592102, -2.1795403957366943, -1.8540502786636353, -2.3009042739868164, -1.9614747762680054, -2.0620200634002686, -1.6899800300598145, -2.0057291984558105, -1.9113861322402954, -2.372241497039795, -1.7185101509094238, -2.665086269378662, -2.0348479747772217, -1.9122360944747925, -1.8777120113372803, -2.0219218730926514, -2.1763696670532227, -1.9208530187606812, -2.007206439971924, -2.0126116275787354, -2.1694540977478027, -1.9726831912994385, -1.6920149326324463, -1.7340508699417114, -2.309185028076172, -2.3963868618011475, -1.89454984664917, -2.0904910564422607, -2.0610485076904297, -2.142347812652588], \"xaxis\": \"x\", \"y\": [-0.6046133041381836, -0.2782950699329376, -0.5181752443313599, -0.6273737549781799, -0.5584246516227722, -0.5517791509628296, -0.4018643796443939, -0.39991602301597595, -0.11431647092103958, -0.15961848199367523, -0.8755621910095215, -0.4501754641532898, -0.8067986965179443, -0.46772336959838867, -0.3681068420410156, -0.5698588490486145, -0.5417883992195129, -0.7054096460342407, -0.5908672213554382, -0.43428030610084534, -0.5353788733482361, -0.19896425306797028, -0.4708766043186188, -0.7167496085166931, -0.5298415422439575, -0.44240671396255493, -0.5696758031845093, -0.628052294254303, -0.4053437411785126, -0.45444363355636597, -0.6563172936439514, -0.64800626039505, -0.7015095353126526, -1.0908340215682983, -0.24686957895755768, -0.689354419708252, -0.5169973969459534, -0.5585018992424011, -0.3794022798538208, -0.6825623512268066, -0.3138173818588257, -0.717338502407074, -0.7895577549934387, -0.29117539525032043, -0.6273106932640076, -0.28449535369873047, -0.7954896688461304, -0.3122000992298126, -0.6846128106117249, -0.5926914215087891, -0.6676334142684937, -0.574437141418457, -0.55195552110672, -0.1915048211812973, -0.5971874594688416, -0.10320498794317245, -0.5480986833572388, -0.4646400809288025, -0.17396238446235657, -0.6274949908256531, -0.5766028761863708, -0.5009898543357849, -0.7826585173606873, -0.40722253918647766, -0.19657941162586212, -0.05758720263838768, -0.746414303779602, -0.5869163870811462, -0.2550450563430786, -0.6422722339630127, -0.3200516998767853, -0.96404629945755, -0.29422032833099365, -0.3045940697193146, -0.6138377785682678, -0.4603714048862457, -0.5215536952018738, -0.28863194584846497, -0.5390363335609436, -0.6418523192405701, -0.5264177322387695, -0.39828982949256897, -0.6458555459976196, -0.5246598124504089, -0.5608564019203186, -0.5893179774284363, -0.5350068807601929, -0.5393489003181458, -0.13910986483097076, -0.4274951219558716, -0.15270155668258667, -0.4958561360836029, -0.44874316453933716, -0.7539517879486084, -0.4297362267971039, -0.5241268277168274, -0.3671599328517914, -0.2910277247428894, -0.4538953900337219, -0.6441530585289001, -0.36960744857788086, -0.7505223751068115, -0.8410365581512451, -0.5619376301765442, -0.4491521716117859, -0.23068514466285706, -0.4565931260585785, -0.579750657081604, -0.3003394603729248, -0.6014840006828308, -0.6338679790496826, -0.556391179561615, -0.7365489602088928, -0.7520080208778381, -0.4088176488876343, -0.6102163791656494, -0.3834385573863983, -0.6191138029098511, -0.6347752809524536, -0.5275813341140747, -0.6493921875953674, -0.6400381326675415, -0.5549706220626831, -0.6934901475906372, -0.4200302064418793, -0.5456020832061768, -0.5161714553833008, -0.7034938335418701, -0.3562736213207245, -0.5728517770767212, -0.6857115626335144, -0.6206333637237549, -0.5746302604675293, -0.6740190982818604, -0.9227831363677979, -0.5682777166366577, -0.6402749419212341, -0.3689551055431366, -0.20918376743793488, -0.46643900871276855, -0.3269648551940918, -0.6093332171440125, -0.107436902821064, -0.3030516803264618, -0.44017425179481506, -0.4187217652797699, -0.30471065640449524], \"yaxis\": \"y\"}, {\"customdata\": [[65], [57], [65], [59], [61], [60], [55], [63], [62], [59], [67], [58], [66], [58], [57], [57], [66], [59], [68], [61], [58], [59], [61], [64], [63], [64], [62], [61], [62], [67], [61], [57], [63], [56], [51], [59], [58], [55], [61], [55], [58], [68], [58], [67], [56], [59], [59], [57], [60], [67], [61], [60], [59], [57], [59], [59], [58], [63], [61], [56], [58], [56], [59], [61], [60], [56], [63], [58], [59], [62], [59], [59], [65], [64], [59], [59], [61], [64], [58], [57], [58], [56], [63], [58], [60], [58], [62], [66], [66], [63], [64], [62], [62], [60], [65], [60], [63], [56], [58], [62], [56], [59], [65], [62], [59], [64], [66], [59], [59], [59], [62], [59], [54], [61], [55], [53], [55], [61], [59], [59], [56], [61], [61], [60], [57], [61], [55], [53], [61], [64], [62], [55], [58], [57], [58], [64], [57], [62], [56], [53], [60], [56], [62], [61], [62], [55], [60], [58], [61], [59], [58], [56], [60], [62], [58], [64], [63]], \"hoverlabel\": {\"namelength\": 0}, \"hovertemplate\": \"Cluster=Cluster 1<br>PCA1=%{x}<br>PCA2=%{y}<br>Feature=%{customdata[0]}\", \"legendgroup\": \"Cluster=Cluster 1\", \"marker\": {\"color\": \"#EF553B\", \"opacity\": 0.5, \"symbol\": \"circle\"}, \"mode\": \"markers\", \"name\": \"Cluster=Cluster 1\", \"showlegend\": true, \"textposition\": \"top center\", \"type\": \"scatter\", \"x\": [0.7059596180915833, 0.938481330871582, 0.6609920859336853, 1.2113146781921387, 0.7160186767578125, 1.132887601852417, 1.206216812133789, 0.9146565794944763, 0.9278727173805237, 1.2454276084899902, 0.7728725075721741, 1.107447862625122, 0.8652967214584351, 1.2687187194824219, 0.9449528455734253, 1.3021695613861084, 0.7622307538986206, 1.0169681310653687, 1.010373830795288, 0.7954778671264648, 1.1841089725494385, 1.108073115348816, 0.8997244238853455, 1.0437347888946533, 0.5968287587165833, 0.9777641892433167, 1.0725417137145996, 0.8566257357597351, 1.2474044561386108, 0.7324368953704834, 1.0077911615371704, 1.0477724075317383, 1.195106029510498, 1.0101209878921509, 1.2191797494888306, 1.3029768466949463, 0.9578529596328735, 0.9594900608062744, 1.1929197311401367, 0.9890444874763489, 1.2806113958358765, 0.7310240864753723, 0.6935244798660278, 1.1100283861160278, 1.0574474334716797, 1.0262013673782349, 1.3206466436386108, 1.3467046022415161, 0.876446008682251, 1.046473503112793, 0.9431469440460205, 0.9041622877120972, 0.8645505905151367, 0.935233473777771, 0.9425914287567139, 0.8657572865486145, 0.9030629396438599, 0.847323477268219, 0.936654269695282, 1.0860486030578613, 1.001940131187439, 1.1219556331634521, 0.911906898021698, 0.9605005383491516, 0.7580636143684387, 1.185149073600769, 0.8463935852050781, 1.1666392087936401, 0.8220017552375793, 0.938933253288269, 1.0372281074523926, 0.6350504159927368, 0.8416804671287537, 0.5770886540412903, 0.8637285232543945, 1.0205113887786865, 0.7065488696098328, 0.8861284852027893, 1.1682865619659424, 1.1695785522460938, 1.1412700414657593, 0.9694488048553467, 1.1194003820419312, 0.9700284004211426, 1.379157304763794, 0.9214391708374023, 0.9629565477371216, 0.978308379650116, 0.9549229741096497, 1.1697152853012085, 1.0121031999588013, 0.8598955869674683, 0.7344582080841064, 0.9008410573005676, 0.8612090945243835, 0.7821930050849915, 1.2041499614715576, 1.2062690258026123, 1.0852609872817993, 0.8459433317184448, 0.8943125009536743, 0.8726419806480408, 0.9041293263435364, 0.9066280722618103, 0.9808086156845093, 1.0768593549728394, 1.063683271408081, 0.6491555571556091, 1.1276582479476929, 1.3253414630889893, 0.5838879346847534, 0.968822181224823, 1.1878057718276978, 0.9680411219596863, 0.9446700215339661, 1.3514660596847534, 1.1107919216156006, 0.9694490432739258, 0.986366331577301, 0.8854324221611023, 0.8404750227928162, 1.178896188735962, 0.9128895998001099, 0.9540258049964905, 0.9951065182685852, 0.9904003143310547, 1.209730625152588, 0.854526698589325, 1.2113990783691406, 0.6485198736190796, 1.168658971786499, 0.9780917167663574, 0.9415026307106018, 1.154331088066101, 0.9390624761581421, 0.9404513239860535, 1.2175977230072021, 0.841769814491272, 0.8659573793411255, 0.998359203338623, 0.6555733680725098, 0.7918435335159302, 1.0488444566726685, 0.6643080711364746, 0.7759047746658325, 1.4165247678756714, 1.0276424884796143, 1.321184754371643, 0.7874785661697388, 0.8919394612312317, 1.285625696182251, 1.0405645370483398, 0.9312349557876587, 0.981971263885498, 1.1042746305465698, 1.0590704679489136, 0.7440270781517029], \"xaxis\": \"x\", \"y\": [-1.013558268547058, -0.911418080329895, -1.0233873128890991, -1.3413424491882324, -0.8559834361076355, -1.3481123447418213, -0.9890968799591064, -1.0457971096038818, -1.321817398071289, -1.1350938081741333, -1.4498319625854492, -0.9032411575317383, -1.0111196041107178, -1.2877277135849, -1.0827041864395142, -1.131754994392395, -1.1008294820785522, -1.1019898653030396, -1.240654468536377, -0.8398825526237488, -1.2783961296081543, -1.0491403341293335, -1.0180184841156006, -1.140784502029419, -1.246671438217163, -1.00543212890625, -1.341054081916809, -1.0899099111557007, -1.3089094161987305, -1.203320860862732, -0.9251205921173096, -0.9909496307373047, -1.5360716581344604, -0.7192445993423462, -0.9339128136634827, -1.035455346107483, -0.7304667234420776, -1.0207957029342651, -1.3237193822860718, -0.7460960149765015, -1.148784875869751, -1.2106183767318726, -0.8048183917999268, -1.2312021255493164, -0.9625588655471802, -1.0784361362457275, -0.8439512252807617, -1.0718238353729248, -0.9881936311721802, -1.1669306755065918, -1.223675012588501, -0.9268787503242493, -0.8363634943962097, -1.0689483880996704, -1.4138811826705933, -1.0093226432800293, -0.9571161866188049, -1.0958573818206787, -1.0537810325622559, -1.1540806293487549, -0.8672708868980408, -0.936193585395813, -1.0921088457107544, -1.121390461921692, -1.089959740638733, -0.9262417554855347, -0.7750477194786072, -0.9858205318450928, -0.7151244282722473, -1.1841012239456177, -1.131176471710205, -0.844488263130188, -1.0551121234893799, -1.1057262420654297, -0.6305227279663086, -1.069000005722046, -1.0071638822555542, -1.3114511966705322, -1.000194787979126, -0.9948423504829407, -1.1282607316970825, -0.5166518092155457, -0.9454618096351624, -1.0226846933364868, -1.1911311149597168, -0.9607786536216736, -1.0563538074493408, -1.2837070226669312, -1.427964687347412, -1.3232675790786743, -1.2827355861663818, -1.2307734489440918, -1.1739380359649658, -1.0551952123641968, -1.3076649904251099, -0.9017108082771301, -1.1104902029037476, -0.7873290181159973, -1.000543236732483, -1.025555968284607, -0.8956352472305298, -1.0128642320632935, -1.3387060165405273, -0.8129184246063232, -1.1529576778411865, -0.8646272420883179, -1.0687674283981323, -0.7130072712898254, -1.1423070430755615, -1.0537877082824707, -0.7095231413841248, -0.9508262872695923, -0.9010031223297119, -1.1378580331802368, -0.8512720465660095, -0.9684157371520996, -0.8504675030708313, -0.9652548432350159, -1.214759349822998, -0.9872027635574341, -1.0083832740783691, -1.1914814710617065, -1.2877886295318604, -1.1050115823745728, -0.8446990847587585, -1.0986212491989136, -1.0174120664596558, -0.9365445375442505, -1.381331205368042, -1.2345564365386963, -1.3828846216201782, -0.8932649493217468, -0.8738515973091125, -0.8986911177635193, -0.824820876121521, -1.0093414783477783, -1.0940495729446411, -1.1315540075302124, -0.9501850008964539, -0.7261454463005066, -0.9506073594093323, -1.0428457260131836, -1.03412926197052, -0.890129804611206, -1.0307950973510742, -1.1874051094055176, -1.2614195346832275, -1.0112113952636719, -1.0185751914978027, -0.9244826436042786, -1.0491610765457153, -1.0879011154174805, -1.151719093322754, -1.2111093997955322, -0.9261338710784912, -0.890799880027771, -1.017029881477356], \"yaxis\": \"y\"}, {\"customdata\": [[38], [29], [36], [31], [39], [88], [86], [35], [30], [35], [25], [37], [30], [36], [34], [33], [36], [32], [83], [31], [37], [36], [90], [31], [37], [35], [33], [84], [37], [29], [44], [32], [31], [29], [36], [31], [90], [33], [33], [89], [29], [32], [84], [30], [88], [38], [92], [31], [30], [36], [85], [30], [28], [37], [29], [31], [29], [31], [33], [31], [83], [34], [22], [87], [34], [25], [31], [31], [31], [35], [28], [33], [31], [28], [39], [36], [32], [93], [36], [34], [37], [33], [43], [33], [26], [24], [31], [29], [36], [86], [33], [29], [40], [35], [32], [37], [34], [34], [84], [82], [88], [85], [35], [33], [33], [29], [83], [28], [31], [37], [31], [33], [30], [30], [34], [30], [30], [86], [29], [30], [28], [37], [37], [82], [42], [28], [30], [32], [35], [35], [31], [35], [33], [29], [35], [38], [34], [33], [32], [34], [31], [27], [39], [38], [84], [77], [34], [28], [36], [91], [34]], \"hoverlabel\": {\"namelength\": 0}, \"hovertemplate\": \"Cluster=Cluster 2<br>PCA1=%{x}<br>PCA2=%{y}<br>Feature=%{customdata[0]}\", \"legendgroup\": \"Cluster=Cluster 2\", \"marker\": {\"color\": \"#00cc96\", \"opacity\": 0.5, \"symbol\": \"circle\"}, \"mode\": \"markers\", \"name\": \"Cluster=Cluster 2\", \"showlegend\": true, \"textposition\": \"top center\", \"type\": \"scatter\", \"x\": [0.21730564534664154, 0.5268500447273254, 0.30294495820999146, 0.47040435671806335, -0.04759960621595383, -1.0392528772354126, -1.2481129169464111, 0.012673295103013515, 0.2341788113117218, 0.18269602954387665, 0.2905277609825134, 0.32006579637527466, 0.2853190302848816, 0.06669794768095016, 0.13689832389354706, 0.036997824907302856, 0.16245532035827637, -0.08843415975570679, -1.127798318862915, 0.4950566291809082, -0.1374863088130951, 0.228367418050766, -1.2098764181137085, 0.3295595049858093, 0.3109807074069977, 0.15597008168697357, 0.23575638234615326, -1.2666198015213013, 0.38809674978256226, 0.14711464941501617, 0.21406924724578857, 0.32921430468559265, 0.024459287524223328, 0.18989425897598267, -0.06863193213939667, 0.3474768400192261, -0.9541645646095276, 0.20307905972003937, 0.31383606791496277, -1.2921520471572876, 0.3278278112411499, 0.05098878592252731, -0.9031899571418762, 0.30713117122650146, -1.097561001777649, -0.09633179008960724, -1.0952298641204834, 0.432758092880249, 0.42626070976257324, -0.15304410457611084, -1.398309588432312, 0.22945094108581543, 0.41961410641670227, -0.11069278419017792, 0.5747355222702026, 0.3580639958381653, 0.3769105076789856, -0.015299812890589237, 0.1817648559808731, 0.11017576605081558, -1.1975951194763184, 0.014223241247236729, 0.40868717432022095, -0.9670627117156982, -0.0481569804251194, 0.4053848087787628, 0.4099480211734772, 0.48999249935150146, 0.7206938862800598, 0.2045576572418213, 0.10836505144834518, 0.37524691224098206, 0.4277504086494446, 0.13276275992393494, -0.019185839220881462, -0.03367699310183525, 0.47085970640182495, -1.1784387826919556, 0.14166396856307983, 0.40889477729797363, 0.13527542352676392, 0.22843177616596222, 0.16150256991386414, 0.39048367738723755, 0.142482191324234, 0.4670490622520447, 0.24080125987529755, 0.6209193468093872, 0.10015233606100082, -0.7634169459342957, 0.41940152645111084, 0.4717485010623932, -0.17843134701251984, 0.07082752883434296, 0.19313442707061768, 0.14987924695014954, 0.28625577688217163, 0.24302810430526733, -1.090366005897522, -1.0432095527648926, -1.6249122619628906, -1.021291732788086, 0.22200214862823486, 0.07021165639162064, 0.34601160883903503, 0.18708528578281403, -0.9552844762802124, 0.15203824639320374, 0.33337780833244324, 0.16539956629276276, 0.40319520235061646, 0.2534964680671692, 0.10798358917236328, 0.2529771327972412, -0.22938194870948792, 0.4200034737586975, 0.5330695509910583, -1.1908671855926514, 0.2587076425552368, 0.10471142083406448, 0.4492087960243225, -0.15415579080581665, 0.1837093085050583, -0.967556357383728, 0.10755234211683273, 0.2339584082365036, 0.3886311650276184, -0.017084119841456413, -0.057302750647068024, 0.29574933648109436, 0.2686556577682495, 0.08619207888841629, -0.02430490031838417, 0.25281158089637756, 0.39567577838897705, 0.2742164731025696, 0.3833603262901306, 0.21584908664226532, 0.4241282343864441, 0.23046891391277313, 0.244052916765213, 0.28572389483451843, -0.1854788213968277, 0.33795446157455444, -1.191551685333252, -0.8348653316497803, 0.18865472078323364, 0.570286214351654, 0.23536431789398193, -1.242785096168518, 0.31007352471351624], \"xaxis\": \"x\", \"y\": [1.3840136528015137, 1.7074309587478638, 1.552661418914795, 1.6505076885223389, 1.46872878074646, 1.313529133796692, 1.5822618007659912, 1.8431358337402344, 1.4609123468399048, 1.6082284450531006, 1.7901946306228638, 1.439631700515747, 1.7974603176116943, 1.735619306564331, 1.6224828958511353, 1.5980231761932373, 1.4691561460494995, 1.8279329538345337, 1.3804680109024048, 1.6722875833511353, 1.939324975013733, 1.3946952819824219, 1.3846384286880493, 1.5755293369293213, 1.5576443672180176, 1.5906009674072266, 1.2902307510375977, 1.3289759159088135, 1.4121015071868896, 1.6852223873138428, 1.49152410030365, 1.6238558292388916, 1.880942702293396, 1.732970118522644, 1.5834932327270508, 1.6445940732955933, 0.9893571138381958, 1.7269865274429321, 1.5917893648147583, 1.3272064924240112, 1.6049139499664307, 1.8996630907058716, 1.2898563146591187, 1.571330189704895, 1.2589963674545288, 1.3905675411224365, 1.1727349758148193, 1.6303404569625854, 1.4308139085769653, 1.7117799520492554, 1.3795663118362427, 1.4856655597686768, 1.5081249475479126, 1.7989039421081543, 1.8315718173980713, 1.5628036260604858, 1.6541398763656616, 1.7923003435134888, 1.5598088502883911, 1.727551817893982, 1.4958430528640747, 1.5946013927459717, 1.9740715026855469, 1.0706335306167603, 1.7782211303710938, 1.76280677318573, 1.6457152366638184, 1.749253749847412, 1.3508515357971191, 1.719240665435791, 1.8203260898590088, 1.799570083618164, 1.7193210124969482, 1.6239615678787231, 1.438167929649353, 1.5181021690368652, 1.77976393699646, 1.3195273876190186, 1.6379029750823975, 1.411554217338562, 1.7136266231536865, 1.3602027893066406, 1.188510537147522, 1.3470464944839478, 1.7697525024414062, 1.907338261604309, 1.7288546562194824, 1.567267656326294, 1.6948987245559692, 1.2243895530700684, 1.7434922456741333, 1.8495571613311768, 1.5557080507278442, 1.6776858568191528, 1.648587942123413, 1.609993577003479, 1.1386858224868774, 1.6242215633392334, 1.2543904781341553, 1.5599318742752075, 1.5343340635299683, 1.2016258239746094, 1.869469404220581, 1.969739317893982, 1.59597909450531, 1.510058045387268, 1.1784844398498535, 1.7482428550720215, 1.4389171600341797, 1.3074843883514404, 1.6709246635437012, 1.6210644245147705, 1.9551011323928833, 1.8050061464309692, 1.8646981716156006, 1.5791503190994263, 1.5752052068710327, 1.279289960861206, 1.6856589317321777, 1.7883360385894775, 1.8500044345855713, 1.6299537420272827, 1.627492070198059, 1.402700662612915, 1.4363181591033936, 1.6203926801681519, 1.7142448425292969, 1.642421007156372, 1.8753563165664673, 1.3939497470855713, 1.668376088142395, 1.6215230226516724, 1.7425568103790283, 1.8908241987228394, 1.6332610845565796, 1.6670970916748047, 1.6070724725723267, 1.7098534107208252, 1.6521551609039307, 1.3890036344528198, 1.9799551963806152, 1.8709042072296143, 1.650573492050171, 1.5676648616790771, 1.2071728706359863, 1.6633244752883911, 1.6265677213668823, 1.6086492538452148, 1.5278621912002563, 1.2472147941589355, 1.9068388938903809], \"yaxis\": \"y\"}, {\"customdata\": [[27], [23], [25], [17], [24], [20], [23], [26], [23], [27], [23], [31], [22], [24], [29], [22], [28], [26], [25], [24], [24], [25], [20], [30], [25], [28], [20], [24], [22], [26], [17], [26], [28], [18], [21], [21], [17], [27], [25], [24], [28], [26], [28], [25], [24], [17], [29], [29], [28], [18]], \"hoverlabel\": {\"namelength\": 0}, \"hovertemplate\": \"Cluster=Cluster 3<br>PCA1=%{x}<br>PCA2=%{y}<br>Feature=%{customdata[0]}\", \"legendgroup\": \"Cluster=Cluster 3\", \"marker\": {\"color\": \"#ab63fa\", \"opacity\": 0.5, \"symbol\": \"circle\"}, \"mode\": \"markers\", \"name\": \"Cluster=Cluster 3\", \"showlegend\": true, \"textposition\": \"top center\", \"type\": \"scatter\", \"x\": [2.8772213459014893, 3.289667844772339, 3.314784526824951, 3.6060125827789307, 2.968492269515991, 3.0222134590148926, 2.9965310096740723, 3.023343324661255, 3.028472661972046, 2.792816162109375, 2.8210859298706055, 2.8857028484344482, 2.95554780960083, 3.027672052383423, 2.908193349838257, 3.2271366119384766, 3.057406187057495, 2.9467103481292725, 2.744124412536621, 3.334589958190918, 3.106052875518799, 3.0625455379486084, 2.964531660079956, 2.5824334621429443, 2.994615077972412, 3.1899030208587646, 2.9100565910339355, 3.1284396648406982, 2.9790425300598145, 3.02968430519104, 3.203385829925537, 2.7615153789520264, 2.7276923656463623, 3.0185022354125977, 3.0184664726257324, 3.13369083404541, 3.248023271560669, 3.136930465698242, 2.8772077560424805, 2.836010217666626, 3.1090493202209473, 2.6580326557159424, 2.6248483657836914, 2.6834444999694824, 3.078514814376831, 3.3186593055725098, 3.0194802284240723, 2.996966600418091, 2.6126341819763184, 2.8596510887145996], \"xaxis\": \"x\", \"y\": [-0.15961307287216187, 0.05549773573875427, -0.060192301869392395, -0.020803695544600487, 0.09709049761295319, 0.12764962017536163, 0.10028165578842163, -0.2797902524471283, -0.005102768540382385, -0.1329677402973175, -0.016744311898946762, -0.2874935567378998, 0.2758648693561554, 0.03958531841635704, 0.014593570493161678, 0.02355741523206234, -0.3726676404476166, 0.0739348903298378, 0.22846472263336182, -0.02342856302857399, 0.046651918441057205, -0.02478952705860138, 0.030776306986808777, -0.011832378804683685, 0.004344685468822718, -0.39341896772384644, 0.24234715104103088, -0.12386398017406464, -0.17767800390720367, -0.1178194209933281, -0.047596096992492676, 0.027471566572785378, 0.06575144082307816, 0.26981499791145325, 0.02567814476788044, 0.005364901851862669, 0.22315384447574615, -0.33384275436401367, 0.15353736281394958, -0.07559341937303543, -0.2267293781042099, 0.22000481188297272, -0.10508759319782257, 0.038763631135225296, 0.11283332109451294, 0.18149366974830627, 0.12620095908641815, -0.3238433003425598, 0.0076556745916605, 0.2720220685005188], \"yaxis\": \"y\"}],\n",
              "                        {\"height\": 600, \"legend\": {\"tracegroupgap\": 0}, \"margin\": {\"t\": 60}, \"plot_bgcolor\": \"rgb(240,240,240)\", \"template\": {\"data\": {\"bar\": [{\"error_x\": {\"color\": \"#2a3f5f\"}, \"error_y\": {\"color\": \"#2a3f5f\"}, \"marker\": {\"line\": {\"color\": \"#E5ECF6\", \"width\": 0.5}}, \"type\": \"bar\"}], \"barpolar\": [{\"marker\": {\"line\": {\"color\": \"#E5ECF6\", \"width\": 0.5}}, \"type\": \"barpolar\"}], \"carpet\": [{\"aaxis\": {\"endlinecolor\": \"#2a3f5f\", \"gridcolor\": \"white\", \"linecolor\": \"white\", \"minorgridcolor\": \"white\", \"startlinecolor\": \"#2a3f5f\"}, \"baxis\": {\"endlinecolor\": \"#2a3f5f\", \"gridcolor\": \"white\", \"linecolor\": \"white\", \"minorgridcolor\": \"white\", \"startlinecolor\": \"#2a3f5f\"}, \"type\": \"carpet\"}], \"choropleth\": [{\"colorbar\": {\"outlinewidth\": 0, \"ticks\": \"\"}, \"type\": \"choropleth\"}], \"contour\": [{\"colorbar\": {\"outlinewidth\": 0, \"ticks\": \"\"}, \"colorscale\": [[0.0, \"#0d0887\"], [0.1111111111111111, \"#46039f\"], [0.2222222222222222, \"#7201a8\"], [0.3333333333333333, \"#9c179e\"], [0.4444444444444444, \"#bd3786\"], [0.5555555555555556, \"#d8576b\"], [0.6666666666666666, \"#ed7953\"], [0.7777777777777778, \"#fb9f3a\"], [0.8888888888888888, \"#fdca26\"], [1.0, \"#f0f921\"]], \"type\": \"contour\"}], \"contourcarpet\": [{\"colorbar\": {\"outlinewidth\": 0, \"ticks\": \"\"}, \"type\": \"contourcarpet\"}], \"heatmap\": [{\"colorbar\": {\"outlinewidth\": 0, \"ticks\": \"\"}, \"colorscale\": [[0.0, \"#0d0887\"], [0.1111111111111111, \"#46039f\"], [0.2222222222222222, \"#7201a8\"], [0.3333333333333333, \"#9c179e\"], [0.4444444444444444, \"#bd3786\"], [0.5555555555555556, \"#d8576b\"], [0.6666666666666666, \"#ed7953\"], [0.7777777777777778, \"#fb9f3a\"], [0.8888888888888888, \"#fdca26\"], [1.0, \"#f0f921\"]], \"type\": \"heatmap\"}], \"heatmapgl\": [{\"colorbar\": {\"outlinewidth\": 0, \"ticks\": \"\"}, \"colorscale\": [[0.0, \"#0d0887\"], [0.1111111111111111, \"#46039f\"], [0.2222222222222222, \"#7201a8\"], [0.3333333333333333, \"#9c179e\"], [0.4444444444444444, \"#bd3786\"], [0.5555555555555556, \"#d8576b\"], [0.6666666666666666, \"#ed7953\"], [0.7777777777777778, \"#fb9f3a\"], [0.8888888888888888, \"#fdca26\"], [1.0, \"#f0f921\"]], \"type\": \"heatmapgl\"}], \"histogram\": [{\"marker\": {\"colorbar\": {\"outlinewidth\": 0, \"ticks\": \"\"}}, \"type\": \"histogram\"}], \"histogram2d\": [{\"colorbar\": {\"outlinewidth\": 0, \"ticks\": \"\"}, \"colorscale\": [[0.0, \"#0d0887\"], [0.1111111111111111, \"#46039f\"], [0.2222222222222222, \"#7201a8\"], [0.3333333333333333, \"#9c179e\"], [0.4444444444444444, \"#bd3786\"], [0.5555555555555556, \"#d8576b\"], [0.6666666666666666, \"#ed7953\"], [0.7777777777777778, \"#fb9f3a\"], [0.8888888888888888, \"#fdca26\"], [1.0, \"#f0f921\"]], \"type\": \"histogram2d\"}], \"histogram2dcontour\": [{\"colorbar\": {\"outlinewidth\": 0, \"ticks\": \"\"}, \"colorscale\": [[0.0, \"#0d0887\"], [0.1111111111111111, \"#46039f\"], [0.2222222222222222, \"#7201a8\"], [0.3333333333333333, \"#9c179e\"], [0.4444444444444444, \"#bd3786\"], [0.5555555555555556, \"#d8576b\"], [0.6666666666666666, \"#ed7953\"], [0.7777777777777778, \"#fb9f3a\"], [0.8888888888888888, \"#fdca26\"], [1.0, \"#f0f921\"]], \"type\": \"histogram2dcontour\"}], \"mesh3d\": [{\"colorbar\": {\"outlinewidth\": 0, \"ticks\": \"\"}, \"type\": \"mesh3d\"}], \"parcoords\": [{\"line\": {\"colorbar\": {\"outlinewidth\": 0, \"ticks\": \"\"}}, \"type\": \"parcoords\"}], \"pie\": [{\"automargin\": true, \"type\": \"pie\"}], \"scatter\": [{\"marker\": {\"colorbar\": {\"outlinewidth\": 0, \"ticks\": \"\"}}, \"type\": \"scatter\"}], \"scatter3d\": [{\"line\": {\"colorbar\": {\"outlinewidth\": 0, \"ticks\": \"\"}}, \"marker\": {\"colorbar\": {\"outlinewidth\": 0, \"ticks\": \"\"}}, \"type\": \"scatter3d\"}], \"scattercarpet\": [{\"marker\": {\"colorbar\": {\"outlinewidth\": 0, \"ticks\": \"\"}}, \"type\": \"scattercarpet\"}], \"scattergeo\": [{\"marker\": {\"colorbar\": {\"outlinewidth\": 0, \"ticks\": \"\"}}, \"type\": \"scattergeo\"}], \"scattergl\": [{\"marker\": {\"colorbar\": {\"outlinewidth\": 0, \"ticks\": \"\"}}, \"type\": \"scattergl\"}], \"scattermapbox\": [{\"marker\": {\"colorbar\": {\"outlinewidth\": 0, \"ticks\": \"\"}}, \"type\": \"scattermapbox\"}], \"scatterpolar\": [{\"marker\": {\"colorbar\": {\"outlinewidth\": 0, \"ticks\": \"\"}}, \"type\": \"scatterpolar\"}], \"scatterpolargl\": [{\"marker\": {\"colorbar\": {\"outlinewidth\": 0, \"ticks\": \"\"}}, \"type\": \"scatterpolargl\"}], \"scatterternary\": [{\"marker\": {\"colorbar\": {\"outlinewidth\": 0, \"ticks\": \"\"}}, \"type\": \"scatterternary\"}], \"surface\": [{\"colorbar\": {\"outlinewidth\": 0, \"ticks\": \"\"}, \"colorscale\": [[0.0, \"#0d0887\"], [0.1111111111111111, \"#46039f\"], [0.2222222222222222, \"#7201a8\"], [0.3333333333333333, \"#9c179e\"], [0.4444444444444444, \"#bd3786\"], [0.5555555555555556, \"#d8576b\"], [0.6666666666666666, \"#ed7953\"], [0.7777777777777778, \"#fb9f3a\"], [0.8888888888888888, \"#fdca26\"], [1.0, \"#f0f921\"]], \"type\": \"surface\"}], \"table\": [{\"cells\": {\"fill\": {\"color\": \"#EBF0F8\"}, \"line\": {\"color\": \"white\"}}, \"header\": {\"fill\": {\"color\": \"#C8D4E3\"}, \"line\": {\"color\": \"white\"}}, \"type\": \"table\"}]}, \"layout\": {\"annotationdefaults\": {\"arrowcolor\": \"#2a3f5f\", \"arrowhead\": 0, \"arrowwidth\": 1}, \"coloraxis\": {\"colorbar\": {\"outlinewidth\": 0, \"ticks\": \"\"}}, \"colorscale\": {\"diverging\": [[0, \"#8e0152\"], [0.1, \"#c51b7d\"], [0.2, \"#de77ae\"], [0.3, \"#f1b6da\"], [0.4, \"#fde0ef\"], [0.5, \"#f7f7f7\"], [0.6, \"#e6f5d0\"], [0.7, \"#b8e186\"], [0.8, \"#7fbc41\"], [0.9, \"#4d9221\"], [1, \"#276419\"]], \"sequential\": [[0.0, \"#0d0887\"], [0.1111111111111111, \"#46039f\"], [0.2222222222222222, \"#7201a8\"], [0.3333333333333333, \"#9c179e\"], [0.4444444444444444, \"#bd3786\"], [0.5555555555555556, \"#d8576b\"], [0.6666666666666666, \"#ed7953\"], [0.7777777777777778, \"#fb9f3a\"], [0.8888888888888888, \"#fdca26\"], [1.0, \"#f0f921\"]], \"sequentialminus\": [[0.0, \"#0d0887\"], [0.1111111111111111, \"#46039f\"], [0.2222222222222222, \"#7201a8\"], [0.3333333333333333, \"#9c179e\"], [0.4444444444444444, \"#bd3786\"], [0.5555555555555556, \"#d8576b\"], [0.6666666666666666, \"#ed7953\"], [0.7777777777777778, \"#fb9f3a\"], [0.8888888888888888, \"#fdca26\"], [1.0, \"#f0f921\"]]}, \"colorway\": [\"#636efa\", \"#EF553B\", \"#00cc96\", \"#ab63fa\", \"#FFA15A\", \"#19d3f3\", \"#FF6692\", \"#B6E880\", \"#FF97FF\", \"#FECB52\"], \"font\": {\"color\": \"#2a3f5f\"}, \"geo\": {\"bgcolor\": \"white\", \"lakecolor\": \"white\", \"landcolor\": \"#E5ECF6\", \"showlakes\": true, \"showland\": true, \"subunitcolor\": \"white\"}, \"hoverlabel\": {\"align\": \"left\"}, \"hovermode\": \"closest\", \"mapbox\": {\"style\": \"light\"}, \"paper_bgcolor\": \"white\", \"plot_bgcolor\": \"#E5ECF6\", \"polar\": {\"angularaxis\": {\"gridcolor\": \"white\", \"linecolor\": \"white\", \"ticks\": \"\"}, \"bgcolor\": \"#E5ECF6\", \"radialaxis\": {\"gridcolor\": \"white\", \"linecolor\": \"white\", \"ticks\": \"\"}}, \"scene\": {\"xaxis\": {\"backgroundcolor\": \"#E5ECF6\", \"gridcolor\": \"white\", \"gridwidth\": 2, \"linecolor\": \"white\", \"showbackground\": true, \"ticks\": \"\", \"zerolinecolor\": \"white\"}, \"yaxis\": {\"backgroundcolor\": \"#E5ECF6\", \"gridcolor\": \"white\", \"gridwidth\": 2, \"linecolor\": \"white\", \"showbackground\": true, \"ticks\": \"\", \"zerolinecolor\": \"white\"}, \"zaxis\": {\"backgroundcolor\": \"#E5ECF6\", \"gridcolor\": \"white\", \"gridwidth\": 2, \"linecolor\": \"white\", \"showbackground\": true, \"ticks\": \"\", \"zerolinecolor\": \"white\"}}, \"shapedefaults\": {\"line\": {\"color\": \"#2a3f5f\"}}, \"ternary\": {\"aaxis\": {\"gridcolor\": \"white\", \"linecolor\": \"white\", \"ticks\": \"\"}, \"baxis\": {\"gridcolor\": \"white\", \"linecolor\": \"white\", \"ticks\": \"\"}, \"bgcolor\": \"#E5ECF6\", \"caxis\": {\"gridcolor\": \"white\", \"linecolor\": \"white\", \"ticks\": \"\"}}, \"title\": {\"x\": 0.05}, \"xaxis\": {\"automargin\": true, \"gridcolor\": \"white\", \"linecolor\": \"white\", \"ticks\": \"\", \"title\": {\"standoff\": 15}, \"zerolinecolor\": \"white\", \"zerolinewidth\": 2}, \"yaxis\": {\"automargin\": true, \"gridcolor\": \"white\", \"linecolor\": \"white\", \"ticks\": \"\", \"title\": {\"standoff\": 15}, \"zerolinecolor\": \"white\", \"zerolinewidth\": 2}}}, \"title\": {\"text\": \"2D Cluster PCA Plot\"}, \"xaxis\": {\"anchor\": \"y\", \"domain\": [0.0, 1.0], \"title\": {\"text\": \"PCA1\"}}, \"yaxis\": {\"anchor\": \"x\", \"domain\": [0.0, 1.0], \"title\": {\"text\": \"PCA2\"}}},\n",
              "                        {\"responsive\": true}\n",
              "                    ).then(function(){\n",
              "                            \n",
              "var gd = document.getElementById('acdc45df-24d7-4993-abd2-d6066408ff23');\n",
              "var x = new MutationObserver(function (mutations, observer) {{\n",
              "        var display = window.getComputedStyle(gd).display;\n",
              "        if (!display || display === 'none') {{\n",
              "            console.log([gd, 'removed!']);\n",
              "            Plotly.purge(gd);\n",
              "            observer.disconnect();\n",
              "        }}\n",
              "}});\n",
              "\n",
              "// Listen for the removal of the full notebook cells\n",
              "var notebookContainer = gd.closest('#notebook-container');\n",
              "if (notebookContainer) {{\n",
              "    x.observe(notebookContainer, {childList: true});\n",
              "}}\n",
              "\n",
              "// Listen for the clearing of the current output cell\n",
              "var outputEl = gd.closest('.output');\n",
              "if (outputEl) {{\n",
              "    x.observe(outputEl, {childList: true});\n",
              "}}\n",
              "\n",
              "                        })\n",
              "                };\n",
              "                \n",
              "            </script>\n",
              "        </div>\n",
              "</body>\n",
              "</html>"
            ]
          },
          "metadata": {
            "tags": []
          }
        }
      ]
    },
    {
      "cell_type": "code",
      "metadata": {
        "colab": {
          "base_uri": "https://localhost:8080/",
          "height": 817,
          "referenced_widgets": [
            "598319e5fe5248c684611e92a42a2e56",
            "1b51cc430ff94791bd4e54c024db4d64",
            "878d1b061c6447ff8724510a59a1f1c9"
          ]
        },
        "id": "bXZ0fVqZeiEb",
        "outputId": "561942b5-3759-4a4c-ffc1-9243ed1ed389"
      },
      "source": [
        "plot_model(kmeans, plot = 'tsne')"
      ],
      "execution_count": 10,
      "outputs": [
        {
          "output_type": "display_data",
          "data": {
            "text/html": [
              "<html>\n",
              "<head><meta charset=\"utf-8\" /></head>\n",
              "<body>\n",
              "    <div>\n",
              "            <script src=\"https://cdnjs.cloudflare.com/ajax/libs/mathjax/2.7.5/MathJax.js?config=TeX-AMS-MML_SVG\"></script><script type=\"text/javascript\">if (window.MathJax) {MathJax.Hub.Config({SVG: {font: \"STIX-Web\"}});}</script>\n",
              "                <script type=\"text/javascript\">window.PlotlyConfig = {MathJaxConfig: 'local'};</script>\n",
              "        <script src=\"https://cdn.plot.ly/plotly-latest.min.js\"></script>    \n",
              "            <div id=\"ad3706d0-d9a2-492d-989c-3656a8dd62fc\" class=\"plotly-graph-div\" style=\"height:800px; width:900px;\"></div>\n",
              "            <script type=\"text/javascript\">\n",
              "                \n",
              "                    window.PLOTLYENV=window.PLOTLYENV || {};\n",
              "                    \n",
              "                if (document.getElementById(\"ad3706d0-d9a2-492d-989c-3656a8dd62fc\")) {\n",
              "                    Plotly.newPlot(\n",
              "                        'ad3706d0-d9a2-492d-989c-3656a8dd62fc',\n",
              "                        [{\"customdata\": [[89], [91], [92], [90], [93], [89], [88], [87], [86], [82], [91], [88], [87], [91], [90], [85], [91], [88], [85], [85], [88], [84], [88], [94], [86], [94], [89], [87], [84], [91], [91], [88], [88], [89], [91], [90], [89], [83], [83], [86], [84], [94], [94], [79], [88], [85], [82], [82], [91], [91], [89], [84], [87], [81], [93], [84], [95], [89], [86], [85], [87], [92], [89], [85], [88], [86], [94], [87], [85], [83], [87], [88], [84], [85], [91], [90], [88], [89], [88], [92], [90], [85], [88], [94], [84], [91], [88], [87], [86], [83], [83], [91], [86], [89], [92], [87], [84], [83], [83], [85], [90], [97], [92], [87], [91], [83], [87], [91], [82], [91], [90], [86], [85], [90], [84], [87], [84], [88], [91], [84], [94], [89], [92], [89], [90], [90], [88], [88], [93], [90], [87], [87], [91], [87], [87], [92], [84], [87], [87], [83], [79], [92], [91], [83], [86], [84], [82]], \"hoverlabel\": {\"namelength\": 0}, \"hovertemplate\": \"Cluster=Cluster 0<br>0=%{x}<br>1=%{y}<br>2=%{z}<br>Feature=%{customdata[0]}\", \"legendgroup\": \"Cluster=Cluster 0\", \"marker\": {\"color\": \"#636efa\", \"opacity\": 0.7, \"symbol\": \"circle\"}, \"mode\": \"markers\", \"name\": \"Cluster=Cluster 0\", \"scene\": \"scene\", \"showlegend\": true, \"type\": \"scatter3d\", \"x\": [-21.494901657104492, -79.321044921875, -92.73424530029297, 3.298161506652832, -89.16241455078125, -42.200321197509766, -53.6733512878418, -35.64757537841797, -64.26262664794922, -49.16435623168945, -71.84168243408203, -3.08276104927063, -76.51127624511719, -3.219637632369995, -79.71417236328125, -48.01036071777344, -31.522598266601562, -27.279726028442383, -11.51806926727295, -15.758663177490234, -10.384013175964355, -19.90081787109375, -46.12601852416992, 61.44860076904297, -22.952116012573242, 5.294044494628906, 54.362056732177734, -28.417333602905273, -7.5521979331970215, 37.20442199707031, -32.648738861083984, -40.84980010986328, -20.094100952148438, -14.126572608947754, -85.42605590820312, 1.052511215209961, -3.441167116165161, -57.995155334472656, -42.092018127441406, -48.10670852661133, -46.539981842041016, -88.28621673583984, -65.17035675048828, -20.210472106933594, -54.841209411621094, -44.51847457885742, -19.70973014831543, -65.40045166015625, -79.85905456542969, -98.66317749023438, -52.60722351074219, -15.922720909118652, -46.29453659057617, -35.634212493896484, -75.2152328491211, -60.175140380859375, -83.50372314453125, -55.52893829345703, -16.9835147857666, -23.284231185913086, -36.25361251831055, 7.012424945831299, -46.08042907714844, -31.910810470581055, -72.53334045410156, -78.32344055175781, -44.66178512573242, -54.05644226074219, -60.469486236572266, -10.505121231079102, -10.815770149230957, -31.584020614624023, -19.32578468322754, -31.823312759399414, -61.583797454833984, -34.357486724853516, -10.4544038772583, -63.395503997802734, -31.992921829223633, 7.912769317626953, -71.1844253540039, -53.42768478393555, -19.86030387878418, -71.06895446777344, -41.44055938720703, -50.3682746887207, -69.61656951904297, -17.070945739746094, -48.15143585205078, -3.505988597869873, -47.55830001831055, -61.725460052490234, -77.83194732666016, -34.942787170410156, -3.974978446960449, -53.87986373901367, -24.23462677001953, -38.65459442138672, -30.22909927368164, -14.520890235900879, -31.718666076660156, -36.079219818115234, -60.197086334228516, -58.01655578613281, -66.98063659667969, -51.91511154174805, -23.364961624145508, -63.321685791015625, -30.123027801513672, -48.89134979248047, -41.234596252441406, -41.14472198486328, -30.30190658569336, -36.172977447509766, -73.17938995361328, -31.72249984741211, -44.47960662841797, -7.513035297393799, -45.429264068603516, -15.127429008483887, -64.11578369140625, -23.144712448120117, 6.532952308654785, -11.57995319366455, -4.697776794433594, -4.269771099090576, 22.047401428222656, 3.292815685272217, -88.86209869384766, -30.884138107299805, -23.429330825805664, -8.416376113891602, -21.20100212097168, -54.12504959106445, -32.07993698120117, 10.180960655212402, -45.47190856933594, 32.330623626708984, -17.21441078186035, -4.11282205581665, 7.241374492645264, -73.78191375732422, -79.72150421142578, -24.76412582397461, -37.79359436035156, -41.009761810302734, -43.65797805786133], \"y\": [66.80685424804688, -8.231513977050781, 3.479098081588745, 5.315199375152588, 15.071806907653809, 19.243906021118164, -1.5754594802856445, 28.902454376220703, -14.76296329498291, -12.139387130737305, -6.771338939666748, -7.1129326820373535, -16.03554916381836, 18.963306427001953, 5.210887908935547, 47.46857833862305, 54.55368423461914, 69.85138702392578, 33.400169372558594, 1.881793737411499, 36.371055603027344, 13.73044490814209, 7.125389575958252, -16.515684127807617, 30.474491119384766, 8.237377166748047, -33.40913391113281, 53.6286506652832, -23.742387771606445, -20.017295837402344, 28.567501068115234, 22.56808853149414, 20.028352737426758, 66.9205093383789, -9.424538612365723, 35.534629821777344, 4.720647811889648, 54.818660736083984, -8.171821594238281, 34.54456329345703, -21.191368103027344, 22.082401275634766, 41.202423095703125, -9.504867553710938, 28.588146209716797, 0.5319501757621765, 29.91889762878418, 31.03059959411621, 31.333208084106445, 12.837944984436035, 39.52427291870117, 41.17478561401367, 2.051447629928589, 13.896018981933594, 18.275279998779297, -23.77022933959961, 4.83304500579834, 5.845437526702881, 22.88278579711914, 81.06646728515625, 42.7554931640625, -2.761363983154297, 30.669336318969727, -6.260934829711914, -11.809569358825684, -20.79690933227539, 58.86127471923828, 57.578704833984375, -18.26759147644043, 45.6198616027832, 31.275089263916016, 24.389135360717773, -11.91215705871582, 14.536771774291992, 23.9165096282959, 34.953834533691406, 12.883981704711914, -1.2007182836532593, 56.40327453613281, 14.721039772033691, 31.36963653564453, -10.904391288757324, 16.998497009277344, 10.574089050292969, -1.9980735778808594, 28.124845504760742, 32.942047119140625, 52.30192565917969, 15.216381072998047, 51.970802307128906, 10.472826957702637, 14.020792961120605, 25.551267623901367, 28.674880981445312, 1.395467758178711, -5.718832969665527, 1.1764991283416748, -17.868616104125977, -14.79593276977539, 52.868980407714844, 44.4132194519043, 67.92359161376953, 53.0915412902832, 41.428466796875, 2.37971830368042, -24.792219161987305, 26.24945068359375, 4.317788124084473, -18.7930908203125, 37.522865295410156, 64.17539978027344, 60.28424072265625, 71.2186279296875, 40.99076461791992, 14.02332878112793, 6.990061283111572, -13.350656509399414, 25.215532302856445, 52.47279739379883, 5.824841022491455, 27.903039932250977, 41.21819305419922, 8.869239807128906, 68.70088958740234, -5.550919055938721, 23.366432189941406, -11.6370210647583, 36.045433044433594, 11.293045997619629, 43.8519172668457, 34.29705810546875, 19.079540252685547, 47.18812561035156, 24.192991256713867, 64.38932037353516, -0.3907283544540405, 16.3472843170166, -31.756635665893555, -14.76837158203125, 55.78007125854492, 55.52626419067383, 23.34259605407715, -20.888540267944336, 7.030882358551025, -2.574542284011841, -12.664006233215332, -19.184280395507812], \"z\": [10.704023361206055, 11.06739330291748, 5.965644359588623, 39.18710708618164, 11.55733585357666, -5.751163482666016, 2.055058717727661, 11.580361366271973, 11.975113868713379, 19.29286766052246, -27.356372833251953, 31.972408294677734, -19.96320915222168, 9.7997465133667, 14.549882888793945, 32.5359001159668, 0.9793972969055176, 21.444765090942383, 44.90306091308594, 35.95473861694336, 17.293766021728516, 3.8832497596740723, -1.9779973030090332, -0.03919127956032753, 28.731834411621094, 4.364779472351074, 10.74061107635498, 27.73702621459961, 23.37525749206543, 13.386045455932617, -12.385028839111328, 42.87046813964844, 41.919944763183594, 44.993743896484375, 21.138816833496094, 27.029460906982422, 26.503631591796875, 35.18763732910156, 34.00057601928711, 37.4677734375, 34.31142044067383, -2.46561598777771, -0.1835591048002243, 45.787715911865234, 26.85994529724121, 14.182147979736328, 65.06976318359375, -37.14088439941406, 6.00995397567749, 0.31197306513786316, 18.441614151000977, 34.49723815917969, 46.7306022644043, 23.932296752929688, 4.797747611999512, 6.579967975616455, -4.875150203704834, -9.320463180541992, -2.6571335792541504, 23.980403900146484, 24.827983856201172, 15.043856620788574, 54.317623138427734, 11.617461204528809, 24.15958023071289, 32.0577507019043, -4.859601020812988, 20.925294876098633, 29.642288208007812, 48.33411407470703, 0.31181424856185913, 67.04985809326172, 30.519784927368164, 10.879319190979004, -16.372394561767578, 0.9287117123603821, 31.257844924926758, 11.607386589050293, 14.73984432220459, 29.915542602539062, -16.84986686706543, 39.66291809082031, 53.55938720703125, -11.385966300964355, 58.366455078125, -4.198957920074463, 21.728050231933594, 17.907011032104492, 13.870498657226562, 14.828751564025879, 24.44263458251953, -1.0997453927993774, 28.254287719726562, 52.0093994140625, 8.185572624206543, 53.122745513916016, 28.585908889770508, 24.283613204956055, -2.707636594772339, 36.5863037109375, -8.057660102844238, -4.869232177734375, 6.226469993591309, 29.09952735900879, -1.673319935798645, 22.634756088256836, 16.287109375, 46.67777633666992, 35.98860549926758, 5.088606834411621, 10.550541877746582, 24.56085968017578, 33.73490905761719, 44.63965606689453, 30.907621383666992, 51.39955520629883, -11.3646879196167, 34.97787857055664, 9.626144409179688, 48.476776123046875, 1.1115846633911133, 21.339387893676758, 18.659698486328125, 23.92514419555664, 18.293058395385742, 20.674816131591797, 9.05767822265625, 38.821651458740234, -21.26072120666504, 10.088034629821777, 44.62876510620117, 46.04878234863281, 3.543072462081909, 44.30638122558594, 43.46839141845703, 28.08786964416504, 56.061302185058594, 24.714244842529297, 17.74860954284668, 26.962642669677734, 20.53069305419922, -6.536057949066162, 16.73807144165039, 16.760082244873047, 1.8756648302078247, 46.06727600097656, -0.9153212308883667]}, {\"customdata\": [[65], [57], [65], [59], [61], [60], [55], [63], [62], [59], [67], [58], [66], [58], [57], [57], [66], [59], [68], [61], [58], [59], [61], [64], [63], [64], [62], [61], [62], [67], [61], [57], [63], [56], [51], [59], [58], [55], [61], [55], [58], [68], [58], [67], [56], [59], [59], [57], [60], [67], [61], [60], [59], [57], [59], [59], [58], [63], [61], [56], [58], [56], [59], [61], [60], [56], [63], [58], [59], [62], [59], [59], [65], [64], [59], [59], [61], [64], [58], [57], [58], [56], [63], [58], [60], [58], [62], [66], [66], [63], [64], [62], [62], [60], [65], [60], [63], [56], [58], [62], [56], [59], [65], [62], [59], [64], [66], [59], [59], [59], [62], [59], [54], [61], [55], [53], [55], [61], [59], [59], [56], [61], [61], [60], [57], [61], [55], [53], [61], [64], [62], [55], [58], [57], [58], [64], [57], [62], [56], [53], [60], [56], [62], [61], [62], [55], [60], [58], [61], [59], [58], [56], [60], [62], [58], [64], [63]], \"hoverlabel\": {\"namelength\": 0}, \"hovertemplate\": \"Cluster=Cluster 1<br>0=%{x}<br>1=%{y}<br>2=%{z}<br>Feature=%{customdata[0]}\", \"legendgroup\": \"Cluster=Cluster 1\", \"marker\": {\"color\": \"#EF553B\", \"opacity\": 0.7, \"symbol\": \"circle\"}, \"mode\": \"markers\", \"name\": \"Cluster=Cluster 1\", \"scene\": \"scene\", \"showlegend\": true, \"type\": \"scatter3d\", \"x\": [-30.2304744720459, -30.568674087524414, 10.9630126953125, 18.85161781311035, 18.482576370239258, 13.541982650756836, 21.129093170166016, -75.03534698486328, -0.2547571063041687, 29.601003646850586, -9.033188819885254, 31.56448745727539, -41.06690216064453, 25.021934509277344, 5.738728046417236, 38.25636291503906, -29.66600799560547, 6.790673732757568, 59.30253601074219, -33.72844314575195, 17.642715454101562, -59.407073974609375, -23.093990325927734, 51.48118209838867, 88.02342987060547, -4.927095890045166, 14.78426742553711, -10.779109954833984, 32.110069274902344, -31.60077667236328, 53.462677001953125, 20.73737144470215, 19.140579223632812, 61.248512268066406, 36.69734191894531, 54.417198181152344, 53.01408386230469, 1.0702670812606812, 19.1455020904541, 52.4439697265625, 16.793270111083984, -39.10035705566406, 10.718085289001465, 52.42203903198242, 33.55080795288086, 20.5260009765625, 69.33094024658203, 43.33574295043945, -24.03746223449707, 64.28988647460938, 0.7953172326087952, 44.00248336791992, -37.827354431152344, -6.140781402587891, -5.373570919036865, -17.589431762695312, 20.331256866455078, 12.978397369384766, 0.21733586490154266, 2.8614673614501953, 37.16320037841797, 35.83187484741211, 10.448063850402832, 13.667071342468262, 85.15958404541016, 46.28083038330078, 67.74249267578125, -49.11712646484375, 63.054325103759766, 13.93375015258789, 12.8060302734375, 1.7334351539611816, -32.44282531738281, -8.287044525146484, -46.3980598449707, 22.39683723449707, -11.32282829284668, -9.812402725219727, 45.563411712646484, -57.48817825317383, 15.939043045043945, 70.61539459228516, 68.25238037109375, 16.377391815185547, 40.48525619506836, -12.397092819213867, -20.332626342773438, 46.77357864379883, 0.1405165046453476, 34.09060287475586, -2.3186099529266357, -11.27834701538086, 85.11976623535156, 15.993681907653809, -6.855650901794434, -20.85422134399414, 49.067684173583984, 60.462425231933594, 34.81587600708008, 69.4122543334961, -13.007278442382812, -46.36973190307617, 1.0807327032089233, -33.59423065185547, 7.568244934082031, 79.43207550048828, 65.63135528564453, -61.3446159362793, 25.961318969726562, 46.33998107910156, 15.943537712097168, 31.984357833862305, 39.019874572753906, 7.413189888000488, 39.89279556274414, -32.2373161315918, 34.88545227050781, 61.73847198486328, 1.3895487785339355, 67.4856948852539, 7.599465370178223, 34.05723571777344, -3.343677520751953, -42.11748123168945, 40.51199722290039, 21.406719207763672, 32.52739334106445, -0.1588413119316101, 21.958553314208984, -14.676977157592773, 25.221134185791016, 46.08258056640625, 38.73958206176758, 52.31206512451172, 50.97541046142578, -37.34440231323242, 26.687240600585938, -14.34937572479248, 10.508990287780762, 52.75147247314453, -1.8767139911651611, 8.481711387634277, 62.631446838378906, 6.274449348449707, -17.140384674072266, 40.389469146728516, 7.292838096618652, 56.43364334106445, 20.54715919494629, -27.294559478759766, 50.60829544067383, 8.148362159729004, -14.598369598388672, 11.336605072021484, 48.854732513427734, 76.17822265625, -18.323572158813477], \"y\": [12.869812965393066, 53.78882598876953, -17.72418212890625, 45.55215072631836, -8.827947616577148, 66.38855743408203, 57.92959213256836, -40.59580612182617, 59.996681213378906, 68.51053619384766, 75.34668731689453, 28.487720489501953, 18.96693229675293, 59.88435363769531, 34.02751541137695, 39.31255340576172, -8.886624336242676, 51.253456115722656, 59.86914825439453, 20.847885131835938, -0.2357225865125656, -68.70172882080078, 27.883731842041016, 57.92094039916992, 10.068964004516602, -110.7015151977539, 54.94742202758789, 34.52094268798828, 74.00553131103516, -11.241589546203613, 18.769290924072266, 37.64145278930664, 58.40244674682617, -3.1248960494995117, 12.728048324584961, 55.491947174072266, -4.332133769989014, 47.411556243896484, 80.54473114013672, -13.144521713256836, -12.370543479919434, -1.304633378982544, 5.902915954589844, 74.3182373046875, 1.6896564960479736, -10.51876163482666, 42.829524993896484, 49.920223236083984, 34.54936981201172, 48.068214416503906, 45.67623519897461, 30.14199447631836, 35.11689376831055, 52.595970153808594, 36.89705276489258, 46.21476364135742, 13.142729759216309, 27.22783851623535, 20.638505935668945, 63.75948715209961, 17.90069580078125, 24.5636043548584, 8.923114776611328, 1.5362120866775513, -12.107078552246094, 9.188699722290039, 2.1309139728546143, -40.08946990966797, -9.739396095275879, 28.621002197265625, 64.7289810180664, 1.9164180755615234, -0.7015372514724731, -9.026854515075684, 27.85969352722168, 1.14267897605896, 10.721382141113281, 64.38898468017578, 35.10573196411133, -54.39307403564453, 66.01526641845703, -12.846866607666016, 39.95327377319336, 24.578195571899414, 62.88533401489258, 37.367149353027344, 24.01414680480957, 54.438602447509766, 75.0663070678711, 64.27876281738281, 1.5971920490264893, 54.36788558959961, -1.2207014560699463, -10.055670738220215, 52.54509353637695, 8.985128402709961, 74.35269927978516, 12.887823104858398, 9.093070030212402, -15.85071086883545, 44.76808166503906, -41.365604400634766, 60.301231384277344, 16.775306701660156, 16.747718811035156, 39.68077850341797, 59.79954528808594, 5.412416934967041, 43.267356872558594, 64.38831329345703, -6.025335788726807, 28.460851669311523, 19.97740936279297, -7.092879295349121, 46.87963104248047, 64.27859497070312, -8.323125839233398, 15.007061004638672, 27.307802200317383, -20.231510162353516, 24.08867835998535, 78.1502685546875, 18.100374221801758, -99.16712188720703, 7.34158992767334, 13.42940902709961, 31.85147476196289, 31.63661003112793, 69.235107421875, -17.8358211517334, 56.96255874633789, -3.8823182582855225, 7.040292739868164, 25.005390167236328, 0.46126410365104675, 29.355682373046875, 52.682777404785156, 38.83299255371094, -3.9202609062194824, -12.362691879272461, 4.334261417388916, 39.35964584350586, 27.530651092529297, -6.151034355163574, 21.24355697631836, 36.43204116821289, 12.468692779541016, 39.93208694458008, -13.184036254882812, 40.87289810180664, 42.92608642578125, 36.00450134277344, 63.27794647216797, 41.163204193115234, 18.59524917602539, 50.82769775390625, -1.7482085227966309], \"z\": [-58.10330581665039, -53.147579193115234, -62.73927688598633, -3.8958659172058105, -66.06649780273438, -30.658037185668945, -58.08687210083008, -21.50912857055664, -32.34270477294922, -46.93046951293945, -33.68549728393555, -74.94446563720703, -69.3426742553711, -30.74347686767578, -56.575801849365234, -45.14257049560547, -59.80702590942383, -46.372535705566406, -15.518346786499023, -46.212772369384766, -11.432374000549316, -24.804529190063477, -59.7421875, -25.98207664489746, -14.054305076599121, -65.51900482177734, -20.276973724365234, -44.72825241088867, -31.107370376586914, -47.933231353759766, -57.348934173583984, -52.538330078125, -2.258610248565674, -36.49245834350586, -11.22282886505127, -46.37606430053711, -55.31267547607422, -64.657470703125, -37.68606185913086, -39.044368743896484, -14.074756622314453, -53.410316467285156, -72.84245300292969, -26.698429107666016, -25.84845542907715, -28.086442947387695, -45.93492889404297, -50.97185516357422, -48.492794036865234, -18.176733016967773, -30.82341766357422, -8.187777519226074, -53.71123504638672, -56.39872741699219, -17.980113983154297, -50.99983596801758, -52.37617874145508, -10.223196983337402, -46.26692199707031, -54.57886505126953, -65.61593627929688, -35.714298248291016, -39.993614196777344, -26.501731872558594, -4.398432731628418, -28.310653686523438, -55.09254455566406, -37.52817153930664, -50.78736877441406, -24.515047073364258, 48.236480712890625, -79.21910858154297, -68.27435302734375, -65.29360961914062, -43.48332595825195, -35.10319519042969, -55.84335708618164, -25.895021438598633, -31.797256469726562, -29.62997817993164, -48.430850982666016, -38.338199615478516, -31.072538375854492, -46.6767578125, -38.78728103637695, -59.505619049072266, -71.25135803222656, -12.057173728942871, -24.951814651489258, -19.94742774963379, -20.231847763061523, -35.23957061767578, -8.82482624053955, -40.161781311035156, -19.706966400146484, -43.30033493041992, -38.669944763183594, -26.484561920166016, -35.73487854003906, 47.59992599487305, -70.8144760131836, 52.25590896606445, -17.482311248779297, -81.53327941894531, -31.084983825683594, -34.71395492553711, -27.949390411376953, -54.844905853271484, -33.150413513183594, -50.166542053222656, -81.3580322265625, -7.654416561126709, -22.754213333129883, -31.04861831665039, 7.4398112297058105, -31.220977783203125, -36.165672302246094, -44.21968078613281, -30.072635650634766, 30.519424438476562, -68.42742919921875, -42.54825973510742, -22.380882263183594, -33.50619888305664, -68.19499206542969, -27.634397506713867, -24.87040901184082, -76.7218017578125, -21.882585525512695, -72.56917572021484, -14.270509719848633, -15.329987525939941, -55.096858978271484, -26.366199493408203, -41.96860122680664, -73.58555603027344, -44.34477996826172, -33.95408630371094, -50.128177642822266, -26.577566146850586, -67.09272766113281, -73.97178649902344, -39.760406494140625, -70.98151397705078, -48.298728942871094, -57.04495620727539, -18.00145721435547, -53.25496292114258, -51.96306610107422, -60.287208557128906, -42.36591720581055, -45.59965896606445, -48.62178039550781, -24.489105224609375, -37.76521301269531, -32.458045959472656, -53.64030075073242]}, {\"customdata\": [[38], [29], [36], [31], [39], [88], [86], [35], [30], [35], [25], [37], [30], [36], [34], [33], [36], [32], [83], [31], [37], [36], [90], [31], [37], [35], [33], [84], [37], [29], [44], [32], [31], [29], [36], [31], [90], [33], [33], [89], [29], [32], [84], [30], [88], [38], [92], [31], [30], [36], [85], [30], [28], [37], [29], [31], [29], [31], [33], [31], [83], [34], [22], [87], [34], [25], [31], [31], [31], [35], [28], [33], [31], [28], [39], [36], [32], [93], [36], [34], [37], [33], [43], [33], [26], [24], [31], [29], [36], [86], [33], [29], [40], [35], [32], [37], [34], [34], [84], [82], [88], [85], [35], [33], [33], [29], [83], [28], [31], [37], [31], [33], [30], [30], [34], [30], [30], [86], [29], [30], [28], [37], [37], [82], [42], [28], [30], [32], [35], [35], [31], [35], [33], [29], [35], [38], [34], [33], [32], [34], [31], [27], [39], [38], [84], [77], [34], [28], [36], [91], [34]], \"hoverlabel\": {\"namelength\": 0}, \"hovertemplate\": \"Cluster=Cluster 2<br>0=%{x}<br>1=%{y}<br>2=%{z}<br>Feature=%{customdata[0]}\", \"legendgroup\": \"Cluster=Cluster 2\", \"marker\": {\"color\": \"#00cc96\", \"opacity\": 0.7, \"symbol\": \"circle\"}, \"mode\": \"markers\", \"name\": \"Cluster=Cluster 2\", \"scene\": \"scene\", \"showlegend\": true, \"type\": \"scatter3d\", \"x\": [6.003756046295166, -32.065895080566406, 1.3790870904922485, -22.688249588012695, 10.761849403381348, 73.9565200805664, 73.21915435791016, -6.169431686401367, 6.255000591278076, -54.32787322998047, 49.586761474609375, 8.340981483459473, -15.4882173538208, -6.558094024658203, 14.01439380645752, 24.800800323486328, 8.859856605529785, -6.380355358123779, 66.15828704833984, -86.87074279785156, 3.0125253200531006, 4.989912509918213, 84.1218490600586, -6.970766067504883, -4.327803611755371, 1.8067282438278198, 26.56200408935547, 53.52247619628906, 3.296035051345825, 37.43181228637695, 9.778099060058594, -11.657966613769531, -9.301275253295898, -18.09063148498535, 18.257627487182617, -45.98289108276367, 82.72832489013672, -4.8038411140441895, -6.1315131187438965, 62.05778884887695, 27.009204864501953, -17.54216194152832, 77.06388092041016, 30.337846755981445, 56.7064208984375, 14.06004524230957, 79.67020416259766, -15.748477935791016, 23.18238067626953, 10.605047225952148, 51.22174835205078, -2.4291903972625732, -2.3783740997314453, 0.8623563051223755, -40.621116638183594, -2.7943522930145264, -18.088359832763672, -15.744905471801758, 19.56014060974121, -50.09920120239258, 58.337547302246094, -168.65753173828125, -30.846681594848633, 71.6431655883789, 10.449542045593262, -18.53627586364746, -12.459150314331055, -33.41015625, -10.342977523803711, -13.17348861694336, 47.0073127746582, -27.929534912109375, -26.07856559753418, 48.168479919433594, 2.471696376800537, 21.822843551635742, -30.927139282226562, 71.02455139160156, -7.352823257446289, 8.30916976928711, -7.874250888824463, 16.50636863708496, 23.050554275512695, 16.164011001586914, 50.60772705078125, -35.930572509765625, 27.628582000732422, -23.95537567138672, -6.324026584625244, 58.50418472290039, -28.013872146606445, -33.244956970214844, 9.98668384552002, -2.773261547088623, 6.012250900268555, -3.743135929107666, 19.53997230529785, -9.3983154296875, 68.70940399169922, 62.33068084716797, 43.44217300415039, 63.2698974609375, -22.440162658691406, -12.187878608703613, -8.113933563232422, 11.069912910461426, 58.0985221862793, 39.546836853027344, 10.174027442932129, 16.755664825439453, -17.774913787841797, -6.589201927185059, 36.035919189453125, 180.56427001953125, 27.90823745727539, -10.606659889221191, -13.72105884552002, 51.86770248413086, 34.73325729370117, 34.37709426879883, -28.31585121154785, 21.05472755432129, -9.055126190185547, 67.5058822631836, 16.76594352722168, 38.441673278808594, -24.87126922607422, 35.770172119140625, -2.6073858737945557, 5.548555850982666, -31.627107620239258, 16.529836654663086, 32.023902893066406, -26.357776641845703, -18.76508331298828, 0.4164428114891052, -131.6612091064453, -14.429618835449219, -16.605104446411133, 9.410327911376953, -28.28457260131836, 42.96894454956055, 17.773880004882812, 4.245854377746582, 48.86654281616211, 67.1065902709961, -2.1659858226776123, -24.281116485595703, 2.5166170597076416, 79.91973876953125, -33.64724349975586], \"y\": [-80.51336669921875, -73.3028793334961, -58.255767822265625, -65.5882339477539, -77.42190551757812, 10.54440975189209, 33.85067367553711, -41.95124053955078, -97.6441421508789, 89.55461883544922, -63.63863754272461, -61.64649963378906, -53.30207824707031, -59.08420944213867, -57.75041580200195, -68.07319641113281, -72.17217254638672, -59.235652923583984, 3.4702234268188477, 99.57963562011719, -29.970029830932617, -85.82984161376953, 9.999573707580566, -86.35675811767578, -52.689048767089844, -61.624961853027344, -91.5960464477539, 15.82089900970459, -60.22661590576172, -72.24529266357422, -32.75646209716797, -74.04966735839844, -46.51815414428711, -75.29562377929688, -60.63752365112305, -20.117782592773438, 22.515655517578125, -48.89961624145508, -71.17338562011719, 5.4995269775390625, -79.5124740600586, -50.606895446777344, 7.84771728515625, -74.11182403564453, 31.590709686279297, -88.96379852294922, 23.27680015563965, -74.80101776123047, -77.09092712402344, -50.658485412597656, 6.309210300445557, -97.21541595458984, -97.12666320800781, -70.94676971435547, -60.7032356262207, -73.25990295410156, -80.62741088867188, -61.923763275146484, -66.24535369873047, -29.005788803100586, 17.85074234008789, -5.5140557289123535, -79.33942413330078, 15.59832763671875, -37.766456604003906, -87.60377502441406, -63.13676071166992, -59.55133056640625, -92.02589416503906, -43.78044128417969, -51.887596130371094, -50.41875457763672, -62.85311508178711, -76.9257583618164, -84.90494537353516, -54.76930236816406, -51.62800979614258, 34.447818756103516, -60.686038970947266, -72.85926818847656, -40.67819595336914, -94.49616241455078, -54.961036682128906, -81.30485534667969, -65.30606079101562, -80.13627624511719, 40.844844818115234, -94.60871887207031, -50.79034423828125, 30.90716552734375, -49.49796676635742, -62.171077728271484, -51.40731430053711, -68.4833755493164, -57.92788314819336, -40.94021224975586, -90.9815673828125, -60.412071228027344, 19.62753677368164, 40.87381362915039, 18.635725021362305, 20.000648498535156, -41.77741241455078, -30.991315841674805, -72.73450469970703, -74.9283676147461, 8.371442794799805, -62.373939514160156, -91.50845336914062, -83.549072265625, -68.15953826904297, -71.62432098388672, -36.15325164794922, -2.6918866634368896, -33.06544876098633, -86.37625885009766, -83.02449798583984, 30.125436782836914, -63.89804458618164, -49.82811737060547, -58.2386474609375, -47.21848678588867, -38.18729019165039, 28.171300888061523, -45.052330017089844, -75.5092544555664, -74.2024154663086, -55.688175201416016, -34.0900764465332, -77.28507232666016, -77.04106903076172, -45.50374984741211, -40.72227478027344, -62.81245803833008, -48.632286071777344, -35.35033416748047, -12.711702346801758, -62.343692779541016, -61.42453384399414, -84.96399688720703, -49.79123306274414, -50.391876220703125, -36.80791091918945, -45.65382766723633, 18.81705093383789, 21.978351593017578, -59.3851203918457, -83.49260711669922, -66.99337768554688, 35.386024475097656, -43.54451370239258], \"z\": [-33.86528778076172, -1.9022363424301147, -7.1292619705200195, 4.924450397491455, -49.46249008178711, 39.515872955322266, 12.540843963623047, -38.330814361572266, -20.657695770263672, 6.297421455383301, -9.933849334716797, 5.433437347412109, 40.38167953491211, -39.28448486328125, -18.764415740966797, -34.43605041503906, -18.55811309814453, -61.71509552001953, 28.24744987487793, 37.045166015625, -33.34463119506836, 15.894137382507324, 28.56150245666504, -19.541255950927734, 5.824467182159424, -23.155406951904297, 15.790559768676758, 9.177120208740234, 15.643121719360352, -27.58159828186035, 5.329545497894287, 12.001945495605469, -53.41669464111328, -43.67680740356445, -44.15425491333008, -219.1317596435547, 18.660432815551758, 31.226715087890625, -7.511090278625488, 14.575942993164062, -6.360195159912109, -45.51609802246094, 14.901467323303223, 3.5168092250823975, 39.105873107910156, -47.21287536621094, 34.73292922973633, 28.44034767150879, 17.076557159423828, -51.8901481628418, 25.405548095703125, -30.587562561035156, -10.105877876281738, -59.84605026245117, -8.597631454467773, 35.91991424560547, -14.245949745178223, -55.27970886230469, -12.325994491577148, -60.97633743286133, 22.095474243164062, -24.978967666625977, -31.215654373168945, 24.919692993164062, -46.584129333496094, -33.01116943359375, 27.248823165893555, 12.72474193572998, 25.938474655151367, -5.547369956970215, -21.554201126098633, -11.462617874145508, 23.285470962524414, -21.107318878173828, -47.61259841918945, -32.07168960571289, 2.7721619606018066, 38.047752380371094, 54.91324996948242, 16.41166877746582, -15.78306770324707, 11.31341552734375, 13.1881103515625, 7.954923152923584, -26.776315689086914, -19.388023376464844, 52.18021774291992, -4.140786170959473, -27.088781356811523, 12.693081855773926, 21.61893081665039, -17.446712493896484, -38.3929328918457, -45.36323547363281, 33.85782241821289, 15.76295280456543, 26.122377395629883, -14.061378479003906, 11.106893539428711, 25.708276748657227, 20.0707950592041, 34.31311798095703, -23.418628692626953, -36.41118240356445, 48.60062026977539, 40.769744873046875, 39.57410430908203, -18.982707977294922, -3.958806276321411, -23.367895126342773, 39.805965423583984, -20.45435905456543, -14.26716423034668, 133.63034057617188, -42.720924377441406, -6.730731010437012, 38.85726547241211, 25.699670791625977, -4.245292663574219, -18.94310760498047, 37.37336730957031, -43.882423400878906, 5.249902725219727, 24.528902053833008, 7.109604358673096, -12.979533195495605, 15.110397338867188, -34.10542297363281, -46.00096130371094, 3.856884002685547, 28.10993766784668, -18.751895904541016, -31.555856704711914, -38.177978515625, 12.545684814453125, -5.970165252685547, -49.62904739379883, -26.50935935974121, 15.24300479888916, -14.476076126098633, -32.198463439941406, -5.752221584320068, -33.3740234375, 0.06930414587259293, 34.856075286865234, 47.44569396972656, 43.38096237182617, 1.415846824645996, 75.14920806884766, 26.16796875, -20.564733505249023]}, {\"customdata\": [[27], [23], [25], [17], [24], [20], [23], [26], [23], [27], [23], [31], [22], [24], [29], [22], [28], [26], [25], [24], [24], [25], [20], [30], [25], [28], [20], [24], [22], [26], [17], [26], [28], [18], [21], [21], [17], [27], [25], [24], [28], [26], [28], [25], [24], [17], [29], [29], [28], [18]], \"hoverlabel\": {\"namelength\": 0}, \"hovertemplate\": \"Cluster=Cluster 3<br>0=%{x}<br>1=%{y}<br>2=%{z}<br>Feature=%{customdata[0]}\", \"legendgroup\": \"Cluster=Cluster 3\", \"marker\": {\"color\": \"#ab63fa\", \"opacity\": 0.7, \"symbol\": \"circle\"}, \"mode\": \"markers\", \"name\": \"Cluster=Cluster 3\", \"scene\": \"scene\", \"showlegend\": true, \"type\": \"scatter3d\", \"x\": [25.678775787353516, -3.8946611881256104, 1.088268518447876, -20.784286499023438, 0.3719497323036194, 30.520919799804688, 2.4496161937713623, 34.573143005371094, -5.608534812927246, 39.35194396972656, 26.34521484375, 12.788899421691895, 10.728314399719238, 19.30060577392578, 9.243433952331543, -8.507405281066895, 25.14613151550293, 11.624308586120605, 15.973522186279297, -10.062467575073242, 13.425179481506348, 7.22320556640625, 18.85407066345215, 39.4407844543457, 22.443065643310547, -10.209260940551758, 24.581314086914062, -55.08056640625, 41.166587829589844, -0.6306951642036438, 21.841127395629883, 40.00400161743164, 29.401283264160156, 16.921382904052734, -11.157487869262695, 25.584932327270508, 3.164069414138794, 19.19815444946289, 15.69566822052002, 32.6205940246582, 8.87129020690918, 22.74311637878418, 36.65536880493164, 41.1586799621582, -1.083115577697754, 8.71661376953125, 21.070404052734375, 4.815121650695801, 31.747129440307617, 2.091874361038208], \"y\": [-24.66756248474121, 0.21549582481384277, -4.9614105224609375, -23.610408782958984, -32.78097152709961, 5.6659722328186035, -17.037559509277344, -11.421051025390625, -21.506877899169922, -24.601369857788086, -25.316247940063477, -35.06187057495117, -3.2884037494659424, -10.698240280151367, -26.201013565063477, -13.02429485321045, -13.865715026855469, -14.729992866516113, -27.49547576904297, -17.633737564086914, 0.4528334140777588, -10.45464038848877, -35.25180435180664, -17.82735252380371, -6.281646728515625, -33.57490921020508, 0.34928789734840393, -46.32014083862305, -2.515679121017456, -26.051395416259766, 4.325496196746826, -5.8100666999816895, -13.766571998596191, 8.714827537536621, -33.05766296386719, 2.120634078979492, 9.862598419189453, -25.399873733520508, -15.592146873474121, -15.660798072814941, -18.120365142822266, -18.237825393676758, -34.95229721069336, -21.1742000579834, -7.700661659240723, 9.447587013244629, 18.13275718688965, -31.73074722290039, -28.278417587280273, -31.162050247192383], \"z\": [78.8840103149414, 81.413330078125, 92.50337982177734, 86.66815948486328, 66.6257095336914, 65.0228271484375, 59.050540924072266, 85.23826599121094, 70.01863861083984, 74.79585266113281, 64.65458679199219, 84.9713134765625, 56.63399887084961, 77.78982543945312, 73.89659881591797, 80.63442993164062, 93.70525360107422, 67.64810943603516, 49.77052307128906, 94.17900085449219, 72.95195770263672, 79.28716278076172, 64.56971740722656, 46.361209869384766, 66.84022521972656, 92.95484161376953, 52.473228454589844, 7.216955184936523, 75.30628967285156, 82.56990814208984, 91.6479263305664, 59.32687759399414, 54.432987213134766, 59.58788299560547, 73.6072769165039, 78.27359008789062, 70.61148834228516, 95.3499984741211, 55.98362731933594, 69.51150512695312, 91.27095031738281, 42.99310302734375, 62.39876174926758, 59.97640609741211, 68.44505310058594, 83.12931060791016, 73.2244644165039, 94.68125915527344, 51.12016296386719, 51.61054611206055]}],\n",
              "                        {\"height\": 800, \"legend\": {\"tracegroupgap\": 0}, \"scene\": {\"domain\": {\"x\": [0.0, 1.0], \"y\": [0.0, 1.0]}, \"xaxis\": {\"title\": {\"text\": \"0\"}}, \"yaxis\": {\"title\": {\"text\": \"1\"}}, \"zaxis\": {\"title\": {\"text\": \"2\"}}}, \"template\": {\"data\": {\"bar\": [{\"error_x\": {\"color\": \"#2a3f5f\"}, \"error_y\": {\"color\": \"#2a3f5f\"}, \"marker\": {\"line\": {\"color\": \"#E5ECF6\", \"width\": 0.5}}, \"type\": \"bar\"}], \"barpolar\": [{\"marker\": {\"line\": {\"color\": \"#E5ECF6\", \"width\": 0.5}}, \"type\": \"barpolar\"}], \"carpet\": [{\"aaxis\": {\"endlinecolor\": \"#2a3f5f\", \"gridcolor\": \"white\", \"linecolor\": \"white\", \"minorgridcolor\": \"white\", \"startlinecolor\": \"#2a3f5f\"}, \"baxis\": {\"endlinecolor\": \"#2a3f5f\", \"gridcolor\": \"white\", \"linecolor\": \"white\", \"minorgridcolor\": \"white\", \"startlinecolor\": \"#2a3f5f\"}, \"type\": \"carpet\"}], \"choropleth\": [{\"colorbar\": {\"outlinewidth\": 0, \"ticks\": \"\"}, \"type\": \"choropleth\"}], \"contour\": [{\"colorbar\": {\"outlinewidth\": 0, \"ticks\": \"\"}, \"colorscale\": [[0.0, \"#0d0887\"], [0.1111111111111111, \"#46039f\"], [0.2222222222222222, \"#7201a8\"], [0.3333333333333333, \"#9c179e\"], [0.4444444444444444, \"#bd3786\"], [0.5555555555555556, \"#d8576b\"], [0.6666666666666666, \"#ed7953\"], [0.7777777777777778, \"#fb9f3a\"], [0.8888888888888888, \"#fdca26\"], [1.0, \"#f0f921\"]], \"type\": \"contour\"}], \"contourcarpet\": [{\"colorbar\": {\"outlinewidth\": 0, \"ticks\": \"\"}, \"type\": \"contourcarpet\"}], \"heatmap\": [{\"colorbar\": {\"outlinewidth\": 0, \"ticks\": \"\"}, \"colorscale\": [[0.0, \"#0d0887\"], [0.1111111111111111, \"#46039f\"], [0.2222222222222222, \"#7201a8\"], [0.3333333333333333, \"#9c179e\"], [0.4444444444444444, \"#bd3786\"], [0.5555555555555556, \"#d8576b\"], [0.6666666666666666, \"#ed7953\"], [0.7777777777777778, \"#fb9f3a\"], [0.8888888888888888, \"#fdca26\"], [1.0, \"#f0f921\"]], \"type\": \"heatmap\"}], \"heatmapgl\": [{\"colorbar\": {\"outlinewidth\": 0, \"ticks\": \"\"}, \"colorscale\": [[0.0, \"#0d0887\"], [0.1111111111111111, \"#46039f\"], [0.2222222222222222, \"#7201a8\"], [0.3333333333333333, \"#9c179e\"], [0.4444444444444444, \"#bd3786\"], [0.5555555555555556, \"#d8576b\"], [0.6666666666666666, \"#ed7953\"], [0.7777777777777778, \"#fb9f3a\"], [0.8888888888888888, \"#fdca26\"], [1.0, \"#f0f921\"]], \"type\": \"heatmapgl\"}], \"histogram\": [{\"marker\": {\"colorbar\": {\"outlinewidth\": 0, \"ticks\": \"\"}}, \"type\": \"histogram\"}], \"histogram2d\": [{\"colorbar\": {\"outlinewidth\": 0, \"ticks\": \"\"}, \"colorscale\": [[0.0, \"#0d0887\"], [0.1111111111111111, \"#46039f\"], [0.2222222222222222, \"#7201a8\"], [0.3333333333333333, \"#9c179e\"], [0.4444444444444444, \"#bd3786\"], [0.5555555555555556, \"#d8576b\"], [0.6666666666666666, \"#ed7953\"], [0.7777777777777778, \"#fb9f3a\"], [0.8888888888888888, \"#fdca26\"], [1.0, \"#f0f921\"]], \"type\": \"histogram2d\"}], \"histogram2dcontour\": [{\"colorbar\": {\"outlinewidth\": 0, \"ticks\": \"\"}, \"colorscale\": [[0.0, \"#0d0887\"], [0.1111111111111111, \"#46039f\"], [0.2222222222222222, \"#7201a8\"], [0.3333333333333333, \"#9c179e\"], [0.4444444444444444, \"#bd3786\"], [0.5555555555555556, \"#d8576b\"], [0.6666666666666666, \"#ed7953\"], [0.7777777777777778, \"#fb9f3a\"], [0.8888888888888888, \"#fdca26\"], [1.0, \"#f0f921\"]], \"type\": \"histogram2dcontour\"}], \"mesh3d\": [{\"colorbar\": {\"outlinewidth\": 0, \"ticks\": \"\"}, \"type\": \"mesh3d\"}], \"parcoords\": [{\"line\": {\"colorbar\": {\"outlinewidth\": 0, \"ticks\": \"\"}}, \"type\": \"parcoords\"}], \"pie\": [{\"automargin\": true, \"type\": \"pie\"}], \"scatter\": [{\"marker\": {\"colorbar\": {\"outlinewidth\": 0, \"ticks\": \"\"}}, \"type\": \"scatter\"}], \"scatter3d\": [{\"line\": {\"colorbar\": {\"outlinewidth\": 0, \"ticks\": \"\"}}, \"marker\": {\"colorbar\": {\"outlinewidth\": 0, \"ticks\": \"\"}}, \"type\": \"scatter3d\"}], \"scattercarpet\": [{\"marker\": {\"colorbar\": {\"outlinewidth\": 0, \"ticks\": \"\"}}, \"type\": \"scattercarpet\"}], \"scattergeo\": [{\"marker\": {\"colorbar\": {\"outlinewidth\": 0, \"ticks\": \"\"}}, \"type\": \"scattergeo\"}], \"scattergl\": [{\"marker\": {\"colorbar\": {\"outlinewidth\": 0, \"ticks\": \"\"}}, \"type\": \"scattergl\"}], \"scattermapbox\": [{\"marker\": {\"colorbar\": {\"outlinewidth\": 0, \"ticks\": \"\"}}, \"type\": \"scattermapbox\"}], \"scatterpolar\": [{\"marker\": {\"colorbar\": {\"outlinewidth\": 0, \"ticks\": \"\"}}, \"type\": \"scatterpolar\"}], \"scatterpolargl\": [{\"marker\": {\"colorbar\": {\"outlinewidth\": 0, \"ticks\": \"\"}}, \"type\": \"scatterpolargl\"}], \"scatterternary\": [{\"marker\": {\"colorbar\": {\"outlinewidth\": 0, \"ticks\": \"\"}}, \"type\": \"scatterternary\"}], \"surface\": [{\"colorbar\": {\"outlinewidth\": 0, \"ticks\": \"\"}, \"colorscale\": [[0.0, \"#0d0887\"], [0.1111111111111111, \"#46039f\"], [0.2222222222222222, \"#7201a8\"], [0.3333333333333333, \"#9c179e\"], [0.4444444444444444, \"#bd3786\"], [0.5555555555555556, \"#d8576b\"], [0.6666666666666666, \"#ed7953\"], [0.7777777777777778, \"#fb9f3a\"], [0.8888888888888888, \"#fdca26\"], [1.0, \"#f0f921\"]], \"type\": \"surface\"}], \"table\": [{\"cells\": {\"fill\": {\"color\": \"#EBF0F8\"}, \"line\": {\"color\": \"white\"}}, \"header\": {\"fill\": {\"color\": \"#C8D4E3\"}, \"line\": {\"color\": \"white\"}}, \"type\": \"table\"}]}, \"layout\": {\"annotationdefaults\": {\"arrowcolor\": \"#2a3f5f\", \"arrowhead\": 0, \"arrowwidth\": 1}, \"coloraxis\": {\"colorbar\": {\"outlinewidth\": 0, \"ticks\": \"\"}}, \"colorscale\": {\"diverging\": [[0, \"#8e0152\"], [0.1, \"#c51b7d\"], [0.2, \"#de77ae\"], [0.3, \"#f1b6da\"], [0.4, \"#fde0ef\"], [0.5, \"#f7f7f7\"], [0.6, \"#e6f5d0\"], [0.7, \"#b8e186\"], [0.8, \"#7fbc41\"], [0.9, \"#4d9221\"], [1, \"#276419\"]], \"sequential\": [[0.0, \"#0d0887\"], [0.1111111111111111, \"#46039f\"], [0.2222222222222222, \"#7201a8\"], [0.3333333333333333, \"#9c179e\"], [0.4444444444444444, \"#bd3786\"], [0.5555555555555556, \"#d8576b\"], [0.6666666666666666, \"#ed7953\"], [0.7777777777777778, \"#fb9f3a\"], [0.8888888888888888, \"#fdca26\"], [1.0, \"#f0f921\"]], \"sequentialminus\": [[0.0, \"#0d0887\"], [0.1111111111111111, \"#46039f\"], [0.2222222222222222, \"#7201a8\"], [0.3333333333333333, \"#9c179e\"], [0.4444444444444444, \"#bd3786\"], [0.5555555555555556, \"#d8576b\"], [0.6666666666666666, \"#ed7953\"], [0.7777777777777778, \"#fb9f3a\"], [0.8888888888888888, \"#fdca26\"], [1.0, \"#f0f921\"]]}, \"colorway\": [\"#636efa\", \"#EF553B\", \"#00cc96\", \"#ab63fa\", \"#FFA15A\", \"#19d3f3\", \"#FF6692\", \"#B6E880\", \"#FF97FF\", \"#FECB52\"], \"font\": {\"color\": \"#2a3f5f\"}, \"geo\": {\"bgcolor\": \"white\", \"lakecolor\": \"white\", \"landcolor\": \"#E5ECF6\", \"showlakes\": true, \"showland\": true, \"subunitcolor\": \"white\"}, \"hoverlabel\": {\"align\": \"left\"}, \"hovermode\": \"closest\", \"mapbox\": {\"style\": \"light\"}, \"paper_bgcolor\": \"white\", \"plot_bgcolor\": \"#E5ECF6\", \"polar\": {\"angularaxis\": {\"gridcolor\": \"white\", \"linecolor\": \"white\", \"ticks\": \"\"}, \"bgcolor\": \"#E5ECF6\", \"radialaxis\": {\"gridcolor\": \"white\", \"linecolor\": \"white\", \"ticks\": \"\"}}, \"scene\": {\"xaxis\": {\"backgroundcolor\": \"#E5ECF6\", \"gridcolor\": \"white\", \"gridwidth\": 2, \"linecolor\": \"white\", \"showbackground\": true, \"ticks\": \"\", \"zerolinecolor\": \"white\"}, \"yaxis\": {\"backgroundcolor\": \"#E5ECF6\", \"gridcolor\": \"white\", \"gridwidth\": 2, \"linecolor\": \"white\", \"showbackground\": true, \"ticks\": \"\", \"zerolinecolor\": \"white\"}, \"zaxis\": {\"backgroundcolor\": \"#E5ECF6\", \"gridcolor\": \"white\", \"gridwidth\": 2, \"linecolor\": \"white\", \"showbackground\": true, \"ticks\": \"\", \"zerolinecolor\": \"white\"}}, \"shapedefaults\": {\"line\": {\"color\": \"#2a3f5f\"}}, \"ternary\": {\"aaxis\": {\"gridcolor\": \"white\", \"linecolor\": \"white\", \"ticks\": \"\"}, \"baxis\": {\"gridcolor\": \"white\", \"linecolor\": \"white\", \"ticks\": \"\"}, \"bgcolor\": \"#E5ECF6\", \"caxis\": {\"gridcolor\": \"white\", \"linecolor\": \"white\", \"ticks\": \"\"}}, \"title\": {\"x\": 0.05}, \"xaxis\": {\"automargin\": true, \"gridcolor\": \"white\", \"linecolor\": \"white\", \"ticks\": \"\", \"title\": {\"standoff\": 15}, \"zerolinecolor\": \"white\", \"zerolinewidth\": 2}, \"yaxis\": {\"automargin\": true, \"gridcolor\": \"white\", \"linecolor\": \"white\", \"ticks\": \"\", \"title\": {\"standoff\": 15}, \"zerolinecolor\": \"white\", \"zerolinewidth\": 2}}}, \"title\": {\"text\": \"3d TSNE Plot for Clusters\"}, \"width\": 900},\n",
              "                        {\"responsive\": true}\n",
              "                    ).then(function(){\n",
              "                            \n",
              "var gd = document.getElementById('ad3706d0-d9a2-492d-989c-3656a8dd62fc');\n",
              "var x = new MutationObserver(function (mutations, observer) {{\n",
              "        var display = window.getComputedStyle(gd).display;\n",
              "        if (!display || display === 'none') {{\n",
              "            console.log([gd, 'removed!']);\n",
              "            Plotly.purge(gd);\n",
              "            observer.disconnect();\n",
              "        }}\n",
              "}});\n",
              "\n",
              "// Listen for the removal of the full notebook cells\n",
              "var notebookContainer = gd.closest('#notebook-container');\n",
              "if (notebookContainer) {{\n",
              "    x.observe(notebookContainer, {childList: true});\n",
              "}}\n",
              "\n",
              "// Listen for the clearing of the current output cell\n",
              "var outputEl = gd.closest('.output');\n",
              "if (outputEl) {{\n",
              "    x.observe(outputEl, {childList: true});\n",
              "}}\n",
              "\n",
              "                        })\n",
              "                };\n",
              "                \n",
              "            </script>\n",
              "        </div>\n",
              "</body>\n",
              "</html>"
            ]
          },
          "metadata": {
            "tags": []
          }
        }
      ]
    },
    {
      "cell_type": "code",
      "metadata": {
        "colab": {
          "base_uri": "https://localhost:8080/",
          "height": 376,
          "referenced_widgets": [
            "93e344caf6994e6f919a2ec8112820dd",
            "5f7a7c45531a42f7a18cd4eef637de2b",
            "9c4df7dca3264d70b79388c4eead229c"
          ]
        },
        "id": "pmNyU8rNesaW",
        "outputId": "4d18558a-1107-4c25-de23-8f08dad69817"
      },
      "source": [
        "plot_model(kmeans, plot = 'elbow')"
      ],
      "execution_count": 11,
      "outputs": [
        {
          "output_type": "display_data",
          "data": {
            "image/png": "[encoded data removed]",
            "text/plain": [
              "<Figure size 576x396 with 1 Axes>"
            ]
          },
          "metadata": {
            "tags": []
          }
        }
      ]
    },
    {
      "cell_type": "code",
      "metadata": {
        "colab": {
          "base_uri": "https://localhost:8080/",
          "height": 376
        },
        "id": "Ssfj5htgexml",
        "outputId": "02117dcb-4207-4f12-87ec-f13bcb4b9503"
      },
      "source": [
        "plot_model(kmeans, plot = 'silhouette')"
      ],
      "execution_count": 12,
      "outputs": [
        {
          "output_type": "display_data",
          "data": {
            "image/png": "[encoded data removed]",
            "text/plain": [
              "<Figure size 576x396 with 1 Axes>"
            ]
          },
          "metadata": {
            "tags": []
          }
        }
      ]
    },
    {
      "cell_type": "code",
      "metadata": {
        "colab": {
          "base_uri": "https://localhost:8080/",
          "height": 366
        },
        "id": "KwilJg1xe4f6",
        "outputId": "81edb229-f96c-4ce9-9b48-a126f8890789"
      },
      "source": [
        "plot_model(kmeans, plot = 'distance')"
      ],
      "execution_count": 16,
      "outputs": [
        {
          "output_type": "display_data",
          "data": {
            "image/png": "[encoded data removed]",
            "text/plain": [
              "<Figure size 576x396 with 2 Axes>"
            ]
          },
          "metadata": {
            "tags": []
          }
        }
      ]
    },
    {
      "cell_type": "code",
      "metadata": {
        "colab": {
          "base_uri": "https://localhost:8080/",
          "height": 617
        },
        "id": "VIgHf_WGfr_m",
        "outputId": "dfb180a8-e8e5-4fa9-924a-d27cd1242c5e"
      },
      "source": [
        "plot_model(kmeans, plot = 'distribution')"
      ],
      "execution_count": 17,
      "outputs": [
        {
          "output_type": "display_data",
          "data": {
            "text/html": [
              "<html>\n",
              "<head><meta charset=\"utf-8\" /></head>\n",
              "<body>\n",
              "    <div>\n",
              "            <script src=\"https://cdnjs.cloudflare.com/ajax/libs/mathjax/2.7.5/MathJax.js?config=TeX-AMS-MML_SVG\"></script><script type=\"text/javascript\">if (window.MathJax) {MathJax.Hub.Config({SVG: {font: \"STIX-Web\"}});}</script>\n",
              "                <script type=\"text/javascript\">window.PlotlyConfig = {MathJaxConfig: 'local'};</script>\n",
              "        <script src=\"https://cdn.plot.ly/plotly-latest.min.js\"></script>    \n",
              "            <div id=\"7bda319e-f6dc-4e3d-a457-294bfb5480ec\" class=\"plotly-graph-div\" style=\"height:600px; width:100%;\"></div>\n",
              "            <script type=\"text/javascript\">\n",
              "                \n",
              "                    window.PLOTLYENV=window.PLOTLYENV || {};\n",
              "                    \n",
              "                if (document.getElementById(\"7bda319e-f6dc-4e3d-a457-294bfb5480ec\")) {\n",
              "                    Plotly.newPlot(\n",
              "                        '7bda319e-f6dc-4e3d-a457-294bfb5480ec',\n",
              "                        [{\"alignmentgroup\": \"True\", \"bingroup\": \"x\", \"hoverlabel\": {\"namelength\": 0}, \"hovertemplate\": \"Cluster=%{x}<br>count=%{y}\", \"legendgroup\": \"Cluster=Cluster 0\", \"marker\": {\"color\": \"#636efa\", \"opacity\": 0.7}, \"name\": \"Cluster=Cluster 0\", \"offsetgroup\": \"Cluster=Cluster 0\", \"orientation\": \"v\", \"showlegend\": true, \"type\": \"histogram\", \"x\": [\"Cluster 0\", \"Cluster 0\", \"Cluster 0\", \"Cluster 0\", \"Cluster 0\", \"Cluster 0\", \"Cluster 0\", \"Cluster 0\", \"Cluster 0\", \"Cluster 0\", \"Cluster 0\", \"Cluster 0\", \"Cluster 0\", \"Cluster 0\", \"Cluster 0\", \"Cluster 0\", \"Cluster 0\", \"Cluster 0\", \"Cluster 0\", \"Cluster 0\", \"Cluster 0\", \"Cluster 0\", \"Cluster 0\", \"Cluster 0\", \"Cluster 0\", \"Cluster 0\", \"Cluster 0\", \"Cluster 0\", \"Cluster 0\", \"Cluster 0\", \"Cluster 0\", \"Cluster 0\", \"Cluster 0\", \"Cluster 0\", \"Cluster 0\", \"Cluster 0\", \"Cluster 0\", \"Cluster 0\", \"Cluster 0\", \"Cluster 0\", \"Cluster 0\", \"Cluster 0\", \"Cluster 0\", \"Cluster 0\", \"Cluster 0\", \"Cluster 0\", \"Cluster 0\", \"Cluster 0\", \"Cluster 0\", \"Cluster 0\", \"Cluster 0\", \"Cluster 0\", \"Cluster 0\", \"Cluster 0\", \"Cluster 0\", \"Cluster 0\", \"Cluster 0\", \"Cluster 0\", \"Cluster 0\", \"Cluster 0\", \"Cluster 0\", \"Cluster 0\", \"Cluster 0\", \"Cluster 0\", \"Cluster 0\", \"Cluster 0\", \"Cluster 0\", \"Cluster 0\", \"Cluster 0\", \"Cluster 0\", \"Cluster 0\", \"Cluster 0\", \"Cluster 0\", \"Cluster 0\", \"Cluster 0\", \"Cluster 0\", \"Cluster 0\", \"Cluster 0\", \"Cluster 0\", \"Cluster 0\", \"Cluster 0\", \"Cluster 0\", \"Cluster 0\", \"Cluster 0\", \"Cluster 0\", \"Cluster 0\", \"Cluster 0\", \"Cluster 0\", \"Cluster 0\", \"Cluster 0\", \"Cluster 0\", \"Cluster 0\", \"Cluster 0\", \"Cluster 0\", \"Cluster 0\", \"Cluster 0\", \"Cluster 0\", \"Cluster 0\", \"Cluster 0\", \"Cluster 0\", \"Cluster 0\", \"Cluster 0\", \"Cluster 0\", \"Cluster 0\", \"Cluster 0\", \"Cluster 0\", \"Cluster 0\", \"Cluster 0\", \"Cluster 0\", \"Cluster 0\", \"Cluster 0\", \"Cluster 0\", \"Cluster 0\", \"Cluster 0\", \"Cluster 0\", \"Cluster 0\", \"Cluster 0\", \"Cluster 0\", \"Cluster 0\", \"Cluster 0\", \"Cluster 0\", \"Cluster 0\", \"Cluster 0\", \"Cluster 0\", \"Cluster 0\", \"Cluster 0\", \"Cluster 0\", \"Cluster 0\", \"Cluster 0\", \"Cluster 0\", \"Cluster 0\", \"Cluster 0\", \"Cluster 0\", \"Cluster 0\", \"Cluster 0\", \"Cluster 0\", \"Cluster 0\", \"Cluster 0\", \"Cluster 0\", \"Cluster 0\", \"Cluster 0\", \"Cluster 0\", \"Cluster 0\", \"Cluster 0\", \"Cluster 0\", \"Cluster 0\", \"Cluster 0\"], \"xaxis\": \"x\", \"yaxis\": \"y\"}, {\"alignmentgroup\": \"True\", \"customdata\": [[89.0, 30267.0, 0.2893100658351509, 14386.351879589123, \"Cluster 0\"], [91.0, 29082.0, 0.28248852137129143, 18794.488169074688, \"Cluster 0\"], [92.0, 22484.0, 0.3317732623948493, 18615.632589788456, \"Cluster 0\"], [90.0, 33490.0, 0.4199085281737912, 17091.904228934392, \"Cluster 0\"], [93.0, 17672.0, 0.3032923688871533, 18516.451810726718, \"Cluster 0\"], [89.0, 26940.0, 0.3260051328059917, 16555.159377159824, \"Cluster 0\"], [88.0, 28409.0, 0.30565353367521064, 17326.175608364214, \"Cluster 0\"], [87.0, 30178.0, 0.2793159778940049, 16123.070750832, \"Cluster 0\"], [86.0, 31994.0, 0.24947694035510065, 18210.088099070614, \"Cluster 0\"], [82.0, 33610.0, 0.3012532342412973, 17755.664940228176, \"Cluster 0\"], [91.0, 12038.0, 0.3498032558856572, 16464.960504438823, \"Cluster 0\"], [88.0, 35051.0, 0.3860515062876169, 17593.24679258195, \"Cluster 0\"], [87.0, 12000.0, 0.3429910076112659, 16180.26525174153, \"Cluster 0\"], [91.0, 36639.0, 0.3261988874784867, 16275.703341192586, \"Cluster 0\"], [90.0, 22288.0, 0.2713268321051208, 18434.099152391347, \"Cluster 0\"], [85.0, 21250.0, 0.3104101151420252, 16033.971166673777, \"Cluster 0\"], [91.0, 30148.0, 0.2773889467565771, 15324.287405101717, \"Cluster 0\"], [88.0, 26351.0, 0.3041682062164747, 14035.917553542351, \"Cluster 0\"], [85.0, 28401.0, 0.3694371368158697, 15990.49413056604, \"Cluster 0\"], [85.0, 34634.0, 0.3690001696241634, 16719.815875018445, \"Cluster 0\"], [88.0, 34001.0, 0.33756932388752803, 15530.934134298665, \"Cluster 0\"], [84.0, 42018.0, 0.29799360218993026, 16148.370454036614, \"Cluster 0\"], [88.0, 26092.0, 0.3128732065230775, 17105.79392615357, \"Cluster 0\"], [94.0, 28352.0, 0.37687573531685575, 16798.886114738052, \"Cluster 0\"], [86.0, 28779.0, 0.3365233301816881, 16047.268331461928, \"Cluster 0\"], [94.0, 38923.0, 0.33022601809734325, 16971.181554867213, \"Cluster 0\"], [89.0, 25252.0, 0.32176522093208865, 16539.364186086335, \"Cluster 0\"], [87.0, 25566.0, 0.3167603729756968, 15188.058749407255, \"Cluster 0\"], [84.0, 27384.0, 0.31364671699548896, 16734.672754073246, \"Cluster 0\"], [91.0, 28777.0, 0.324193555035782, 17808.2662415687, \"Cluster 0\"], [91.0, 27168.0, 0.3322388165540652, 15893.729773516614, \"Cluster 0\"], [88.0, 22602.0, 0.35674482887974684, 16740.343496726702, \"Cluster 0\"], [88.0, 28802.0, 0.4083878319987073, 16293.038332542192, \"Cluster 0\"], [89.0, 24520.0, 0.44383270684567067, 13556.9358834699, \"Cluster 0\"], [91.0, 29750.0, 0.2884703320713124, 19201.11991627576, \"Cluster 0\"], [90.0, 33259.0, 0.377571058498228, 15315.028503741696, \"Cluster 0\"], [89.0, 33311.0, 0.3761469685086391, 17093.06995548225, \"Cluster 0\"], [83.0, 18162.0, 0.3013734548863509, 16029.469213914268, \"Cluster 0\"], [83.0, 26882.0, 0.34797963237384105, 17775.22817123954, \"Cluster 0\"], [86.0, 18812.0, 0.34154576038705153, 16157.734142403422, \"Cluster 0\"], [84.0, 29492.0, 0.3336031402694437, 17954.09505703969, \"Cluster 0\"], [94.0, 18937.0, 0.3470950600753079, 17739.776098377628, \"Cluster 0\"], [94.0, 20719.0, 0.336402269797664, 16281.832273239006, \"Cluster 0\"], [79.0, 38201.0, 0.3697828881534748, 16393.395697309446, \"Cluster 0\"], [88.0, 19510.0, 0.3167510258154691, 16529.20080632274, \"Cluster 0\"], [85.0, 30794.0, 0.2862292747117072, 17096.39150937826, \"Cluster 0\"], [82.0, 24221.0, 0.4735496605323542, 16251.759445212669, \"Cluster 0\"], [82.0, 32494.0, 0.3273154026360584, 16799.444266662453, \"Cluster 0\"], [91.0, 16950.0, 0.32300404344763, 17172.609400509067, \"Cluster 0\"], [91.0, 20681.0, 0.3546791690549572, 18401.08844474873, \"Cluster 0\"], [89.0, 20292.0, 0.3121481952107594, 16023.4456584523, \"Cluster 0\"], [84.0, 27179.0, 0.3474234168306904, 15612.628547766899, \"Cluster 0\"], [87.0, 24578.0, 0.37616545875063534, 17789.247521813828, \"Cluster 0\"], [81.0, 34425.0, 0.2726097792323641, 16262.623790655764, \"Cluster 0\"], [93.0, 20440.0, 0.2975730342292497, 17406.074017844054, \"Cluster 0\"], [84.0, 27544.0, 0.2309337663207005, 18207.36169648481, \"Cluster 0\"], [95.0, 27038.0, 0.3313520070109344, 18126.577451151075, \"Cluster 0\"], [89.0, 26127.0, 0.3044743722681633, 17194.828018777476, \"Cluster 0\"], [86.0, 46977.0, 0.2827283910152334, 15628.957075805025, \"Cluster 0\"], [85.0, 27599.0, 0.2819950483303406, 13470.97060503703, \"Cluster 0\"], [87.0, 25701.0, 0.3152205738281265, 15738.859295516553, \"Cluster 0\"], [92.0, 35877.0, 0.3668917159124752, 17287.907016982324, \"Cluster 0\"], [89.0, 19202.0, 0.3819877440174351, 16626.22236147723, \"Cluster 0\"], [85.0, 29204.0, 0.3254914498834959, 16918.903460369133, \"Cluster 0\"], [88.0, 33251.0, 0.3043913649608802, 18868.24161249696, \"Cluster 0\"], [86.0, 35998.0, 0.3216356471662456, 20000.0, \"Cluster 0\"], [94.0, 27169.0, 0.3141730453838618, 15061.776215142369, \"Cluster 0\"], [87.0, 18459.0, 0.2645499059687874, 15637.59765457844, \"Cluster 0\"], [85.0, 29610.0, 0.3181352453742131, 18475.487468080933, \"Cluster 0\"], [83.0, 28497.0, 0.3938023931664613, 15510.112981164848, \"Cluster 0\"], [87.0, 46910.0, 0.3085616998317755, 14789.14847617646, \"Cluster 0\"], [88.0, 17388.0, 0.4661894446652393, 16698.6210372462, \"Cluster 0\"], [84.0, 38042.0, 0.3660858718547989, 17465.856285855403, \"Cluster 0\"], [85.0, 34802.0, 0.2987969233586417, 16450.003270402787, \"Cluster 0\"], [91.0, 25237.0, 0.3535018242414266, 17292.733103848248, \"Cluster 0\"], [90.0, 30178.0, 0.2823512821567113, 16182.8384364088, \"Cluster 0\"], [88.0, 32708.0, 0.3682153159958089, 16711.0679804242, \"Cluster 0\"], [89.0, 31096.0, 0.2785878455435617, 17736.94259966666, \"Cluster 0\"], [88.0, 27169.0, 0.28005950486141434, 15260.635546195437, \"Cluster 0\"], [92.0, 32915.0, 0.3885749195868542, 16694.706839244012, \"Cluster 0\"], [90.0, 25733.0, 0.3385629680709827, 17631.56888411863, \"Cluster 0\"], [85.0, 26355.0, 0.34234066669498114, 17971.19363998381, \"Cluster 0\"], [88.0, 28585.0, 0.3977396663840213, 16725.841854363774, \"Cluster 0\"], [94.0, 27771.0, 0.3025032231546657, 17303.957194969433, \"Cluster 0\"], [84.0, 22286.0, 0.3955062459001081, 17886.53737311577, \"Cluster 0\"], [91.0, 26424.0, 0.3193886529047028, 16501.46877669979, \"Cluster 0\"], [88.0, 17946.0, 0.26964363039994416, 16715.160017840968, \"Cluster 0\"], [87.0, 30812.0, 0.3144631516753479, 15238.118997598334, \"Cluster 0\"], [86.0, 36031.0, 0.2401766350783482, 16945.326244896307, \"Cluster 0\"], [83.0, 30492.0, 0.3016314685914632, 15365.85846293255, \"Cluster 0\"], [83.0, 33170.0, 0.24107774427464634, 16620.010473689304, \"Cluster 0\"], [91.0, 25886.0, 0.30175376758370465, 17266.045729118025, \"Cluster 0\"], [86.0, 15695.0, 0.25717496647489363, 17366.186263516567, \"Cluster 0\"], [89.0, 22008.0, 0.3819060693389532, 16458.398097731253, \"Cluster 0\"], [92.0, 36032.0, 0.3369683066109672, 17348.5998812573, \"Cluster 0\"], [87.0, 23042.0, 0.3663120107544869, 18149.035872923057, \"Cluster 0\"], [84.0, 36463.0, 0.3536209572557781, 16563.372591147832, \"Cluster 0\"], [83.0, 30721.0, 0.3311418077630257, 17705.99238527814, \"Cluster 0\"], [83.0, 23206.0, 0.3212403632065312, 16870.672003783384, \"Cluster 0\"], [85.0, 28408.0, 0.3580738593579665, 15063.335797441836, \"Cluster 0\"], [90.0, 33188.0, 0.24881006879023135, 15866.913937696345, \"Cluster 0\"], [97.0, 27271.0, 0.28392289527040304, 14928.165597390327, \"Cluster 0\"], [92.0, 18724.0, 0.3278623148176303, 15341.381109594675, \"Cluster 0\"], [87.0, 23322.0, 0.30682119734644964, 16131.267659393414, \"Cluster 0\"], [91.0, 28165.0, 0.3036929225036061, 17460.179350212424, \"Cluster 0\"], [83.0, 28727.0, 0.3082630418510537, 18205.33626089001, \"Cluster 0\"], [87.0, 31481.0, 0.317423970601333, 16180.68808203422, \"Cluster 0\"], [91.0, 26917.0, 0.37671353045834655, 17986.618644605885, \"Cluster 0\"], [82.0, 33636.0, 0.3717829785401914, 17866.83359752812, \"Cluster 0\"], [91.0, 24370.0, 0.2963285713632805, 16141.048981383728, \"Cluster 0\"], [90.0, 24376.0, 0.2812794569155436, 15134.994226396464, \"Cluster 0\"], [86.0, 23400.0, 0.27803553844702666, 15215.28126373834, \"Cluster 0\"], [85.0, 21652.0, 0.3184561372216806, 14175.16988549895, \"Cluster 0\"], [90.0, 22782.0, 0.3563068710287742, 15924.071707885845, \"Cluster 0\"], [84.0, 18244.0, 0.29266337446440194, 17815.348406878897, \"Cluster 0\"], [87.0, 26665.0, 0.4021456613889217, 17376.914743318182, \"Cluster 0\"], [84.0, 24105.0, 0.2718090229374729, 16524.902538052145, \"Cluster 0\"], [88.0, 31366.0, 0.3796208481334848, 16079.622699815933, \"Cluster 0\"], [91.0, 22672.0, 0.2710645345158169, 15407.646761130874, \"Cluster 0\"], [84.0, 30481.0, 0.3970228936031003, 16837.205964813103, \"Cluster 0\"], [94.0, 23854.0, 0.3144466826182581, 16828.410118749016, \"Cluster 0\"], [89.0, 28160.0, 0.3388488510290433, 15607.061781887898, \"Cluster 0\"], [92.0, 33550.0, 0.3685156285793065, 17106.32591058189, \"Cluster 0\"], [89.0, 34524.0, 0.348118273264174, 14051.256515312789, \"Cluster 0\"], [90.0, 37503.0, 0.35778831446458764, 17258.57497274541, \"Cluster 0\"], [90.0, 35297.0, 0.35514901905663643, 16091.401954058958, \"Cluster 0\"], [88.0, 17851.0, 0.2898659849627828, 17472.470686173863, \"Cluster 0\"], [88.0, 33303.0, 0.39971568554521497, 15232.598068845287, \"Cluster 0\"], [93.0, 19934.0, 0.20314023979537812, 17969.693768505334, \"Cluster 0\"], [90.0, 29029.0, 0.30375897133462404, 15592.991530526488, \"Cluster 0\"], [87.0, 26045.0, 0.3752921226023748, 15903.558359374925, \"Cluster 0\"], [87.0, 30102.0, 0.3903905943444749, 16330.081190027211, \"Cluster 0\"], [91.0, 30756.0, 0.30369803009825364, 15492.004711465304, \"Cluster 0\"], [87.0, 17760.0, 0.34877754843050746, 16869.507130301474, \"Cluster 0\"], [87.0, 15671.0, 0.3507250914944152, 14326.601120246103, \"Cluster 0\"], [92.0, 35484.0, 0.3970636039704499, 17324.045112814925, \"Cluster 0\"], [84.0, 20704.0, 0.3794963151514172, 16816.911895743782, \"Cluster 0\"], [87.0, 29909.0, 0.3421516318130469, 18142.232746738577, \"Cluster 0\"], [87.0, 42592.0, 0.35528968203827593, 18086.287157859304, \"Cluster 0\"], [83.0, 34384.0, 0.3247186821733417, 14783.379085794499, \"Cluster 0\"], [79.0, 32421.0, 0.3032762059432743, 15319.467662272391, \"Cluster 0\"], [92.0, 22616.0, 0.3228506824321553, 17275.66131398456, \"Cluster 0\"], [91.0, 36991.0, 0.2685979050949868, 19047.77233878285, \"Cluster 0\"], [83.0, 34529.0, 0.3172075114569807, 16517.208746949746, \"Cluster 0\"], [86.0, 27705.0, 0.3293769514872405, 17130.85610211788, \"Cluster 0\"], [84.0, 27693.0, 0.3670629731870412, 17879.558905551898, \"Cluster 0\"], [82.0, 24391.0, 0.27610134635529604, 17053.03010738692, \"Cluster 0\"]], \"hoverlabel\": {\"namelength\": 0}, \"hovertemplate\": \"Cluster=%{customdata[4]}<br>Age=%{customdata[0]}<br>Income=%{customdata[1]}<br>SpendingScore=%{customdata[2]}<br>Savings=%{customdata[3]}\", \"legendgroup\": \"Cluster=Cluster 0\", \"marker\": {\"color\": \"#636efa\"}, \"name\": \"Cluster=Cluster 0\", \"notched\": true, \"offsetgroup\": \"Cluster=Cluster 0\", \"showlegend\": false, \"type\": \"box\", \"x\": [\"Cluster 0\", \"Cluster 0\", \"Cluster 0\", \"Cluster 0\", \"Cluster 0\", \"Cluster 0\", \"Cluster 0\", \"Cluster 0\", \"Cluster 0\", \"Cluster 0\", \"Cluster 0\", \"Cluster 0\", \"Cluster 0\", \"Cluster 0\", \"Cluster 0\", \"Cluster 0\", \"Cluster 0\", \"Cluster 0\", \"Cluster 0\", \"Cluster 0\", \"Cluster 0\", \"Cluster 0\", \"Cluster 0\", \"Cluster 0\", \"Cluster 0\", \"Cluster 0\", \"Cluster 0\", \"Cluster 0\", \"Cluster 0\", \"Cluster 0\", \"Cluster 0\", \"Cluster 0\", \"Cluster 0\", \"Cluster 0\", \"Cluster 0\", \"Cluster 0\", \"Cluster 0\", \"Cluster 0\", \"Cluster 0\", \"Cluster 0\", \"Cluster 0\", \"Cluster 0\", \"Cluster 0\", \"Cluster 0\", \"Cluster 0\", \"Cluster 0\", \"Cluster 0\", \"Cluster 0\", \"Cluster 0\", \"Cluster 0\", \"Cluster 0\", \"Cluster 0\", \"Cluster 0\", \"Cluster 0\", \"Cluster 0\", \"Cluster 0\", \"Cluster 0\", \"Cluster 0\", \"Cluster 0\", \"Cluster 0\", \"Cluster 0\", \"Cluster 0\", \"Cluster 0\", \"Cluster 0\", \"Cluster 0\", \"Cluster 0\", \"Cluster 0\", \"Cluster 0\", \"Cluster 0\", \"Cluster 0\", \"Cluster 0\", \"Cluster 0\", \"Cluster 0\", \"Cluster 0\", \"Cluster 0\", \"Cluster 0\", \"Cluster 0\", \"Cluster 0\", \"Cluster 0\", \"Cluster 0\", \"Cluster 0\", \"Cluster 0\", \"Cluster 0\", \"Cluster 0\", \"Cluster 0\", \"Cluster 0\", \"Cluster 0\", \"Cluster 0\", \"Cluster 0\", \"Cluster 0\", \"Cluster 0\", \"Cluster 0\", \"Cluster 0\", \"Cluster 0\", \"Cluster 0\", \"Cluster 0\", \"Cluster 0\", \"Cluster 0\", \"Cluster 0\", \"Cluster 0\", \"Cluster 0\", \"Cluster 0\", \"Cluster 0\", \"Cluster 0\", \"Cluster 0\", \"Cluster 0\", \"Cluster 0\", \"Cluster 0\", \"Cluster 0\", \"Cluster 0\", \"Cluster 0\", \"Cluster 0\", \"Cluster 0\", \"Cluster 0\", \"Cluster 0\", \"Cluster 0\", \"Cluster 0\", \"Cluster 0\", \"Cluster 0\", \"Cluster 0\", \"Cluster 0\", \"Cluster 0\", \"Cluster 0\", \"Cluster 0\", \"Cluster 0\", \"Cluster 0\", \"Cluster 0\", \"Cluster 0\", \"Cluster 0\", \"Cluster 0\", \"Cluster 0\", \"Cluster 0\", \"Cluster 0\", \"Cluster 0\", \"Cluster 0\", \"Cluster 0\", \"Cluster 0\", \"Cluster 0\", \"Cluster 0\", \"Cluster 0\", \"Cluster 0\", \"Cluster 0\", \"Cluster 0\", \"Cluster 0\", \"Cluster 0\", \"Cluster 0\", \"Cluster 0\"], \"xaxis\": \"x2\", \"yaxis\": \"y2\"}, {\"alignmentgroup\": \"True\", \"bingroup\": \"x\", \"hoverlabel\": {\"namelength\": 0}, \"hovertemplate\": \"Cluster=%{x}<br>count=%{y}\", \"legendgroup\": \"Cluster=Cluster 1\", \"marker\": {\"color\": \"#EF553B\", \"opacity\": 0.7}, \"name\": \"Cluster=Cluster 1\", \"offsetgroup\": \"Cluster=Cluster 1\", \"orientation\": \"v\", \"showlegend\": true, \"type\": \"histogram\", \"x\": [\"Cluster 1\", \"Cluster 1\", \"Cluster 1\", \"Cluster 1\", \"Cluster 1\", \"Cluster 1\", \"Cluster 1\", \"Cluster 1\", \"Cluster 1\", \"Cluster 1\", \"Cluster 1\", \"Cluster 1\", \"Cluster 1\", \"Cluster 1\", \"Cluster 1\", \"Cluster 1\", \"Cluster 1\", \"Cluster 1\", \"Cluster 1\", \"Cluster 1\", \"Cluster 1\", \"Cluster 1\", \"Cluster 1\", \"Cluster 1\", \"Cluster 1\", \"Cluster 1\", \"Cluster 1\", \"Cluster 1\", \"Cluster 1\", \"Cluster 1\", \"Cluster 1\", \"Cluster 1\", \"Cluster 1\", \"Cluster 1\", \"Cluster 1\", \"Cluster 1\", \"Cluster 1\", \"Cluster 1\", \"Cluster 1\", \"Cluster 1\", \"Cluster 1\", \"Cluster 1\", \"Cluster 1\", \"Cluster 1\", \"Cluster 1\", \"Cluster 1\", \"Cluster 1\", \"Cluster 1\", \"Cluster 1\", \"Cluster 1\", \"Cluster 1\", \"Cluster 1\", \"Cluster 1\", \"Cluster 1\", \"Cluster 1\", \"Cluster 1\", \"Cluster 1\", \"Cluster 1\", \"Cluster 1\", \"Cluster 1\", \"Cluster 1\", \"Cluster 1\", \"Cluster 1\", \"Cluster 1\", \"Cluster 1\", \"Cluster 1\", \"Cluster 1\", \"Cluster 1\", \"Cluster 1\", \"Cluster 1\", \"Cluster 1\", \"Cluster 1\", \"Cluster 1\", \"Cluster 1\", \"Cluster 1\", \"Cluster 1\", \"Cluster 1\", \"Cluster 1\", \"Cluster 1\", \"Cluster 1\", \"Cluster 1\", \"Cluster 1\", \"Cluster 1\", \"Cluster 1\", \"Cluster 1\", \"Cluster 1\", \"Cluster 1\", \"Cluster 1\", \"Cluster 1\", \"Cluster 1\", \"Cluster 1\", \"Cluster 1\", \"Cluster 1\", \"Cluster 1\", \"Cluster 1\", \"Cluster 1\", \"Cluster 1\", \"Cluster 1\", \"Cluster 1\", \"Cluster 1\", \"Cluster 1\", \"Cluster 1\", \"Cluster 1\", \"Cluster 1\", \"Cluster 1\", \"Cluster 1\", \"Cluster 1\", \"Cluster 1\", \"Cluster 1\", \"Cluster 1\", \"Cluster 1\", \"Cluster 1\", \"Cluster 1\", \"Cluster 1\", \"Cluster 1\", \"Cluster 1\", \"Cluster 1\", \"Cluster 1\", \"Cluster 1\", \"Cluster 1\", \"Cluster 1\", \"Cluster 1\", \"Cluster 1\", \"Cluster 1\", \"Cluster 1\", \"Cluster 1\", \"Cluster 1\", \"Cluster 1\", \"Cluster 1\", \"Cluster 1\", \"Cluster 1\", \"Cluster 1\", \"Cluster 1\", \"Cluster 1\", \"Cluster 1\", \"Cluster 1\", \"Cluster 1\", \"Cluster 1\", \"Cluster 1\", \"Cluster 1\", \"Cluster 1\", \"Cluster 1\", \"Cluster 1\", \"Cluster 1\", \"Cluster 1\", \"Cluster 1\", \"Cluster 1\", \"Cluster 1\", \"Cluster 1\", \"Cluster 1\", \"Cluster 1\", \"Cluster 1\", \"Cluster 1\", \"Cluster 1\", \"Cluster 1\", \"Cluster 1\", \"Cluster 1\"], \"xaxis\": \"x\", \"yaxis\": \"y\"}, {\"alignmentgroup\": \"True\", \"customdata\": [[65.0, 70430.0, 0.6969942581249643, 6971.164886262858, \"Cluster 1\"], [57.0, 69655.0, 0.6748906779058501, 5889.831167170132, \"Cluster 1\"], [65.0, 71229.0, 0.7878897626638453, 9024.337460598084, \"Cluster 1\"], [59.0, 69408.0, 0.8799059975919311, 6491.771149967824, \"Cluster 1\"], [61.0, 73495.0, 0.7727563051023116, 9288.189785744367, \"Cluster 1\"], [60.0, 65942.0, 0.8005783854654352, 5253.2650066086435, \"Cluster 1\"], [55.0, 73895.0, 0.7471254610291731, 5563.906948891499, \"Cluster 1\"], [63.0, 75078.0, 0.7831591503681397, 7468.8510795028005, \"Cluster 1\"], [62.0, 62747.0, 0.7705945596869115, 5852.326242628098, \"Cluster 1\"], [59.0, 75505.0, 0.7682786576081454, 5006.528691371692, \"Cluster 1\"], [67.0, 59243.0, 0.7436599996604758, 5446.557472721708, \"Cluster 1\"], [58.0, 77559.0, 0.7122963723872477, 5742.524488088997, \"Cluster 1\"], [66.0, 77052.0, 0.7072624347132287, 6296.417311227459, \"Cluster 1\"], [58.0, 70272.0, 0.8229596005059499, 5290.087044285296, \"Cluster 1\"], [57.0, 65608.0, 0.7662313009024402, 6904.318224287022, \"Cluster 1\"], [57.0, 76573.0, 0.8405990704520518, 6225.3760824332285, \"Cluster 1\"], [66.0, 71672.0, 0.7538892176112998, 7387.835437850721, \"Cluster 1\"], [59.0, 69460.0, 0.7527238381125997, 6101.372146632121, \"Cluster 1\"], [68.0, 77648.0, 0.7965446939835457, 6190.864082788901, \"Cluster 1\"], [61.0, 74282.0, 0.6922364738673796, 7286.754751068365, \"Cluster 1\"], [58.0, 70369.0, 0.9045204855363144, 7461.567502649429, \"Cluster 1\"], [59.0, 75495.0, 0.7945029052198103, 6702.9519263157545, \"Cluster 1\"], [61.0, 71171.0, 0.7210804930623951, 6457.790641224788, \"Cluster 1\"], [64.0, 76410.0, 0.7756041848937439, 6135.308197117819, \"Cluster 1\"], [63.0, 56875.0, 0.7622805817657738, 7837.233619544163, \"Cluster 1\"], [64.0, 78801.0, 0.7403674891662984, 6420.9440712002615, \"Cluster 1\"], [62.0, 67731.0, 0.8191699488980382, 5956.555677017446, \"Cluster 1\"], [61.0, 67372.0, 0.7340673095092516, 6618.549336247915, \"Cluster 1\"], [62.0, 73675.0, 0.7966191667425384, 4688.657157271711, \"Cluster 1\"], [67.0, 68663.0, 0.7738336308243648, 7451.9940140258705, \"Cluster 1\"], [61.0, 78837.0, 0.7459489746307642, 6811.303235949058, \"Cluster 1\"], [57.0, 72055.0, 0.7549723463413129, 6544.847498075687, \"Cluster 1\"], [63.0, 67370.0, 0.8999405530923943, 5985.077029740457, \"Cluster 1\"], [56.0, 80431.0, 0.7594315957853627, 8150.55743948241, \"Cluster 1\"], [51.0, 72086.0, 0.7911147257599156, 6732.096068632267, \"Cluster 1\"], [59.0, 82199.0, 0.8035145098215853, 5880.814834306347, \"Cluster 1\"], [58.0, 80248.0, 0.7249557054919687, 7641.16038162423, \"Cluster 1\"], [55.0, 64768.0, 0.7332568512323248, 6486.353872691102, \"Cluster 1\"], [61.0, 68842.0, 0.7544065421993587, 4077.6586565080543, \"Cluster 1\"], [55.0, 76831.0, 0.7421137340413241, 7806.398750466399, \"Cluster 1\"], [58.0, 78611.0, 0.910416682938019, 7665.884294519009, \"Cluster 1\"], [68.0, 68944.0, 0.7455674638713768, 6828.709702363695, \"Cluster 1\"], [58.0, 69247.0, 0.7237211912021976, 8715.67957429646, \"Cluster 1\"], [67.0, 78702.0, 0.7632736815688779, 5030.364838791924, \"Cluster 1\"], [56.0, 73516.0, 0.806499154055182, 7696.832373798451, \"Cluster 1\"], [59.0, 73596.0, 0.8567042188430352, 8281.718740320448, \"Cluster 1\"], [59.0, 90422.0, 0.8062102206275251, 6746.281083820821, \"Cluster 1\"], [57.0, 79794.0, 0.82240840085096, 5893.975284946178, \"Cluster 1\"], [60.0, 70054.0, 0.7143393610830643, 6609.918507412548, \"Cluster 1\"], [67.0, 80914.0, 0.8196642592960329, 6833.507136694643, \"Cluster 1\"], [61.0, 65914.0, 0.7781022309770123, 6406.8771303520325, \"Cluster 1\"], [60.0, 74460.0, 0.7545393292392412, 7567.6476522203675, \"Cluster 1\"], [59.0, 73350.0, 0.6797735912164855, 6710.5740183754415, \"Cluster 1\"], [57.0, 64803.0, 0.7285849289103553, 6255.552641057161, \"Cluster 1\"], [59.0, 56321.0, 0.806565925193039, 6129.288986032587, \"Cluster 1\"], [59.0, 67401.0, 0.7114339697492305, 6529.586309935448, \"Cluster 1\"], [58.0, 70676.0, 0.7640283880376706, 7664.415650964042, \"Cluster 1\"], [63.0, 70580.0, 0.7665090449070475, 7262.108723452133, \"Cluster 1\"], [61.0, 72027.0, 0.7623249166772856, 6926.123598416466, \"Cluster 1\"], [56.0, 65313.0, 0.7546029986455771, 5574.2436767070985, \"Cluster 1\"], [58.0, 76052.0, 0.7215881830727278, 6681.9843863770275, \"Cluster 1\"], [56.0, 75599.0, 0.7737370986430746, 6799.625271842961, \"Cluster 1\"], [59.0, 68038.0, 0.8014869916095588, 7719.283632687176, \"Cluster 1\"], [61.0, 72060.0, 0.8334590233217959, 7924.6411381540165, \"Cluster 1\"], [60.0, 63476.0, 0.7519000198498227, 7543.542801728056, \"Cluster 1\"], [56.0, 78992.0, 0.8122757021441627, 7285.18043685174, \"Cluster 1\"], [63.0, 82343.0, 0.7323186222078123, 8090.706739679063, \"Cluster 1\"], [58.0, 78078.0, 0.7837795500405715, 6483.049643745244, \"Cluster 1\"], [59.0, 77978.0, 0.7188952048526104, 8316.31110205122, \"Cluster 1\"], [62.0, 69326.0, 0.7980123380544829, 7003.095703317772, \"Cluster 1\"], [59.0, 69115.0, 0.7598834338453199, 5997.690199856996, \"Cluster 1\"], [59.0, 67346.0, 0.7251568963089163, 8857.849116294088, \"Cluster 1\"], [65.0, 74430.0, 0.7517741617758547, 7145.251128357927, \"Cluster 1\"], [64.0, 62886.0, 0.7480162682831766, 8302.588638401632, \"Cluster 1\"], [59.0, 80876.0, 0.6573140731575163, 7232.825142650888, \"Cluster 1\"], [59.0, 73057.0, 0.8302949092020397, 7819.393215767329, \"Cluster 1\"], [61.0, 65647.0, 0.7174899773841509, 7497.231607003855, \"Cluster 1\"], [64.0, 64331.0, 0.7571277508774099, 5815.660096290825, \"Cluster 1\"], [58.0, 77769.0, 0.7913287771988531, 6559.8299230048315, \"Cluster 1\"], [57.0, 76594.0, 0.7906578552491133, 6584.654681310476, \"Cluster 1\"], [58.0, 70798.0, 0.7535283874245788, 5330.73989989779, \"Cluster 1\"], [56.0, 86484.0, 0.7321233689266612, 8777.496176839057, \"Cluster 1\"], [63.0, 85761.0, 0.8005979105724924, 7175.090218501247, \"Cluster 1\"], [58.0, 70259.0, 0.7697129169369328, 7101.674514204499, \"Cluster 1\"], [60.0, 79969.0, 0.812104912914789, 4879.334872972362, \"Cluster 1\"], [58.0, 69879.0, 0.7209986871945887, 6669.033518051874, \"Cluster 1\"], [62.0, 73480.0, 0.7391949797931453, 6277.675150528886, \"Cluster 1\"], [66.0, 72571.0, 0.8115483367376335, 6509.41150610998, \"Cluster 1\"], [66.0, 64866.0, 0.7665941891374249, 5037.899138583947, \"Cluster 1\"], [63.0, 72815.0, 0.8200359737627068, 5504.385543801038, \"Cluster 1\"], [64.0, 71692.0, 0.8426521453196145, 7002.9765543033545, \"Cluster 1\"], [62.0, 63596.0, 0.7453271943508174, 6142.201619345869, \"Cluster 1\"], [62.0, 62650.0, 0.766572365027147, 7533.673609198676, \"Cluster 1\"], [60.0, 71436.0, 0.8320590985324969, 8557.86012627717, \"Cluster 1\"], [65.0, 65736.0, 0.7785687658100923, 6387.2196944302905, \"Cluster 1\"], [60.0, 70663.0, 0.7153396972946453, 7557.937593550947, \"Cluster 1\"], [63.0, 80705.0, 0.7626699527314824, 5154.330634621805, \"Cluster 1\"], [56.0, 84386.0, 0.7849450699605269, 7270.41953428175, \"Cluster 1\"], [58.0, 75757.0, 0.8097944168848634, 7390.5772934370325, \"Cluster 1\"], [62.0, 71050.0, 0.7353568506694507, 6988.197368273879, \"Cluster 1\"], [56.0, 68698.0, 0.7162678503859907, 7070.967006969191, \"Cluster 1\"], [59.0, 67781.0, 0.7225483489421433, 6701.527664794541, \"Cluster 1\"], [65.0, 66017.0, 0.7861892594159869, 6159.662935925753, \"Cluster 1\"], [62.0, 80093.0, 0.6909167811268888, 6756.749072752337, \"Cluster 1\"], [59.0, 67988.0, 0.8114707012366371, 7255.903114334659, \"Cluster 1\"], [64.0, 88361.0, 0.7745562258521365, 7240.759687480846, \"Cluster 1\"], [66.0, 82526.0, 0.7696800667721441, 6205.662650191712, \"Cluster 1\"], [59.0, 74576.0, 0.7812961239072382, 10547.775367695343, \"Cluster 1\"], [59.0, 72588.0, 0.8017156979122673, 6300.8437570950255, \"Cluster 1\"], [59.0, 81799.0, 0.7910820467274178, 5417.661426197439, \"Cluster 1\"], [62.0, 74751.0, 0.7026569520102857, 9258.99296503407, \"Cluster 1\"], [59.0, 74373.0, 0.7656795619984281, 7346.334503537976, \"Cluster 1\"], [54.0, 76500.0, 0.7851978501165687, 6878.884248553974, \"Cluster 1\"], [61.0, 71933.0, 0.8441067966472876, 8022.208541100706, \"Cluster 1\"], [55.0, 71621.0, 0.7533426836166189, 7780.589913955977, \"Cluster 1\"], [53.0, 76667.0, 0.7600576501232099, 5168.225474983632, \"Cluster 1\"], [55.0, 78761.0, 0.8271741985123882, 8376.74947779104, \"Cluster 1\"], [61.0, 76955.0, 0.7771175646074471, 7467.036702314494, \"Cluster 1\"], [59.0, 65700.0, 0.8114711740198254, 6932.487932327357, \"Cluster 1\"], [59.0, 69738.0, 0.7421121217155721, 7151.650866065035, \"Cluster 1\"], [56.0, 63866.0, 0.7618879582513512, 7762.255066659051, \"Cluster 1\"], [61.0, 74117.0, 0.7702140596767938, 5103.609230428381, \"Cluster 1\"], [61.0, 63846.0, 0.8278622414878984, 7283.504772674617, \"Cluster 1\"], [60.0, 70012.0, 0.7944610508231513, 7263.242447729872, \"Cluster 1\"], [57.0, 75332.0, 0.7215024376129366, 6845.056822204781, \"Cluster 1\"], [61.0, 73245.0, 0.811160373170345, 7413.784487271215, \"Cluster 1\"], [55.0, 74356.0, 0.7998269700906482, 6484.630737953294, \"Cluster 1\"], [53.0, 62117.0, 0.7331388477995737, 7500.452413594261, \"Cluster 1\"], [61.0, 69001.0, 0.8216687745413516, 5074.12121172259, \"Cluster 1\"], [64.0, 60493.0, 0.7680563479442216, 7708.112609459162, \"Cluster 1\"], [62.0, 69741.0, 0.8462196017575947, 5781.658046536959, \"Cluster 1\"], [55.0, 71056.0, 0.7565897119333272, 7464.163256732262, \"Cluster 1\"], [58.0, 74340.0, 0.7351650452097145, 7259.540921675672, \"Cluster 1\"], [57.0, 79470.0, 0.7734352958312237, 6773.049089777121, \"Cluster 1\"], [58.0, 77101.0, 0.7667195837506832, 8148.49184821177, \"Cluster 1\"], [64.0, 76364.0, 0.6993887663543108, 5772.1171358549755, \"Cluster 1\"], [57.0, 74014.0, 0.787378081122989, 5783.846928267082, \"Cluster 1\"], [62.0, 67030.0, 0.7467384433463651, 6740.765182071713, \"Cluster 1\"], [56.0, 68463.0, 0.8157116929554062, 8995.180087953215, \"Cluster 1\"], [53.0, 74996.0, 0.7387310917031671, 7821.447803561914, \"Cluster 1\"], [60.0, 65340.0, 0.7316484923943142, 8354.196507802662, \"Cluster 1\"], [56.0, 60059.0, 0.7275840223364691, 7166.858605155183, \"Cluster 1\"], [62.0, 78413.0, 0.7907090657200839, 6961.2041923680945, \"Cluster 1\"], [61.0, 69698.0, 0.7416839698444291, 8777.077471725162, \"Cluster 1\"], [62.0, 68279.0, 0.7196850779929922, 7028.675510384212, \"Cluster 1\"], [55.0, 76057.0, 0.8778279844516369, 6132.898204816149, \"Cluster 1\"], [60.0, 67491.0, 0.84661848692906, 7180.713788260257, \"Cluster 1\"], [58.0, 83351.0, 0.8406978038692191, 6673.909711092488, \"Cluster 1\"], [61.0, 71033.0, 0.8380950724014863, 9456.876962701137, \"Cluster 1\"], [59.0, 71302.0, 0.7020090041734849, 6595.726010227134, \"Cluster 1\"], [58.0, 80278.0, 0.8233589910091558, 6335.97831998802, \"Cluster 1\"], [56.0, 67274.0, 0.7798516671891869, 6652.391024403152, \"Cluster 1\"], [60.0, 65054.0, 0.7086131723969877, 5417.237293788358, \"Cluster 1\"], [62.0, 69391.0, 0.7921059737158539, 6518.283467894094, \"Cluster 1\"], [58.0, 78635.0, 0.7864400503429185, 7162.739043055361, \"Cluster 1\"], [64.0, 86283.0, 0.7568019251873561, 6852.5548669147165, \"Cluster 1\"], [63.0, 69849.0, 0.7403870808915297, 7670.6909659413295, \"Cluster 1\"]], \"hoverlabel\": {\"namelength\": 0}, \"hovertemplate\": \"Cluster=%{customdata[4]}<br>Age=%{customdata[0]}<br>Income=%{customdata[1]}<br>SpendingScore=%{customdata[2]}<br>Savings=%{customdata[3]}\", \"legendgroup\": \"Cluster=Cluster 1\", \"marker\": {\"color\": \"#EF553B\"}, \"name\": \"Cluster=Cluster 1\", \"notched\": true, \"offsetgroup\": \"Cluster=Cluster 1\", \"showlegend\": false, \"type\": \"box\", \"x\": [\"Cluster 1\", \"Cluster 1\", \"Cluster 1\", \"Cluster 1\", \"Cluster 1\", \"Cluster 1\", \"Cluster 1\", \"Cluster 1\", \"Cluster 1\", \"Cluster 1\", \"Cluster 1\", \"Cluster 1\", \"Cluster 1\", \"Cluster 1\", \"Cluster 1\", \"Cluster 1\", \"Cluster 1\", \"Cluster 1\", \"Cluster 1\", \"Cluster 1\", \"Cluster 1\", \"Cluster 1\", \"Cluster 1\", \"Cluster 1\", \"Cluster 1\", \"Cluster 1\", \"Cluster 1\", \"Cluster 1\", \"Cluster 1\", \"Cluster 1\", \"Cluster 1\", \"Cluster 1\", \"Cluster 1\", \"Cluster 1\", \"Cluster 1\", \"Cluster 1\", \"Cluster 1\", \"Cluster 1\", \"Cluster 1\", \"Cluster 1\", \"Cluster 1\", \"Cluster 1\", \"Cluster 1\", \"Cluster 1\", \"Cluster 1\", \"Cluster 1\", \"Cluster 1\", \"Cluster 1\", \"Cluster 1\", \"Cluster 1\", \"Cluster 1\", \"Cluster 1\", \"Cluster 1\", \"Cluster 1\", \"Cluster 1\", \"Cluster 1\", \"Cluster 1\", \"Cluster 1\", \"Cluster 1\", \"Cluster 1\", \"Cluster 1\", \"Cluster 1\", \"Cluster 1\", \"Cluster 1\", \"Cluster 1\", \"Cluster 1\", \"Cluster 1\", \"Cluster 1\", \"Cluster 1\", \"Cluster 1\", \"Cluster 1\", \"Cluster 1\", \"Cluster 1\", \"Cluster 1\", \"Cluster 1\", \"Cluster 1\", \"Cluster 1\", \"Cluster 1\", \"Cluster 1\", \"Cluster 1\", \"Cluster 1\", \"Cluster 1\", \"Cluster 1\", \"Cluster 1\", \"Cluster 1\", \"Cluster 1\", \"Cluster 1\", \"Cluster 1\", \"Cluster 1\", \"Cluster 1\", \"Cluster 1\", \"Cluster 1\", \"Cluster 1\", \"Cluster 1\", \"Cluster 1\", \"Cluster 1\", \"Cluster 1\", \"Cluster 1\", \"Cluster 1\", \"Cluster 1\", \"Cluster 1\", \"Cluster 1\", \"Cluster 1\", \"Cluster 1\", \"Cluster 1\", \"Cluster 1\", \"Cluster 1\", \"Cluster 1\", \"Cluster 1\", \"Cluster 1\", \"Cluster 1\", \"Cluster 1\", \"Cluster 1\", \"Cluster 1\", \"Cluster 1\", \"Cluster 1\", \"Cluster 1\", \"Cluster 1\", \"Cluster 1\", \"Cluster 1\", \"Cluster 1\", \"Cluster 1\", \"Cluster 1\", \"Cluster 1\", \"Cluster 1\", \"Cluster 1\", \"Cluster 1\", \"Cluster 1\", \"Cluster 1\", \"Cluster 1\", \"Cluster 1\", \"Cluster 1\", \"Cluster 1\", \"Cluster 1\", \"Cluster 1\", \"Cluster 1\", \"Cluster 1\", \"Cluster 1\", \"Cluster 1\", \"Cluster 1\", \"Cluster 1\", \"Cluster 1\", \"Cluster 1\", \"Cluster 1\", \"Cluster 1\", \"Cluster 1\", \"Cluster 1\", \"Cluster 1\", \"Cluster 1\", \"Cluster 1\", \"Cluster 1\", \"Cluster 1\", \"Cluster 1\", \"Cluster 1\", \"Cluster 1\", \"Cluster 1\", \"Cluster 1\"], \"xaxis\": \"x2\", \"yaxis\": \"y2\"}, {\"alignmentgroup\": \"True\", \"bingroup\": \"x\", \"hoverlabel\": {\"namelength\": 0}, \"hovertemplate\": \"Cluster=%{x}<br>count=%{y}\", \"legendgroup\": \"Cluster=Cluster 2\", \"marker\": {\"color\": \"#00cc96\", \"opacity\": 0.7}, \"name\": \"Cluster=Cluster 2\", \"offsetgroup\": \"Cluster=Cluster 2\", \"orientation\": \"v\", \"showlegend\": true, \"type\": \"histogram\", \"x\": [\"Cluster 2\", \"Cluster 2\", \"Cluster 2\", \"Cluster 2\", \"Cluster 2\", \"Cluster 2\", \"Cluster 2\", \"Cluster 2\", \"Cluster 2\", \"Cluster 2\", \"Cluster 2\", \"Cluster 2\", \"Cluster 2\", \"Cluster 2\", \"Cluster 2\", \"Cluster 2\", \"Cluster 2\", \"Cluster 2\", \"Cluster 2\", \"Cluster 2\", \"Cluster 2\", \"Cluster 2\", \"Cluster 2\", \"Cluster 2\", \"Cluster 2\", \"Cluster 2\", \"Cluster 2\", \"Cluster 2\", \"Cluster 2\", \"Cluster 2\", \"Cluster 2\", \"Cluster 2\", \"Cluster 2\", \"Cluster 2\", \"Cluster 2\", \"Cluster 2\", \"Cluster 2\", \"Cluster 2\", \"Cluster 2\", \"Cluster 2\", \"Cluster 2\", \"Cluster 2\", \"Cluster 2\", \"Cluster 2\", \"Cluster 2\", \"Cluster 2\", \"Cluster 2\", \"Cluster 2\", \"Cluster 2\", \"Cluster 2\", \"Cluster 2\", \"Cluster 2\", \"Cluster 2\", \"Cluster 2\", \"Cluster 2\", \"Cluster 2\", \"Cluster 2\", \"Cluster 2\", \"Cluster 2\", \"Cluster 2\", \"Cluster 2\", \"Cluster 2\", \"Cluster 2\", \"Cluster 2\", \"Cluster 2\", \"Cluster 2\", \"Cluster 2\", \"Cluster 2\", \"Cluster 2\", \"Cluster 2\", \"Cluster 2\", \"Cluster 2\", \"Cluster 2\", \"Cluster 2\", \"Cluster 2\", \"Cluster 2\", \"Cluster 2\", \"Cluster 2\", \"Cluster 2\", \"Cluster 2\", \"Cluster 2\", \"Cluster 2\", \"Cluster 2\", \"Cluster 2\", \"Cluster 2\", \"Cluster 2\", \"Cluster 2\", \"Cluster 2\", \"Cluster 2\", \"Cluster 2\", \"Cluster 2\", \"Cluster 2\", \"Cluster 2\", \"Cluster 2\", \"Cluster 2\", \"Cluster 2\", \"Cluster 2\", \"Cluster 2\", \"Cluster 2\", \"Cluster 2\", \"Cluster 2\", \"Cluster 2\", \"Cluster 2\", \"Cluster 2\", \"Cluster 2\", \"Cluster 2\", \"Cluster 2\", \"Cluster 2\", \"Cluster 2\", \"Cluster 2\", \"Cluster 2\", \"Cluster 2\", \"Cluster 2\", \"Cluster 2\", \"Cluster 2\", \"Cluster 2\", \"Cluster 2\", \"Cluster 2\", \"Cluster 2\", \"Cluster 2\", \"Cluster 2\", \"Cluster 2\", \"Cluster 2\", \"Cluster 2\", \"Cluster 2\", \"Cluster 2\", \"Cluster 2\", \"Cluster 2\", \"Cluster 2\", \"Cluster 2\", \"Cluster 2\", \"Cluster 2\", \"Cluster 2\", \"Cluster 2\", \"Cluster 2\", \"Cluster 2\", \"Cluster 2\", \"Cluster 2\", \"Cluster 2\", \"Cluster 2\", \"Cluster 2\", \"Cluster 2\", \"Cluster 2\", \"Cluster 2\", \"Cluster 2\", \"Cluster 2\", \"Cluster 2\", \"Cluster 2\", \"Cluster 2\", \"Cluster 2\", \"Cluster 2\"], \"xaxis\": \"x\", \"yaxis\": \"y\"}, {\"alignmentgroup\": \"True\", \"customdata\": [[38.0, 104738.0, 0.4059588503683713, 15634.313868027426, \"Cluster 2\"], [29.0, 112531.0, 0.3427661743407053, 14361.334979176147, \"Cluster 2\"], [36.0, 109809.0, 0.355660187354229, 14978.502144076487, \"Cluster 2\"], [31.0, 110882.0, 0.3252806065281125, 14004.61374291491, \"Cluster 2\"], [39.0, 100661.0, 0.3766412501689559, 16873.128638209408, \"Cluster 2\"], [88.0, 123651.0, 0.02902714029105191, 13504.577571797938, \"Cluster 2\"], [86.0, 124372.0, 0.0, 15374.465952896948, \"Cluster 2\"], [35.0, 108499.0, 0.2612719132713158, 16046.08301542436, \"Cluster 2\"], [30.0, 96241.0, 0.3773384910014747, 15485.156009739387, \"Cluster 2\"], [35.0, 106588.0, 0.3422142051018276, 15648.65667046098, \"Cluster 2\"], [25.0, 101503.0, 0.28846885607409833, 15026.262148820157, \"Cluster 2\"], [37.0, 106894.0, 0.3432357689892068, 14075.217365594552, \"Cluster 2\"], [30.0, 107302.0, 0.2396771776819925, 13993.24401848172, \"Cluster 2\"], [36.0, 109038.0, 0.3242132027621541, 16502.389477657125, \"Cluster 2\"], [34.0, 103204.0, 0.30108735378393314, 15149.810421179482, \"Cluster 2\"], [33.0, 98033.0, 0.30951111585458696, 15774.690605560645, \"Cluster 2\"], [36.0, 101811.0, 0.3406667947415742, 15048.89961242685, \"Cluster 2\"], [32.0, 101905.0, 0.3074763135926987, 17532.16478349903, \"Cluster 2\"], [83.0, 117943.0, 0.07721324003343044, 15391.95219220651, \"Cluster 2\"], [31.0, 112943.0, 0.34123950330738706, 14297.702229457283, \"Cluster 2\"], [37.0, 108651.0, 0.1923436158292553, 15881.242198260683, \"Cluster 2\"], [36.0, 100158.0, 0.31606041409802405, 13832.379370734528, \"Cluster 2\"], [90.0, 124170.0, 0.030751314393913882, 14773.407205599842, \"Cluster 2\"], [31.0, 105006.0, 0.3741658782934958, 15419.41776312329, \"Cluster 2\"], [37.0, 110732.0, 0.3226762482802641, 14265.351840497759, \"Cluster 2\"], [35.0, 104678.0, 0.3279928581002429, 15422.055799721802, \"Cluster 2\"], [33.0, 92569.0, 0.33607980556714456, 13765.685995748696, \"Cluster 2\"], [84.0, 114406.0, 0.12383837464097253, 16840.570583774286, \"Cluster 2\"], [37.0, 107958.0, 0.34666907654318496, 13641.009538079368, \"Cluster 2\"], [29.0, 99161.0, 0.3079200040396055, 15631.836772980834, \"Cluster 2\"], [44.0, 114642.0, 0.3092049154534188, 14067.617788950563, \"Cluster 2\"], [32.0, 106543.0, 0.3107432443044589, 14337.288328489092, \"Cluster 2\"], [31.0, 105036.0, 0.2722279930569666, 16465.063521972657, \"Cluster 2\"], [29.0, 103223.0, 0.3388162937437745, 16252.883053065632, \"Cluster 2\"], [36.0, 98137.0, 0.29740129315965397, 15978.332837131276, \"Cluster 2\"], [31.0, 105826.0, 0.2862743235826754, 13856.805832195869, \"Cluster 2\"], [90.0, 117668.0, 0.08272274299401555, 12554.692742420659, \"Cluster 2\"], [33.0, 106757.0, 0.25839611372125515, 14431.652799234367, \"Cluster 2\"], [33.0, 107100.0, 0.3424354833732075, 14895.473479049117, \"Cluster 2\"], [89.0, 119697.0, 0.0916792017028315, 16215.399076555514, \"Cluster 2\"], [29.0, 101943.0, 0.3256230614429721, 14619.354282159029, \"Cluster 2\"], [32.0, 108417.0, 0.28737086714008075, 16696.398659007995, \"Cluster 2\"], [84.0, 122696.0, 0.08218683192473558, 13809.734086698068, \"Cluster 2\"], [30.0, 101073.0, 0.3143871202044516, 14324.555977118509, \"Cluster 2\"], [88.0, 120678.0, 0.06327285129660287, 14264.473846639943, \"Cluster 2\"], [38.0, 94775.0, 0.3803902009461493, 16867.13082002739, \"Cluster 2\"], [92.0, 122879.0, 0.0607240352184939, 13709.670274517475, \"Cluster 2\"], [31.0, 107963.0, 0.2905086327499087, 13407.081391032512, \"Cluster 2\"], [30.0, 99949.0, 0.344679223509786, 13621.639726331408, \"Cluster 2\"], [36.0, 99780.0, 0.2654326074020303, 16398.40133318453, \"Cluster 2\"], [85.0, 111389.0, 0.0367953622110323, 16009.237762922363, \"Cluster 2\"], [30.0, 98030.0, 0.4111117138132285, 16316.842905166694, \"Cluster 2\"], [28.0, 101206.0, 0.3874406981253433, 14936.775388622864, \"Cluster 2\"], [37.0, 107877.0, 0.3346179841546032, 17968.55392863446, \"Cluster 2\"], [29.0, 119366.0, 0.3587713900686116, 15012.853014226299, \"Cluster 2\"], [31.0, 102618.0, 0.2763779214063509, 13209.301612848929, \"Cluster 2\"], [29.0, 106014.0, 0.34794511357773106, 15038.010746320377, \"Cluster 2\"], [31.0, 101209.0, 0.3043229953712128, 16917.571691218804, \"Cluster 2\"], [33.0, 101058.0, 0.3150815497840024, 14911.868398206978, \"Cluster 2\"], [31.0, 101481.0, 0.2702350511848681, 15226.614133627569, \"Cluster 2\"], [83.0, 119429.0, 0.042154801078558464, 15607.561541234569, \"Cluster 2\"], [34.0, 98993.0, 0.3229930887837502, 16138.079373431863, \"Cluster 2\"], [22.0, 109152.0, 0.32344641636242355, 16022.482482363523, \"Cluster 2\"], [87.0, 117564.0, 0.1282795957567026, 14000.248964992143, \"Cluster 2\"], [34.0, 102291.0, 0.24786227611431386, 15819.577601160518, \"Cluster 2\"], [25.0, 106772.0, 0.3909047196000217, 16353.471790615497, \"Cluster 2\"], [31.0, 107994.0, 0.2944689389706671, 13685.972361738892, \"Cluster 2\"], [31.0, 114833.0, 0.3050696862135815, 13953.029721407644, \"Cluster 2\"], [31.0, 107932.0, 0.3742421881649845, 12207.526078087714, \"Cluster 2\"], [35.0, 110106.0, 0.2867692710102035, 14924.537223475552, \"Cluster 2\"], [28.0, 100592.0, 0.2595983487762325, 15520.355775683653, \"Cluster 2\"], [33.0, 116616.0, 0.3209300476959025, 15104.49811363824, \"Cluster 2\"], [31.0, 111449.0, 0.29410620308282165, 13929.62155143948, \"Cluster 2\"], [28.0, 94762.0, 0.3035961911057213, 15352.521936894913, \"Cluster 2\"], [39.0, 100540.0, 0.3849229829012918, 16741.013894847743, \"Cluster 2\"], [36.0, 96336.0, 0.28809756719298163, 15286.769335194167, \"Cluster 2\"], [32.0, 117050.0, 0.3113555349689566, 14310.546206532163, \"Cluster 2\"], [93.0, 126601.0, 0.025170169477345742, 14117.44703707058, \"Cluster 2\"], [36.0, 104285.0, 0.2123600508972585, 13347.558779497918, \"Cluster 2\"], [34.0, 104284.0, 0.34454541177986714, 13541.801770810564, \"Cluster 2\"], [37.0, 110595.0, 0.28664850500199834, 15235.445457133224, \"Cluster 2\"], [33.0, 94964.0, 0.3302325026567214, 14018.349867336628, \"Cluster 2\"], [43.0, 101641.0, 0.3819838041034955, 14424.097995592982, \"Cluster 2\"], [33.0, 100275.0, 0.3630856827120957, 13735.438742381079, \"Cluster 2\"], [26.0, 97750.0, 0.2934087605160681, 15823.032361634105, \"Cluster 2\"], [24.0, 110564.0, 0.3049430059244969, 14967.839625179657, \"Cluster 2\"], [31.0, 107115.0, 0.3280420856997338, 15693.499570389358, \"Cluster 2\"], [29.0, 111426.0, 0.4002811559385194, 14352.643773230728, \"Cluster 2\"], [36.0, 108004.0, 0.3089229914936124, 15813.964573146997, \"Cluster 2\"], [86.0, 128378.0, 0.12608340975849852, 13585.778624417357, \"Cluster 2\"], [33.0, 114555.0, 0.2792568364789493, 13746.745438440072, \"Cluster 2\"], [29.0, 116451.0, 0.3406596106851227, 15294.661511529368, \"Cluster 2\"], [40.0, 98821.0, 0.27908085018704903, 15995.160053914664, \"Cluster 2\"], [35.0, 105991.0, 0.34337797815210225, 16616.088239618915, \"Cluster 2\"], [32.0, 102035.0, 0.26207035616469115, 14209.932802396092, \"Cluster 2\"], [37.0, 106664.0, 0.2775867542026021, 14479.374117495967, \"Cluster 2\"], [34.0, 89598.0, 0.3401523810436963, 12832.768720823738, \"Cluster 2\"], [34.0, 107255.0, 0.3283430294033384, 15130.595225546444, \"Cluster 2\"], [84.0, 115237.0, 0.06877820981367339, 14396.568282311468, \"Cluster 2\"], [82.0, 126257.0, 0.07809619439943333, 15816.101922357922, \"Cluster 2\"], [88.0, 114767.0, 0.032207542338926365, 17833.093470094427, \"Cluster 2\"], [85.0, 118169.0, 0.123196057747337, 14855.951023927619, \"Cluster 2\"], [35.0, 117112.0, 0.3047918711384766, 15908.035997555322, \"Cluster 2\"], [33.0, 111813.0, 0.2382437868013801, 15901.238967721652, \"Cluster 2\"], [33.0, 105667.0, 0.25075080562386165, 12869.761073905089, \"Cluster 2\"], [29.0, 91375.0, 0.2354504258588228, 13104.962760687613, \"Cluster 2\"], [83.0, 117347.0, 0.15569409232860987, 15086.701120471576, \"Cluster 2\"], [28.0, 99611.0, 0.2795578681222758, 15345.658121390226, \"Cluster 2\"], [31.0, 99457.0, 0.3658064971511749, 14580.613477014092, \"Cluster 2\"], [37.0, 97831.0, 0.3744658274308825, 14935.144813058325, \"Cluster 2\"], [31.0, 108067.0, 0.2686742663930692, 13316.767286164832, \"Cluster 2\"], [33.0, 106345.0, 0.3392354218755358, 15300.45379012999, \"Cluster 2\"], [30.0, 107926.0, 0.2301607310342209, 15520.536309707046, \"Cluster 2\"], [30.0, 108581.0, 0.3094467811568005, 15628.791650531211, \"Cluster 2\"], [34.0, 98165.0, 0.17412049382306485, 15721.86284266975, \"Cluster 2\"], [30.0, 106350.0, 0.3694162857692797, 14863.233588279092, \"Cluster 2\"], [30.0, 107525.0, 0.2948164301396663, 12702.847385049918, \"Cluster 2\"], [86.0, 115689.0, 0.057842956133581036, 14803.153273493916, \"Cluster 2\"], [29.0, 102028.0, 0.2889604994756899, 14634.430692347907, \"Cluster 2\"], [30.0, 102056.0, 0.2607006223919937, 15370.66882713054, \"Cluster 2\"], [28.0, 111937.0, 0.2537347301209012, 13669.110632506934, \"Cluster 2\"], [37.0, 97678.0, 0.2574704443875843, 15834.113173627364, \"Cluster 2\"], [37.0, 108635.0, 0.28649570314839057, 14558.054542315444, \"Cluster 2\"], [82.0, 121642.0, 0.054653190464209855, 14177.513323069668, \"Cluster 2\"], [42.0, 106990.0, 0.330065422314764, 14856.938997469417, \"Cluster 2\"], [28.0, 97965.0, 0.3134915614599665, 14981.402201916082, \"Cluster 2\"], [30.0, 108928.0, 0.30386361503665704, 14339.652917342728, \"Cluster 2\"], [32.0, 95536.0, 0.26624605681014885, 15420.625644002741, \"Cluster 2\"], [35.0, 107131.0, 0.2424731551814769, 16200.013010637644, \"Cluster 2\"], [35.0, 101691.0, 0.3491110181825554, 14152.671689505803, \"Cluster 2\"], [31.0, 104388.0, 0.2864732316476225, 14406.561248437842, \"Cluster 2\"], [35.0, 102308.0, 0.2751372175012177, 14874.557991326978, \"Cluster 2\"], [33.0, 99637.0, 0.2282170773869075, 15139.403142647532, \"Cluster 2\"], [29.0, 110860.0, 0.31944030103524745, 16260.42103081417, \"Cluster 2\"], [35.0, 112878.0, 0.3009135799974076, 13755.48230187328, \"Cluster 2\"], [38.0, 115146.0, 0.3144900731288347, 14798.868153501797, \"Cluster 2\"], [34.0, 111303.0, 0.34531257710928803, 14624.318634976555, \"Cluster 2\"], [33.0, 108345.0, 0.32541328975821004, 15646.32171735943, \"Cluster 2\"], [32.0, 110439.0, 0.30699015827427256, 13873.50756985278, \"Cluster 2\"], [34.0, 98752.0, 0.3720337099315751, 14975.384238944334, \"Cluster 2\"], [31.0, 116247.0, 0.2943151380482853, 16178.204715186297, \"Cluster 2\"], [27.0, 106758.0, 0.2662947092346973, 14942.560723173168, \"Cluster 2\"], [39.0, 99216.0, 0.21660614339457274, 15230.345105300736, \"Cluster 2\"], [38.0, 113659.0, 0.3334859873871594, 14364.693391419, \"Cluster 2\"], [84.0, 110582.0, 0.07904903227945975, 14937.995169685584, \"Cluster 2\"], [77.0, 128596.0, 0.04082407066250976, 14503.410786381415, \"Cluster 2\"], [34.0, 103428.0, 0.2474244093916156, 13791.035761571968, \"Cluster 2\"], [28.0, 109075.0, 0.36276196062401134, 14082.458238005996, \"Cluster 2\"], [36.0, 105567.0, 0.3126388486955741, 14355.31094653896, \"Cluster 2\"], [91.0, 118794.0, 0.0192120658984376, 14047.388986415735, \"Cluster 2\"], [34.0, 119877.0, 0.3054369951589357, 15634.788286084158, \"Cluster 2\"]], \"hoverlabel\": {\"namelength\": 0}, \"hovertemplate\": \"Cluster=%{customdata[4]}<br>Age=%{customdata[0]}<br>Income=%{customdata[1]}<br>SpendingScore=%{customdata[2]}<br>Savings=%{customdata[3]}\", \"legendgroup\": \"Cluster=Cluster 2\", \"marker\": {\"color\": \"#00cc96\"}, \"name\": \"Cluster=Cluster 2\", \"notched\": true, \"offsetgroup\": \"Cluster=Cluster 2\", \"showlegend\": false, \"type\": \"box\", \"x\": [\"Cluster 2\", \"Cluster 2\", \"Cluster 2\", \"Cluster 2\", \"Cluster 2\", \"Cluster 2\", \"Cluster 2\", \"Cluster 2\", \"Cluster 2\", \"Cluster 2\", \"Cluster 2\", \"Cluster 2\", \"Cluster 2\", \"Cluster 2\", \"Cluster 2\", \"Cluster 2\", \"Cluster 2\", \"Cluster 2\", \"Cluster 2\", \"Cluster 2\", \"Cluster 2\", \"Cluster 2\", \"Cluster 2\", \"Cluster 2\", \"Cluster 2\", \"Cluster 2\", \"Cluster 2\", \"Cluster 2\", \"Cluster 2\", \"Cluster 2\", \"Cluster 2\", \"Cluster 2\", \"Cluster 2\", \"Cluster 2\", \"Cluster 2\", \"Cluster 2\", \"Cluster 2\", \"Cluster 2\", \"Cluster 2\", \"Cluster 2\", \"Cluster 2\", \"Cluster 2\", \"Cluster 2\", \"Cluster 2\", \"Cluster 2\", \"Cluster 2\", \"Cluster 2\", \"Cluster 2\", \"Cluster 2\", \"Cluster 2\", \"Cluster 2\", \"Cluster 2\", \"Cluster 2\", \"Cluster 2\", \"Cluster 2\", \"Cluster 2\", \"Cluster 2\", \"Cluster 2\", \"Cluster 2\", \"Cluster 2\", \"Cluster 2\", \"Cluster 2\", \"Cluster 2\", \"Cluster 2\", \"Cluster 2\", \"Cluster 2\", \"Cluster 2\", \"Cluster 2\", \"Cluster 2\", \"Cluster 2\", \"Cluster 2\", \"Cluster 2\", \"Cluster 2\", \"Cluster 2\", \"Cluster 2\", \"Cluster 2\", \"Cluster 2\", \"Cluster 2\", \"Cluster 2\", \"Cluster 2\", \"Cluster 2\", \"Cluster 2\", \"Cluster 2\", \"Cluster 2\", \"Cluster 2\", \"Cluster 2\", \"Cluster 2\", \"Cluster 2\", \"Cluster 2\", \"Cluster 2\", \"Cluster 2\", \"Cluster 2\", \"Cluster 2\", \"Cluster 2\", \"Cluster 2\", \"Cluster 2\", \"Cluster 2\", \"Cluster 2\", \"Cluster 2\", \"Cluster 2\", \"Cluster 2\", \"Cluster 2\", \"Cluster 2\", \"Cluster 2\", \"Cluster 2\", \"Cluster 2\", \"Cluster 2\", \"Cluster 2\", \"Cluster 2\", \"Cluster 2\", \"Cluster 2\", \"Cluster 2\", \"Cluster 2\", \"Cluster 2\", \"Cluster 2\", \"Cluster 2\", \"Cluster 2\", \"Cluster 2\", \"Cluster 2\", \"Cluster 2\", \"Cluster 2\", \"Cluster 2\", \"Cluster 2\", \"Cluster 2\", \"Cluster 2\", \"Cluster 2\", \"Cluster 2\", \"Cluster 2\", \"Cluster 2\", \"Cluster 2\", \"Cluster 2\", \"Cluster 2\", \"Cluster 2\", \"Cluster 2\", \"Cluster 2\", \"Cluster 2\", \"Cluster 2\", \"Cluster 2\", \"Cluster 2\", \"Cluster 2\", \"Cluster 2\", \"Cluster 2\", \"Cluster 2\", \"Cluster 2\", \"Cluster 2\", \"Cluster 2\", \"Cluster 2\", \"Cluster 2\", \"Cluster 2\", \"Cluster 2\", \"Cluster 2\"], \"xaxis\": \"x2\", \"yaxis\": \"y2\"}, {\"alignmentgroup\": \"True\", \"bingroup\": \"x\", \"hoverlabel\": {\"namelength\": 0}, \"hovertemplate\": \"Cluster=%{x}<br>count=%{y}\", \"legendgroup\": \"Cluster=Cluster 3\", \"marker\": {\"color\": \"#ab63fa\", \"opacity\": 0.7}, \"name\": \"Cluster=Cluster 3\", \"offsetgroup\": \"Cluster=Cluster 3\", \"orientation\": \"v\", \"showlegend\": true, \"type\": \"histogram\", \"x\": [\"Cluster 3\", \"Cluster 3\", \"Cluster 3\", \"Cluster 3\", \"Cluster 3\", \"Cluster 3\", \"Cluster 3\", \"Cluster 3\", \"Cluster 3\", \"Cluster 3\", \"Cluster 3\", \"Cluster 3\", \"Cluster 3\", \"Cluster 3\", \"Cluster 3\", \"Cluster 3\", \"Cluster 3\", \"Cluster 3\", \"Cluster 3\", \"Cluster 3\", \"Cluster 3\", \"Cluster 3\", \"Cluster 3\", \"Cluster 3\", \"Cluster 3\", \"Cluster 3\", \"Cluster 3\", \"Cluster 3\", \"Cluster 3\", \"Cluster 3\", \"Cluster 3\", \"Cluster 3\", \"Cluster 3\", \"Cluster 3\", \"Cluster 3\", \"Cluster 3\", \"Cluster 3\", \"Cluster 3\", \"Cluster 3\", \"Cluster 3\", \"Cluster 3\", \"Cluster 3\", \"Cluster 3\", \"Cluster 3\", \"Cluster 3\", \"Cluster 3\", \"Cluster 3\", \"Cluster 3\", \"Cluster 3\", \"Cluster 3\"], \"xaxis\": \"x\", \"yaxis\": \"y\"}, {\"alignmentgroup\": \"True\", \"customdata\": [[27.0, 122671.0, 0.910107112831516, 4206.287238709509, \"Cluster 3\"], [23.0, 138443.0, 0.9226565539031124, 3297.058843994153, \"Cluster 3\"], [25.0, 138021.0, 0.944017175810026, 3005.577482475175, \"Cluster 3\"], [17.0, 134734.0, 0.8579216672301577, 0.0, \"Cluster 3\"], [24.0, 129087.0, 0.8271179432765905, 3290.829468618805, \"Cluster 3\"], [20.0, 129469.0, 0.9399954311014268, 5522.573424346325, \"Cluster 3\"], [23.0, 129937.0, 0.8727356634334804, 4102.065424707484, \"Cluster 3\"], [26.0, 123005.0, 0.9845261943505972, 4371.23473281147, \"Cluster 3\"], [23.0, 126500.0, 0.8650328592458483, 3270.150434407087, \"Cluster 3\"], [27.0, 121468.0, 0.9206489879585448, 5011.112062373318, \"Cluster 3\"], [23.0, 120226.0, 0.8819129663041946, 4698.294710949844, \"Cluster 3\"], [31.0, 122924.0, 0.89046022417733, 3071.944576152969, \"Cluster 3\"], [22.0, 134209.0, 0.8706980046008759, 5138.109568643242, \"Cluster 3\"], [24.0, 130974.0, 0.9118386021444842, 4420.0727101369375, \"Cluster 3\"], [29.0, 131578.0, 0.8470341025128371, 3535.5143522162816, \"Cluster 3\"], [22.0, 132948.0, 0.8898001728484242, 2839.7863574778585, \"Cluster 3\"], [28.0, 123153.0, 0.9842407862639496, 3697.5136453853297, \"Cluster 3\"], [26.0, 131827.0, 0.8807194909406801, 4352.699304837541, \"Cluster 3\"], [25.0, 128625.0, 0.8167389887954251, 4914.117127206949, \"Cluster 3\"], [24.0, 136644.0, 0.8716976842508705, 1617.2257000775644, \"Cluster 3\"], [24.0, 134389.0, 0.9388521378701832, 4573.60634580409, \"Cluster 3\"], [25.0, 130934.0, 0.9137660194970426, 3942.389134492165, \"Cluster 3\"], [20.0, 122581.0, 0.8940806156500202, 4444.4476842520535, \"Cluster 3\"], [30.0, 122788.0, 0.8728724057273831, 5706.149573297764, \"Cluster 3\"], [25.0, 130361.0, 0.9254385568124625, 4691.55213906238, \"Cluster 3\"], [28.0, 123229.0, 0.8733219541371664, 610.4462190811464, \"Cluster 3\"], [20.0, 129142.0, 0.8870519941988757, 5603.121027746489, \"Cluster 3\"], [24.0, 127352.0, 0.9054521594192038, 2961.716874324024, \"Cluster 3\"], [22.0, 120525.0, 1.0, 5495.165732288548, \"Cluster 3\"], [26.0, 126617.0, 0.8770521049168103, 2913.368146562765, \"Cluster 3\"], [17.0, 123828.0, 0.9420129076091708, 3798.8403998790254, \"Cluster 3\"], [26.0, 125662.0, 0.9268183658411524, 6089.47832250152, \"Cluster 3\"], [28.0, 127699.0, 0.8814245468734898, 5490.814955670689, \"Cluster 3\"], [18.0, 130813.0, 0.8908912472675831, 5256.434559627984, \"Cluster 3\"], [21.0, 123678.0, 0.8320252689431032, 2838.8158208359087, \"Cluster 3\"], [21.0, 129726.0, 0.9517923119702948, 4550.7995216878835, \"Cluster 3\"], [17.0, 134966.0, 0.9072421746334024, 4128.044795832438, \"Cluster 3\"], [27.0, 125008.0, 0.9596454072349518, 2963.6377080587795, \"Cluster 3\"], [25.0, 131009.0, 0.8640569016468125, 4792.426581212785, \"Cluster 3\"], [24.0, 120465.0, 0.9074853865005544, 4838.348350281593, \"Cluster 3\"], [28.0, 129019.0, 0.9308319590820414, 3016.8206434862623, \"Cluster 3\"], [26.0, 127320.0, 0.8250298045601994, 5495.642137901324, \"Cluster 3\"], [28.0, 117108.0, 0.857078493256913, 4749.879237491619, \"Cluster 3\"], [25.0, 120957.0, 0.8776734245644572, 5590.447216086322, \"Cluster 3\"], [24.0, 134384.0, 0.8747208244890404, 3731.3397614449186, \"Cluster 3\"], [17.0, 136255.0, 0.935876103673024, 4126.226651408871, \"Cluster 3\"], [29.0, 142000.0, 0.9400873084125808, 5349.821181717665, \"Cluster 3\"], [29.0, 122264.0, 0.8985788437238403, 2494.55627432471, \"Cluster 3\"], [28.0, 121216.0, 0.8569692823607705, 5349.065446955783, \"Cluster 3\"], [18.0, 123718.0, 0.8065528615489801, 4420.445820614172, \"Cluster 3\"]], \"hoverlabel\": {\"namelength\": 0}, \"hovertemplate\": \"Cluster=%{customdata[4]}<br>Age=%{customdata[0]}<br>Income=%{customdata[1]}<br>SpendingScore=%{customdata[2]}<br>Savings=%{customdata[3]}\", \"legendgroup\": \"Cluster=Cluster 3\", \"marker\": {\"color\": \"#ab63fa\"}, \"name\": \"Cluster=Cluster 3\", \"notched\": true, \"offsetgroup\": \"Cluster=Cluster 3\", \"showlegend\": false, \"type\": \"box\", \"x\": [\"Cluster 3\", \"Cluster 3\", \"Cluster 3\", \"Cluster 3\", \"Cluster 3\", \"Cluster 3\", \"Cluster 3\", \"Cluster 3\", \"Cluster 3\", \"Cluster 3\", \"Cluster 3\", \"Cluster 3\", \"Cluster 3\", \"Cluster 3\", \"Cluster 3\", \"Cluster 3\", \"Cluster 3\", \"Cluster 3\", \"Cluster 3\", \"Cluster 3\", \"Cluster 3\", \"Cluster 3\", \"Cluster 3\", \"Cluster 3\", \"Cluster 3\", \"Cluster 3\", \"Cluster 3\", \"Cluster 3\", \"Cluster 3\", \"Cluster 3\", \"Cluster 3\", \"Cluster 3\", \"Cluster 3\", \"Cluster 3\", \"Cluster 3\", \"Cluster 3\", \"Cluster 3\", \"Cluster 3\", \"Cluster 3\", \"Cluster 3\", \"Cluster 3\", \"Cluster 3\", \"Cluster 3\", \"Cluster 3\", \"Cluster 3\", \"Cluster 3\", \"Cluster 3\", \"Cluster 3\", \"Cluster 3\", \"Cluster 3\"], \"xaxis\": \"x2\", \"yaxis\": \"y2\"}],\n",
              "                        {\"barmode\": \"relative\", \"height\": 600, \"legend\": {\"tracegroupgap\": 0}, \"margin\": {\"t\": 60}, \"template\": {\"data\": {\"bar\": [{\"error_x\": {\"color\": \"#2a3f5f\"}, \"error_y\": {\"color\": \"#2a3f5f\"}, \"marker\": {\"line\": {\"color\": \"#E5ECF6\", \"width\": 0.5}}, \"type\": \"bar\"}], \"barpolar\": [{\"marker\": {\"line\": {\"color\": \"#E5ECF6\", \"width\": 0.5}}, \"type\": \"barpolar\"}], \"carpet\": [{\"aaxis\": {\"endlinecolor\": \"#2a3f5f\", \"gridcolor\": \"white\", \"linecolor\": \"white\", \"minorgridcolor\": \"white\", \"startlinecolor\": \"#2a3f5f\"}, \"baxis\": {\"endlinecolor\": \"#2a3f5f\", \"gridcolor\": \"white\", \"linecolor\": \"white\", \"minorgridcolor\": \"white\", \"startlinecolor\": \"#2a3f5f\"}, \"type\": \"carpet\"}], \"choropleth\": [{\"colorbar\": {\"outlinewidth\": 0, \"ticks\": \"\"}, \"type\": \"choropleth\"}], \"contour\": [{\"colorbar\": {\"outlinewidth\": 0, \"ticks\": \"\"}, \"colorscale\": [[0.0, \"#0d0887\"], [0.1111111111111111, \"#46039f\"], [0.2222222222222222, \"#7201a8\"], [0.3333333333333333, \"#9c179e\"], [0.4444444444444444, \"#bd3786\"], [0.5555555555555556, \"#d8576b\"], [0.6666666666666666, \"#ed7953\"], [0.7777777777777778, \"#fb9f3a\"], [0.8888888888888888, \"#fdca26\"], [1.0, \"#f0f921\"]], \"type\": \"contour\"}], \"contourcarpet\": [{\"colorbar\": {\"outlinewidth\": 0, \"ticks\": \"\"}, \"type\": \"contourcarpet\"}], \"heatmap\": [{\"colorbar\": {\"outlinewidth\": 0, \"ticks\": \"\"}, \"colorscale\": [[0.0, \"#0d0887\"], [0.1111111111111111, \"#46039f\"], [0.2222222222222222, \"#7201a8\"], [0.3333333333333333, \"#9c179e\"], [0.4444444444444444, \"#bd3786\"], [0.5555555555555556, \"#d8576b\"], [0.6666666666666666, \"#ed7953\"], [0.7777777777777778, \"#fb9f3a\"], [0.8888888888888888, \"#fdca26\"], [1.0, \"#f0f921\"]], \"type\": \"heatmap\"}], \"heatmapgl\": [{\"colorbar\": {\"outlinewidth\": 0, \"ticks\": \"\"}, \"colorscale\": [[0.0, \"#0d0887\"], [0.1111111111111111, \"#46039f\"], [0.2222222222222222, \"#7201a8\"], [0.3333333333333333, \"#9c179e\"], [0.4444444444444444, \"#bd3786\"], [0.5555555555555556, \"#d8576b\"], [0.6666666666666666, \"#ed7953\"], [0.7777777777777778, \"#fb9f3a\"], [0.8888888888888888, \"#fdca26\"], [1.0, \"#f0f921\"]], \"type\": \"heatmapgl\"}], \"histogram\": [{\"marker\": {\"colorbar\": {\"outlinewidth\": 0, \"ticks\": \"\"}}, \"type\": \"histogram\"}], \"histogram2d\": [{\"colorbar\": {\"outlinewidth\": 0, \"ticks\": \"\"}, \"colorscale\": [[0.0, \"#0d0887\"], [0.1111111111111111, \"#46039f\"], [0.2222222222222222, \"#7201a8\"], [0.3333333333333333, \"#9c179e\"], [0.4444444444444444, \"#bd3786\"], [0.5555555555555556, \"#d8576b\"], [0.6666666666666666, \"#ed7953\"], [0.7777777777777778, \"#fb9f3a\"], [0.8888888888888888, \"#fdca26\"], [1.0, \"#f0f921\"]], \"type\": \"histogram2d\"}], \"histogram2dcontour\": [{\"colorbar\": {\"outlinewidth\": 0, \"ticks\": \"\"}, \"colorscale\": [[0.0, \"#0d0887\"], [0.1111111111111111, \"#46039f\"], [0.2222222222222222, \"#7201a8\"], [0.3333333333333333, \"#9c179e\"], [0.4444444444444444, \"#bd3786\"], [0.5555555555555556, \"#d8576b\"], [0.6666666666666666, \"#ed7953\"], [0.7777777777777778, \"#fb9f3a\"], [0.8888888888888888, \"#fdca26\"], [1.0, \"#f0f921\"]], \"type\": \"histogram2dcontour\"}], \"mesh3d\": [{\"colorbar\": {\"outlinewidth\": 0, \"ticks\": \"\"}, \"type\": \"mesh3d\"}], \"parcoords\": [{\"line\": {\"colorbar\": {\"outlinewidth\": 0, \"ticks\": \"\"}}, \"type\": \"parcoords\"}], \"pie\": [{\"automargin\": true, \"type\": \"pie\"}], \"scatter\": [{\"marker\": {\"colorbar\": {\"outlinewidth\": 0, \"ticks\": \"\"}}, \"type\": \"scatter\"}], \"scatter3d\": [{\"line\": {\"colorbar\": {\"outlinewidth\": 0, \"ticks\": \"\"}}, \"marker\": {\"colorbar\": {\"outlinewidth\": 0, \"ticks\": \"\"}}, \"type\": \"scatter3d\"}], \"scattercarpet\": [{\"marker\": {\"colorbar\": {\"outlinewidth\": 0, \"ticks\": \"\"}}, \"type\": \"scattercarpet\"}], \"scattergeo\": [{\"marker\": {\"colorbar\": {\"outlinewidth\": 0, \"ticks\": \"\"}}, \"type\": \"scattergeo\"}], \"scattergl\": [{\"marker\": {\"colorbar\": {\"outlinewidth\": 0, \"ticks\": \"\"}}, \"type\": \"scattergl\"}], \"scattermapbox\": [{\"marker\": {\"colorbar\": {\"outlinewidth\": 0, \"ticks\": \"\"}}, \"type\": \"scattermapbox\"}], \"scatterpolar\": [{\"marker\": {\"colorbar\": {\"outlinewidth\": 0, \"ticks\": \"\"}}, \"type\": \"scatterpolar\"}], \"scatterpolargl\": [{\"marker\": {\"colorbar\": {\"outlinewidth\": 0, \"ticks\": \"\"}}, \"type\": \"scatterpolargl\"}], \"scatterternary\": [{\"marker\": {\"colorbar\": {\"outlinewidth\": 0, \"ticks\": \"\"}}, \"type\": \"scatterternary\"}], \"surface\": [{\"colorbar\": {\"outlinewidth\": 0, \"ticks\": \"\"}, \"colorscale\": [[0.0, \"#0d0887\"], [0.1111111111111111, \"#46039f\"], [0.2222222222222222, \"#7201a8\"], [0.3333333333333333, \"#9c179e\"], [0.4444444444444444, \"#bd3786\"], [0.5555555555555556, \"#d8576b\"], [0.6666666666666666, \"#ed7953\"], [0.7777777777777778, \"#fb9f3a\"], [0.8888888888888888, \"#fdca26\"], [1.0, \"#f0f921\"]], \"type\": \"surface\"}], \"table\": [{\"cells\": {\"fill\": {\"color\": \"#EBF0F8\"}, \"line\": {\"color\": \"white\"}}, \"header\": {\"fill\": {\"color\": \"#C8D4E3\"}, \"line\": {\"color\": \"white\"}}, \"type\": \"table\"}]}, \"layout\": {\"annotationdefaults\": {\"arrowcolor\": \"#2a3f5f\", \"arrowhead\": 0, \"arrowwidth\": 1}, \"coloraxis\": {\"colorbar\": {\"outlinewidth\": 0, \"ticks\": \"\"}}, \"colorscale\": {\"diverging\": [[0, \"#8e0152\"], [0.1, \"#c51b7d\"], [0.2, \"#de77ae\"], [0.3, \"#f1b6da\"], [0.4, \"#fde0ef\"], [0.5, \"#f7f7f7\"], [0.6, \"#e6f5d0\"], [0.7, \"#b8e186\"], [0.8, \"#7fbc41\"], [0.9, \"#4d9221\"], [1, \"#276419\"]], \"sequential\": [[0.0, \"#0d0887\"], [0.1111111111111111, \"#46039f\"], [0.2222222222222222, \"#7201a8\"], [0.3333333333333333, \"#9c179e\"], [0.4444444444444444, \"#bd3786\"], [0.5555555555555556, \"#d8576b\"], [0.6666666666666666, \"#ed7953\"], [0.7777777777777778, \"#fb9f3a\"], [0.8888888888888888, \"#fdca26\"], [1.0, \"#f0f921\"]], \"sequentialminus\": [[0.0, \"#0d0887\"], [0.1111111111111111, \"#46039f\"], [0.2222222222222222, \"#7201a8\"], [0.3333333333333333, \"#9c179e\"], [0.4444444444444444, \"#bd3786\"], [0.5555555555555556, \"#d8576b\"], [0.6666666666666666, \"#ed7953\"], [0.7777777777777778, \"#fb9f3a\"], [0.8888888888888888, \"#fdca26\"], [1.0, \"#f0f921\"]]}, \"colorway\": [\"#636efa\", \"#EF553B\", \"#00cc96\", \"#ab63fa\", \"#FFA15A\", \"#19d3f3\", \"#FF6692\", \"#B6E880\", \"#FF97FF\", \"#FECB52\"], \"font\": {\"color\": \"#2a3f5f\"}, \"geo\": {\"bgcolor\": \"white\", \"lakecolor\": \"white\", \"landcolor\": \"#E5ECF6\", \"showlakes\": true, \"showland\": true, \"subunitcolor\": \"white\"}, \"hoverlabel\": {\"align\": \"left\"}, \"hovermode\": \"closest\", \"mapbox\": {\"style\": \"light\"}, \"paper_bgcolor\": \"white\", \"plot_bgcolor\": \"#E5ECF6\", \"polar\": {\"angularaxis\": {\"gridcolor\": \"white\", \"linecolor\": \"white\", \"ticks\": \"\"}, \"bgcolor\": \"#E5ECF6\", \"radialaxis\": {\"gridcolor\": \"white\", \"linecolor\": \"white\", \"ticks\": \"\"}}, \"scene\": {\"xaxis\": {\"backgroundcolor\": \"#E5ECF6\", \"gridcolor\": \"white\", \"gridwidth\": 2, \"linecolor\": \"white\", \"showbackground\": true, \"ticks\": \"\", \"zerolinecolor\": \"white\"}, \"yaxis\": {\"backgroundcolor\": \"#E5ECF6\", \"gridcolor\": \"white\", \"gridwidth\": 2, \"linecolor\": \"white\", \"showbackground\": true, \"ticks\": \"\", \"zerolinecolor\": \"white\"}, \"zaxis\": {\"backgroundcolor\": \"#E5ECF6\", \"gridcolor\": \"white\", \"gridwidth\": 2, \"linecolor\": \"white\", \"showbackground\": true, \"ticks\": \"\", \"zerolinecolor\": \"white\"}}, \"shapedefaults\": {\"line\": {\"color\": \"#2a3f5f\"}}, \"ternary\": {\"aaxis\": {\"gridcolor\": \"white\", \"linecolor\": \"white\", \"ticks\": \"\"}, \"baxis\": {\"gridcolor\": \"white\", \"linecolor\": \"white\", \"ticks\": \"\"}, \"bgcolor\": \"#E5ECF6\", \"caxis\": {\"gridcolor\": \"white\", \"linecolor\": \"white\", \"ticks\": \"\"}}, \"title\": {\"x\": 0.05}, \"xaxis\": {\"automargin\": true, \"gridcolor\": \"white\", \"linecolor\": \"white\", \"ticks\": \"\", \"title\": {\"standoff\": 15}, \"zerolinecolor\": \"white\", \"zerolinewidth\": 2}, \"yaxis\": {\"automargin\": true, \"gridcolor\": \"white\", \"linecolor\": \"white\", \"ticks\": \"\", \"title\": {\"standoff\": 15}, \"zerolinecolor\": \"white\", \"zerolinewidth\": 2}}}, \"xaxis\": {\"anchor\": \"y\", \"categoryarray\": [\"Cluster 0\", \"Cluster 1\", \"Cluster 2\", \"Cluster 3\"], \"categoryorder\": \"array\", \"domain\": [0.0, 1.0], \"title\": {\"text\": \"Cluster\"}}, \"xaxis2\": {\"anchor\": \"y2\", \"domain\": [0.0, 1.0], \"matches\": \"x\", \"showgrid\": true, \"showticklabels\": false}, \"yaxis\": {\"anchor\": \"x\", \"domain\": [0.0, 0.7326], \"title\": {\"text\": \"count\"}}, \"yaxis2\": {\"anchor\": \"x2\", \"domain\": [0.7426, 1.0], \"matches\": \"y2\", \"showgrid\": false, \"showline\": false, \"showticklabels\": false, \"ticks\": \"\"}},\n",
              "                        {\"responsive\": true}\n",
              "                    ).then(function(){\n",
              "                            \n",
              "var gd = document.getElementById('7bda319e-f6dc-4e3d-a457-294bfb5480ec');\n",
              "var x = new MutationObserver(function (mutations, observer) {{\n",
              "        var display = window.getComputedStyle(gd).display;\n",
              "        if (!display || display === 'none') {{\n",
              "            console.log([gd, 'removed!']);\n",
              "            Plotly.purge(gd);\n",
              "            observer.disconnect();\n",
              "        }}\n",
              "}});\n",
              "\n",
              "// Listen for the removal of the full notebook cells\n",
              "var notebookContainer = gd.closest('#notebook-container');\n",
              "if (notebookContainer) {{\n",
              "    x.observe(notebookContainer, {childList: true});\n",
              "}}\n",
              "\n",
              "// Listen for the clearing of the current output cell\n",
              "var outputEl = gd.closest('.output');\n",
              "if (outputEl) {{\n",
              "    x.observe(outputEl, {childList: true});\n",
              "}}\n",
              "\n",
              "                        })\n",
              "                };\n",
              "                \n",
              "            </script>\n",
              "        </div>\n",
              "</body>\n",
              "</html>"
            ]
          },
          "metadata": {
            "tags": []
          }
        }
      ]
    },
    {
      "cell_type": "code",
      "metadata": {
        "colab": {
          "base_uri": "https://localhost:8080/",
          "height": 617
        },
        "id": "SymVPoaTf3EJ",
        "outputId": "6fd0708e-c2a7-4d56-8a96-51399a815df1"
      },
      "source": [
        "plot_model(kmeans, plot = 'distribution',feature = 'Age')"
      ],
      "execution_count": 18,
      "outputs": [
        {
          "output_type": "display_data",
          "data": {
            "text/html": [
              "<html>\n",
              "<head><meta charset=\"utf-8\" /></head>\n",
              "<body>\n",
              "    <div>\n",
              "            <script src=\"https://cdnjs.cloudflare.com/ajax/libs/mathjax/2.7.5/MathJax.js?config=TeX-AMS-MML_SVG\"></script><script type=\"text/javascript\">if (window.MathJax) {MathJax.Hub.Config({SVG: {font: \"STIX-Web\"}});}</script>\n",
              "                <script type=\"text/javascript\">window.PlotlyConfig = {MathJaxConfig: 'local'};</script>\n",
              "        <script src=\"https://cdn.plot.ly/plotly-latest.min.js\"></script>    \n",
              "            <div id=\"d6c69076-a7e3-44e1-a840-ef4c6c9676f3\" class=\"plotly-graph-div\" style=\"height:600px; width:100%;\"></div>\n",
              "            <script type=\"text/javascript\">\n",
              "                \n",
              "                    window.PLOTLYENV=window.PLOTLYENV || {};\n",
              "                    \n",
              "                if (document.getElementById(\"d6c69076-a7e3-44e1-a840-ef4c6c9676f3\")) {\n",
              "                    Plotly.newPlot(\n",
              "                        'd6c69076-a7e3-44e1-a840-ef4c6c9676f3',\n",
              "                        [{\"alignmentgroup\": \"True\", \"bingroup\": \"x\", \"hoverlabel\": {\"namelength\": 0}, \"hovertemplate\": \"Cluster=Cluster 0<br>Age=%{x}<br>count=%{y}\", \"legendgroup\": \"Cluster=Cluster 0\", \"marker\": {\"color\": \"#636efa\", \"opacity\": 0.7}, \"name\": \"Cluster=Cluster 0\", \"offsetgroup\": \"Cluster=Cluster 0\", \"orientation\": \"v\", \"showlegend\": true, \"type\": \"histogram\", \"x\": [89, 91, 92, 90, 93, 89, 88, 87, 86, 82, 91, 88, 87, 91, 90, 85, 91, 88, 85, 85, 88, 84, 88, 94, 86, 94, 89, 87, 84, 91, 91, 88, 88, 89, 91, 90, 89, 83, 83, 86, 84, 94, 94, 79, 88, 85, 82, 82, 91, 91, 89, 84, 87, 81, 93, 84, 95, 89, 86, 85, 87, 92, 89, 85, 88, 86, 94, 87, 85, 83, 87, 88, 84, 85, 91, 90, 88, 89, 88, 92, 90, 85, 88, 94, 84, 91, 88, 87, 86, 83, 83, 91, 86, 89, 92, 87, 84, 83, 83, 85, 90, 97, 92, 87, 91, 83, 87, 91, 82, 91, 90, 86, 85, 90, 84, 87, 84, 88, 91, 84, 94, 89, 92, 89, 90, 90, 88, 88, 93, 90, 87, 87, 91, 87, 87, 92, 84, 87, 87, 83, 79, 92, 91, 83, 86, 84, 82], \"xaxis\": \"x\", \"yaxis\": \"y\"}, {\"alignmentgroup\": \"True\", \"customdata\": [[89.0, 30267.0, 0.2893100658351509, 14386.351879589123, \"Cluster 0\"], [91.0, 29082.0, 0.28248852137129143, 18794.488169074688, \"Cluster 0\"], [92.0, 22484.0, 0.3317732623948493, 18615.632589788456, \"Cluster 0\"], [90.0, 33490.0, 0.4199085281737912, 17091.904228934392, \"Cluster 0\"], [93.0, 17672.0, 0.3032923688871533, 18516.451810726718, \"Cluster 0\"], [89.0, 26940.0, 0.3260051328059917, 16555.159377159824, \"Cluster 0\"], [88.0, 28409.0, 0.30565353367521064, 17326.175608364214, \"Cluster 0\"], [87.0, 30178.0, 0.2793159778940049, 16123.070750832, \"Cluster 0\"], [86.0, 31994.0, 0.24947694035510065, 18210.088099070614, \"Cluster 0\"], [82.0, 33610.0, 0.3012532342412973, 17755.664940228176, \"Cluster 0\"], [91.0, 12038.0, 0.3498032558856572, 16464.960504438823, \"Cluster 0\"], [88.0, 35051.0, 0.3860515062876169, 17593.24679258195, \"Cluster 0\"], [87.0, 12000.0, 0.3429910076112659, 16180.26525174153, \"Cluster 0\"], [91.0, 36639.0, 0.3261988874784867, 16275.703341192586, \"Cluster 0\"], [90.0, 22288.0, 0.2713268321051208, 18434.099152391347, \"Cluster 0\"], [85.0, 21250.0, 0.3104101151420252, 16033.971166673777, \"Cluster 0\"], [91.0, 30148.0, 0.2773889467565771, 15324.287405101717, \"Cluster 0\"], [88.0, 26351.0, 0.3041682062164747, 14035.917553542351, \"Cluster 0\"], [85.0, 28401.0, 0.3694371368158697, 15990.49413056604, \"Cluster 0\"], [85.0, 34634.0, 0.3690001696241634, 16719.815875018445, \"Cluster 0\"], [88.0, 34001.0, 0.33756932388752803, 15530.934134298665, \"Cluster 0\"], [84.0, 42018.0, 0.29799360218993026, 16148.370454036614, \"Cluster 0\"], [88.0, 26092.0, 0.3128732065230775, 17105.79392615357, \"Cluster 0\"], [94.0, 28352.0, 0.37687573531685575, 16798.886114738052, \"Cluster 0\"], [86.0, 28779.0, 0.3365233301816881, 16047.268331461928, \"Cluster 0\"], [94.0, 38923.0, 0.33022601809734325, 16971.181554867213, \"Cluster 0\"], [89.0, 25252.0, 0.32176522093208865, 16539.364186086335, \"Cluster 0\"], [87.0, 25566.0, 0.3167603729756968, 15188.058749407255, \"Cluster 0\"], [84.0, 27384.0, 0.31364671699548896, 16734.672754073246, \"Cluster 0\"], [91.0, 28777.0, 0.324193555035782, 17808.2662415687, \"Cluster 0\"], [91.0, 27168.0, 0.3322388165540652, 15893.729773516614, \"Cluster 0\"], [88.0, 22602.0, 0.35674482887974684, 16740.343496726702, \"Cluster 0\"], [88.0, 28802.0, 0.4083878319987073, 16293.038332542192, \"Cluster 0\"], [89.0, 24520.0, 0.44383270684567067, 13556.9358834699, \"Cluster 0\"], [91.0, 29750.0, 0.2884703320713124, 19201.11991627576, \"Cluster 0\"], [90.0, 33259.0, 0.377571058498228, 15315.028503741696, \"Cluster 0\"], [89.0, 33311.0, 0.3761469685086391, 17093.06995548225, \"Cluster 0\"], [83.0, 18162.0, 0.3013734548863509, 16029.469213914268, \"Cluster 0\"], [83.0, 26882.0, 0.34797963237384105, 17775.22817123954, \"Cluster 0\"], [86.0, 18812.0, 0.34154576038705153, 16157.734142403422, \"Cluster 0\"], [84.0, 29492.0, 0.3336031402694437, 17954.09505703969, \"Cluster 0\"], [94.0, 18937.0, 0.3470950600753079, 17739.776098377628, \"Cluster 0\"], [94.0, 20719.0, 0.336402269797664, 16281.832273239006, \"Cluster 0\"], [79.0, 38201.0, 0.3697828881534748, 16393.395697309446, \"Cluster 0\"], [88.0, 19510.0, 0.3167510258154691, 16529.20080632274, \"Cluster 0\"], [85.0, 30794.0, 0.2862292747117072, 17096.39150937826, \"Cluster 0\"], [82.0, 24221.0, 0.4735496605323542, 16251.759445212669, \"Cluster 0\"], [82.0, 32494.0, 0.3273154026360584, 16799.444266662453, \"Cluster 0\"], [91.0, 16950.0, 0.32300404344763, 17172.609400509067, \"Cluster 0\"], [91.0, 20681.0, 0.3546791690549572, 18401.08844474873, \"Cluster 0\"], [89.0, 20292.0, 0.3121481952107594, 16023.4456584523, \"Cluster 0\"], [84.0, 27179.0, 0.3474234168306904, 15612.628547766899, \"Cluster 0\"], [87.0, 24578.0, 0.37616545875063534, 17789.247521813828, \"Cluster 0\"], [81.0, 34425.0, 0.2726097792323641, 16262.623790655764, \"Cluster 0\"], [93.0, 20440.0, 0.2975730342292497, 17406.074017844054, \"Cluster 0\"], [84.0, 27544.0, 0.2309337663207005, 18207.36169648481, \"Cluster 0\"], [95.0, 27038.0, 0.3313520070109344, 18126.577451151075, \"Cluster 0\"], [89.0, 26127.0, 0.3044743722681633, 17194.828018777476, \"Cluster 0\"], [86.0, 46977.0, 0.2827283910152334, 15628.957075805025, \"Cluster 0\"], [85.0, 27599.0, 0.2819950483303406, 13470.97060503703, \"Cluster 0\"], [87.0, 25701.0, 0.3152205738281265, 15738.859295516553, \"Cluster 0\"], [92.0, 35877.0, 0.3668917159124752, 17287.907016982324, \"Cluster 0\"], [89.0, 19202.0, 0.3819877440174351, 16626.22236147723, \"Cluster 0\"], [85.0, 29204.0, 0.3254914498834959, 16918.903460369133, \"Cluster 0\"], [88.0, 33251.0, 0.3043913649608802, 18868.24161249696, \"Cluster 0\"], [86.0, 35998.0, 0.3216356471662456, 20000.0, \"Cluster 0\"], [94.0, 27169.0, 0.3141730453838618, 15061.776215142369, \"Cluster 0\"], [87.0, 18459.0, 0.2645499059687874, 15637.59765457844, \"Cluster 0\"], [85.0, 29610.0, 0.3181352453742131, 18475.487468080933, \"Cluster 0\"], [83.0, 28497.0, 0.3938023931664613, 15510.112981164848, \"Cluster 0\"], [87.0, 46910.0, 0.3085616998317755, 14789.14847617646, \"Cluster 0\"], [88.0, 17388.0, 0.4661894446652393, 16698.6210372462, \"Cluster 0\"], [84.0, 38042.0, 0.3660858718547989, 17465.856285855403, \"Cluster 0\"], [85.0, 34802.0, 0.2987969233586417, 16450.003270402787, \"Cluster 0\"], [91.0, 25237.0, 0.3535018242414266, 17292.733103848248, \"Cluster 0\"], [90.0, 30178.0, 0.2823512821567113, 16182.8384364088, \"Cluster 0\"], [88.0, 32708.0, 0.3682153159958089, 16711.0679804242, \"Cluster 0\"], [89.0, 31096.0, 0.2785878455435617, 17736.94259966666, \"Cluster 0\"], [88.0, 27169.0, 0.28005950486141434, 15260.635546195437, \"Cluster 0\"], [92.0, 32915.0, 0.3885749195868542, 16694.706839244012, \"Cluster 0\"], [90.0, 25733.0, 0.3385629680709827, 17631.56888411863, \"Cluster 0\"], [85.0, 26355.0, 0.34234066669498114, 17971.19363998381, \"Cluster 0\"], [88.0, 28585.0, 0.3977396663840213, 16725.841854363774, \"Cluster 0\"], [94.0, 27771.0, 0.3025032231546657, 17303.957194969433, \"Cluster 0\"], [84.0, 22286.0, 0.3955062459001081, 17886.53737311577, \"Cluster 0\"], [91.0, 26424.0, 0.3193886529047028, 16501.46877669979, \"Cluster 0\"], [88.0, 17946.0, 0.26964363039994416, 16715.160017840968, \"Cluster 0\"], [87.0, 30812.0, 0.3144631516753479, 15238.118997598334, \"Cluster 0\"], [86.0, 36031.0, 0.2401766350783482, 16945.326244896307, \"Cluster 0\"], [83.0, 30492.0, 0.3016314685914632, 15365.85846293255, \"Cluster 0\"], [83.0, 33170.0, 0.24107774427464634, 16620.010473689304, \"Cluster 0\"], [91.0, 25886.0, 0.30175376758370465, 17266.045729118025, \"Cluster 0\"], [86.0, 15695.0, 0.25717496647489363, 17366.186263516567, \"Cluster 0\"], [89.0, 22008.0, 0.3819060693389532, 16458.398097731253, \"Cluster 0\"], [92.0, 36032.0, 0.3369683066109672, 17348.5998812573, \"Cluster 0\"], [87.0, 23042.0, 0.3663120107544869, 18149.035872923057, \"Cluster 0\"], [84.0, 36463.0, 0.3536209572557781, 16563.372591147832, \"Cluster 0\"], [83.0, 30721.0, 0.3311418077630257, 17705.99238527814, \"Cluster 0\"], [83.0, 23206.0, 0.3212403632065312, 16870.672003783384, \"Cluster 0\"], [85.0, 28408.0, 0.3580738593579665, 15063.335797441836, \"Cluster 0\"], [90.0, 33188.0, 0.24881006879023135, 15866.913937696345, \"Cluster 0\"], [97.0, 27271.0, 0.28392289527040304, 14928.165597390327, \"Cluster 0\"], [92.0, 18724.0, 0.3278623148176303, 15341.381109594675, \"Cluster 0\"], [87.0, 23322.0, 0.30682119734644964, 16131.267659393414, \"Cluster 0\"], [91.0, 28165.0, 0.3036929225036061, 17460.179350212424, \"Cluster 0\"], [83.0, 28727.0, 0.3082630418510537, 18205.33626089001, \"Cluster 0\"], [87.0, 31481.0, 0.317423970601333, 16180.68808203422, \"Cluster 0\"], [91.0, 26917.0, 0.37671353045834655, 17986.618644605885, \"Cluster 0\"], [82.0, 33636.0, 0.3717829785401914, 17866.83359752812, \"Cluster 0\"], [91.0, 24370.0, 0.2963285713632805, 16141.048981383728, \"Cluster 0\"], [90.0, 24376.0, 0.2812794569155436, 15134.994226396464, \"Cluster 0\"], [86.0, 23400.0, 0.27803553844702666, 15215.28126373834, \"Cluster 0\"], [85.0, 21652.0, 0.3184561372216806, 14175.16988549895, \"Cluster 0\"], [90.0, 22782.0, 0.3563068710287742, 15924.071707885845, \"Cluster 0\"], [84.0, 18244.0, 0.29266337446440194, 17815.348406878897, \"Cluster 0\"], [87.0, 26665.0, 0.4021456613889217, 17376.914743318182, \"Cluster 0\"], [84.0, 24105.0, 0.2718090229374729, 16524.902538052145, \"Cluster 0\"], [88.0, 31366.0, 0.3796208481334848, 16079.622699815933, \"Cluster 0\"], [91.0, 22672.0, 0.2710645345158169, 15407.646761130874, \"Cluster 0\"], [84.0, 30481.0, 0.3970228936031003, 16837.205964813103, \"Cluster 0\"], [94.0, 23854.0, 0.3144466826182581, 16828.410118749016, \"Cluster 0\"], [89.0, 28160.0, 0.3388488510290433, 15607.061781887898, \"Cluster 0\"], [92.0, 33550.0, 0.3685156285793065, 17106.32591058189, \"Cluster 0\"], [89.0, 34524.0, 0.348118273264174, 14051.256515312789, \"Cluster 0\"], [90.0, 37503.0, 0.35778831446458764, 17258.57497274541, \"Cluster 0\"], [90.0, 35297.0, 0.35514901905663643, 16091.401954058958, \"Cluster 0\"], [88.0, 17851.0, 0.2898659849627828, 17472.470686173863, \"Cluster 0\"], [88.0, 33303.0, 0.39971568554521497, 15232.598068845287, \"Cluster 0\"], [93.0, 19934.0, 0.20314023979537812, 17969.693768505334, \"Cluster 0\"], [90.0, 29029.0, 0.30375897133462404, 15592.991530526488, \"Cluster 0\"], [87.0, 26045.0, 0.3752921226023748, 15903.558359374925, \"Cluster 0\"], [87.0, 30102.0, 0.3903905943444749, 16330.081190027211, \"Cluster 0\"], [91.0, 30756.0, 0.30369803009825364, 15492.004711465304, \"Cluster 0\"], [87.0, 17760.0, 0.34877754843050746, 16869.507130301474, \"Cluster 0\"], [87.0, 15671.0, 0.3507250914944152, 14326.601120246103, \"Cluster 0\"], [92.0, 35484.0, 0.3970636039704499, 17324.045112814925, \"Cluster 0\"], [84.0, 20704.0, 0.3794963151514172, 16816.911895743782, \"Cluster 0\"], [87.0, 29909.0, 0.3421516318130469, 18142.232746738577, \"Cluster 0\"], [87.0, 42592.0, 0.35528968203827593, 18086.287157859304, \"Cluster 0\"], [83.0, 34384.0, 0.3247186821733417, 14783.379085794499, \"Cluster 0\"], [79.0, 32421.0, 0.3032762059432743, 15319.467662272391, \"Cluster 0\"], [92.0, 22616.0, 0.3228506824321553, 17275.66131398456, \"Cluster 0\"], [91.0, 36991.0, 0.2685979050949868, 19047.77233878285, \"Cluster 0\"], [83.0, 34529.0, 0.3172075114569807, 16517.208746949746, \"Cluster 0\"], [86.0, 27705.0, 0.3293769514872405, 17130.85610211788, \"Cluster 0\"], [84.0, 27693.0, 0.3670629731870412, 17879.558905551898, \"Cluster 0\"], [82.0, 24391.0, 0.27610134635529604, 17053.03010738692, \"Cluster 0\"]], \"hoverlabel\": {\"namelength\": 0}, \"hovertemplate\": \"Cluster=%{customdata[4]}<br>Age=%{customdata[0]}<br>Income=%{customdata[1]}<br>SpendingScore=%{customdata[2]}<br>Savings=%{customdata[3]}\", \"legendgroup\": \"Cluster=Cluster 0\", \"marker\": {\"color\": \"#636efa\"}, \"name\": \"Cluster=Cluster 0\", \"notched\": true, \"offsetgroup\": \"Cluster=Cluster 0\", \"showlegend\": false, \"type\": \"box\", \"x\": [89, 91, 92, 90, 93, 89, 88, 87, 86, 82, 91, 88, 87, 91, 90, 85, 91, 88, 85, 85, 88, 84, 88, 94, 86, 94, 89, 87, 84, 91, 91, 88, 88, 89, 91, 90, 89, 83, 83, 86, 84, 94, 94, 79, 88, 85, 82, 82, 91, 91, 89, 84, 87, 81, 93, 84, 95, 89, 86, 85, 87, 92, 89, 85, 88, 86, 94, 87, 85, 83, 87, 88, 84, 85, 91, 90, 88, 89, 88, 92, 90, 85, 88, 94, 84, 91, 88, 87, 86, 83, 83, 91, 86, 89, 92, 87, 84, 83, 83, 85, 90, 97, 92, 87, 91, 83, 87, 91, 82, 91, 90, 86, 85, 90, 84, 87, 84, 88, 91, 84, 94, 89, 92, 89, 90, 90, 88, 88, 93, 90, 87, 87, 91, 87, 87, 92, 84, 87, 87, 83, 79, 92, 91, 83, 86, 84, 82], \"xaxis\": \"x2\", \"yaxis\": \"y2\"}, {\"alignmentgroup\": \"True\", \"bingroup\": \"x\", \"hoverlabel\": {\"namelength\": 0}, \"hovertemplate\": \"Cluster=Cluster 1<br>Age=%{x}<br>count=%{y}\", \"legendgroup\": \"Cluster=Cluster 1\", \"marker\": {\"color\": \"#EF553B\", \"opacity\": 0.7}, \"name\": \"Cluster=Cluster 1\", \"offsetgroup\": \"Cluster=Cluster 1\", \"orientation\": \"v\", \"showlegend\": true, \"type\": \"histogram\", \"x\": [65, 57, 65, 59, 61, 60, 55, 63, 62, 59, 67, 58, 66, 58, 57, 57, 66, 59, 68, 61, 58, 59, 61, 64, 63, 64, 62, 61, 62, 67, 61, 57, 63, 56, 51, 59, 58, 55, 61, 55, 58, 68, 58, 67, 56, 59, 59, 57, 60, 67, 61, 60, 59, 57, 59, 59, 58, 63, 61, 56, 58, 56, 59, 61, 60, 56, 63, 58, 59, 62, 59, 59, 65, 64, 59, 59, 61, 64, 58, 57, 58, 56, 63, 58, 60, 58, 62, 66, 66, 63, 64, 62, 62, 60, 65, 60, 63, 56, 58, 62, 56, 59, 65, 62, 59, 64, 66, 59, 59, 59, 62, 59, 54, 61, 55, 53, 55, 61, 59, 59, 56, 61, 61, 60, 57, 61, 55, 53, 61, 64, 62, 55, 58, 57, 58, 64, 57, 62, 56, 53, 60, 56, 62, 61, 62, 55, 60, 58, 61, 59, 58, 56, 60, 62, 58, 64, 63], \"xaxis\": \"x\", \"yaxis\": \"y\"}, {\"alignmentgroup\": \"True\", \"customdata\": [[65.0, 70430.0, 0.6969942581249643, 6971.164886262858, \"Cluster 1\"], [57.0, 69655.0, 0.6748906779058501, 5889.831167170132, \"Cluster 1\"], [65.0, 71229.0, 0.7878897626638453, 9024.337460598084, \"Cluster 1\"], [59.0, 69408.0, 0.8799059975919311, 6491.771149967824, \"Cluster 1\"], [61.0, 73495.0, 0.7727563051023116, 9288.189785744367, \"Cluster 1\"], [60.0, 65942.0, 0.8005783854654352, 5253.2650066086435, \"Cluster 1\"], [55.0, 73895.0, 0.7471254610291731, 5563.906948891499, \"Cluster 1\"], [63.0, 75078.0, 0.7831591503681397, 7468.8510795028005, \"Cluster 1\"], [62.0, 62747.0, 0.7705945596869115, 5852.326242628098, \"Cluster 1\"], [59.0, 75505.0, 0.7682786576081454, 5006.528691371692, \"Cluster 1\"], [67.0, 59243.0, 0.7436599996604758, 5446.557472721708, \"Cluster 1\"], [58.0, 77559.0, 0.7122963723872477, 5742.524488088997, \"Cluster 1\"], [66.0, 77052.0, 0.7072624347132287, 6296.417311227459, \"Cluster 1\"], [58.0, 70272.0, 0.8229596005059499, 5290.087044285296, \"Cluster 1\"], [57.0, 65608.0, 0.7662313009024402, 6904.318224287022, \"Cluster 1\"], [57.0, 76573.0, 0.8405990704520518, 6225.3760824332285, \"Cluster 1\"], [66.0, 71672.0, 0.7538892176112998, 7387.835437850721, \"Cluster 1\"], [59.0, 69460.0, 0.7527238381125997, 6101.372146632121, \"Cluster 1\"], [68.0, 77648.0, 0.7965446939835457, 6190.864082788901, \"Cluster 1\"], [61.0, 74282.0, 0.6922364738673796, 7286.754751068365, \"Cluster 1\"], [58.0, 70369.0, 0.9045204855363144, 7461.567502649429, \"Cluster 1\"], [59.0, 75495.0, 0.7945029052198103, 6702.9519263157545, \"Cluster 1\"], [61.0, 71171.0, 0.7210804930623951, 6457.790641224788, \"Cluster 1\"], [64.0, 76410.0, 0.7756041848937439, 6135.308197117819, \"Cluster 1\"], [63.0, 56875.0, 0.7622805817657738, 7837.233619544163, \"Cluster 1\"], [64.0, 78801.0, 0.7403674891662984, 6420.9440712002615, \"Cluster 1\"], [62.0, 67731.0, 0.8191699488980382, 5956.555677017446, \"Cluster 1\"], [61.0, 67372.0, 0.7340673095092516, 6618.549336247915, \"Cluster 1\"], [62.0, 73675.0, 0.7966191667425384, 4688.657157271711, \"Cluster 1\"], [67.0, 68663.0, 0.7738336308243648, 7451.9940140258705, \"Cluster 1\"], [61.0, 78837.0, 0.7459489746307642, 6811.303235949058, \"Cluster 1\"], [57.0, 72055.0, 0.7549723463413129, 6544.847498075687, \"Cluster 1\"], [63.0, 67370.0, 0.8999405530923943, 5985.077029740457, \"Cluster 1\"], [56.0, 80431.0, 0.7594315957853627, 8150.55743948241, \"Cluster 1\"], [51.0, 72086.0, 0.7911147257599156, 6732.096068632267, \"Cluster 1\"], [59.0, 82199.0, 0.8035145098215853, 5880.814834306347, \"Cluster 1\"], [58.0, 80248.0, 0.7249557054919687, 7641.16038162423, \"Cluster 1\"], [55.0, 64768.0, 0.7332568512323248, 6486.353872691102, \"Cluster 1\"], [61.0, 68842.0, 0.7544065421993587, 4077.6586565080543, \"Cluster 1\"], [55.0, 76831.0, 0.7421137340413241, 7806.398750466399, \"Cluster 1\"], [58.0, 78611.0, 0.910416682938019, 7665.884294519009, \"Cluster 1\"], [68.0, 68944.0, 0.7455674638713768, 6828.709702363695, \"Cluster 1\"], [58.0, 69247.0, 0.7237211912021976, 8715.67957429646, \"Cluster 1\"], [67.0, 78702.0, 0.7632736815688779, 5030.364838791924, \"Cluster 1\"], [56.0, 73516.0, 0.806499154055182, 7696.832373798451, \"Cluster 1\"], [59.0, 73596.0, 0.8567042188430352, 8281.718740320448, \"Cluster 1\"], [59.0, 90422.0, 0.8062102206275251, 6746.281083820821, \"Cluster 1\"], [57.0, 79794.0, 0.82240840085096, 5893.975284946178, \"Cluster 1\"], [60.0, 70054.0, 0.7143393610830643, 6609.918507412548, \"Cluster 1\"], [67.0, 80914.0, 0.8196642592960329, 6833.507136694643, \"Cluster 1\"], [61.0, 65914.0, 0.7781022309770123, 6406.8771303520325, \"Cluster 1\"], [60.0, 74460.0, 0.7545393292392412, 7567.6476522203675, \"Cluster 1\"], [59.0, 73350.0, 0.6797735912164855, 6710.5740183754415, \"Cluster 1\"], [57.0, 64803.0, 0.7285849289103553, 6255.552641057161, \"Cluster 1\"], [59.0, 56321.0, 0.806565925193039, 6129.288986032587, \"Cluster 1\"], [59.0, 67401.0, 0.7114339697492305, 6529.586309935448, \"Cluster 1\"], [58.0, 70676.0, 0.7640283880376706, 7664.415650964042, \"Cluster 1\"], [63.0, 70580.0, 0.7665090449070475, 7262.108723452133, \"Cluster 1\"], [61.0, 72027.0, 0.7623249166772856, 6926.123598416466, \"Cluster 1\"], [56.0, 65313.0, 0.7546029986455771, 5574.2436767070985, \"Cluster 1\"], [58.0, 76052.0, 0.7215881830727278, 6681.9843863770275, \"Cluster 1\"], [56.0, 75599.0, 0.7737370986430746, 6799.625271842961, \"Cluster 1\"], [59.0, 68038.0, 0.8014869916095588, 7719.283632687176, \"Cluster 1\"], [61.0, 72060.0, 0.8334590233217959, 7924.6411381540165, \"Cluster 1\"], [60.0, 63476.0, 0.7519000198498227, 7543.542801728056, \"Cluster 1\"], [56.0, 78992.0, 0.8122757021441627, 7285.18043685174, \"Cluster 1\"], [63.0, 82343.0, 0.7323186222078123, 8090.706739679063, \"Cluster 1\"], [58.0, 78078.0, 0.7837795500405715, 6483.049643745244, \"Cluster 1\"], [59.0, 77978.0, 0.7188952048526104, 8316.31110205122, \"Cluster 1\"], [62.0, 69326.0, 0.7980123380544829, 7003.095703317772, \"Cluster 1\"], [59.0, 69115.0, 0.7598834338453199, 5997.690199856996, \"Cluster 1\"], [59.0, 67346.0, 0.7251568963089163, 8857.849116294088, \"Cluster 1\"], [65.0, 74430.0, 0.7517741617758547, 7145.251128357927, \"Cluster 1\"], [64.0, 62886.0, 0.7480162682831766, 8302.588638401632, \"Cluster 1\"], [59.0, 80876.0, 0.6573140731575163, 7232.825142650888, \"Cluster 1\"], [59.0, 73057.0, 0.8302949092020397, 7819.393215767329, \"Cluster 1\"], [61.0, 65647.0, 0.7174899773841509, 7497.231607003855, \"Cluster 1\"], [64.0, 64331.0, 0.7571277508774099, 5815.660096290825, \"Cluster 1\"], [58.0, 77769.0, 0.7913287771988531, 6559.8299230048315, \"Cluster 1\"], [57.0, 76594.0, 0.7906578552491133, 6584.654681310476, \"Cluster 1\"], [58.0, 70798.0, 0.7535283874245788, 5330.73989989779, \"Cluster 1\"], [56.0, 86484.0, 0.7321233689266612, 8777.496176839057, \"Cluster 1\"], [63.0, 85761.0, 0.8005979105724924, 7175.090218501247, \"Cluster 1\"], [58.0, 70259.0, 0.7697129169369328, 7101.674514204499, \"Cluster 1\"], [60.0, 79969.0, 0.812104912914789, 4879.334872972362, \"Cluster 1\"], [58.0, 69879.0, 0.7209986871945887, 6669.033518051874, \"Cluster 1\"], [62.0, 73480.0, 0.7391949797931453, 6277.675150528886, \"Cluster 1\"], [66.0, 72571.0, 0.8115483367376335, 6509.41150610998, \"Cluster 1\"], [66.0, 64866.0, 0.7665941891374249, 5037.899138583947, \"Cluster 1\"], [63.0, 72815.0, 0.8200359737627068, 5504.385543801038, \"Cluster 1\"], [64.0, 71692.0, 0.8426521453196145, 7002.9765543033545, \"Cluster 1\"], [62.0, 63596.0, 0.7453271943508174, 6142.201619345869, \"Cluster 1\"], [62.0, 62650.0, 0.766572365027147, 7533.673609198676, \"Cluster 1\"], [60.0, 71436.0, 0.8320590985324969, 8557.86012627717, \"Cluster 1\"], [65.0, 65736.0, 0.7785687658100923, 6387.2196944302905, \"Cluster 1\"], [60.0, 70663.0, 0.7153396972946453, 7557.937593550947, \"Cluster 1\"], [63.0, 80705.0, 0.7626699527314824, 5154.330634621805, \"Cluster 1\"], [56.0, 84386.0, 0.7849450699605269, 7270.41953428175, \"Cluster 1\"], [58.0, 75757.0, 0.8097944168848634, 7390.5772934370325, \"Cluster 1\"], [62.0, 71050.0, 0.7353568506694507, 6988.197368273879, \"Cluster 1\"], [56.0, 68698.0, 0.7162678503859907, 7070.967006969191, \"Cluster 1\"], [59.0, 67781.0, 0.7225483489421433, 6701.527664794541, \"Cluster 1\"], [65.0, 66017.0, 0.7861892594159869, 6159.662935925753, \"Cluster 1\"], [62.0, 80093.0, 0.6909167811268888, 6756.749072752337, \"Cluster 1\"], [59.0, 67988.0, 0.8114707012366371, 7255.903114334659, \"Cluster 1\"], [64.0, 88361.0, 0.7745562258521365, 7240.759687480846, \"Cluster 1\"], [66.0, 82526.0, 0.7696800667721441, 6205.662650191712, \"Cluster 1\"], [59.0, 74576.0, 0.7812961239072382, 10547.775367695343, \"Cluster 1\"], [59.0, 72588.0, 0.8017156979122673, 6300.8437570950255, \"Cluster 1\"], [59.0, 81799.0, 0.7910820467274178, 5417.661426197439, \"Cluster 1\"], [62.0, 74751.0, 0.7026569520102857, 9258.99296503407, \"Cluster 1\"], [59.0, 74373.0, 0.7656795619984281, 7346.334503537976, \"Cluster 1\"], [54.0, 76500.0, 0.7851978501165687, 6878.884248553974, \"Cluster 1\"], [61.0, 71933.0, 0.8441067966472876, 8022.208541100706, \"Cluster 1\"], [55.0, 71621.0, 0.7533426836166189, 7780.589913955977, \"Cluster 1\"], [53.0, 76667.0, 0.7600576501232099, 5168.225474983632, \"Cluster 1\"], [55.0, 78761.0, 0.8271741985123882, 8376.74947779104, \"Cluster 1\"], [61.0, 76955.0, 0.7771175646074471, 7467.036702314494, \"Cluster 1\"], [59.0, 65700.0, 0.8114711740198254, 6932.487932327357, \"Cluster 1\"], [59.0, 69738.0, 0.7421121217155721, 7151.650866065035, \"Cluster 1\"], [56.0, 63866.0, 0.7618879582513512, 7762.255066659051, \"Cluster 1\"], [61.0, 74117.0, 0.7702140596767938, 5103.609230428381, \"Cluster 1\"], [61.0, 63846.0, 0.8278622414878984, 7283.504772674617, \"Cluster 1\"], [60.0, 70012.0, 0.7944610508231513, 7263.242447729872, \"Cluster 1\"], [57.0, 75332.0, 0.7215024376129366, 6845.056822204781, \"Cluster 1\"], [61.0, 73245.0, 0.811160373170345, 7413.784487271215, \"Cluster 1\"], [55.0, 74356.0, 0.7998269700906482, 6484.630737953294, \"Cluster 1\"], [53.0, 62117.0, 0.7331388477995737, 7500.452413594261, \"Cluster 1\"], [61.0, 69001.0, 0.8216687745413516, 5074.12121172259, \"Cluster 1\"], [64.0, 60493.0, 0.7680563479442216, 7708.112609459162, \"Cluster 1\"], [62.0, 69741.0, 0.8462196017575947, 5781.658046536959, \"Cluster 1\"], [55.0, 71056.0, 0.7565897119333272, 7464.163256732262, \"Cluster 1\"], [58.0, 74340.0, 0.7351650452097145, 7259.540921675672, \"Cluster 1\"], [57.0, 79470.0, 0.7734352958312237, 6773.049089777121, \"Cluster 1\"], [58.0, 77101.0, 0.7667195837506832, 8148.49184821177, \"Cluster 1\"], [64.0, 76364.0, 0.6993887663543108, 5772.1171358549755, \"Cluster 1\"], [57.0, 74014.0, 0.787378081122989, 5783.846928267082, \"Cluster 1\"], [62.0, 67030.0, 0.7467384433463651, 6740.765182071713, \"Cluster 1\"], [56.0, 68463.0, 0.8157116929554062, 8995.180087953215, \"Cluster 1\"], [53.0, 74996.0, 0.7387310917031671, 7821.447803561914, \"Cluster 1\"], [60.0, 65340.0, 0.7316484923943142, 8354.196507802662, \"Cluster 1\"], [56.0, 60059.0, 0.7275840223364691, 7166.858605155183, \"Cluster 1\"], [62.0, 78413.0, 0.7907090657200839, 6961.2041923680945, \"Cluster 1\"], [61.0, 69698.0, 0.7416839698444291, 8777.077471725162, \"Cluster 1\"], [62.0, 68279.0, 0.7196850779929922, 7028.675510384212, \"Cluster 1\"], [55.0, 76057.0, 0.8778279844516369, 6132.898204816149, \"Cluster 1\"], [60.0, 67491.0, 0.84661848692906, 7180.713788260257, \"Cluster 1\"], [58.0, 83351.0, 0.8406978038692191, 6673.909711092488, \"Cluster 1\"], [61.0, 71033.0, 0.8380950724014863, 9456.876962701137, \"Cluster 1\"], [59.0, 71302.0, 0.7020090041734849, 6595.726010227134, \"Cluster 1\"], [58.0, 80278.0, 0.8233589910091558, 6335.97831998802, \"Cluster 1\"], [56.0, 67274.0, 0.7798516671891869, 6652.391024403152, \"Cluster 1\"], [60.0, 65054.0, 0.7086131723969877, 5417.237293788358, \"Cluster 1\"], [62.0, 69391.0, 0.7921059737158539, 6518.283467894094, \"Cluster 1\"], [58.0, 78635.0, 0.7864400503429185, 7162.739043055361, \"Cluster 1\"], [64.0, 86283.0, 0.7568019251873561, 6852.5548669147165, \"Cluster 1\"], [63.0, 69849.0, 0.7403870808915297, 7670.6909659413295, \"Cluster 1\"]], \"hoverlabel\": {\"namelength\": 0}, \"hovertemplate\": \"Cluster=%{customdata[4]}<br>Age=%{customdata[0]}<br>Income=%{customdata[1]}<br>SpendingScore=%{customdata[2]}<br>Savings=%{customdata[3]}\", \"legendgroup\": \"Cluster=Cluster 1\", \"marker\": {\"color\": \"#EF553B\"}, \"name\": \"Cluster=Cluster 1\", \"notched\": true, \"offsetgroup\": \"Cluster=Cluster 1\", \"showlegend\": false, \"type\": \"box\", \"x\": [65, 57, 65, 59, 61, 60, 55, 63, 62, 59, 67, 58, 66, 58, 57, 57, 66, 59, 68, 61, 58, 59, 61, 64, 63, 64, 62, 61, 62, 67, 61, 57, 63, 56, 51, 59, 58, 55, 61, 55, 58, 68, 58, 67, 56, 59, 59, 57, 60, 67, 61, 60, 59, 57, 59, 59, 58, 63, 61, 56, 58, 56, 59, 61, 60, 56, 63, 58, 59, 62, 59, 59, 65, 64, 59, 59, 61, 64, 58, 57, 58, 56, 63, 58, 60, 58, 62, 66, 66, 63, 64, 62, 62, 60, 65, 60, 63, 56, 58, 62, 56, 59, 65, 62, 59, 64, 66, 59, 59, 59, 62, 59, 54, 61, 55, 53, 55, 61, 59, 59, 56, 61, 61, 60, 57, 61, 55, 53, 61, 64, 62, 55, 58, 57, 58, 64, 57, 62, 56, 53, 60, 56, 62, 61, 62, 55, 60, 58, 61, 59, 58, 56, 60, 62, 58, 64, 63], \"xaxis\": \"x2\", \"yaxis\": \"y2\"}, {\"alignmentgroup\": \"True\", \"bingroup\": \"x\", \"hoverlabel\": {\"namelength\": 0}, \"hovertemplate\": \"Cluster=Cluster 2<br>Age=%{x}<br>count=%{y}\", \"legendgroup\": \"Cluster=Cluster 2\", \"marker\": {\"color\": \"#00cc96\", \"opacity\": 0.7}, \"name\": \"Cluster=Cluster 2\", \"offsetgroup\": \"Cluster=Cluster 2\", \"orientation\": \"v\", \"showlegend\": true, \"type\": \"histogram\", \"x\": [38, 29, 36, 31, 39, 88, 86, 35, 30, 35, 25, 37, 30, 36, 34, 33, 36, 32, 83, 31, 37, 36, 90, 31, 37, 35, 33, 84, 37, 29, 44, 32, 31, 29, 36, 31, 90, 33, 33, 89, 29, 32, 84, 30, 88, 38, 92, 31, 30, 36, 85, 30, 28, 37, 29, 31, 29, 31, 33, 31, 83, 34, 22, 87, 34, 25, 31, 31, 31, 35, 28, 33, 31, 28, 39, 36, 32, 93, 36, 34, 37, 33, 43, 33, 26, 24, 31, 29, 36, 86, 33, 29, 40, 35, 32, 37, 34, 34, 84, 82, 88, 85, 35, 33, 33, 29, 83, 28, 31, 37, 31, 33, 30, 30, 34, 30, 30, 86, 29, 30, 28, 37, 37, 82, 42, 28, 30, 32, 35, 35, 31, 35, 33, 29, 35, 38, 34, 33, 32, 34, 31, 27, 39, 38, 84, 77, 34, 28, 36, 91, 34], \"xaxis\": \"x\", \"yaxis\": \"y\"}, {\"alignmentgroup\": \"True\", \"customdata\": [[38.0, 104738.0, 0.4059588503683713, 15634.313868027426, \"Cluster 2\"], [29.0, 112531.0, 0.3427661743407053, 14361.334979176147, \"Cluster 2\"], [36.0, 109809.0, 0.355660187354229, 14978.502144076487, \"Cluster 2\"], [31.0, 110882.0, 0.3252806065281125, 14004.61374291491, \"Cluster 2\"], [39.0, 100661.0, 0.3766412501689559, 16873.128638209408, \"Cluster 2\"], [88.0, 123651.0, 0.02902714029105191, 13504.577571797938, \"Cluster 2\"], [86.0, 124372.0, 0.0, 15374.465952896948, \"Cluster 2\"], [35.0, 108499.0, 0.2612719132713158, 16046.08301542436, \"Cluster 2\"], [30.0, 96241.0, 0.3773384910014747, 15485.156009739387, \"Cluster 2\"], [35.0, 106588.0, 0.3422142051018276, 15648.65667046098, \"Cluster 2\"], [25.0, 101503.0, 0.28846885607409833, 15026.262148820157, \"Cluster 2\"], [37.0, 106894.0, 0.3432357689892068, 14075.217365594552, \"Cluster 2\"], [30.0, 107302.0, 0.2396771776819925, 13993.24401848172, \"Cluster 2\"], [36.0, 109038.0, 0.3242132027621541, 16502.389477657125, \"Cluster 2\"], [34.0, 103204.0, 0.30108735378393314, 15149.810421179482, \"Cluster 2\"], [33.0, 98033.0, 0.30951111585458696, 15774.690605560645, \"Cluster 2\"], [36.0, 101811.0, 0.3406667947415742, 15048.89961242685, \"Cluster 2\"], [32.0, 101905.0, 0.3074763135926987, 17532.16478349903, \"Cluster 2\"], [83.0, 117943.0, 0.07721324003343044, 15391.95219220651, \"Cluster 2\"], [31.0, 112943.0, 0.34123950330738706, 14297.702229457283, \"Cluster 2\"], [37.0, 108651.0, 0.1923436158292553, 15881.242198260683, \"Cluster 2\"], [36.0, 100158.0, 0.31606041409802405, 13832.379370734528, \"Cluster 2\"], [90.0, 124170.0, 0.030751314393913882, 14773.407205599842, \"Cluster 2\"], [31.0, 105006.0, 0.3741658782934958, 15419.41776312329, \"Cluster 2\"], [37.0, 110732.0, 0.3226762482802641, 14265.351840497759, \"Cluster 2\"], [35.0, 104678.0, 0.3279928581002429, 15422.055799721802, \"Cluster 2\"], [33.0, 92569.0, 0.33607980556714456, 13765.685995748696, \"Cluster 2\"], [84.0, 114406.0, 0.12383837464097253, 16840.570583774286, \"Cluster 2\"], [37.0, 107958.0, 0.34666907654318496, 13641.009538079368, \"Cluster 2\"], [29.0, 99161.0, 0.3079200040396055, 15631.836772980834, \"Cluster 2\"], [44.0, 114642.0, 0.3092049154534188, 14067.617788950563, \"Cluster 2\"], [32.0, 106543.0, 0.3107432443044589, 14337.288328489092, \"Cluster 2\"], [31.0, 105036.0, 0.2722279930569666, 16465.063521972657, \"Cluster 2\"], [29.0, 103223.0, 0.3388162937437745, 16252.883053065632, \"Cluster 2\"], [36.0, 98137.0, 0.29740129315965397, 15978.332837131276, \"Cluster 2\"], [31.0, 105826.0, 0.2862743235826754, 13856.805832195869, \"Cluster 2\"], [90.0, 117668.0, 0.08272274299401555, 12554.692742420659, \"Cluster 2\"], [33.0, 106757.0, 0.25839611372125515, 14431.652799234367, \"Cluster 2\"], [33.0, 107100.0, 0.3424354833732075, 14895.473479049117, \"Cluster 2\"], [89.0, 119697.0, 0.0916792017028315, 16215.399076555514, \"Cluster 2\"], [29.0, 101943.0, 0.3256230614429721, 14619.354282159029, \"Cluster 2\"], [32.0, 108417.0, 0.28737086714008075, 16696.398659007995, \"Cluster 2\"], [84.0, 122696.0, 0.08218683192473558, 13809.734086698068, \"Cluster 2\"], [30.0, 101073.0, 0.3143871202044516, 14324.555977118509, \"Cluster 2\"], [88.0, 120678.0, 0.06327285129660287, 14264.473846639943, \"Cluster 2\"], [38.0, 94775.0, 0.3803902009461493, 16867.13082002739, \"Cluster 2\"], [92.0, 122879.0, 0.0607240352184939, 13709.670274517475, \"Cluster 2\"], [31.0, 107963.0, 0.2905086327499087, 13407.081391032512, \"Cluster 2\"], [30.0, 99949.0, 0.344679223509786, 13621.639726331408, \"Cluster 2\"], [36.0, 99780.0, 0.2654326074020303, 16398.40133318453, \"Cluster 2\"], [85.0, 111389.0, 0.0367953622110323, 16009.237762922363, \"Cluster 2\"], [30.0, 98030.0, 0.4111117138132285, 16316.842905166694, \"Cluster 2\"], [28.0, 101206.0, 0.3874406981253433, 14936.775388622864, \"Cluster 2\"], [37.0, 107877.0, 0.3346179841546032, 17968.55392863446, \"Cluster 2\"], [29.0, 119366.0, 0.3587713900686116, 15012.853014226299, \"Cluster 2\"], [31.0, 102618.0, 0.2763779214063509, 13209.301612848929, \"Cluster 2\"], [29.0, 106014.0, 0.34794511357773106, 15038.010746320377, \"Cluster 2\"], [31.0, 101209.0, 0.3043229953712128, 16917.571691218804, \"Cluster 2\"], [33.0, 101058.0, 0.3150815497840024, 14911.868398206978, \"Cluster 2\"], [31.0, 101481.0, 0.2702350511848681, 15226.614133627569, \"Cluster 2\"], [83.0, 119429.0, 0.042154801078558464, 15607.561541234569, \"Cluster 2\"], [34.0, 98993.0, 0.3229930887837502, 16138.079373431863, \"Cluster 2\"], [22.0, 109152.0, 0.32344641636242355, 16022.482482363523, \"Cluster 2\"], [87.0, 117564.0, 0.1282795957567026, 14000.248964992143, \"Cluster 2\"], [34.0, 102291.0, 0.24786227611431386, 15819.577601160518, \"Cluster 2\"], [25.0, 106772.0, 0.3909047196000217, 16353.471790615497, \"Cluster 2\"], [31.0, 107994.0, 0.2944689389706671, 13685.972361738892, \"Cluster 2\"], [31.0, 114833.0, 0.3050696862135815, 13953.029721407644, \"Cluster 2\"], [31.0, 107932.0, 0.3742421881649845, 12207.526078087714, \"Cluster 2\"], [35.0, 110106.0, 0.2867692710102035, 14924.537223475552, \"Cluster 2\"], [28.0, 100592.0, 0.2595983487762325, 15520.355775683653, \"Cluster 2\"], [33.0, 116616.0, 0.3209300476959025, 15104.49811363824, \"Cluster 2\"], [31.0, 111449.0, 0.29410620308282165, 13929.62155143948, \"Cluster 2\"], [28.0, 94762.0, 0.3035961911057213, 15352.521936894913, \"Cluster 2\"], [39.0, 100540.0, 0.3849229829012918, 16741.013894847743, \"Cluster 2\"], [36.0, 96336.0, 0.28809756719298163, 15286.769335194167, \"Cluster 2\"], [32.0, 117050.0, 0.3113555349689566, 14310.546206532163, \"Cluster 2\"], [93.0, 126601.0, 0.025170169477345742, 14117.44703707058, \"Cluster 2\"], [36.0, 104285.0, 0.2123600508972585, 13347.558779497918, \"Cluster 2\"], [34.0, 104284.0, 0.34454541177986714, 13541.801770810564, \"Cluster 2\"], [37.0, 110595.0, 0.28664850500199834, 15235.445457133224, \"Cluster 2\"], [33.0, 94964.0, 0.3302325026567214, 14018.349867336628, \"Cluster 2\"], [43.0, 101641.0, 0.3819838041034955, 14424.097995592982, \"Cluster 2\"], [33.0, 100275.0, 0.3630856827120957, 13735.438742381079, \"Cluster 2\"], [26.0, 97750.0, 0.2934087605160681, 15823.032361634105, \"Cluster 2\"], [24.0, 110564.0, 0.3049430059244969, 14967.839625179657, \"Cluster 2\"], [31.0, 107115.0, 0.3280420856997338, 15693.499570389358, \"Cluster 2\"], [29.0, 111426.0, 0.4002811559385194, 14352.643773230728, \"Cluster 2\"], [36.0, 108004.0, 0.3089229914936124, 15813.964573146997, \"Cluster 2\"], [86.0, 128378.0, 0.12608340975849852, 13585.778624417357, \"Cluster 2\"], [33.0, 114555.0, 0.2792568364789493, 13746.745438440072, \"Cluster 2\"], [29.0, 116451.0, 0.3406596106851227, 15294.661511529368, \"Cluster 2\"], [40.0, 98821.0, 0.27908085018704903, 15995.160053914664, \"Cluster 2\"], [35.0, 105991.0, 0.34337797815210225, 16616.088239618915, \"Cluster 2\"], [32.0, 102035.0, 0.26207035616469115, 14209.932802396092, \"Cluster 2\"], [37.0, 106664.0, 0.2775867542026021, 14479.374117495967, \"Cluster 2\"], [34.0, 89598.0, 0.3401523810436963, 12832.768720823738, \"Cluster 2\"], [34.0, 107255.0, 0.3283430294033384, 15130.595225546444, \"Cluster 2\"], [84.0, 115237.0, 0.06877820981367339, 14396.568282311468, \"Cluster 2\"], [82.0, 126257.0, 0.07809619439943333, 15816.101922357922, \"Cluster 2\"], [88.0, 114767.0, 0.032207542338926365, 17833.093470094427, \"Cluster 2\"], [85.0, 118169.0, 0.123196057747337, 14855.951023927619, \"Cluster 2\"], [35.0, 117112.0, 0.3047918711384766, 15908.035997555322, \"Cluster 2\"], [33.0, 111813.0, 0.2382437868013801, 15901.238967721652, \"Cluster 2\"], [33.0, 105667.0, 0.25075080562386165, 12869.761073905089, \"Cluster 2\"], [29.0, 91375.0, 0.2354504258588228, 13104.962760687613, \"Cluster 2\"], [83.0, 117347.0, 0.15569409232860987, 15086.701120471576, \"Cluster 2\"], [28.0, 99611.0, 0.2795578681222758, 15345.658121390226, \"Cluster 2\"], [31.0, 99457.0, 0.3658064971511749, 14580.613477014092, \"Cluster 2\"], [37.0, 97831.0, 0.3744658274308825, 14935.144813058325, \"Cluster 2\"], [31.0, 108067.0, 0.2686742663930692, 13316.767286164832, \"Cluster 2\"], [33.0, 106345.0, 0.3392354218755358, 15300.45379012999, \"Cluster 2\"], [30.0, 107926.0, 0.2301607310342209, 15520.536309707046, \"Cluster 2\"], [30.0, 108581.0, 0.3094467811568005, 15628.791650531211, \"Cluster 2\"], [34.0, 98165.0, 0.17412049382306485, 15721.86284266975, \"Cluster 2\"], [30.0, 106350.0, 0.3694162857692797, 14863.233588279092, \"Cluster 2\"], [30.0, 107525.0, 0.2948164301396663, 12702.847385049918, \"Cluster 2\"], [86.0, 115689.0, 0.057842956133581036, 14803.153273493916, \"Cluster 2\"], [29.0, 102028.0, 0.2889604994756899, 14634.430692347907, \"Cluster 2\"], [30.0, 102056.0, 0.2607006223919937, 15370.66882713054, \"Cluster 2\"], [28.0, 111937.0, 0.2537347301209012, 13669.110632506934, \"Cluster 2\"], [37.0, 97678.0, 0.2574704443875843, 15834.113173627364, \"Cluster 2\"], [37.0, 108635.0, 0.28649570314839057, 14558.054542315444, \"Cluster 2\"], [82.0, 121642.0, 0.054653190464209855, 14177.513323069668, \"Cluster 2\"], [42.0, 106990.0, 0.330065422314764, 14856.938997469417, \"Cluster 2\"], [28.0, 97965.0, 0.3134915614599665, 14981.402201916082, \"Cluster 2\"], [30.0, 108928.0, 0.30386361503665704, 14339.652917342728, \"Cluster 2\"], [32.0, 95536.0, 0.26624605681014885, 15420.625644002741, \"Cluster 2\"], [35.0, 107131.0, 0.2424731551814769, 16200.013010637644, \"Cluster 2\"], [35.0, 101691.0, 0.3491110181825554, 14152.671689505803, \"Cluster 2\"], [31.0, 104388.0, 0.2864732316476225, 14406.561248437842, \"Cluster 2\"], [35.0, 102308.0, 0.2751372175012177, 14874.557991326978, \"Cluster 2\"], [33.0, 99637.0, 0.2282170773869075, 15139.403142647532, \"Cluster 2\"], [29.0, 110860.0, 0.31944030103524745, 16260.42103081417, \"Cluster 2\"], [35.0, 112878.0, 0.3009135799974076, 13755.48230187328, \"Cluster 2\"], [38.0, 115146.0, 0.3144900731288347, 14798.868153501797, \"Cluster 2\"], [34.0, 111303.0, 0.34531257710928803, 14624.318634976555, \"Cluster 2\"], [33.0, 108345.0, 0.32541328975821004, 15646.32171735943, \"Cluster 2\"], [32.0, 110439.0, 0.30699015827427256, 13873.50756985278, \"Cluster 2\"], [34.0, 98752.0, 0.3720337099315751, 14975.384238944334, \"Cluster 2\"], [31.0, 116247.0, 0.2943151380482853, 16178.204715186297, \"Cluster 2\"], [27.0, 106758.0, 0.2662947092346973, 14942.560723173168, \"Cluster 2\"], [39.0, 99216.0, 0.21660614339457274, 15230.345105300736, \"Cluster 2\"], [38.0, 113659.0, 0.3334859873871594, 14364.693391419, \"Cluster 2\"], [84.0, 110582.0, 0.07904903227945975, 14937.995169685584, \"Cluster 2\"], [77.0, 128596.0, 0.04082407066250976, 14503.410786381415, \"Cluster 2\"], [34.0, 103428.0, 0.2474244093916156, 13791.035761571968, \"Cluster 2\"], [28.0, 109075.0, 0.36276196062401134, 14082.458238005996, \"Cluster 2\"], [36.0, 105567.0, 0.3126388486955741, 14355.31094653896, \"Cluster 2\"], [91.0, 118794.0, 0.0192120658984376, 14047.388986415735, \"Cluster 2\"], [34.0, 119877.0, 0.3054369951589357, 15634.788286084158, \"Cluster 2\"]], \"hoverlabel\": {\"namelength\": 0}, \"hovertemplate\": \"Cluster=%{customdata[4]}<br>Age=%{customdata[0]}<br>Income=%{customdata[1]}<br>SpendingScore=%{customdata[2]}<br>Savings=%{customdata[3]}\", \"legendgroup\": \"Cluster=Cluster 2\", \"marker\": {\"color\": \"#00cc96\"}, \"name\": \"Cluster=Cluster 2\", \"notched\": true, \"offsetgroup\": \"Cluster=Cluster 2\", \"showlegend\": false, \"type\": \"box\", \"x\": [38, 29, 36, 31, 39, 88, 86, 35, 30, 35, 25, 37, 30, 36, 34, 33, 36, 32, 83, 31, 37, 36, 90, 31, 37, 35, 33, 84, 37, 29, 44, 32, 31, 29, 36, 31, 90, 33, 33, 89, 29, 32, 84, 30, 88, 38, 92, 31, 30, 36, 85, 30, 28, 37, 29, 31, 29, 31, 33, 31, 83, 34, 22, 87, 34, 25, 31, 31, 31, 35, 28, 33, 31, 28, 39, 36, 32, 93, 36, 34, 37, 33, 43, 33, 26, 24, 31, 29, 36, 86, 33, 29, 40, 35, 32, 37, 34, 34, 84, 82, 88, 85, 35, 33, 33, 29, 83, 28, 31, 37, 31, 33, 30, 30, 34, 30, 30, 86, 29, 30, 28, 37, 37, 82, 42, 28, 30, 32, 35, 35, 31, 35, 33, 29, 35, 38, 34, 33, 32, 34, 31, 27, 39, 38, 84, 77, 34, 28, 36, 91, 34], \"xaxis\": \"x2\", \"yaxis\": \"y2\"}, {\"alignmentgroup\": \"True\", \"bingroup\": \"x\", \"hoverlabel\": {\"namelength\": 0}, \"hovertemplate\": \"Cluster=Cluster 3<br>Age=%{x}<br>count=%{y}\", \"legendgroup\": \"Cluster=Cluster 3\", \"marker\": {\"color\": \"#ab63fa\", \"opacity\": 0.7}, \"name\": \"Cluster=Cluster 3\", \"offsetgroup\": \"Cluster=Cluster 3\", \"orientation\": \"v\", \"showlegend\": true, \"type\": \"histogram\", \"x\": [27, 23, 25, 17, 24, 20, 23, 26, 23, 27, 23, 31, 22, 24, 29, 22, 28, 26, 25, 24, 24, 25, 20, 30, 25, 28, 20, 24, 22, 26, 17, 26, 28, 18, 21, 21, 17, 27, 25, 24, 28, 26, 28, 25, 24, 17, 29, 29, 28, 18], \"xaxis\": \"x\", \"yaxis\": \"y\"}, {\"alignmentgroup\": \"True\", \"customdata\": [[27.0, 122671.0, 0.910107112831516, 4206.287238709509, \"Cluster 3\"], [23.0, 138443.0, 0.9226565539031124, 3297.058843994153, \"Cluster 3\"], [25.0, 138021.0, 0.944017175810026, 3005.577482475175, \"Cluster 3\"], [17.0, 134734.0, 0.8579216672301577, 0.0, \"Cluster 3\"], [24.0, 129087.0, 0.8271179432765905, 3290.829468618805, \"Cluster 3\"], [20.0, 129469.0, 0.9399954311014268, 5522.573424346325, \"Cluster 3\"], [23.0, 129937.0, 0.8727356634334804, 4102.065424707484, \"Cluster 3\"], [26.0, 123005.0, 0.9845261943505972, 4371.23473281147, \"Cluster 3\"], [23.0, 126500.0, 0.8650328592458483, 3270.150434407087, \"Cluster 3\"], [27.0, 121468.0, 0.9206489879585448, 5011.112062373318, \"Cluster 3\"], [23.0, 120226.0, 0.8819129663041946, 4698.294710949844, \"Cluster 3\"], [31.0, 122924.0, 0.89046022417733, 3071.944576152969, \"Cluster 3\"], [22.0, 134209.0, 0.8706980046008759, 5138.109568643242, \"Cluster 3\"], [24.0, 130974.0, 0.9118386021444842, 4420.0727101369375, \"Cluster 3\"], [29.0, 131578.0, 0.8470341025128371, 3535.5143522162816, \"Cluster 3\"], [22.0, 132948.0, 0.8898001728484242, 2839.7863574778585, \"Cluster 3\"], [28.0, 123153.0, 0.9842407862639496, 3697.5136453853297, \"Cluster 3\"], [26.0, 131827.0, 0.8807194909406801, 4352.699304837541, \"Cluster 3\"], [25.0, 128625.0, 0.8167389887954251, 4914.117127206949, \"Cluster 3\"], [24.0, 136644.0, 0.8716976842508705, 1617.2257000775644, \"Cluster 3\"], [24.0, 134389.0, 0.9388521378701832, 4573.60634580409, \"Cluster 3\"], [25.0, 130934.0, 0.9137660194970426, 3942.389134492165, \"Cluster 3\"], [20.0, 122581.0, 0.8940806156500202, 4444.4476842520535, \"Cluster 3\"], [30.0, 122788.0, 0.8728724057273831, 5706.149573297764, \"Cluster 3\"], [25.0, 130361.0, 0.9254385568124625, 4691.55213906238, \"Cluster 3\"], [28.0, 123229.0, 0.8733219541371664, 610.4462190811464, \"Cluster 3\"], [20.0, 129142.0, 0.8870519941988757, 5603.121027746489, \"Cluster 3\"], [24.0, 127352.0, 0.9054521594192038, 2961.716874324024, \"Cluster 3\"], [22.0, 120525.0, 1.0, 5495.165732288548, \"Cluster 3\"], [26.0, 126617.0, 0.8770521049168103, 2913.368146562765, \"Cluster 3\"], [17.0, 123828.0, 0.9420129076091708, 3798.8403998790254, \"Cluster 3\"], [26.0, 125662.0, 0.9268183658411524, 6089.47832250152, \"Cluster 3\"], [28.0, 127699.0, 0.8814245468734898, 5490.814955670689, \"Cluster 3\"], [18.0, 130813.0, 0.8908912472675831, 5256.434559627984, \"Cluster 3\"], [21.0, 123678.0, 0.8320252689431032, 2838.8158208359087, \"Cluster 3\"], [21.0, 129726.0, 0.9517923119702948, 4550.7995216878835, \"Cluster 3\"], [17.0, 134966.0, 0.9072421746334024, 4128.044795832438, \"Cluster 3\"], [27.0, 125008.0, 0.9596454072349518, 2963.6377080587795, \"Cluster 3\"], [25.0, 131009.0, 0.8640569016468125, 4792.426581212785, \"Cluster 3\"], [24.0, 120465.0, 0.9074853865005544, 4838.348350281593, \"Cluster 3\"], [28.0, 129019.0, 0.9308319590820414, 3016.8206434862623, \"Cluster 3\"], [26.0, 127320.0, 0.8250298045601994, 5495.642137901324, \"Cluster 3\"], [28.0, 117108.0, 0.857078493256913, 4749.879237491619, \"Cluster 3\"], [25.0, 120957.0, 0.8776734245644572, 5590.447216086322, \"Cluster 3\"], [24.0, 134384.0, 0.8747208244890404, 3731.3397614449186, \"Cluster 3\"], [17.0, 136255.0, 0.935876103673024, 4126.226651408871, \"Cluster 3\"], [29.0, 142000.0, 0.9400873084125808, 5349.821181717665, \"Cluster 3\"], [29.0, 122264.0, 0.8985788437238403, 2494.55627432471, \"Cluster 3\"], [28.0, 121216.0, 0.8569692823607705, 5349.065446955783, \"Cluster 3\"], [18.0, 123718.0, 0.8065528615489801, 4420.445820614172, \"Cluster 3\"]], \"hoverlabel\": {\"namelength\": 0}, \"hovertemplate\": \"Cluster=%{customdata[4]}<br>Age=%{customdata[0]}<br>Income=%{customdata[1]}<br>SpendingScore=%{customdata[2]}<br>Savings=%{customdata[3]}\", \"legendgroup\": \"Cluster=Cluster 3\", \"marker\": {\"color\": \"#ab63fa\"}, \"name\": \"Cluster=Cluster 3\", \"notched\": true, \"offsetgroup\": \"Cluster=Cluster 3\", \"showlegend\": false, \"type\": \"box\", \"x\": [27, 23, 25, 17, 24, 20, 23, 26, 23, 27, 23, 31, 22, 24, 29, 22, 28, 26, 25, 24, 24, 25, 20, 30, 25, 28, 20, 24, 22, 26, 17, 26, 28, 18, 21, 21, 17, 27, 25, 24, 28, 26, 28, 25, 24, 17, 29, 29, 28, 18], \"xaxis\": \"x2\", \"yaxis\": \"y2\"}],\n",
              "                        {\"barmode\": \"relative\", \"height\": 600, \"legend\": {\"tracegroupgap\": 0}, \"margin\": {\"t\": 60}, \"template\": {\"data\": {\"bar\": [{\"error_x\": {\"color\": \"#2a3f5f\"}, \"error_y\": {\"color\": \"#2a3f5f\"}, \"marker\": {\"line\": {\"color\": \"#E5ECF6\", \"width\": 0.5}}, \"type\": \"bar\"}], \"barpolar\": [{\"marker\": {\"line\": {\"color\": \"#E5ECF6\", \"width\": 0.5}}, \"type\": \"barpolar\"}], \"carpet\": [{\"aaxis\": {\"endlinecolor\": \"#2a3f5f\", \"gridcolor\": \"white\", \"linecolor\": \"white\", \"minorgridcolor\": \"white\", \"startlinecolor\": \"#2a3f5f\"}, \"baxis\": {\"endlinecolor\": \"#2a3f5f\", \"gridcolor\": \"white\", \"linecolor\": \"white\", \"minorgridcolor\": \"white\", \"startlinecolor\": \"#2a3f5f\"}, \"type\": \"carpet\"}], \"choropleth\": [{\"colorbar\": {\"outlinewidth\": 0, \"ticks\": \"\"}, \"type\": \"choropleth\"}], \"contour\": [{\"colorbar\": {\"outlinewidth\": 0, \"ticks\": \"\"}, \"colorscale\": [[0.0, \"#0d0887\"], [0.1111111111111111, \"#46039f\"], [0.2222222222222222, \"#7201a8\"], [0.3333333333333333, \"#9c179e\"], [0.4444444444444444, \"#bd3786\"], [0.5555555555555556, \"#d8576b\"], [0.6666666666666666, \"#ed7953\"], [0.7777777777777778, \"#fb9f3a\"], [0.8888888888888888, \"#fdca26\"], [1.0, \"#f0f921\"]], \"type\": \"contour\"}], \"contourcarpet\": [{\"colorbar\": {\"outlinewidth\": 0, \"ticks\": \"\"}, \"type\": \"contourcarpet\"}], \"heatmap\": [{\"colorbar\": {\"outlinewidth\": 0, \"ticks\": \"\"}, \"colorscale\": [[0.0, \"#0d0887\"], [0.1111111111111111, \"#46039f\"], [0.2222222222222222, \"#7201a8\"], [0.3333333333333333, \"#9c179e\"], [0.4444444444444444, \"#bd3786\"], [0.5555555555555556, \"#d8576b\"], [0.6666666666666666, \"#ed7953\"], [0.7777777777777778, \"#fb9f3a\"], [0.8888888888888888, \"#fdca26\"], [1.0, \"#f0f921\"]], \"type\": \"heatmap\"}], \"heatmapgl\": [{\"colorbar\": {\"outlinewidth\": 0, \"ticks\": \"\"}, \"colorscale\": [[0.0, \"#0d0887\"], [0.1111111111111111, \"#46039f\"], [0.2222222222222222, \"#7201a8\"], [0.3333333333333333, \"#9c179e\"], [0.4444444444444444, \"#bd3786\"], [0.5555555555555556, \"#d8576b\"], [0.6666666666666666, \"#ed7953\"], [0.7777777777777778, \"#fb9f3a\"], [0.8888888888888888, \"#fdca26\"], [1.0, \"#f0f921\"]], \"type\": \"heatmapgl\"}], \"histogram\": [{\"marker\": {\"colorbar\": {\"outlinewidth\": 0, \"ticks\": \"\"}}, \"type\": \"histogram\"}], \"histogram2d\": [{\"colorbar\": {\"outlinewidth\": 0, \"ticks\": \"\"}, \"colorscale\": [[0.0, \"#0d0887\"], [0.1111111111111111, \"#46039f\"], [0.2222222222222222, \"#7201a8\"], [0.3333333333333333, \"#9c179e\"], [0.4444444444444444, \"#bd3786\"], [0.5555555555555556, \"#d8576b\"], [0.6666666666666666, \"#ed7953\"], [0.7777777777777778, \"#fb9f3a\"], [0.8888888888888888, \"#fdca26\"], [1.0, \"#f0f921\"]], \"type\": \"histogram2d\"}], \"histogram2dcontour\": [{\"colorbar\": {\"outlinewidth\": 0, \"ticks\": \"\"}, \"colorscale\": [[0.0, \"#0d0887\"], [0.1111111111111111, \"#46039f\"], [0.2222222222222222, \"#7201a8\"], [0.3333333333333333, \"#9c179e\"], [0.4444444444444444, \"#bd3786\"], [0.5555555555555556, \"#d8576b\"], [0.6666666666666666, \"#ed7953\"], [0.7777777777777778, \"#fb9f3a\"], [0.8888888888888888, \"#fdca26\"], [1.0, \"#f0f921\"]], \"type\": \"histogram2dcontour\"}], \"mesh3d\": [{\"colorbar\": {\"outlinewidth\": 0, \"ticks\": \"\"}, \"type\": \"mesh3d\"}], \"parcoords\": [{\"line\": {\"colorbar\": {\"outlinewidth\": 0, \"ticks\": \"\"}}, \"type\": \"parcoords\"}], \"pie\": [{\"automargin\": true, \"type\": \"pie\"}], \"scatter\": [{\"marker\": {\"colorbar\": {\"outlinewidth\": 0, \"ticks\": \"\"}}, \"type\": \"scatter\"}], \"scatter3d\": [{\"line\": {\"colorbar\": {\"outlinewidth\": 0, \"ticks\": \"\"}}, \"marker\": {\"colorbar\": {\"outlinewidth\": 0, \"ticks\": \"\"}}, \"type\": \"scatter3d\"}], \"scattercarpet\": [{\"marker\": {\"colorbar\": {\"outlinewidth\": 0, \"ticks\": \"\"}}, \"type\": \"scattercarpet\"}], \"scattergeo\": [{\"marker\": {\"colorbar\": {\"outlinewidth\": 0, \"ticks\": \"\"}}, \"type\": \"scattergeo\"}], \"scattergl\": [{\"marker\": {\"colorbar\": {\"outlinewidth\": 0, \"ticks\": \"\"}}, \"type\": \"scattergl\"}], \"scattermapbox\": [{\"marker\": {\"colorbar\": {\"outlinewidth\": 0, \"ticks\": \"\"}}, \"type\": \"scattermapbox\"}], \"scatterpolar\": [{\"marker\": {\"colorbar\": {\"outlinewidth\": 0, \"ticks\": \"\"}}, \"type\": \"scatterpolar\"}], \"scatterpolargl\": [{\"marker\": {\"colorbar\": {\"outlinewidth\": 0, \"ticks\": \"\"}}, \"type\": \"scatterpolargl\"}], \"scatterternary\": [{\"marker\": {\"colorbar\": {\"outlinewidth\": 0, \"ticks\": \"\"}}, \"type\": \"scatterternary\"}], \"surface\": [{\"colorbar\": {\"outlinewidth\": 0, \"ticks\": \"\"}, \"colorscale\": [[0.0, \"#0d0887\"], [0.1111111111111111, \"#46039f\"], [0.2222222222222222, \"#7201a8\"], [0.3333333333333333, \"#9c179e\"], [0.4444444444444444, \"#bd3786\"], [0.5555555555555556, \"#d8576b\"], [0.6666666666666666, \"#ed7953\"], [0.7777777777777778, \"#fb9f3a\"], [0.8888888888888888, \"#fdca26\"], [1.0, \"#f0f921\"]], \"type\": \"surface\"}], \"table\": [{\"cells\": {\"fill\": {\"color\": \"#EBF0F8\"}, \"line\": {\"color\": \"white\"}}, \"header\": {\"fill\": {\"color\": \"#C8D4E3\"}, \"line\": {\"color\": \"white\"}}, \"type\": \"table\"}]}, \"layout\": {\"annotationdefaults\": {\"arrowcolor\": \"#2a3f5f\", \"arrowhead\": 0, \"arrowwidth\": 1}, \"coloraxis\": {\"colorbar\": {\"outlinewidth\": 0, \"ticks\": \"\"}}, \"colorscale\": {\"diverging\": [[0, \"#8e0152\"], [0.1, \"#c51b7d\"], [0.2, \"#de77ae\"], [0.3, \"#f1b6da\"], [0.4, \"#fde0ef\"], [0.5, \"#f7f7f7\"], [0.6, \"#e6f5d0\"], [0.7, \"#b8e186\"], [0.8, \"#7fbc41\"], [0.9, \"#4d9221\"], [1, \"#276419\"]], \"sequential\": [[0.0, \"#0d0887\"], [0.1111111111111111, \"#46039f\"], [0.2222222222222222, \"#7201a8\"], [0.3333333333333333, \"#9c179e\"], [0.4444444444444444, \"#bd3786\"], [0.5555555555555556, \"#d8576b\"], [0.6666666666666666, \"#ed7953\"], [0.7777777777777778, \"#fb9f3a\"], [0.8888888888888888, \"#fdca26\"], [1.0, \"#f0f921\"]], \"sequentialminus\": [[0.0, \"#0d0887\"], [0.1111111111111111, \"#46039f\"], [0.2222222222222222, \"#7201a8\"], [0.3333333333333333, \"#9c179e\"], [0.4444444444444444, \"#bd3786\"], [0.5555555555555556, \"#d8576b\"], [0.6666666666666666, \"#ed7953\"], [0.7777777777777778, \"#fb9f3a\"], [0.8888888888888888, \"#fdca26\"], [1.0, \"#f0f921\"]]}, \"colorway\": [\"#636efa\", \"#EF553B\", \"#00cc96\", \"#ab63fa\", \"#FFA15A\", \"#19d3f3\", \"#FF6692\", \"#B6E880\", \"#FF97FF\", \"#FECB52\"], \"font\": {\"color\": \"#2a3f5f\"}, \"geo\": {\"bgcolor\": \"white\", \"lakecolor\": \"white\", \"landcolor\": \"#E5ECF6\", \"showlakes\": true, \"showland\": true, \"subunitcolor\": \"white\"}, \"hoverlabel\": {\"align\": \"left\"}, \"hovermode\": \"closest\", \"mapbox\": {\"style\": \"light\"}, \"paper_bgcolor\": \"white\", \"plot_bgcolor\": \"#E5ECF6\", \"polar\": {\"angularaxis\": {\"gridcolor\": \"white\", \"linecolor\": \"white\", \"ticks\": \"\"}, \"bgcolor\": \"#E5ECF6\", \"radialaxis\": {\"gridcolor\": \"white\", \"linecolor\": \"white\", \"ticks\": \"\"}}, \"scene\": {\"xaxis\": {\"backgroundcolor\": \"#E5ECF6\", \"gridcolor\": \"white\", \"gridwidth\": 2, \"linecolor\": \"white\", \"showbackground\": true, \"ticks\": \"\", \"zerolinecolor\": \"white\"}, \"yaxis\": {\"backgroundcolor\": \"#E5ECF6\", \"gridcolor\": \"white\", \"gridwidth\": 2, \"linecolor\": \"white\", \"showbackground\": true, \"ticks\": \"\", \"zerolinecolor\": \"white\"}, \"zaxis\": {\"backgroundcolor\": \"#E5ECF6\", \"gridcolor\": \"white\", \"gridwidth\": 2, \"linecolor\": \"white\", \"showbackground\": true, \"ticks\": \"\", \"zerolinecolor\": \"white\"}}, \"shapedefaults\": {\"line\": {\"color\": \"#2a3f5f\"}}, \"ternary\": {\"aaxis\": {\"gridcolor\": \"white\", \"linecolor\": \"white\", \"ticks\": \"\"}, \"baxis\": {\"gridcolor\": \"white\", \"linecolor\": \"white\", \"ticks\": \"\"}, \"bgcolor\": \"#E5ECF6\", \"caxis\": {\"gridcolor\": \"white\", \"linecolor\": \"white\", \"ticks\": \"\"}}, \"title\": {\"x\": 0.05}, \"xaxis\": {\"automargin\": true, \"gridcolor\": \"white\", \"linecolor\": \"white\", \"ticks\": \"\", \"title\": {\"standoff\": 15}, \"zerolinecolor\": \"white\", \"zerolinewidth\": 2}, \"yaxis\": {\"automargin\": true, \"gridcolor\": \"white\", \"linecolor\": \"white\", \"ticks\": \"\", \"title\": {\"standoff\": 15}, \"zerolinecolor\": \"white\", \"zerolinewidth\": 2}}}, \"xaxis\": {\"anchor\": \"y\", \"domain\": [0.0, 1.0], \"title\": {\"text\": \"Age\"}}, \"xaxis2\": {\"anchor\": \"y2\", \"domain\": [0.0, 1.0], \"matches\": \"x\", \"showgrid\": true, \"showticklabels\": false}, \"yaxis\": {\"anchor\": \"x\", \"domain\": [0.0, 0.7326], \"title\": {\"text\": \"count\"}}, \"yaxis2\": {\"anchor\": \"x2\", \"domain\": [0.7426, 1.0], \"matches\": \"y2\", \"showgrid\": false, \"showline\": false, \"showticklabels\": false, \"ticks\": \"\"}},\n",
              "                        {\"responsive\": true}\n",
              "                    ).then(function(){\n",
              "                            \n",
              "var gd = document.getElementById('d6c69076-a7e3-44e1-a840-ef4c6c9676f3');\n",
              "var x = new MutationObserver(function (mutations, observer) {{\n",
              "        var display = window.getComputedStyle(gd).display;\n",
              "        if (!display || display === 'none') {{\n",
              "            console.log([gd, 'removed!']);\n",
              "            Plotly.purge(gd);\n",
              "            observer.disconnect();\n",
              "        }}\n",
              "}});\n",
              "\n",
              "// Listen for the removal of the full notebook cells\n",
              "var notebookContainer = gd.closest('#notebook-container');\n",
              "if (notebookContainer) {{\n",
              "    x.observe(notebookContainer, {childList: true});\n",
              "}}\n",
              "\n",
              "// Listen for the clearing of the current output cell\n",
              "var outputEl = gd.closest('.output');\n",
              "if (outputEl) {{\n",
              "    x.observe(outputEl, {childList: true});\n",
              "}}\n",
              "\n",
              "                        })\n",
              "                };\n",
              "                \n",
              "            </script>\n",
              "        </div>\n",
              "</body>\n",
              "</html>"
            ]
          },
          "metadata": {
            "tags": []
          }
        }
      ]
    },
    {
      "cell_type": "code",
      "metadata": {
        "colab": {
          "base_uri": "https://localhost:8080/",
          "height": 617
        },
        "id": "HQSTH7t2gDgb",
        "outputId": "b7f2c25f-2ea7-4ac6-924b-9f4065c39035"
      },
      "source": [
        "plot_model(kmeans, plot = 'distribution',feature = 'Income')"
      ],
      "execution_count": 19,
      "outputs": [
        {
          "output_type": "display_data",
          "data": {
            "text/html": [
              "<html>\n",
              "<head><meta charset=\"utf-8\" /></head>\n",
              "<body>\n",
              "    <div>\n",
              "            <script src=\"https://cdnjs.cloudflare.com/ajax/libs/mathjax/2.7.5/MathJax.js?config=TeX-AMS-MML_SVG\"></script><script type=\"text/javascript\">if (window.MathJax) {MathJax.Hub.Config({SVG: {font: \"STIX-Web\"}});}</script>\n",
              "                <script type=\"text/javascript\">window.PlotlyConfig = {MathJaxConfig: 'local'};</script>\n",
              "        <script src=\"https://cdn.plot.ly/plotly-latest.min.js\"></script>    \n",
              "            <div id=\"6283efd4-c96b-42d9-9e39-600551141521\" class=\"plotly-graph-div\" style=\"height:600px; width:100%;\"></div>\n",
              "            <script type=\"text/javascript\">\n",
              "                \n",
              "                    window.PLOTLYENV=window.PLOTLYENV || {};\n",
              "                    \n",
              "                if (document.getElementById(\"6283efd4-c96b-42d9-9e39-600551141521\")) {\n",
              "                    Plotly.newPlot(\n",
              "                        '6283efd4-c96b-42d9-9e39-600551141521',\n",
              "                        [{\"alignmentgroup\": \"True\", \"bingroup\": \"x\", \"hoverlabel\": {\"namelength\": 0}, \"hovertemplate\": \"Cluster=Cluster 0<br>Income=%{x}<br>count=%{y}\", \"legendgroup\": \"Cluster=Cluster 0\", \"marker\": {\"color\": \"#636efa\", \"opacity\": 0.7}, \"name\": \"Cluster=Cluster 0\", \"offsetgroup\": \"Cluster=Cluster 0\", \"orientation\": \"v\", \"showlegend\": true, \"type\": \"histogram\", \"x\": [30267, 29082, 22484, 33490, 17672, 26940, 28409, 30178, 31994, 33610, 12038, 35051, 12000, 36639, 22288, 21250, 30148, 26351, 28401, 34634, 34001, 42018, 26092, 28352, 28779, 38923, 25252, 25566, 27384, 28777, 27168, 22602, 28802, 24520, 29750, 33259, 33311, 18162, 26882, 18812, 29492, 18937, 20719, 38201, 19510, 30794, 24221, 32494, 16950, 20681, 20292, 27179, 24578, 34425, 20440, 27544, 27038, 26127, 46977, 27599, 25701, 35877, 19202, 29204, 33251, 35998, 27169, 18459, 29610, 28497, 46910, 17388, 38042, 34802, 25237, 30178, 32708, 31096, 27169, 32915, 25733, 26355, 28585, 27771, 22286, 26424, 17946, 30812, 36031, 30492, 33170, 25886, 15695, 22008, 36032, 23042, 36463, 30721, 23206, 28408, 33188, 27271, 18724, 23322, 28165, 28727, 31481, 26917, 33636, 24370, 24376, 23400, 21652, 22782, 18244, 26665, 24105, 31366, 22672, 30481, 23854, 28160, 33550, 34524, 37503, 35297, 17851, 33303, 19934, 29029, 26045, 30102, 30756, 17760, 15671, 35484, 20704, 29909, 42592, 34384, 32421, 22616, 36991, 34529, 27705, 27693, 24391], \"xaxis\": \"x\", \"yaxis\": \"y\"}, {\"alignmentgroup\": \"True\", \"customdata\": [[89.0, 30267.0, 0.2893100658351509, 14386.351879589123, \"Cluster 0\"], [91.0, 29082.0, 0.28248852137129143, 18794.488169074688, \"Cluster 0\"], [92.0, 22484.0, 0.3317732623948493, 18615.632589788456, \"Cluster 0\"], [90.0, 33490.0, 0.4199085281737912, 17091.904228934392, \"Cluster 0\"], [93.0, 17672.0, 0.3032923688871533, 18516.451810726718, \"Cluster 0\"], [89.0, 26940.0, 0.3260051328059917, 16555.159377159824, \"Cluster 0\"], [88.0, 28409.0, 0.30565353367521064, 17326.175608364214, \"Cluster 0\"], [87.0, 30178.0, 0.2793159778940049, 16123.070750832, \"Cluster 0\"], [86.0, 31994.0, 0.24947694035510065, 18210.088099070614, \"Cluster 0\"], [82.0, 33610.0, 0.3012532342412973, 17755.664940228176, \"Cluster 0\"], [91.0, 12038.0, 0.3498032558856572, 16464.960504438823, \"Cluster 0\"], [88.0, 35051.0, 0.3860515062876169, 17593.24679258195, \"Cluster 0\"], [87.0, 12000.0, 0.3429910076112659, 16180.26525174153, \"Cluster 0\"], [91.0, 36639.0, 0.3261988874784867, 16275.703341192586, \"Cluster 0\"], [90.0, 22288.0, 0.2713268321051208, 18434.099152391347, \"Cluster 0\"], [85.0, 21250.0, 0.3104101151420252, 16033.971166673777, \"Cluster 0\"], [91.0, 30148.0, 0.2773889467565771, 15324.287405101717, \"Cluster 0\"], [88.0, 26351.0, 0.3041682062164747, 14035.917553542351, \"Cluster 0\"], [85.0, 28401.0, 0.3694371368158697, 15990.49413056604, \"Cluster 0\"], [85.0, 34634.0, 0.3690001696241634, 16719.815875018445, \"Cluster 0\"], [88.0, 34001.0, 0.33756932388752803, 15530.934134298665, \"Cluster 0\"], [84.0, 42018.0, 0.29799360218993026, 16148.370454036614, \"Cluster 0\"], [88.0, 26092.0, 0.3128732065230775, 17105.79392615357, \"Cluster 0\"], [94.0, 28352.0, 0.37687573531685575, 16798.886114738052, \"Cluster 0\"], [86.0, 28779.0, 0.3365233301816881, 16047.268331461928, \"Cluster 0\"], [94.0, 38923.0, 0.33022601809734325, 16971.181554867213, \"Cluster 0\"], [89.0, 25252.0, 0.32176522093208865, 16539.364186086335, \"Cluster 0\"], [87.0, 25566.0, 0.3167603729756968, 15188.058749407255, \"Cluster 0\"], [84.0, 27384.0, 0.31364671699548896, 16734.672754073246, \"Cluster 0\"], [91.0, 28777.0, 0.324193555035782, 17808.2662415687, \"Cluster 0\"], [91.0, 27168.0, 0.3322388165540652, 15893.729773516614, \"Cluster 0\"], [88.0, 22602.0, 0.35674482887974684, 16740.343496726702, \"Cluster 0\"], [88.0, 28802.0, 0.4083878319987073, 16293.038332542192, \"Cluster 0\"], [89.0, 24520.0, 0.44383270684567067, 13556.9358834699, \"Cluster 0\"], [91.0, 29750.0, 0.2884703320713124, 19201.11991627576, \"Cluster 0\"], [90.0, 33259.0, 0.377571058498228, 15315.028503741696, \"Cluster 0\"], [89.0, 33311.0, 0.3761469685086391, 17093.06995548225, \"Cluster 0\"], [83.0, 18162.0, 0.3013734548863509, 16029.469213914268, \"Cluster 0\"], [83.0, 26882.0, 0.34797963237384105, 17775.22817123954, \"Cluster 0\"], [86.0, 18812.0, 0.34154576038705153, 16157.734142403422, \"Cluster 0\"], [84.0, 29492.0, 0.3336031402694437, 17954.09505703969, \"Cluster 0\"], [94.0, 18937.0, 0.3470950600753079, 17739.776098377628, \"Cluster 0\"], [94.0, 20719.0, 0.336402269797664, 16281.832273239006, \"Cluster 0\"], [79.0, 38201.0, 0.3697828881534748, 16393.395697309446, \"Cluster 0\"], [88.0, 19510.0, 0.3167510258154691, 16529.20080632274, \"Cluster 0\"], [85.0, 30794.0, 0.2862292747117072, 17096.39150937826, \"Cluster 0\"], [82.0, 24221.0, 0.4735496605323542, 16251.759445212669, \"Cluster 0\"], [82.0, 32494.0, 0.3273154026360584, 16799.444266662453, \"Cluster 0\"], [91.0, 16950.0, 0.32300404344763, 17172.609400509067, \"Cluster 0\"], [91.0, 20681.0, 0.3546791690549572, 18401.08844474873, \"Cluster 0\"], [89.0, 20292.0, 0.3121481952107594, 16023.4456584523, \"Cluster 0\"], [84.0, 27179.0, 0.3474234168306904, 15612.628547766899, \"Cluster 0\"], [87.0, 24578.0, 0.37616545875063534, 17789.247521813828, \"Cluster 0\"], [81.0, 34425.0, 0.2726097792323641, 16262.623790655764, \"Cluster 0\"], [93.0, 20440.0, 0.2975730342292497, 17406.074017844054, \"Cluster 0\"], [84.0, 27544.0, 0.2309337663207005, 18207.36169648481, \"Cluster 0\"], [95.0, 27038.0, 0.3313520070109344, 18126.577451151075, \"Cluster 0\"], [89.0, 26127.0, 0.3044743722681633, 17194.828018777476, \"Cluster 0\"], [86.0, 46977.0, 0.2827283910152334, 15628.957075805025, \"Cluster 0\"], [85.0, 27599.0, 0.2819950483303406, 13470.97060503703, \"Cluster 0\"], [87.0, 25701.0, 0.3152205738281265, 15738.859295516553, \"Cluster 0\"], [92.0, 35877.0, 0.3668917159124752, 17287.907016982324, \"Cluster 0\"], [89.0, 19202.0, 0.3819877440174351, 16626.22236147723, \"Cluster 0\"], [85.0, 29204.0, 0.3254914498834959, 16918.903460369133, \"Cluster 0\"], [88.0, 33251.0, 0.3043913649608802, 18868.24161249696, \"Cluster 0\"], [86.0, 35998.0, 0.3216356471662456, 20000.0, \"Cluster 0\"], [94.0, 27169.0, 0.3141730453838618, 15061.776215142369, \"Cluster 0\"], [87.0, 18459.0, 0.2645499059687874, 15637.59765457844, \"Cluster 0\"], [85.0, 29610.0, 0.3181352453742131, 18475.487468080933, \"Cluster 0\"], [83.0, 28497.0, 0.3938023931664613, 15510.112981164848, \"Cluster 0\"], [87.0, 46910.0, 0.3085616998317755, 14789.14847617646, \"Cluster 0\"], [88.0, 17388.0, 0.4661894446652393, 16698.6210372462, \"Cluster 0\"], [84.0, 38042.0, 0.3660858718547989, 17465.856285855403, \"Cluster 0\"], [85.0, 34802.0, 0.2987969233586417, 16450.003270402787, \"Cluster 0\"], [91.0, 25237.0, 0.3535018242414266, 17292.733103848248, \"Cluster 0\"], [90.0, 30178.0, 0.2823512821567113, 16182.8384364088, \"Cluster 0\"], [88.0, 32708.0, 0.3682153159958089, 16711.0679804242, \"Cluster 0\"], [89.0, 31096.0, 0.2785878455435617, 17736.94259966666, \"Cluster 0\"], [88.0, 27169.0, 0.28005950486141434, 15260.635546195437, \"Cluster 0\"], [92.0, 32915.0, 0.3885749195868542, 16694.706839244012, \"Cluster 0\"], [90.0, 25733.0, 0.3385629680709827, 17631.56888411863, \"Cluster 0\"], [85.0, 26355.0, 0.34234066669498114, 17971.19363998381, \"Cluster 0\"], [88.0, 28585.0, 0.3977396663840213, 16725.841854363774, \"Cluster 0\"], [94.0, 27771.0, 0.3025032231546657, 17303.957194969433, \"Cluster 0\"], [84.0, 22286.0, 0.3955062459001081, 17886.53737311577, \"Cluster 0\"], [91.0, 26424.0, 0.3193886529047028, 16501.46877669979, \"Cluster 0\"], [88.0, 17946.0, 0.26964363039994416, 16715.160017840968, \"Cluster 0\"], [87.0, 30812.0, 0.3144631516753479, 15238.118997598334, \"Cluster 0\"], [86.0, 36031.0, 0.2401766350783482, 16945.326244896307, \"Cluster 0\"], [83.0, 30492.0, 0.3016314685914632, 15365.85846293255, \"Cluster 0\"], [83.0, 33170.0, 0.24107774427464634, 16620.010473689304, \"Cluster 0\"], [91.0, 25886.0, 0.30175376758370465, 17266.045729118025, \"Cluster 0\"], [86.0, 15695.0, 0.25717496647489363, 17366.186263516567, \"Cluster 0\"], [89.0, 22008.0, 0.3819060693389532, 16458.398097731253, \"Cluster 0\"], [92.0, 36032.0, 0.3369683066109672, 17348.5998812573, \"Cluster 0\"], [87.0, 23042.0, 0.3663120107544869, 18149.035872923057, \"Cluster 0\"], [84.0, 36463.0, 0.3536209572557781, 16563.372591147832, \"Cluster 0\"], [83.0, 30721.0, 0.3311418077630257, 17705.99238527814, \"Cluster 0\"], [83.0, 23206.0, 0.3212403632065312, 16870.672003783384, \"Cluster 0\"], [85.0, 28408.0, 0.3580738593579665, 15063.335797441836, \"Cluster 0\"], [90.0, 33188.0, 0.24881006879023135, 15866.913937696345, \"Cluster 0\"], [97.0, 27271.0, 0.28392289527040304, 14928.165597390327, \"Cluster 0\"], [92.0, 18724.0, 0.3278623148176303, 15341.381109594675, \"Cluster 0\"], [87.0, 23322.0, 0.30682119734644964, 16131.267659393414, \"Cluster 0\"], [91.0, 28165.0, 0.3036929225036061, 17460.179350212424, \"Cluster 0\"], [83.0, 28727.0, 0.3082630418510537, 18205.33626089001, \"Cluster 0\"], [87.0, 31481.0, 0.317423970601333, 16180.68808203422, \"Cluster 0\"], [91.0, 26917.0, 0.37671353045834655, 17986.618644605885, \"Cluster 0\"], [82.0, 33636.0, 0.3717829785401914, 17866.83359752812, \"Cluster 0\"], [91.0, 24370.0, 0.2963285713632805, 16141.048981383728, \"Cluster 0\"], [90.0, 24376.0, 0.2812794569155436, 15134.994226396464, \"Cluster 0\"], [86.0, 23400.0, 0.27803553844702666, 15215.28126373834, \"Cluster 0\"], [85.0, 21652.0, 0.3184561372216806, 14175.16988549895, \"Cluster 0\"], [90.0, 22782.0, 0.3563068710287742, 15924.071707885845, \"Cluster 0\"], [84.0, 18244.0, 0.29266337446440194, 17815.348406878897, \"Cluster 0\"], [87.0, 26665.0, 0.4021456613889217, 17376.914743318182, \"Cluster 0\"], [84.0, 24105.0, 0.2718090229374729, 16524.902538052145, \"Cluster 0\"], [88.0, 31366.0, 0.3796208481334848, 16079.622699815933, \"Cluster 0\"], [91.0, 22672.0, 0.2710645345158169, 15407.646761130874, \"Cluster 0\"], [84.0, 30481.0, 0.3970228936031003, 16837.205964813103, \"Cluster 0\"], [94.0, 23854.0, 0.3144466826182581, 16828.410118749016, \"Cluster 0\"], [89.0, 28160.0, 0.3388488510290433, 15607.061781887898, \"Cluster 0\"], [92.0, 33550.0, 0.3685156285793065, 17106.32591058189, \"Cluster 0\"], [89.0, 34524.0, 0.348118273264174, 14051.256515312789, \"Cluster 0\"], [90.0, 37503.0, 0.35778831446458764, 17258.57497274541, \"Cluster 0\"], [90.0, 35297.0, 0.35514901905663643, 16091.401954058958, \"Cluster 0\"], [88.0, 17851.0, 0.2898659849627828, 17472.470686173863, \"Cluster 0\"], [88.0, 33303.0, 0.39971568554521497, 15232.598068845287, \"Cluster 0\"], [93.0, 19934.0, 0.20314023979537812, 17969.693768505334, \"Cluster 0\"], [90.0, 29029.0, 0.30375897133462404, 15592.991530526488, \"Cluster 0\"], [87.0, 26045.0, 0.3752921226023748, 15903.558359374925, \"Cluster 0\"], [87.0, 30102.0, 0.3903905943444749, 16330.081190027211, \"Cluster 0\"], [91.0, 30756.0, 0.30369803009825364, 15492.004711465304, \"Cluster 0\"], [87.0, 17760.0, 0.34877754843050746, 16869.507130301474, \"Cluster 0\"], [87.0, 15671.0, 0.3507250914944152, 14326.601120246103, \"Cluster 0\"], [92.0, 35484.0, 0.3970636039704499, 17324.045112814925, \"Cluster 0\"], [84.0, 20704.0, 0.3794963151514172, 16816.911895743782, \"Cluster 0\"], [87.0, 29909.0, 0.3421516318130469, 18142.232746738577, \"Cluster 0\"], [87.0, 42592.0, 0.35528968203827593, 18086.287157859304, \"Cluster 0\"], [83.0, 34384.0, 0.3247186821733417, 14783.379085794499, \"Cluster 0\"], [79.0, 32421.0, 0.3032762059432743, 15319.467662272391, \"Cluster 0\"], [92.0, 22616.0, 0.3228506824321553, 17275.66131398456, \"Cluster 0\"], [91.0, 36991.0, 0.2685979050949868, 19047.77233878285, \"Cluster 0\"], [83.0, 34529.0, 0.3172075114569807, 16517.208746949746, \"Cluster 0\"], [86.0, 27705.0, 0.3293769514872405, 17130.85610211788, \"Cluster 0\"], [84.0, 27693.0, 0.3670629731870412, 17879.558905551898, \"Cluster 0\"], [82.0, 24391.0, 0.27610134635529604, 17053.03010738692, \"Cluster 0\"]], \"hoverlabel\": {\"namelength\": 0}, \"hovertemplate\": \"Cluster=%{customdata[4]}<br>Income=%{customdata[1]}<br>Age=%{customdata[0]}<br>SpendingScore=%{customdata[2]}<br>Savings=%{customdata[3]}\", \"legendgroup\": \"Cluster=Cluster 0\", \"marker\": {\"color\": \"#636efa\"}, \"name\": \"Cluster=Cluster 0\", \"notched\": true, \"offsetgroup\": \"Cluster=Cluster 0\", \"showlegend\": false, \"type\": \"box\", \"x\": [30267, 29082, 22484, 33490, 17672, 26940, 28409, 30178, 31994, 33610, 12038, 35051, 12000, 36639, 22288, 21250, 30148, 26351, 28401, 34634, 34001, 42018, 26092, 28352, 28779, 38923, 25252, 25566, 27384, 28777, 27168, 22602, 28802, 24520, 29750, 33259, 33311, 18162, 26882, 18812, 29492, 18937, 20719, 38201, 19510, 30794, 24221, 32494, 16950, 20681, 20292, 27179, 24578, 34425, 20440, 27544, 27038, 26127, 46977, 27599, 25701, 35877, 19202, 29204, 33251, 35998, 27169, 18459, 29610, 28497, 46910, 17388, 38042, 34802, 25237, 30178, 32708, 31096, 27169, 32915, 25733, 26355, 28585, 27771, 22286, 26424, 17946, 30812, 36031, 30492, 33170, 25886, 15695, 22008, 36032, 23042, 36463, 30721, 23206, 28408, 33188, 27271, 18724, 23322, 28165, 28727, 31481, 26917, 33636, 24370, 24376, 23400, 21652, 22782, 18244, 26665, 24105, 31366, 22672, 30481, 23854, 28160, 33550, 34524, 37503, 35297, 17851, 33303, 19934, 29029, 26045, 30102, 30756, 17760, 15671, 35484, 20704, 29909, 42592, 34384, 32421, 22616, 36991, 34529, 27705, 27693, 24391], \"xaxis\": \"x2\", \"yaxis\": \"y2\"}, {\"alignmentgroup\": \"True\", \"bingroup\": \"x\", \"hoverlabel\": {\"namelength\": 0}, \"hovertemplate\": \"Cluster=Cluster 1<br>Income=%{x}<br>count=%{y}\", \"legendgroup\": \"Cluster=Cluster 1\", \"marker\": {\"color\": \"#EF553B\", \"opacity\": 0.7}, \"name\": \"Cluster=Cluster 1\", \"offsetgroup\": \"Cluster=Cluster 1\", \"orientation\": \"v\", \"showlegend\": true, \"type\": \"histogram\", \"x\": [70430, 69655, 71229, 69408, 73495, 65942, 73895, 75078, 62747, 75505, 59243, 77559, 77052, 70272, 65608, 76573, 71672, 69460, 77648, 74282, 70369, 75495, 71171, 76410, 56875, 78801, 67731, 67372, 73675, 68663, 78837, 72055, 67370, 80431, 72086, 82199, 80248, 64768, 68842, 76831, 78611, 68944, 69247, 78702, 73516, 73596, 90422, 79794, 70054, 80914, 65914, 74460, 73350, 64803, 56321, 67401, 70676, 70580, 72027, 65313, 76052, 75599, 68038, 72060, 63476, 78992, 82343, 78078, 77978, 69326, 69115, 67346, 74430, 62886, 80876, 73057, 65647, 64331, 77769, 76594, 70798, 86484, 85761, 70259, 79969, 69879, 73480, 72571, 64866, 72815, 71692, 63596, 62650, 71436, 65736, 70663, 80705, 84386, 75757, 71050, 68698, 67781, 66017, 80093, 67988, 88361, 82526, 74576, 72588, 81799, 74751, 74373, 76500, 71933, 71621, 76667, 78761, 76955, 65700, 69738, 63866, 74117, 63846, 70012, 75332, 73245, 74356, 62117, 69001, 60493, 69741, 71056, 74340, 79470, 77101, 76364, 74014, 67030, 68463, 74996, 65340, 60059, 78413, 69698, 68279, 76057, 67491, 83351, 71033, 71302, 80278, 67274, 65054, 69391, 78635, 86283, 69849], \"xaxis\": \"x\", \"yaxis\": \"y\"}, {\"alignmentgroup\": \"True\", \"customdata\": [[65.0, 70430.0, 0.6969942581249643, 6971.164886262858, \"Cluster 1\"], [57.0, 69655.0, 0.6748906779058501, 5889.831167170132, \"Cluster 1\"], [65.0, 71229.0, 0.7878897626638453, 9024.337460598084, \"Cluster 1\"], [59.0, 69408.0, 0.8799059975919311, 6491.771149967824, \"Cluster 1\"], [61.0, 73495.0, 0.7727563051023116, 9288.189785744367, \"Cluster 1\"], [60.0, 65942.0, 0.8005783854654352, 5253.2650066086435, \"Cluster 1\"], [55.0, 73895.0, 0.7471254610291731, 5563.906948891499, \"Cluster 1\"], [63.0, 75078.0, 0.7831591503681397, 7468.8510795028005, \"Cluster 1\"], [62.0, 62747.0, 0.7705945596869115, 5852.326242628098, \"Cluster 1\"], [59.0, 75505.0, 0.7682786576081454, 5006.528691371692, \"Cluster 1\"], [67.0, 59243.0, 0.7436599996604758, 5446.557472721708, \"Cluster 1\"], [58.0, 77559.0, 0.7122963723872477, 5742.524488088997, \"Cluster 1\"], [66.0, 77052.0, 0.7072624347132287, 6296.417311227459, \"Cluster 1\"], [58.0, 70272.0, 0.8229596005059499, 5290.087044285296, \"Cluster 1\"], [57.0, 65608.0, 0.7662313009024402, 6904.318224287022, \"Cluster 1\"], [57.0, 76573.0, 0.8405990704520518, 6225.3760824332285, \"Cluster 1\"], [66.0, 71672.0, 0.7538892176112998, 7387.835437850721, \"Cluster 1\"], [59.0, 69460.0, 0.7527238381125997, 6101.372146632121, \"Cluster 1\"], [68.0, 77648.0, 0.7965446939835457, 6190.864082788901, \"Cluster 1\"], [61.0, 74282.0, 0.6922364738673796, 7286.754751068365, \"Cluster 1\"], [58.0, 70369.0, 0.9045204855363144, 7461.567502649429, \"Cluster 1\"], [59.0, 75495.0, 0.7945029052198103, 6702.9519263157545, \"Cluster 1\"], [61.0, 71171.0, 0.7210804930623951, 6457.790641224788, \"Cluster 1\"], [64.0, 76410.0, 0.7756041848937439, 6135.308197117819, \"Cluster 1\"], [63.0, 56875.0, 0.7622805817657738, 7837.233619544163, \"Cluster 1\"], [64.0, 78801.0, 0.7403674891662984, 6420.9440712002615, \"Cluster 1\"], [62.0, 67731.0, 0.8191699488980382, 5956.555677017446, \"Cluster 1\"], [61.0, 67372.0, 0.7340673095092516, 6618.549336247915, \"Cluster 1\"], [62.0, 73675.0, 0.7966191667425384, 4688.657157271711, \"Cluster 1\"], [67.0, 68663.0, 0.7738336308243648, 7451.9940140258705, \"Cluster 1\"], [61.0, 78837.0, 0.7459489746307642, 6811.303235949058, \"Cluster 1\"], [57.0, 72055.0, 0.7549723463413129, 6544.847498075687, \"Cluster 1\"], [63.0, 67370.0, 0.8999405530923943, 5985.077029740457, \"Cluster 1\"], [56.0, 80431.0, 0.7594315957853627, 8150.55743948241, \"Cluster 1\"], [51.0, 72086.0, 0.7911147257599156, 6732.096068632267, \"Cluster 1\"], [59.0, 82199.0, 0.8035145098215853, 5880.814834306347, \"Cluster 1\"], [58.0, 80248.0, 0.7249557054919687, 7641.16038162423, \"Cluster 1\"], [55.0, 64768.0, 0.7332568512323248, 6486.353872691102, \"Cluster 1\"], [61.0, 68842.0, 0.7544065421993587, 4077.6586565080543, \"Cluster 1\"], [55.0, 76831.0, 0.7421137340413241, 7806.398750466399, \"Cluster 1\"], [58.0, 78611.0, 0.910416682938019, 7665.884294519009, \"Cluster 1\"], [68.0, 68944.0, 0.7455674638713768, 6828.709702363695, \"Cluster 1\"], [58.0, 69247.0, 0.7237211912021976, 8715.67957429646, \"Cluster 1\"], [67.0, 78702.0, 0.7632736815688779, 5030.364838791924, \"Cluster 1\"], [56.0, 73516.0, 0.806499154055182, 7696.832373798451, \"Cluster 1\"], [59.0, 73596.0, 0.8567042188430352, 8281.718740320448, \"Cluster 1\"], [59.0, 90422.0, 0.8062102206275251, 6746.281083820821, \"Cluster 1\"], [57.0, 79794.0, 0.82240840085096, 5893.975284946178, \"Cluster 1\"], [60.0, 70054.0, 0.7143393610830643, 6609.918507412548, \"Cluster 1\"], [67.0, 80914.0, 0.8196642592960329, 6833.507136694643, \"Cluster 1\"], [61.0, 65914.0, 0.7781022309770123, 6406.8771303520325, \"Cluster 1\"], [60.0, 74460.0, 0.7545393292392412, 7567.6476522203675, \"Cluster 1\"], [59.0, 73350.0, 0.6797735912164855, 6710.5740183754415, \"Cluster 1\"], [57.0, 64803.0, 0.7285849289103553, 6255.552641057161, \"Cluster 1\"], [59.0, 56321.0, 0.806565925193039, 6129.288986032587, \"Cluster 1\"], [59.0, 67401.0, 0.7114339697492305, 6529.586309935448, \"Cluster 1\"], [58.0, 70676.0, 0.7640283880376706, 7664.415650964042, \"Cluster 1\"], [63.0, 70580.0, 0.7665090449070475, 7262.108723452133, \"Cluster 1\"], [61.0, 72027.0, 0.7623249166772856, 6926.123598416466, \"Cluster 1\"], [56.0, 65313.0, 0.7546029986455771, 5574.2436767070985, \"Cluster 1\"], [58.0, 76052.0, 0.7215881830727278, 6681.9843863770275, \"Cluster 1\"], [56.0, 75599.0, 0.7737370986430746, 6799.625271842961, \"Cluster 1\"], [59.0, 68038.0, 0.8014869916095588, 7719.283632687176, \"Cluster 1\"], [61.0, 72060.0, 0.8334590233217959, 7924.6411381540165, \"Cluster 1\"], [60.0, 63476.0, 0.7519000198498227, 7543.542801728056, \"Cluster 1\"], [56.0, 78992.0, 0.8122757021441627, 7285.18043685174, \"Cluster 1\"], [63.0, 82343.0, 0.7323186222078123, 8090.706739679063, \"Cluster 1\"], [58.0, 78078.0, 0.7837795500405715, 6483.049643745244, \"Cluster 1\"], [59.0, 77978.0, 0.7188952048526104, 8316.31110205122, \"Cluster 1\"], [62.0, 69326.0, 0.7980123380544829, 7003.095703317772, \"Cluster 1\"], [59.0, 69115.0, 0.7598834338453199, 5997.690199856996, \"Cluster 1\"], [59.0, 67346.0, 0.7251568963089163, 8857.849116294088, \"Cluster 1\"], [65.0, 74430.0, 0.7517741617758547, 7145.251128357927, \"Cluster 1\"], [64.0, 62886.0, 0.7480162682831766, 8302.588638401632, \"Cluster 1\"], [59.0, 80876.0, 0.6573140731575163, 7232.825142650888, \"Cluster 1\"], [59.0, 73057.0, 0.8302949092020397, 7819.393215767329, \"Cluster 1\"], [61.0, 65647.0, 0.7174899773841509, 7497.231607003855, \"Cluster 1\"], [64.0, 64331.0, 0.7571277508774099, 5815.660096290825, \"Cluster 1\"], [58.0, 77769.0, 0.7913287771988531, 6559.8299230048315, \"Cluster 1\"], [57.0, 76594.0, 0.7906578552491133, 6584.654681310476, \"Cluster 1\"], [58.0, 70798.0, 0.7535283874245788, 5330.73989989779, \"Cluster 1\"], [56.0, 86484.0, 0.7321233689266612, 8777.496176839057, \"Cluster 1\"], [63.0, 85761.0, 0.8005979105724924, 7175.090218501247, \"Cluster 1\"], [58.0, 70259.0, 0.7697129169369328, 7101.674514204499, \"Cluster 1\"], [60.0, 79969.0, 0.812104912914789, 4879.334872972362, \"Cluster 1\"], [58.0, 69879.0, 0.7209986871945887, 6669.033518051874, \"Cluster 1\"], [62.0, 73480.0, 0.7391949797931453, 6277.675150528886, \"Cluster 1\"], [66.0, 72571.0, 0.8115483367376335, 6509.41150610998, \"Cluster 1\"], [66.0, 64866.0, 0.7665941891374249, 5037.899138583947, \"Cluster 1\"], [63.0, 72815.0, 0.8200359737627068, 5504.385543801038, \"Cluster 1\"], [64.0, 71692.0, 0.8426521453196145, 7002.9765543033545, \"Cluster 1\"], [62.0, 63596.0, 0.7453271943508174, 6142.201619345869, \"Cluster 1\"], [62.0, 62650.0, 0.766572365027147, 7533.673609198676, \"Cluster 1\"], [60.0, 71436.0, 0.8320590985324969, 8557.86012627717, \"Cluster 1\"], [65.0, 65736.0, 0.7785687658100923, 6387.2196944302905, \"Cluster 1\"], [60.0, 70663.0, 0.7153396972946453, 7557.937593550947, \"Cluster 1\"], [63.0, 80705.0, 0.7626699527314824, 5154.330634621805, \"Cluster 1\"], [56.0, 84386.0, 0.7849450699605269, 7270.41953428175, \"Cluster 1\"], [58.0, 75757.0, 0.8097944168848634, 7390.5772934370325, \"Cluster 1\"], [62.0, 71050.0, 0.7353568506694507, 6988.197368273879, \"Cluster 1\"], [56.0, 68698.0, 0.7162678503859907, 7070.967006969191, \"Cluster 1\"], [59.0, 67781.0, 0.7225483489421433, 6701.527664794541, \"Cluster 1\"], [65.0, 66017.0, 0.7861892594159869, 6159.662935925753, \"Cluster 1\"], [62.0, 80093.0, 0.6909167811268888, 6756.749072752337, \"Cluster 1\"], [59.0, 67988.0, 0.8114707012366371, 7255.903114334659, \"Cluster 1\"], [64.0, 88361.0, 0.7745562258521365, 7240.759687480846, \"Cluster 1\"], [66.0, 82526.0, 0.7696800667721441, 6205.662650191712, \"Cluster 1\"], [59.0, 74576.0, 0.7812961239072382, 10547.775367695343, \"Cluster 1\"], [59.0, 72588.0, 0.8017156979122673, 6300.8437570950255, \"Cluster 1\"], [59.0, 81799.0, 0.7910820467274178, 5417.661426197439, \"Cluster 1\"], [62.0, 74751.0, 0.7026569520102857, 9258.99296503407, \"Cluster 1\"], [59.0, 74373.0, 0.7656795619984281, 7346.334503537976, \"Cluster 1\"], [54.0, 76500.0, 0.7851978501165687, 6878.884248553974, \"Cluster 1\"], [61.0, 71933.0, 0.8441067966472876, 8022.208541100706, \"Cluster 1\"], [55.0, 71621.0, 0.7533426836166189, 7780.589913955977, \"Cluster 1\"], [53.0, 76667.0, 0.7600576501232099, 5168.225474983632, \"Cluster 1\"], [55.0, 78761.0, 0.8271741985123882, 8376.74947779104, \"Cluster 1\"], [61.0, 76955.0, 0.7771175646074471, 7467.036702314494, \"Cluster 1\"], [59.0, 65700.0, 0.8114711740198254, 6932.487932327357, \"Cluster 1\"], [59.0, 69738.0, 0.7421121217155721, 7151.650866065035, \"Cluster 1\"], [56.0, 63866.0, 0.7618879582513512, 7762.255066659051, \"Cluster 1\"], [61.0, 74117.0, 0.7702140596767938, 5103.609230428381, \"Cluster 1\"], [61.0, 63846.0, 0.8278622414878984, 7283.504772674617, \"Cluster 1\"], [60.0, 70012.0, 0.7944610508231513, 7263.242447729872, \"Cluster 1\"], [57.0, 75332.0, 0.7215024376129366, 6845.056822204781, \"Cluster 1\"], [61.0, 73245.0, 0.811160373170345, 7413.784487271215, \"Cluster 1\"], [55.0, 74356.0, 0.7998269700906482, 6484.630737953294, \"Cluster 1\"], [53.0, 62117.0, 0.7331388477995737, 7500.452413594261, \"Cluster 1\"], [61.0, 69001.0, 0.8216687745413516, 5074.12121172259, \"Cluster 1\"], [64.0, 60493.0, 0.7680563479442216, 7708.112609459162, \"Cluster 1\"], [62.0, 69741.0, 0.8462196017575947, 5781.658046536959, \"Cluster 1\"], [55.0, 71056.0, 0.7565897119333272, 7464.163256732262, \"Cluster 1\"], [58.0, 74340.0, 0.7351650452097145, 7259.540921675672, \"Cluster 1\"], [57.0, 79470.0, 0.7734352958312237, 6773.049089777121, \"Cluster 1\"], [58.0, 77101.0, 0.7667195837506832, 8148.49184821177, \"Cluster 1\"], [64.0, 76364.0, 0.6993887663543108, 5772.1171358549755, \"Cluster 1\"], [57.0, 74014.0, 0.787378081122989, 5783.846928267082, \"Cluster 1\"], [62.0, 67030.0, 0.7467384433463651, 6740.765182071713, \"Cluster 1\"], [56.0, 68463.0, 0.8157116929554062, 8995.180087953215, \"Cluster 1\"], [53.0, 74996.0, 0.7387310917031671, 7821.447803561914, \"Cluster 1\"], [60.0, 65340.0, 0.7316484923943142, 8354.196507802662, \"Cluster 1\"], [56.0, 60059.0, 0.7275840223364691, 7166.858605155183, \"Cluster 1\"], [62.0, 78413.0, 0.7907090657200839, 6961.2041923680945, \"Cluster 1\"], [61.0, 69698.0, 0.7416839698444291, 8777.077471725162, \"Cluster 1\"], [62.0, 68279.0, 0.7196850779929922, 7028.675510384212, \"Cluster 1\"], [55.0, 76057.0, 0.8778279844516369, 6132.898204816149, \"Cluster 1\"], [60.0, 67491.0, 0.84661848692906, 7180.713788260257, \"Cluster 1\"], [58.0, 83351.0, 0.8406978038692191, 6673.909711092488, \"Cluster 1\"], [61.0, 71033.0, 0.8380950724014863, 9456.876962701137, \"Cluster 1\"], [59.0, 71302.0, 0.7020090041734849, 6595.726010227134, \"Cluster 1\"], [58.0, 80278.0, 0.8233589910091558, 6335.97831998802, \"Cluster 1\"], [56.0, 67274.0, 0.7798516671891869, 6652.391024403152, \"Cluster 1\"], [60.0, 65054.0, 0.7086131723969877, 5417.237293788358, \"Cluster 1\"], [62.0, 69391.0, 0.7921059737158539, 6518.283467894094, \"Cluster 1\"], [58.0, 78635.0, 0.7864400503429185, 7162.739043055361, \"Cluster 1\"], [64.0, 86283.0, 0.7568019251873561, 6852.5548669147165, \"Cluster 1\"], [63.0, 69849.0, 0.7403870808915297, 7670.6909659413295, \"Cluster 1\"]], \"hoverlabel\": {\"namelength\": 0}, \"hovertemplate\": \"Cluster=%{customdata[4]}<br>Income=%{customdata[1]}<br>Age=%{customdata[0]}<br>SpendingScore=%{customdata[2]}<br>Savings=%{customdata[3]}\", \"legendgroup\": \"Cluster=Cluster 1\", \"marker\": {\"color\": \"#EF553B\"}, \"name\": \"Cluster=Cluster 1\", \"notched\": true, \"offsetgroup\": \"Cluster=Cluster 1\", \"showlegend\": false, \"type\": \"box\", \"x\": [70430, 69655, 71229, 69408, 73495, 65942, 73895, 75078, 62747, 75505, 59243, 77559, 77052, 70272, 65608, 76573, 71672, 69460, 77648, 74282, 70369, 75495, 71171, 76410, 56875, 78801, 67731, 67372, 73675, 68663, 78837, 72055, 67370, 80431, 72086, 82199, 80248, 64768, 68842, 76831, 78611, 68944, 69247, 78702, 73516, 73596, 90422, 79794, 70054, 80914, 65914, 74460, 73350, 64803, 56321, 67401, 70676, 70580, 72027, 65313, 76052, 75599, 68038, 72060, 63476, 78992, 82343, 78078, 77978, 69326, 69115, 67346, 74430, 62886, 80876, 73057, 65647, 64331, 77769, 76594, 70798, 86484, 85761, 70259, 79969, 69879, 73480, 72571, 64866, 72815, 71692, 63596, 62650, 71436, 65736, 70663, 80705, 84386, 75757, 71050, 68698, 67781, 66017, 80093, 67988, 88361, 82526, 74576, 72588, 81799, 74751, 74373, 76500, 71933, 71621, 76667, 78761, 76955, 65700, 69738, 63866, 74117, 63846, 70012, 75332, 73245, 74356, 62117, 69001, 60493, 69741, 71056, 74340, 79470, 77101, 76364, 74014, 67030, 68463, 74996, 65340, 60059, 78413, 69698, 68279, 76057, 67491, 83351, 71033, 71302, 80278, 67274, 65054, 69391, 78635, 86283, 69849], \"xaxis\": \"x2\", \"yaxis\": \"y2\"}, {\"alignmentgroup\": \"True\", \"bingroup\": \"x\", \"hoverlabel\": {\"namelength\": 0}, \"hovertemplate\": \"Cluster=Cluster 2<br>Income=%{x}<br>count=%{y}\", \"legendgroup\": \"Cluster=Cluster 2\", \"marker\": {\"color\": \"#00cc96\", \"opacity\": 0.7}, \"name\": \"Cluster=Cluster 2\", \"offsetgroup\": \"Cluster=Cluster 2\", \"orientation\": \"v\", \"showlegend\": true, \"type\": \"histogram\", \"x\": [104738, 112531, 109809, 110882, 100661, 123651, 124372, 108499, 96241, 106588, 101503, 106894, 107302, 109038, 103204, 98033, 101811, 101905, 117943, 112943, 108651, 100158, 124170, 105006, 110732, 104678, 92569, 114406, 107958, 99161, 114642, 106543, 105036, 103223, 98137, 105826, 117668, 106757, 107100, 119697, 101943, 108417, 122696, 101073, 120678, 94775, 122879, 107963, 99949, 99780, 111389, 98030, 101206, 107877, 119366, 102618, 106014, 101209, 101058, 101481, 119429, 98993, 109152, 117564, 102291, 106772, 107994, 114833, 107932, 110106, 100592, 116616, 111449, 94762, 100540, 96336, 117050, 126601, 104285, 104284, 110595, 94964, 101641, 100275, 97750, 110564, 107115, 111426, 108004, 128378, 114555, 116451, 98821, 105991, 102035, 106664, 89598, 107255, 115237, 126257, 114767, 118169, 117112, 111813, 105667, 91375, 117347, 99611, 99457, 97831, 108067, 106345, 107926, 108581, 98165, 106350, 107525, 115689, 102028, 102056, 111937, 97678, 108635, 121642, 106990, 97965, 108928, 95536, 107131, 101691, 104388, 102308, 99637, 110860, 112878, 115146, 111303, 108345, 110439, 98752, 116247, 106758, 99216, 113659, 110582, 128596, 103428, 109075, 105567, 118794, 119877], \"xaxis\": \"x\", \"yaxis\": \"y\"}, {\"alignmentgroup\": \"True\", \"customdata\": [[38.0, 104738.0, 0.4059588503683713, 15634.313868027426, \"Cluster 2\"], [29.0, 112531.0, 0.3427661743407053, 14361.334979176147, \"Cluster 2\"], [36.0, 109809.0, 0.355660187354229, 14978.502144076487, \"Cluster 2\"], [31.0, 110882.0, 0.3252806065281125, 14004.61374291491, \"Cluster 2\"], [39.0, 100661.0, 0.3766412501689559, 16873.128638209408, \"Cluster 2\"], [88.0, 123651.0, 0.02902714029105191, 13504.577571797938, \"Cluster 2\"], [86.0, 124372.0, 0.0, 15374.465952896948, \"Cluster 2\"], [35.0, 108499.0, 0.2612719132713158, 16046.08301542436, \"Cluster 2\"], [30.0, 96241.0, 0.3773384910014747, 15485.156009739387, \"Cluster 2\"], [35.0, 106588.0, 0.3422142051018276, 15648.65667046098, \"Cluster 2\"], [25.0, 101503.0, 0.28846885607409833, 15026.262148820157, \"Cluster 2\"], [37.0, 106894.0, 0.3432357689892068, 14075.217365594552, \"Cluster 2\"], [30.0, 107302.0, 0.2396771776819925, 13993.24401848172, \"Cluster 2\"], [36.0, 109038.0, 0.3242132027621541, 16502.389477657125, \"Cluster 2\"], [34.0, 103204.0, 0.30108735378393314, 15149.810421179482, \"Cluster 2\"], [33.0, 98033.0, 0.30951111585458696, 15774.690605560645, \"Cluster 2\"], [36.0, 101811.0, 0.3406667947415742, 15048.89961242685, \"Cluster 2\"], [32.0, 101905.0, 0.3074763135926987, 17532.16478349903, \"Cluster 2\"], [83.0, 117943.0, 0.07721324003343044, 15391.95219220651, \"Cluster 2\"], [31.0, 112943.0, 0.34123950330738706, 14297.702229457283, \"Cluster 2\"], [37.0, 108651.0, 0.1923436158292553, 15881.242198260683, \"Cluster 2\"], [36.0, 100158.0, 0.31606041409802405, 13832.379370734528, \"Cluster 2\"], [90.0, 124170.0, 0.030751314393913882, 14773.407205599842, \"Cluster 2\"], [31.0, 105006.0, 0.3741658782934958, 15419.41776312329, \"Cluster 2\"], [37.0, 110732.0, 0.3226762482802641, 14265.351840497759, \"Cluster 2\"], [35.0, 104678.0, 0.3279928581002429, 15422.055799721802, \"Cluster 2\"], [33.0, 92569.0, 0.33607980556714456, 13765.685995748696, \"Cluster 2\"], [84.0, 114406.0, 0.12383837464097253, 16840.570583774286, \"Cluster 2\"], [37.0, 107958.0, 0.34666907654318496, 13641.009538079368, \"Cluster 2\"], [29.0, 99161.0, 0.3079200040396055, 15631.836772980834, \"Cluster 2\"], [44.0, 114642.0, 0.3092049154534188, 14067.617788950563, \"Cluster 2\"], [32.0, 106543.0, 0.3107432443044589, 14337.288328489092, \"Cluster 2\"], [31.0, 105036.0, 0.2722279930569666, 16465.063521972657, \"Cluster 2\"], [29.0, 103223.0, 0.3388162937437745, 16252.883053065632, \"Cluster 2\"], [36.0, 98137.0, 0.29740129315965397, 15978.332837131276, \"Cluster 2\"], [31.0, 105826.0, 0.2862743235826754, 13856.805832195869, \"Cluster 2\"], [90.0, 117668.0, 0.08272274299401555, 12554.692742420659, \"Cluster 2\"], [33.0, 106757.0, 0.25839611372125515, 14431.652799234367, \"Cluster 2\"], [33.0, 107100.0, 0.3424354833732075, 14895.473479049117, \"Cluster 2\"], [89.0, 119697.0, 0.0916792017028315, 16215.399076555514, \"Cluster 2\"], [29.0, 101943.0, 0.3256230614429721, 14619.354282159029, \"Cluster 2\"], [32.0, 108417.0, 0.28737086714008075, 16696.398659007995, \"Cluster 2\"], [84.0, 122696.0, 0.08218683192473558, 13809.734086698068, \"Cluster 2\"], [30.0, 101073.0, 0.3143871202044516, 14324.555977118509, \"Cluster 2\"], [88.0, 120678.0, 0.06327285129660287, 14264.473846639943, \"Cluster 2\"], [38.0, 94775.0, 0.3803902009461493, 16867.13082002739, \"Cluster 2\"], [92.0, 122879.0, 0.0607240352184939, 13709.670274517475, \"Cluster 2\"], [31.0, 107963.0, 0.2905086327499087, 13407.081391032512, \"Cluster 2\"], [30.0, 99949.0, 0.344679223509786, 13621.639726331408, \"Cluster 2\"], [36.0, 99780.0, 0.2654326074020303, 16398.40133318453, \"Cluster 2\"], [85.0, 111389.0, 0.0367953622110323, 16009.237762922363, \"Cluster 2\"], [30.0, 98030.0, 0.4111117138132285, 16316.842905166694, \"Cluster 2\"], [28.0, 101206.0, 0.3874406981253433, 14936.775388622864, \"Cluster 2\"], [37.0, 107877.0, 0.3346179841546032, 17968.55392863446, \"Cluster 2\"], [29.0, 119366.0, 0.3587713900686116, 15012.853014226299, \"Cluster 2\"], [31.0, 102618.0, 0.2763779214063509, 13209.301612848929, \"Cluster 2\"], [29.0, 106014.0, 0.34794511357773106, 15038.010746320377, \"Cluster 2\"], [31.0, 101209.0, 0.3043229953712128, 16917.571691218804, \"Cluster 2\"], [33.0, 101058.0, 0.3150815497840024, 14911.868398206978, \"Cluster 2\"], [31.0, 101481.0, 0.2702350511848681, 15226.614133627569, \"Cluster 2\"], [83.0, 119429.0, 0.042154801078558464, 15607.561541234569, \"Cluster 2\"], [34.0, 98993.0, 0.3229930887837502, 16138.079373431863, \"Cluster 2\"], [22.0, 109152.0, 0.32344641636242355, 16022.482482363523, \"Cluster 2\"], [87.0, 117564.0, 0.1282795957567026, 14000.248964992143, \"Cluster 2\"], [34.0, 102291.0, 0.24786227611431386, 15819.577601160518, \"Cluster 2\"], [25.0, 106772.0, 0.3909047196000217, 16353.471790615497, \"Cluster 2\"], [31.0, 107994.0, 0.2944689389706671, 13685.972361738892, \"Cluster 2\"], [31.0, 114833.0, 0.3050696862135815, 13953.029721407644, \"Cluster 2\"], [31.0, 107932.0, 0.3742421881649845, 12207.526078087714, \"Cluster 2\"], [35.0, 110106.0, 0.2867692710102035, 14924.537223475552, \"Cluster 2\"], [28.0, 100592.0, 0.2595983487762325, 15520.355775683653, \"Cluster 2\"], [33.0, 116616.0, 0.3209300476959025, 15104.49811363824, \"Cluster 2\"], [31.0, 111449.0, 0.29410620308282165, 13929.62155143948, \"Cluster 2\"], [28.0, 94762.0, 0.3035961911057213, 15352.521936894913, \"Cluster 2\"], [39.0, 100540.0, 0.3849229829012918, 16741.013894847743, \"Cluster 2\"], [36.0, 96336.0, 0.28809756719298163, 15286.769335194167, \"Cluster 2\"], [32.0, 117050.0, 0.3113555349689566, 14310.546206532163, \"Cluster 2\"], [93.0, 126601.0, 0.025170169477345742, 14117.44703707058, \"Cluster 2\"], [36.0, 104285.0, 0.2123600508972585, 13347.558779497918, \"Cluster 2\"], [34.0, 104284.0, 0.34454541177986714, 13541.801770810564, \"Cluster 2\"], [37.0, 110595.0, 0.28664850500199834, 15235.445457133224, \"Cluster 2\"], [33.0, 94964.0, 0.3302325026567214, 14018.349867336628, \"Cluster 2\"], [43.0, 101641.0, 0.3819838041034955, 14424.097995592982, \"Cluster 2\"], [33.0, 100275.0, 0.3630856827120957, 13735.438742381079, \"Cluster 2\"], [26.0, 97750.0, 0.2934087605160681, 15823.032361634105, \"Cluster 2\"], [24.0, 110564.0, 0.3049430059244969, 14967.839625179657, \"Cluster 2\"], [31.0, 107115.0, 0.3280420856997338, 15693.499570389358, \"Cluster 2\"], [29.0, 111426.0, 0.4002811559385194, 14352.643773230728, \"Cluster 2\"], [36.0, 108004.0, 0.3089229914936124, 15813.964573146997, \"Cluster 2\"], [86.0, 128378.0, 0.12608340975849852, 13585.778624417357, \"Cluster 2\"], [33.0, 114555.0, 0.2792568364789493, 13746.745438440072, \"Cluster 2\"], [29.0, 116451.0, 0.3406596106851227, 15294.661511529368, \"Cluster 2\"], [40.0, 98821.0, 0.27908085018704903, 15995.160053914664, \"Cluster 2\"], [35.0, 105991.0, 0.34337797815210225, 16616.088239618915, \"Cluster 2\"], [32.0, 102035.0, 0.26207035616469115, 14209.932802396092, \"Cluster 2\"], [37.0, 106664.0, 0.2775867542026021, 14479.374117495967, \"Cluster 2\"], [34.0, 89598.0, 0.3401523810436963, 12832.768720823738, \"Cluster 2\"], [34.0, 107255.0, 0.3283430294033384, 15130.595225546444, \"Cluster 2\"], [84.0, 115237.0, 0.06877820981367339, 14396.568282311468, \"Cluster 2\"], [82.0, 126257.0, 0.07809619439943333, 15816.101922357922, \"Cluster 2\"], [88.0, 114767.0, 0.032207542338926365, 17833.093470094427, \"Cluster 2\"], [85.0, 118169.0, 0.123196057747337, 14855.951023927619, \"Cluster 2\"], [35.0, 117112.0, 0.3047918711384766, 15908.035997555322, \"Cluster 2\"], [33.0, 111813.0, 0.2382437868013801, 15901.238967721652, \"Cluster 2\"], [33.0, 105667.0, 0.25075080562386165, 12869.761073905089, \"Cluster 2\"], [29.0, 91375.0, 0.2354504258588228, 13104.962760687613, \"Cluster 2\"], [83.0, 117347.0, 0.15569409232860987, 15086.701120471576, \"Cluster 2\"], [28.0, 99611.0, 0.2795578681222758, 15345.658121390226, \"Cluster 2\"], [31.0, 99457.0, 0.3658064971511749, 14580.613477014092, \"Cluster 2\"], [37.0, 97831.0, 0.3744658274308825, 14935.144813058325, \"Cluster 2\"], [31.0, 108067.0, 0.2686742663930692, 13316.767286164832, \"Cluster 2\"], [33.0, 106345.0, 0.3392354218755358, 15300.45379012999, \"Cluster 2\"], [30.0, 107926.0, 0.2301607310342209, 15520.536309707046, \"Cluster 2\"], [30.0, 108581.0, 0.3094467811568005, 15628.791650531211, \"Cluster 2\"], [34.0, 98165.0, 0.17412049382306485, 15721.86284266975, \"Cluster 2\"], [30.0, 106350.0, 0.3694162857692797, 14863.233588279092, \"Cluster 2\"], [30.0, 107525.0, 0.2948164301396663, 12702.847385049918, \"Cluster 2\"], [86.0, 115689.0, 0.057842956133581036, 14803.153273493916, \"Cluster 2\"], [29.0, 102028.0, 0.2889604994756899, 14634.430692347907, \"Cluster 2\"], [30.0, 102056.0, 0.2607006223919937, 15370.66882713054, \"Cluster 2\"], [28.0, 111937.0, 0.2537347301209012, 13669.110632506934, \"Cluster 2\"], [37.0, 97678.0, 0.2574704443875843, 15834.113173627364, \"Cluster 2\"], [37.0, 108635.0, 0.28649570314839057, 14558.054542315444, \"Cluster 2\"], [82.0, 121642.0, 0.054653190464209855, 14177.513323069668, \"Cluster 2\"], [42.0, 106990.0, 0.330065422314764, 14856.938997469417, \"Cluster 2\"], [28.0, 97965.0, 0.3134915614599665, 14981.402201916082, \"Cluster 2\"], [30.0, 108928.0, 0.30386361503665704, 14339.652917342728, \"Cluster 2\"], [32.0, 95536.0, 0.26624605681014885, 15420.625644002741, \"Cluster 2\"], [35.0, 107131.0, 0.2424731551814769, 16200.013010637644, \"Cluster 2\"], [35.0, 101691.0, 0.3491110181825554, 14152.671689505803, \"Cluster 2\"], [31.0, 104388.0, 0.2864732316476225, 14406.561248437842, \"Cluster 2\"], [35.0, 102308.0, 0.2751372175012177, 14874.557991326978, \"Cluster 2\"], [33.0, 99637.0, 0.2282170773869075, 15139.403142647532, \"Cluster 2\"], [29.0, 110860.0, 0.31944030103524745, 16260.42103081417, \"Cluster 2\"], [35.0, 112878.0, 0.3009135799974076, 13755.48230187328, \"Cluster 2\"], [38.0, 115146.0, 0.3144900731288347, 14798.868153501797, \"Cluster 2\"], [34.0, 111303.0, 0.34531257710928803, 14624.318634976555, \"Cluster 2\"], [33.0, 108345.0, 0.32541328975821004, 15646.32171735943, \"Cluster 2\"], [32.0, 110439.0, 0.30699015827427256, 13873.50756985278, \"Cluster 2\"], [34.0, 98752.0, 0.3720337099315751, 14975.384238944334, \"Cluster 2\"], [31.0, 116247.0, 0.2943151380482853, 16178.204715186297, \"Cluster 2\"], [27.0, 106758.0, 0.2662947092346973, 14942.560723173168, \"Cluster 2\"], [39.0, 99216.0, 0.21660614339457274, 15230.345105300736, \"Cluster 2\"], [38.0, 113659.0, 0.3334859873871594, 14364.693391419, \"Cluster 2\"], [84.0, 110582.0, 0.07904903227945975, 14937.995169685584, \"Cluster 2\"], [77.0, 128596.0, 0.04082407066250976, 14503.410786381415, \"Cluster 2\"], [34.0, 103428.0, 0.2474244093916156, 13791.035761571968, \"Cluster 2\"], [28.0, 109075.0, 0.36276196062401134, 14082.458238005996, \"Cluster 2\"], [36.0, 105567.0, 0.3126388486955741, 14355.31094653896, \"Cluster 2\"], [91.0, 118794.0, 0.0192120658984376, 14047.388986415735, \"Cluster 2\"], [34.0, 119877.0, 0.3054369951589357, 15634.788286084158, \"Cluster 2\"]], \"hoverlabel\": {\"namelength\": 0}, \"hovertemplate\": \"Cluster=%{customdata[4]}<br>Income=%{customdata[1]}<br>Age=%{customdata[0]}<br>SpendingScore=%{customdata[2]}<br>Savings=%{customdata[3]}\", \"legendgroup\": \"Cluster=Cluster 2\", \"marker\": {\"color\": \"#00cc96\"}, \"name\": \"Cluster=Cluster 2\", \"notched\": true, \"offsetgroup\": \"Cluster=Cluster 2\", \"showlegend\": false, \"type\": \"box\", \"x\": [104738, 112531, 109809, 110882, 100661, 123651, 124372, 108499, 96241, 106588, 101503, 106894, 107302, 109038, 103204, 98033, 101811, 101905, 117943, 112943, 108651, 100158, 124170, 105006, 110732, 104678, 92569, 114406, 107958, 99161, 114642, 106543, 105036, 103223, 98137, 105826, 117668, 106757, 107100, 119697, 101943, 108417, 122696, 101073, 120678, 94775, 122879, 107963, 99949, 99780, 111389, 98030, 101206, 107877, 119366, 102618, 106014, 101209, 101058, 101481, 119429, 98993, 109152, 117564, 102291, 106772, 107994, 114833, 107932, 110106, 100592, 116616, 111449, 94762, 100540, 96336, 117050, 126601, 104285, 104284, 110595, 94964, 101641, 100275, 97750, 110564, 107115, 111426, 108004, 128378, 114555, 116451, 98821, 105991, 102035, 106664, 89598, 107255, 115237, 126257, 114767, 118169, 117112, 111813, 105667, 91375, 117347, 99611, 99457, 97831, 108067, 106345, 107926, 108581, 98165, 106350, 107525, 115689, 102028, 102056, 111937, 97678, 108635, 121642, 106990, 97965, 108928, 95536, 107131, 101691, 104388, 102308, 99637, 110860, 112878, 115146, 111303, 108345, 110439, 98752, 116247, 106758, 99216, 113659, 110582, 128596, 103428, 109075, 105567, 118794, 119877], \"xaxis\": \"x2\", \"yaxis\": \"y2\"}, {\"alignmentgroup\": \"True\", \"bingroup\": \"x\", \"hoverlabel\": {\"namelength\": 0}, \"hovertemplate\": \"Cluster=Cluster 3<br>Income=%{x}<br>count=%{y}\", \"legendgroup\": \"Cluster=Cluster 3\", \"marker\": {\"color\": \"#ab63fa\", \"opacity\": 0.7}, \"name\": \"Cluster=Cluster 3\", \"offsetgroup\": \"Cluster=Cluster 3\", \"orientation\": \"v\", \"showlegend\": true, \"type\": \"histogram\", \"x\": [122671, 138443, 138021, 134734, 129087, 129469, 129937, 123005, 126500, 121468, 120226, 122924, 134209, 130974, 131578, 132948, 123153, 131827, 128625, 136644, 134389, 130934, 122581, 122788, 130361, 123229, 129142, 127352, 120525, 126617, 123828, 125662, 127699, 130813, 123678, 129726, 134966, 125008, 131009, 120465, 129019, 127320, 117108, 120957, 134384, 136255, 142000, 122264, 121216, 123718], \"xaxis\": \"x\", \"yaxis\": \"y\"}, {\"alignmentgroup\": \"True\", \"customdata\": [[27.0, 122671.0, 0.910107112831516, 4206.287238709509, \"Cluster 3\"], [23.0, 138443.0, 0.9226565539031124, 3297.058843994153, \"Cluster 3\"], [25.0, 138021.0, 0.944017175810026, 3005.577482475175, \"Cluster 3\"], [17.0, 134734.0, 0.8579216672301577, 0.0, \"Cluster 3\"], [24.0, 129087.0, 0.8271179432765905, 3290.829468618805, \"Cluster 3\"], [20.0, 129469.0, 0.9399954311014268, 5522.573424346325, \"Cluster 3\"], [23.0, 129937.0, 0.8727356634334804, 4102.065424707484, \"Cluster 3\"], [26.0, 123005.0, 0.9845261943505972, 4371.23473281147, \"Cluster 3\"], [23.0, 126500.0, 0.8650328592458483, 3270.150434407087, \"Cluster 3\"], [27.0, 121468.0, 0.9206489879585448, 5011.112062373318, \"Cluster 3\"], [23.0, 120226.0, 0.8819129663041946, 4698.294710949844, \"Cluster 3\"], [31.0, 122924.0, 0.89046022417733, 3071.944576152969, \"Cluster 3\"], [22.0, 134209.0, 0.8706980046008759, 5138.109568643242, \"Cluster 3\"], [24.0, 130974.0, 0.9118386021444842, 4420.0727101369375, \"Cluster 3\"], [29.0, 131578.0, 0.8470341025128371, 3535.5143522162816, \"Cluster 3\"], [22.0, 132948.0, 0.8898001728484242, 2839.7863574778585, \"Cluster 3\"], [28.0, 123153.0, 0.9842407862639496, 3697.5136453853297, \"Cluster 3\"], [26.0, 131827.0, 0.8807194909406801, 4352.699304837541, \"Cluster 3\"], [25.0, 128625.0, 0.8167389887954251, 4914.117127206949, \"Cluster 3\"], [24.0, 136644.0, 0.8716976842508705, 1617.2257000775644, \"Cluster 3\"], [24.0, 134389.0, 0.9388521378701832, 4573.60634580409, \"Cluster 3\"], [25.0, 130934.0, 0.9137660194970426, 3942.389134492165, \"Cluster 3\"], [20.0, 122581.0, 0.8940806156500202, 4444.4476842520535, \"Cluster 3\"], [30.0, 122788.0, 0.8728724057273831, 5706.149573297764, \"Cluster 3\"], [25.0, 130361.0, 0.9254385568124625, 4691.55213906238, \"Cluster 3\"], [28.0, 123229.0, 0.8733219541371664, 610.4462190811464, \"Cluster 3\"], [20.0, 129142.0, 0.8870519941988757, 5603.121027746489, \"Cluster 3\"], [24.0, 127352.0, 0.9054521594192038, 2961.716874324024, \"Cluster 3\"], [22.0, 120525.0, 1.0, 5495.165732288548, \"Cluster 3\"], [26.0, 126617.0, 0.8770521049168103, 2913.368146562765, \"Cluster 3\"], [17.0, 123828.0, 0.9420129076091708, 3798.8403998790254, \"Cluster 3\"], [26.0, 125662.0, 0.9268183658411524, 6089.47832250152, \"Cluster 3\"], [28.0, 127699.0, 0.8814245468734898, 5490.814955670689, \"Cluster 3\"], [18.0, 130813.0, 0.8908912472675831, 5256.434559627984, \"Cluster 3\"], [21.0, 123678.0, 0.8320252689431032, 2838.8158208359087, \"Cluster 3\"], [21.0, 129726.0, 0.9517923119702948, 4550.7995216878835, \"Cluster 3\"], [17.0, 134966.0, 0.9072421746334024, 4128.044795832438, \"Cluster 3\"], [27.0, 125008.0, 0.9596454072349518, 2963.6377080587795, \"Cluster 3\"], [25.0, 131009.0, 0.8640569016468125, 4792.426581212785, \"Cluster 3\"], [24.0, 120465.0, 0.9074853865005544, 4838.348350281593, \"Cluster 3\"], [28.0, 129019.0, 0.9308319590820414, 3016.8206434862623, \"Cluster 3\"], [26.0, 127320.0, 0.8250298045601994, 5495.642137901324, \"Cluster 3\"], [28.0, 117108.0, 0.857078493256913, 4749.879237491619, \"Cluster 3\"], [25.0, 120957.0, 0.8776734245644572, 5590.447216086322, \"Cluster 3\"], [24.0, 134384.0, 0.8747208244890404, 3731.3397614449186, \"Cluster 3\"], [17.0, 136255.0, 0.935876103673024, 4126.226651408871, \"Cluster 3\"], [29.0, 142000.0, 0.9400873084125808, 5349.821181717665, \"Cluster 3\"], [29.0, 122264.0, 0.8985788437238403, 2494.55627432471, \"Cluster 3\"], [28.0, 121216.0, 0.8569692823607705, 5349.065446955783, \"Cluster 3\"], [18.0, 123718.0, 0.8065528615489801, 4420.445820614172, \"Cluster 3\"]], \"hoverlabel\": {\"namelength\": 0}, \"hovertemplate\": \"Cluster=%{customdata[4]}<br>Income=%{customdata[1]}<br>Age=%{customdata[0]}<br>SpendingScore=%{customdata[2]}<br>Savings=%{customdata[3]}\", \"legendgroup\": \"Cluster=Cluster 3\", \"marker\": {\"color\": \"#ab63fa\"}, \"name\": \"Cluster=Cluster 3\", \"notched\": true, \"offsetgroup\": \"Cluster=Cluster 3\", \"showlegend\": false, \"type\": \"box\", \"x\": [122671, 138443, 138021, 134734, 129087, 129469, 129937, 123005, 126500, 121468, 120226, 122924, 134209, 130974, 131578, 132948, 123153, 131827, 128625, 136644, 134389, 130934, 122581, 122788, 130361, 123229, 129142, 127352, 120525, 126617, 123828, 125662, 127699, 130813, 123678, 129726, 134966, 125008, 131009, 120465, 129019, 127320, 117108, 120957, 134384, 136255, 142000, 122264, 121216, 123718], \"xaxis\": \"x2\", \"yaxis\": \"y2\"}],\n",
              "                        {\"barmode\": \"relative\", \"height\": 600, \"legend\": {\"tracegroupgap\": 0}, \"margin\": {\"t\": 60}, \"template\": {\"data\": {\"bar\": [{\"error_x\": {\"color\": \"#2a3f5f\"}, \"error_y\": {\"color\": \"#2a3f5f\"}, \"marker\": {\"line\": {\"color\": \"#E5ECF6\", \"width\": 0.5}}, \"type\": \"bar\"}], \"barpolar\": [{\"marker\": {\"line\": {\"color\": \"#E5ECF6\", \"width\": 0.5}}, \"type\": \"barpolar\"}], \"carpet\": [{\"aaxis\": {\"endlinecolor\": \"#2a3f5f\", \"gridcolor\": \"white\", \"linecolor\": \"white\", \"minorgridcolor\": \"white\", \"startlinecolor\": \"#2a3f5f\"}, \"baxis\": {\"endlinecolor\": \"#2a3f5f\", \"gridcolor\": \"white\", \"linecolor\": \"white\", \"minorgridcolor\": \"white\", \"startlinecolor\": \"#2a3f5f\"}, \"type\": \"carpet\"}], \"choropleth\": [{\"colorbar\": {\"outlinewidth\": 0, \"ticks\": \"\"}, \"type\": \"choropleth\"}], \"contour\": [{\"colorbar\": {\"outlinewidth\": 0, \"ticks\": \"\"}, \"colorscale\": [[0.0, \"#0d0887\"], [0.1111111111111111, \"#46039f\"], [0.2222222222222222, \"#7201a8\"], [0.3333333333333333, \"#9c179e\"], [0.4444444444444444, \"#bd3786\"], [0.5555555555555556, \"#d8576b\"], [0.6666666666666666, \"#ed7953\"], [0.7777777777777778, \"#fb9f3a\"], [0.8888888888888888, \"#fdca26\"], [1.0, \"#f0f921\"]], \"type\": \"contour\"}], \"contourcarpet\": [{\"colorbar\": {\"outlinewidth\": 0, \"ticks\": \"\"}, \"type\": \"contourcarpet\"}], \"heatmap\": [{\"colorbar\": {\"outlinewidth\": 0, \"ticks\": \"\"}, \"colorscale\": [[0.0, \"#0d0887\"], [0.1111111111111111, \"#46039f\"], [0.2222222222222222, \"#7201a8\"], [0.3333333333333333, \"#9c179e\"], [0.4444444444444444, \"#bd3786\"], [0.5555555555555556, \"#d8576b\"], [0.6666666666666666, \"#ed7953\"], [0.7777777777777778, \"#fb9f3a\"], [0.8888888888888888, \"#fdca26\"], [1.0, \"#f0f921\"]], \"type\": \"heatmap\"}], \"heatmapgl\": [{\"colorbar\": {\"outlinewidth\": 0, \"ticks\": \"\"}, \"colorscale\": [[0.0, \"#0d0887\"], [0.1111111111111111, \"#46039f\"], [0.2222222222222222, \"#7201a8\"], [0.3333333333333333, \"#9c179e\"], [0.4444444444444444, \"#bd3786\"], [0.5555555555555556, \"#d8576b\"], [0.6666666666666666, \"#ed7953\"], [0.7777777777777778, \"#fb9f3a\"], [0.8888888888888888, \"#fdca26\"], [1.0, \"#f0f921\"]], \"type\": \"heatmapgl\"}], \"histogram\": [{\"marker\": {\"colorbar\": {\"outlinewidth\": 0, \"ticks\": \"\"}}, \"type\": \"histogram\"}], \"histogram2d\": [{\"colorbar\": {\"outlinewidth\": 0, \"ticks\": \"\"}, \"colorscale\": [[0.0, \"#0d0887\"], [0.1111111111111111, \"#46039f\"], [0.2222222222222222, \"#7201a8\"], [0.3333333333333333, \"#9c179e\"], [0.4444444444444444, \"#bd3786\"], [0.5555555555555556, \"#d8576b\"], [0.6666666666666666, \"#ed7953\"], [0.7777777777777778, \"#fb9f3a\"], [0.8888888888888888, \"#fdca26\"], [1.0, \"#f0f921\"]], \"type\": \"histogram2d\"}], \"histogram2dcontour\": [{\"colorbar\": {\"outlinewidth\": 0, \"ticks\": \"\"}, \"colorscale\": [[0.0, \"#0d0887\"], [0.1111111111111111, \"#46039f\"], [0.2222222222222222, \"#7201a8\"], [0.3333333333333333, \"#9c179e\"], [0.4444444444444444, \"#bd3786\"], [0.5555555555555556, \"#d8576b\"], [0.6666666666666666, \"#ed7953\"], [0.7777777777777778, \"#fb9f3a\"], [0.8888888888888888, \"#fdca26\"], [1.0, \"#f0f921\"]], \"type\": \"histogram2dcontour\"}], \"mesh3d\": [{\"colorbar\": {\"outlinewidth\": 0, \"ticks\": \"\"}, \"type\": \"mesh3d\"}], \"parcoords\": [{\"line\": {\"colorbar\": {\"outlinewidth\": 0, \"ticks\": \"\"}}, \"type\": \"parcoords\"}], \"pie\": [{\"automargin\": true, \"type\": \"pie\"}], \"scatter\": [{\"marker\": {\"colorbar\": {\"outlinewidth\": 0, \"ticks\": \"\"}}, \"type\": \"scatter\"}], \"scatter3d\": [{\"line\": {\"colorbar\": {\"outlinewidth\": 0, \"ticks\": \"\"}}, \"marker\": {\"colorbar\": {\"outlinewidth\": 0, \"ticks\": \"\"}}, \"type\": \"scatter3d\"}], \"scattercarpet\": [{\"marker\": {\"colorbar\": {\"outlinewidth\": 0, \"ticks\": \"\"}}, \"type\": \"scattercarpet\"}], \"scattergeo\": [{\"marker\": {\"colorbar\": {\"outlinewidth\": 0, \"ticks\": \"\"}}, \"type\": \"scattergeo\"}], \"scattergl\": [{\"marker\": {\"colorbar\": {\"outlinewidth\": 0, \"ticks\": \"\"}}, \"type\": \"scattergl\"}], \"scattermapbox\": [{\"marker\": {\"colorbar\": {\"outlinewidth\": 0, \"ticks\": \"\"}}, \"type\": \"scattermapbox\"}], \"scatterpolar\": [{\"marker\": {\"colorbar\": {\"outlinewidth\": 0, \"ticks\": \"\"}}, \"type\": \"scatterpolar\"}], \"scatterpolargl\": [{\"marker\": {\"colorbar\": {\"outlinewidth\": 0, \"ticks\": \"\"}}, \"type\": \"scatterpolargl\"}], \"scatterternary\": [{\"marker\": {\"colorbar\": {\"outlinewidth\": 0, \"ticks\": \"\"}}, \"type\": \"scatterternary\"}], \"surface\": [{\"colorbar\": {\"outlinewidth\": 0, \"ticks\": \"\"}, \"colorscale\": [[0.0, \"#0d0887\"], [0.1111111111111111, \"#46039f\"], [0.2222222222222222, \"#7201a8\"], [0.3333333333333333, \"#9c179e\"], [0.4444444444444444, \"#bd3786\"], [0.5555555555555556, \"#d8576b\"], [0.6666666666666666, \"#ed7953\"], [0.7777777777777778, \"#fb9f3a\"], [0.8888888888888888, \"#fdca26\"], [1.0, \"#f0f921\"]], \"type\": \"surface\"}], \"table\": [{\"cells\": {\"fill\": {\"color\": \"#EBF0F8\"}, \"line\": {\"color\": \"white\"}}, \"header\": {\"fill\": {\"color\": \"#C8D4E3\"}, \"line\": {\"color\": \"white\"}}, \"type\": \"table\"}]}, \"layout\": {\"annotationdefaults\": {\"arrowcolor\": \"#2a3f5f\", \"arrowhead\": 0, \"arrowwidth\": 1}, \"coloraxis\": {\"colorbar\": {\"outlinewidth\": 0, \"ticks\": \"\"}}, \"colorscale\": {\"diverging\": [[0, \"#8e0152\"], [0.1, \"#c51b7d\"], [0.2, \"#de77ae\"], [0.3, \"#f1b6da\"], [0.4, \"#fde0ef\"], [0.5, \"#f7f7f7\"], [0.6, \"#e6f5d0\"], [0.7, \"#b8e186\"], [0.8, \"#7fbc41\"], [0.9, \"#4d9221\"], [1, \"#276419\"]], \"sequential\": [[0.0, \"#0d0887\"], [0.1111111111111111, \"#46039f\"], [0.2222222222222222, \"#7201a8\"], [0.3333333333333333, \"#9c179e\"], [0.4444444444444444, \"#bd3786\"], [0.5555555555555556, \"#d8576b\"], [0.6666666666666666, \"#ed7953\"], [0.7777777777777778, \"#fb9f3a\"], [0.8888888888888888, \"#fdca26\"], [1.0, \"#f0f921\"]], \"sequentialminus\": [[0.0, \"#0d0887\"], [0.1111111111111111, \"#46039f\"], [0.2222222222222222, \"#7201a8\"], [0.3333333333333333, \"#9c179e\"], [0.4444444444444444, \"#bd3786\"], [0.5555555555555556, \"#d8576b\"], [0.6666666666666666, \"#ed7953\"], [0.7777777777777778, \"#fb9f3a\"], [0.8888888888888888, \"#fdca26\"], [1.0, \"#f0f921\"]]}, \"colorway\": [\"#636efa\", \"#EF553B\", \"#00cc96\", \"#ab63fa\", \"#FFA15A\", \"#19d3f3\", \"#FF6692\", \"#B6E880\", \"#FF97FF\", \"#FECB52\"], \"font\": {\"color\": \"#2a3f5f\"}, \"geo\": {\"bgcolor\": \"white\", \"lakecolor\": \"white\", \"landcolor\": \"#E5ECF6\", \"showlakes\": true, \"showland\": true, \"subunitcolor\": \"white\"}, \"hoverlabel\": {\"align\": \"left\"}, \"hovermode\": \"closest\", \"mapbox\": {\"style\": \"light\"}, \"paper_bgcolor\": \"white\", \"plot_bgcolor\": \"#E5ECF6\", \"polar\": {\"angularaxis\": {\"gridcolor\": \"white\", \"linecolor\": \"white\", \"ticks\": \"\"}, \"bgcolor\": \"#E5ECF6\", \"radialaxis\": {\"gridcolor\": \"white\", \"linecolor\": \"white\", \"ticks\": \"\"}}, \"scene\": {\"xaxis\": {\"backgroundcolor\": \"#E5ECF6\", \"gridcolor\": \"white\", \"gridwidth\": 2, \"linecolor\": \"white\", \"showbackground\": true, \"ticks\": \"\", \"zerolinecolor\": \"white\"}, \"yaxis\": {\"backgroundcolor\": \"#E5ECF6\", \"gridcolor\": \"white\", \"gridwidth\": 2, \"linecolor\": \"white\", \"showbackground\": true, \"ticks\": \"\", \"zerolinecolor\": \"white\"}, \"zaxis\": {\"backgroundcolor\": \"#E5ECF6\", \"gridcolor\": \"white\", \"gridwidth\": 2, \"linecolor\": \"white\", \"showbackground\": true, \"ticks\": \"\", \"zerolinecolor\": \"white\"}}, \"shapedefaults\": {\"line\": {\"color\": \"#2a3f5f\"}}, \"ternary\": {\"aaxis\": {\"gridcolor\": \"white\", \"linecolor\": \"white\", \"ticks\": \"\"}, \"baxis\": {\"gridcolor\": \"white\", \"linecolor\": \"white\", \"ticks\": \"\"}, \"bgcolor\": \"#E5ECF6\", \"caxis\": {\"gridcolor\": \"white\", \"linecolor\": \"white\", \"ticks\": \"\"}}, \"title\": {\"x\": 0.05}, \"xaxis\": {\"automargin\": true, \"gridcolor\": \"white\", \"linecolor\": \"white\", \"ticks\": \"\", \"title\": {\"standoff\": 15}, \"zerolinecolor\": \"white\", \"zerolinewidth\": 2}, \"yaxis\": {\"automargin\": true, \"gridcolor\": \"white\", \"linecolor\": \"white\", \"ticks\": \"\", \"title\": {\"standoff\": 15}, \"zerolinecolor\": \"white\", \"zerolinewidth\": 2}}}, \"xaxis\": {\"anchor\": \"y\", \"domain\": [0.0, 1.0], \"title\": {\"text\": \"Income\"}}, \"xaxis2\": {\"anchor\": \"y2\", \"domain\": [0.0, 1.0], \"matches\": \"x\", \"showgrid\": true, \"showticklabels\": false}, \"yaxis\": {\"anchor\": \"x\", \"domain\": [0.0, 0.7326], \"title\": {\"text\": \"count\"}}, \"yaxis2\": {\"anchor\": \"x2\", \"domain\": [0.7426, 1.0], \"matches\": \"y2\", \"showgrid\": false, \"showline\": false, \"showticklabels\": false, \"ticks\": \"\"}},\n",
              "                        {\"responsive\": true}\n",
              "                    ).then(function(){\n",
              "                            \n",
              "var gd = document.getElementById('6283efd4-c96b-42d9-9e39-600551141521');\n",
              "var x = new MutationObserver(function (mutations, observer) {{\n",
              "        var display = window.getComputedStyle(gd).display;\n",
              "        if (!display || display === 'none') {{\n",
              "            console.log([gd, 'removed!']);\n",
              "            Plotly.purge(gd);\n",
              "            observer.disconnect();\n",
              "        }}\n",
              "}});\n",
              "\n",
              "// Listen for the removal of the full notebook cells\n",
              "var notebookContainer = gd.closest('#notebook-container');\n",
              "if (notebookContainer) {{\n",
              "    x.observe(notebookContainer, {childList: true});\n",
              "}}\n",
              "\n",
              "// Listen for the clearing of the current output cell\n",
              "var outputEl = gd.closest('.output');\n",
              "if (outputEl) {{\n",
              "    x.observe(outputEl, {childList: true});\n",
              "}}\n",
              "\n",
              "                        })\n",
              "                };\n",
              "                \n",
              "            </script>\n",
              "        </div>\n",
              "</body>\n",
              "</html>"
            ]
          },
          "metadata": {
            "tags": []
          }
        }
      ]
    },
    {
      "cell_type": "markdown",
      "metadata": {
        "id": "jNS0lVpghEzg"
      },
      "source": [
        "# Assign Cluster Labels to dataset"
      ]
    },
    {
      "cell_type": "code",
      "metadata": {
        "id": "Xr_H_RAVgcpC"
      },
      "source": [
        "kmeans_results= assign_model(kmeans)"
      ],
      "execution_count": 20,
      "outputs": []
    },
    {
      "cell_type": "code",
      "metadata": {
        "colab": {
          "base_uri": "https://localhost:8080/",
          "height": 352
        },
        "id": "dTVbrlNoghgY",
        "outputId": "736b9fa4-d04f-4896-b1fd-a01778420cab"
      },
      "source": [
        "kmeans_results.head(10)"
      ],
      "execution_count": 21,
      "outputs": [
        {
          "output_type": "execute_result",
          "data": {
            "text/html": [
              "<div>\n",
              "<style scoped>\n",
              "    .dataframe tbody tr th:only-of-type {\n",
              "        vertical-align: middle;\n",
              "    }\n",
              "\n",
              "    .dataframe tbody tr th {\n",
              "        vertical-align: top;\n",
              "    }\n",
              "\n",
              "    .dataframe thead th {\n",
              "        text-align: right;\n",
              "    }\n",
              "</style>\n",
              "<table border=\"1\" class=\"dataframe\">\n",
              "  <thead>\n",
              "    <tr style=\"text-align: right;\">\n",
              "      <th></th>\n",
              "      <th>Age</th>\n",
              "      <th>Income</th>\n",
              "      <th>SpendingScore</th>\n",
              "      <th>Savings</th>\n",
              "      <th>Cluster</th>\n",
              "    </tr>\n",
              "  </thead>\n",
              "  <tbody>\n",
              "    <tr>\n",
              "      <th>0</th>\n",
              "      <td>58</td>\n",
              "      <td>77769</td>\n",
              "      <td>0.791329</td>\n",
              "      <td>6559.829923</td>\n",
              "      <td>Cluster 1</td>\n",
              "    </tr>\n",
              "    <tr>\n",
              "      <th>1</th>\n",
              "      <td>59</td>\n",
              "      <td>81799</td>\n",
              "      <td>0.791082</td>\n",
              "      <td>5417.661426</td>\n",
              "      <td>Cluster 1</td>\n",
              "    </tr>\n",
              "    <tr>\n",
              "      <th>2</th>\n",
              "      <td>62</td>\n",
              "      <td>74751</td>\n",
              "      <td>0.702657</td>\n",
              "      <td>9258.992965</td>\n",
              "      <td>Cluster 1</td>\n",
              "    </tr>\n",
              "    <tr>\n",
              "      <th>3</th>\n",
              "      <td>59</td>\n",
              "      <td>74373</td>\n",
              "      <td>0.765680</td>\n",
              "      <td>7346.334504</td>\n",
              "      <td>Cluster 1</td>\n",
              "    </tr>\n",
              "    <tr>\n",
              "      <th>4</th>\n",
              "      <td>87</td>\n",
              "      <td>17760</td>\n",
              "      <td>0.348778</td>\n",
              "      <td>16869.507130</td>\n",
              "      <td>Cluster 0</td>\n",
              "    </tr>\n",
              "    <tr>\n",
              "      <th>5</th>\n",
              "      <td>29</td>\n",
              "      <td>131578</td>\n",
              "      <td>0.847034</td>\n",
              "      <td>3535.514352</td>\n",
              "      <td>Cluster 3</td>\n",
              "    </tr>\n",
              "    <tr>\n",
              "      <th>6</th>\n",
              "      <td>54</td>\n",
              "      <td>76500</td>\n",
              "      <td>0.785198</td>\n",
              "      <td>6878.884249</td>\n",
              "      <td>Cluster 1</td>\n",
              "    </tr>\n",
              "    <tr>\n",
              "      <th>7</th>\n",
              "      <td>87</td>\n",
              "      <td>42592</td>\n",
              "      <td>0.355290</td>\n",
              "      <td>18086.287158</td>\n",
              "      <td>Cluster 0</td>\n",
              "    </tr>\n",
              "    <tr>\n",
              "      <th>8</th>\n",
              "      <td>83</td>\n",
              "      <td>34384</td>\n",
              "      <td>0.324719</td>\n",
              "      <td>14783.379086</td>\n",
              "      <td>Cluster 0</td>\n",
              "    </tr>\n",
              "    <tr>\n",
              "      <th>9</th>\n",
              "      <td>84</td>\n",
              "      <td>27693</td>\n",
              "      <td>0.367063</td>\n",
              "      <td>17879.558906</td>\n",
              "      <td>Cluster 0</td>\n",
              "    </tr>\n",
              "  </tbody>\n",
              "</table>\n",
              "</div>"
            ],
            "text/plain": [
              "   Age  Income  SpendingScore       Savings    Cluster\n",
              "0   58   77769       0.791329   6559.829923  Cluster 1\n",
              "1   59   81799       0.791082   5417.661426  Cluster 1\n",
              "2   62   74751       0.702657   9258.992965  Cluster 1\n",
              "3   59   74373       0.765680   7346.334504  Cluster 1\n",
              "4   87   17760       0.348778  16869.507130  Cluster 0\n",
              "5   29  131578       0.847034   3535.514352  Cluster 3\n",
              "6   54   76500       0.785198   6878.884249  Cluster 1\n",
              "7   87   42592       0.355290  18086.287158  Cluster 0\n",
              "8   83   34384       0.324719  14783.379086  Cluster 0\n",
              "9   84   27693       0.367063  17879.558906  Cluster 0"
            ]
          },
          "metadata": {
            "tags": []
          },
          "execution_count": 21
        }
      ]
    },
    {
      "cell_type": "markdown",
      "metadata": {
        "id": "HONdjJWIg7oQ"
      },
      "source": [
        "# Predict Cluster Labels to Unseen data"
      ]
    },
    {
      "cell_type": "code",
      "metadata": {
        "id": "eAGOj_44gseG"
      },
      "source": [
        "labels = predict_model(kmeans, data = data)"
      ],
      "execution_count": 23,
      "outputs": []
    },
    {
      "cell_type": "code",
      "metadata": {
        "colab": {
          "base_uri": "https://localhost:8080/",
          "height": 352
        },
        "id": "WosCEnUyg3OR",
        "outputId": "c962a948-1f71-4102-c276-796df503c8c8"
      },
      "source": [
        "labels.head(10)"
      ],
      "execution_count": 24,
      "outputs": [
        {
          "output_type": "execute_result",
          "data": {
            "text/html": [
              "<div>\n",
              "<style scoped>\n",
              "    .dataframe tbody tr th:only-of-type {\n",
              "        vertical-align: middle;\n",
              "    }\n",
              "\n",
              "    .dataframe tbody tr th {\n",
              "        vertical-align: top;\n",
              "    }\n",
              "\n",
              "    .dataframe thead th {\n",
              "        text-align: right;\n",
              "    }\n",
              "</style>\n",
              "<table border=\"1\" class=\"dataframe\">\n",
              "  <thead>\n",
              "    <tr style=\"text-align: right;\">\n",
              "      <th></th>\n",
              "      <th>Age</th>\n",
              "      <th>Income</th>\n",
              "      <th>SpendingScore</th>\n",
              "      <th>Savings</th>\n",
              "      <th>Cluster</th>\n",
              "    </tr>\n",
              "  </thead>\n",
              "  <tbody>\n",
              "    <tr>\n",
              "      <th>0</th>\n",
              "      <td>58</td>\n",
              "      <td>77769</td>\n",
              "      <td>0.791329</td>\n",
              "      <td>6559.829923</td>\n",
              "      <td>Cluster 1</td>\n",
              "    </tr>\n",
              "    <tr>\n",
              "      <th>1</th>\n",
              "      <td>59</td>\n",
              "      <td>81799</td>\n",
              "      <td>0.791082</td>\n",
              "      <td>5417.661426</td>\n",
              "      <td>Cluster 1</td>\n",
              "    </tr>\n",
              "    <tr>\n",
              "      <th>2</th>\n",
              "      <td>62</td>\n",
              "      <td>74751</td>\n",
              "      <td>0.702657</td>\n",
              "      <td>9258.992965</td>\n",
              "      <td>Cluster 1</td>\n",
              "    </tr>\n",
              "    <tr>\n",
              "      <th>3</th>\n",
              "      <td>59</td>\n",
              "      <td>74373</td>\n",
              "      <td>0.765680</td>\n",
              "      <td>7346.334504</td>\n",
              "      <td>Cluster 1</td>\n",
              "    </tr>\n",
              "    <tr>\n",
              "      <th>4</th>\n",
              "      <td>87</td>\n",
              "      <td>17760</td>\n",
              "      <td>0.348778</td>\n",
              "      <td>16869.507130</td>\n",
              "      <td>Cluster 0</td>\n",
              "    </tr>\n",
              "    <tr>\n",
              "      <th>5</th>\n",
              "      <td>29</td>\n",
              "      <td>131578</td>\n",
              "      <td>0.847034</td>\n",
              "      <td>3535.514352</td>\n",
              "      <td>Cluster 3</td>\n",
              "    </tr>\n",
              "    <tr>\n",
              "      <th>6</th>\n",
              "      <td>54</td>\n",
              "      <td>76500</td>\n",
              "      <td>0.785198</td>\n",
              "      <td>6878.884249</td>\n",
              "      <td>Cluster 1</td>\n",
              "    </tr>\n",
              "    <tr>\n",
              "      <th>7</th>\n",
              "      <td>87</td>\n",
              "      <td>42592</td>\n",
              "      <td>0.355290</td>\n",
              "      <td>18086.287158</td>\n",
              "      <td>Cluster 0</td>\n",
              "    </tr>\n",
              "    <tr>\n",
              "      <th>8</th>\n",
              "      <td>83</td>\n",
              "      <td>34384</td>\n",
              "      <td>0.324719</td>\n",
              "      <td>14783.379086</td>\n",
              "      <td>Cluster 0</td>\n",
              "    </tr>\n",
              "    <tr>\n",
              "      <th>9</th>\n",
              "      <td>84</td>\n",
              "      <td>27693</td>\n",
              "      <td>0.367063</td>\n",
              "      <td>17879.558906</td>\n",
              "      <td>Cluster 0</td>\n",
              "    </tr>\n",
              "  </tbody>\n",
              "</table>\n",
              "</div>"
            ],
            "text/plain": [
              "   Age  Income  SpendingScore       Savings    Cluster\n",
              "0   58   77769       0.791329   6559.829923  Cluster 1\n",
              "1   59   81799       0.791082   5417.661426  Cluster 1\n",
              "2   62   74751       0.702657   9258.992965  Cluster 1\n",
              "3   59   74373       0.765680   7346.334504  Cluster 1\n",
              "4   87   17760       0.348778  16869.507130  Cluster 0\n",
              "5   29  131578       0.847034   3535.514352  Cluster 3\n",
              "6   54   76500       0.785198   6878.884249  Cluster 1\n",
              "7   87   42592       0.355290  18086.287158  Cluster 0\n",
              "8   83   34384       0.324719  14783.379086  Cluster 0\n",
              "9   84   27693       0.367063  17879.558906  Cluster 0"
            ]
          },
          "metadata": {
            "tags": []
          },
          "execution_count": 24
        }
      ]
    }
  ]
}